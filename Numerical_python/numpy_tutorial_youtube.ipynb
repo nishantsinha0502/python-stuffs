{
 "cells": [
  {
   "cell_type": "markdown",
   "metadata": {},
   "source": [
    "[**Enthought Numpy(beginner) 2018**](https://www.youtube.com/watch?v=V0D2mhVt7NE)"
   ]
  },
  {
   "cell_type": "code",
   "execution_count": 1,
   "metadata": {},
   "outputs": [],
   "source": [
    "import numpy as np"
   ]
  },
  {
   "cell_type": "markdown",
   "metadata": {},
   "source": [
    "**Note**: Numpy does point to point operation for all the operators, *,+,-, /,** etc"
   ]
  },
  {
   "cell_type": "code",
   "execution_count": 7,
   "metadata": {},
   "outputs": [
    {
     "name": "stdout",
     "output_type": "stream",
     "text": [
      "[44 25  8 11]\n",
      "[ 0 46 15 28]\n",
      "[0.         0.08695652 0.6        0.57142857]\n",
      "[      0 8388608     243   16384]\n",
      "[-44 -21  -2  -3]\n",
      "[False False False False]\n",
      "[False  True  True  True]\n"
     ]
    }
   ],
   "source": [
    "a= np.array([0,2,3,4])\n",
    "b= np.array([44,23,5,7])\n",
    "print(a+b)\n",
    "print(a*b)\n",
    "print(a/b)\n",
    "print(a**b)\n",
    "print(a-b)\n",
    "print(a>b)\n",
    "print(np.logical_and(a,b))"
   ]
  },
  {
   "cell_type": "code",
   "execution_count": 13,
   "metadata": {},
   "outputs": [
    {
     "name": "stdout",
     "output_type": "stream",
     "text": [
      "[44, 25, 8, 11]\n",
      "[44 25  8 11]\n"
     ]
    }
   ],
   "source": [
    "# in python\n",
    "output=[]\n",
    "for item1,item2 in zip(a,b):  # note: even for normal list, the same will happen\n",
    "    output.append(item1+item2)\n",
    "    \n",
    "print(output)    \n",
    "\n",
    "# in numpy\n",
    "print(a+b)"
   ]
  },
  {
   "cell_type": "markdown",
   "metadata": {},
   "source": [
    "Python list is like a container, which has several address, it has to do back and forth, type checking etc. But in case of numpy, all data types of same type is kept at a place in memory, which makes it much faster."
   ]
  },
  {
   "cell_type": "markdown",
   "metadata": {},
   "source": [
    "all elements of numpy array are homogenous, that is of the same type; that type is accessable as 'dtype'. \n"
   ]
  },
  {
   "cell_type": "code",
   "execution_count": 14,
   "metadata": {},
   "outputs": [],
   "source": [
    "a= np.arange(1,5)"
   ]
  },
  {
   "cell_type": "code",
   "execution_count": 17,
   "metadata": {},
   "outputs": [
    {
     "name": "stdout",
     "output_type": "stream",
     "text": [
      "1\n",
      "(4,)\n"
     ]
    }
   ],
   "source": [
    "print(a.ndim)\n",
    "print(a.shape)  # gives the number of elements along each dimensions"
   ]
  },
  {
   "cell_type": "code",
   "execution_count": 19,
   "metadata": {},
   "outputs": [
    {
     "data": {
      "text/plain": [
       "numpy.ufunc"
      ]
     },
     "execution_count": 19,
     "metadata": {},
     "output_type": "execute_result"
    }
   ],
   "source": [
    "type(np.log) # these are ufuncs, all implemented in C. They are very fast."
   ]
  },
  {
   "cell_type": "markdown",
   "metadata": {},
   "source": [
    "**Note**: The functions also work point to point. There is a for loop happening in the background."
   ]
  },
  {
   "cell_type": "code",
   "execution_count": 23,
   "metadata": {},
   "outputs": [
    {
     "data": {
      "text/plain": [
       "array([ 0.84147098,  0.90929743,  0.14112001, -0.7568025 ])"
      ]
     },
     "execution_count": 23,
     "metadata": {},
     "output_type": "execute_result"
    }
   ],
   "source": [
    "np.log(a)\n",
    "np.sin(a)"
   ]
  },
  {
   "cell_type": "markdown",
   "metadata": {},
   "source": [
    "**Note**: Numpy elements are mutable. We can change the value in place, in memory."
   ]
  },
  {
   "cell_type": "code",
   "execution_count": 26,
   "metadata": {},
   "outputs": [
    {
     "name": "stdout",
     "output_type": "stream",
     "text": [
      "[222   1   2   3   4   5   6   7   8   9  10  11]\n"
     ]
    }
   ],
   "source": [
    "a= np.arange(12)\n",
    "a[0]= 222\n",
    "print(a)"
   ]
  },
  {
   "cell_type": "markdown",
   "metadata": {},
   "source": [
    "#### **Note**: Beware of the type coercion. If we try to assign a value that is different from the 'dtype' of the array element, it will truncate/convert it to make the elements same."
   ]
  },
  {
   "cell_type": "code",
   "execution_count": 37,
   "metadata": {},
   "outputs": [
    {
     "name": "stdout",
     "output_type": "stream",
     "text": [
      "[ 0  1 22  3  4  5  6  7  8  9 10 11]\n",
      "[33 33 33 33 33 33 33 33 33 33 33 33]\n"
     ]
    }
   ],
   "source": [
    "a= np.arange(12)\n",
    "a[2]= 22.3\n",
    "print(a)\n",
    "# a[3]= 'a'\n",
    "# print(a)    #Will raise a 'ValueError';\n",
    "a.dtype\n",
    "a.fill(33.3)\n",
    "print(a)     # fill too has the same type of behavior; floating type is truncated here."
   ]
  },
  {
   "cell_type": "markdown",
   "metadata": {},
   "source": [
    "**Note**: Numpy decides the type of array based on the hierarchy. if all are int, it's an int. if even one is float, it's a float, if even one element is complex, it's a complex. if even one element is string, it's a string. eg:"
   ]
  },
  {
   "cell_type": "code",
   "execution_count": 47,
   "metadata": {},
   "outputs": [
    {
     "name": "stdout",
     "output_type": "stream",
     "text": [
      "[1 2 3 4] int64\n",
      "[1.  2.  3.  4.9] float64\n",
      "[1. +0.j 2. +0.j 3. +0.j 4.9+1.j] complex128\n",
      "['1' '2' '3' 's'] <U21\n"
     ]
    }
   ],
   "source": [
    "a=np.array([1,2,3,4])\n",
    "print(a,a.dtype)\n",
    "a=np.array([1,2,3,4.9])\n",
    "print(a,a.dtype)\n",
    "a=np.array([1,2,3,4.9+1j])\n",
    "print(a,a.dtype)\n",
    "a=np.array([1,2,3,'s'])\n",
    "print(a,a.dtype)"
   ]
  },
  {
   "cell_type": "markdown",
   "metadata": {},
   "source": [
    "**Note**: We can control the type by specifying it:"
   ]
  },
  {
   "cell_type": "code",
   "execution_count": 51,
   "metadata": {},
   "outputs": [
    {
     "name": "stdout",
     "output_type": "stream",
     "text": [
      "int64\n"
     ]
    }
   ],
   "source": [
    "a= np.array([1,2,3,4.4], dtype='int64')\n",
    "print(a.dtype)"
   ]
  },
  {
   "cell_type": "code",
   "execution_count": 54,
   "metadata": {},
   "outputs": [
    {
     "name": "stdout",
     "output_type": "stream",
     "text": [
      "2 (2, 4)\n"
     ]
    }
   ],
   "source": [
    "b= np.array([[1,2,3,4],[3,4,5,6]])\n",
    "print(b.ndim,b.shape) # the first dimension is rows, the second dimenstion is columns.\n",
    "\n"
   ]
  },
  {
   "cell_type": "markdown",
   "metadata": {},
   "source": [
    "**Note**: if we have a one dimensional object, it's row vector. C sort of languages are row major (memories are stored as row) in contrast to fortran type (matlab) languages.\n",
    "\n",
    "**Note**: We are dealing with arrays, not matrices in numpy, it's unlike that of Matlab, where everything is matrix. The basic element is a one dimensional array, then two, three, four etc.\n",
    "\n",
    "**Note**: Don't use the numpy matrix, we can do anything with array that we can do with matrix."
   ]
  },
  {
   "cell_type": "code",
   "execution_count": 67,
   "metadata": {},
   "outputs": [
    {
     "name": "stdout",
     "output_type": "stream",
     "text": [
      "[1 2 3 4]\n",
      "[1 2 3 4]\n",
      "8\n",
      "64 32\n"
     ]
    }
   ],
   "source": [
    "print(a)\n",
    "print(a.T) # since it's a 1D array, transposing it does nothing.\n",
    "\n",
    "print(b.size) #tells how many elements it has.\n",
    "print(b.nbytes, a.nbytes)  # Total bytes consumed by the elements of the array.\n"
   ]
  },
  {
   "cell_type": "markdown",
   "metadata": {},
   "source": [
    "**Note**: while accessing the values in array, we should **always** put the indices in the **same parenthesis**. This is in contrast to the regular python way."
   ]
  },
  {
   "cell_type": "code",
   "execution_count": 72,
   "metadata": {},
   "outputs": [
    {
     "name": "stdout",
     "output_type": "stream",
     "text": [
      "[[1 2 3 4]\n",
      " [3 4 5 6]]\n",
      "5\n",
      "5\n"
     ]
    }
   ],
   "source": [
    "# accessing the 2nd row and 3rd column value in b:\n",
    "print(b)\n",
    "print(b[1,2])\n",
    "\n",
    "# don't use:\n",
    "print(b[1][2]) #gives the same result, but put them in the same parenthesis always."
   ]
  },
  {
   "cell_type": "code",
   "execution_count": 73,
   "metadata": {},
   "outputs": [
    {
     "name": "stdout",
     "output_type": "stream",
     "text": [
      "[1 2 3 4]\n"
     ]
    }
   ],
   "source": [
    "# If we do partial indexing, we get the whole row/column (this is different from MATLAB)\n",
    "\n",
    "print(b[0]) #gives the entire first row (matlab would give the first element)"
   ]
  },
  {
   "cell_type": "markdown",
   "metadata": {},
   "source": [
    "#### **Slicing**"
   ]
  },
  {
   "cell_type": "code",
   "execution_count": 81,
   "metadata": {},
   "outputs": [
    {
     "name": "stdout",
     "output_type": "stream",
     "text": [
      "[11 12]\n",
      "[10 11 12]\n",
      "[12 13 14]\n",
      "[10 12 14]\n"
     ]
    }
   ],
   "source": [
    "a= np.arange(10,15)\n",
    "print(a[1:3])\n",
    "# all things common in slicing in normal python is available here.\n",
    "## ommited boundaries are considered to be the beginning or end of the list.\n",
    "print(a[:3])\n",
    "print(a[2:])\n",
    "\n",
    "print(a[::2]) #every other element of the array"
   ]
  },
  {
   "cell_type": "code",
   "execution_count": 90,
   "metadata": {},
   "outputs": [
    {
     "name": "stdout",
     "output_type": "stream",
     "text": [
      "[[ 0  1  2  3  4  5]\n",
      " [ 6  7  8  9 10 11]\n",
      " [12 13 14 15 16 17]\n",
      " [18 19 20 21 22 23]\n",
      " [24 25 26 27 28 29]\n",
      " [30 31 32 33 34 35]]\n",
      "[[14 15]]\n",
      "[[21 22 23]\n",
      " [27 28 29]\n",
      " [33 34 35]]\n",
      "[ 2  8 14 20 26 32]\n",
      "[[12 14 16]\n",
      " [24 26 28]]\n"
     ]
    }
   ],
   "source": [
    "### slicing in two dimensional array:\n",
    "\n",
    "a = np.arange(36).reshape(6,6)\n",
    "print(a)\n",
    "print(a[2:3,2:4])  #selects the elements 14 and 15\n",
    "print(a[3:,3:])  #selecting last 3 rows and columns\n",
    "print(a[:,2])  # selecting the 3rd column\n",
    "\n",
    "print(a[2::2,::2])"
   ]
  },
  {
   "cell_type": "markdown",
   "metadata": {},
   "source": [
    "### **Note**: Everytime we index, we drop a dimension, and everytime we slice, we keep the dimension"
   ]
  },
  {
   "cell_type": "code",
   "execution_count": 96,
   "metadata": {},
   "outputs": [
    {
     "name": "stdout",
     "output_type": "stream",
     "text": [
      "[[ 0  1  2  3  4  5]\n",
      " [ 6  7  8  9 10 11]\n",
      " [12 13 14 15 16 17]\n",
      " [18 19 20 21 22 23]\n",
      " [24 25 26 27 28 29]\n",
      " [30 31 32 33 34 35]]\n",
      "2\n",
      "1\n",
      "2\n"
     ]
    }
   ],
   "source": [
    "print(a)\n",
    "print( a.ndim)\n",
    "print(a[0].ndim)\n",
    "print(a[:1,:1].ndim) #even though we have only element here, we have two dimensions."
   ]
  },
  {
   "cell_type": "markdown",
   "metadata": {},
   "source": [
    "**example exercise** @42:46"
   ]
  },
  {
   "cell_type": "code",
   "execution_count": 101,
   "metadata": {},
   "outputs": [
    {
     "name": "stdout",
     "output_type": "stream",
     "text": [
      "[[ 1  3]\n",
      " [ 6  8]\n",
      " [11 13]\n",
      " [16 18]\n",
      " [21 23]]\n",
      "[20 21 22 23 24]\n",
      "[[ 5  7]\n",
      " [15 17]]\n"
     ]
    }
   ],
   "source": [
    "a= np.arange(25).reshape(5,5)\n",
    "print(a[:,1::2])\n",
    "print(a[4,:])                   ## or simply a[4] / a[-1]\n",
    "print(a[1::2,:3:2])"
   ]
  },
  {
   "cell_type": "markdown",
   "metadata": {},
   "source": [
    "**Another way of indexing:** Fancy indexing and boolean indexing"
   ]
  },
  {
   "cell_type": "code",
   "execution_count": 105,
   "metadata": {},
   "outputs": [
    {
     "name": "stdout",
     "output_type": "stream",
     "text": [
      "[ 0 10 20 30 40 50 60 70]\n",
      "[10 20 50]\n"
     ]
    }
   ],
   "source": [
    "##Fancy indexing\n",
    "a=np.arange(0,80,10)\n",
    "print(a)\n",
    "indices=[1,2,-3]\n",
    "print(a[indices])\n",
    "## fancy indexing gives copy all the time"
   ]
  },
  {
   "cell_type": "code",
   "execution_count": 117,
   "metadata": {},
   "outputs": [
    {
     "name": "stdout",
     "output_type": "stream",
     "text": [
      "[10 20 50]\n",
      "[ True  True  True False False False False False]\n",
      "[  1  -2   3  -4   5  -6   7  -8   9 -10]\n",
      "[ -2  -4  -6  -8 -10]\n",
      "[1 0 3 0 5 0 7 0 9 0]\n"
     ]
    }
   ],
   "source": [
    "## Indexing with Boolean\n",
    "\n",
    "# manual creation of mask:\n",
    "mask= np.array([0,1,1,0,0,1,0,0],dtype=bool)\n",
    "print(a[mask])\n",
    "\n",
    "# conditional creation of mask eg:\n",
    "mask=  a<30\n",
    "print(mask)\n",
    "\n",
    "b= np.arange(1,11)\n",
    "b[1::2]= -b[1::2]  #negates all even values\n",
    "print(b)\n",
    "\n",
    "print(b[b<0]) #selects all the negative values\n",
    "\n",
    "# put a zero for all the negative values\n",
    "b[b<0] = 0\n",
    "print(b)"
   ]
  },
  {
   "cell_type": "markdown",
   "metadata": {},
   "source": [
    "#### Selecting value in range:"
   ]
  },
  {
   "cell_type": "code",
   "execution_count": 125,
   "metadata": {},
   "outputs": [
    {
     "name": "stdout",
     "output_type": "stream",
     "text": [
      "[4]\n"
     ]
    }
   ],
   "source": [
    "# there is binary operator and the bitwise operator. \n",
    "# binary operators: 'and','or','not'  ----> one True one False\n",
    "#bitwise operators: & (and), | (or), ~ (not), ^(xor) ----> element by element\n",
    "\n",
    "b= np.array([1,2,3,4,-3,8,72,-12])\n",
    "print(b[(b>3) & (b< 8)])  # note: the () are needed here"
   ]
  },
  {
   "cell_type": "code",
   "execution_count": 130,
   "metadata": {},
   "outputs": [
    {
     "name": "stdout",
     "output_type": "stream",
     "text": [
      "[ 1  2  3  4  0  8 72  0]\n"
     ]
    },
    {
     "data": {
      "text/plain": [
       "(array([0, 1, 2, 3, 5, 6]),)"
      ]
     },
     "execution_count": 130,
     "metadata": {},
     "output_type": "execute_result"
    }
   ],
   "source": [
    "# to tell the positions of Trues, we can use 'nonzeors'\n",
    "\n",
    "b[b<0]= 0\n",
    "print(b)\n",
    "np.nonzero(b)  #always returns a tuple, and returns the non zero values."
   ]
  },
  {
   "cell_type": "code",
   "execution_count": 133,
   "metadata": {},
   "outputs": [
    {
     "name": "stdout",
     "output_type": "stream",
     "text": [
      "[False  True False]\n"
     ]
    }
   ],
   "source": [
    "# we can do element wise masking as well:\n",
    "\n",
    "a= np.array([10,12,15])\n",
    "b= np.array([22,5,16])\n",
    "mask= a>b\n",
    "print(mask)"
   ]
  },
  {
   "cell_type": "markdown",
   "metadata": {},
   "source": [
    "**Exercise example @1:25:22**"
   ]
  },
  {
   "cell_type": "code",
   "execution_count": 148,
   "metadata": {},
   "outputs": [
    {
     "name": "stdout",
     "output_type": "stream",
     "text": [
      "[ 1  7 13 19]\n",
      "[ 0  3  6  9 12 15 18 21 24]\n"
     ]
    }
   ],
   "source": [
    "a= np.arange(25).reshape(5,5)\n",
    "mask= a[[0,1,2,3],[1,2,3,4]]\n",
    "print(mask)\n",
    "\n",
    "# selecting all numbers divisible by 3:\n",
    "mask2= a[a%3==0]\n",
    "print(mask2)\n",
    "\n"
   ]
  },
  {
   "cell_type": "code",
   "execution_count": 149,
   "metadata": {},
   "outputs": [
    {
     "name": "stdout",
     "output_type": "stream",
     "text": [
      "[[ 0  1  2  3  4]\n",
      " [ 5  6  7  8  9]\n",
      " [10 11 12 13 14]\n",
      " [15 16 17 18 19]\n",
      " [20 21 22 23 24]]\n"
     ]
    },
    {
     "data": {
      "text/plain": [
       "array([[ 0., nan, nan,  3., nan],\n",
       "       [nan,  6., nan, nan,  9.],\n",
       "       [nan, nan, 12., nan, nan],\n",
       "       [15., nan, nan, 18., nan],\n",
       "       [nan, 21., nan, nan, 24.]])"
      ]
     },
     "execution_count": 149,
     "metadata": {},
     "output_type": "execute_result"
    }
   ],
   "source": [
    "#suppose i want to put 'nan' wherever there is number not divisible by 3:\n",
    "print(a)\n",
    "np.where(a%3==0,a, np.nan)   # nan is a valid floating point value that represents missingness"
   ]
  },
  {
   "cell_type": "code",
   "execution_count": null,
   "metadata": {},
   "outputs": [],
   "source": []
  },
  {
   "cell_type": "code",
   "execution_count": null,
   "metadata": {},
   "outputs": [],
   "source": []
  }
 ],
 "metadata": {
  "kernelspec": {
   "display_name": "Python 3",
   "language": "python",
   "name": "python3"
  },
  "language_info": {
   "codemirror_mode": {
    "name": "ipython",
    "version": 3
   },
   "file_extension": ".py",
   "mimetype": "text/x-python",
   "name": "python",
   "nbconvert_exporter": "python",
   "pygments_lexer": "ipython3",
   "version": "3.7.1"
  }
 },
 "nbformat": 4,
 "nbformat_minor": 2
}
