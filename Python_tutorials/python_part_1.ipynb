{
 "cells": [
  {
   "cell_type": "markdown",
   "metadata": {},
   "source": [
    "# if-elif-else"
   ]
  },
  {
   "cell_type": "markdown",
   "metadata": {},
   "source": [
    "**Simple conversion**"
   ]
  },
  {
   "cell_type": "code",
   "execution_count": 22,
   "metadata": {},
   "outputs": [
    {
     "name": "stdout",
     "output_type": "stream",
     "text": [
      "how many kilometeres have you ride today? 10\n",
      "you have covered 10.0 kilometres that is 6.21 miles today\n"
     ]
    }
   ],
   "source": [
    "kms = float(input('how many kilometeres have you ride today? '))\n",
    "print(f\"you have covered {kms} kilometres that is {round(kms/1.60934,2)} miles today\")\n"
   ]
  },
  {
   "cell_type": "markdown",
   "metadata": {},
   "source": [
    "**Conditioning**"
   ]
  },
  {
   "cell_type": "code",
   "execution_count": null,
   "metadata": {},
   "outputs": [],
   "source": [
    "data= input('what is you favorite color \\n')\n",
    "print('ok, so your favorite color is', data)\n",
    "if data.lower()== 'saffron':\n",
    "    print(f'{data} is the first color in our tricolor flag')\n",
    "elif data.lower()== 'blue':\n",
    "    print(f'Our tricolor has Ashoka Chakra in {data} color')\n",
    "elif data.lower()== 'green':\n",
    "    print(f'{data} is the third color in our tricolor flag')\n",
    "else:\n",
    "    print('this seems like a neutral color to me')\n",
    "    \n"
   ]
  },
  {
   "cell_type": "markdown",
   "metadata": {},
   "source": [
    "**is vs ==**"
   ]
  },
  {
   "cell_type": "code",
   "execution_count": 32,
   "metadata": {},
   "outputs": [
    {
     "name": "stdout",
     "output_type": "stream",
     "text": [
      "True 140135423253376 140135423253376\n",
      "True\n",
      "False 140135192830024 140135192442824\n",
      "True\n"
     ]
    }
   ],
   "source": [
    "a= 12\n",
    "b=12\n",
    "print(a is b, id(a), id(b))\n",
    "print(a == b)\n",
    "\n",
    "a= [1,2,3]\n",
    "b= [1,2,3]\n",
    "print(a is b, id(a), id(b))\n",
    "print(a == b)\n"
   ]
  },
  {
   "cell_type": "markdown",
   "metadata": {},
   "source": [
    "_Note: '==' checks the value, whereas 'is' checks if they are stored at the same place in the memory._"
   ]
  },
  {
   "cell_type": "markdown",
   "metadata": {},
   "source": [
    "**Comparision**"
   ]
  },
  {
   "cell_type": "code",
   "execution_count": 37,
   "metadata": {},
   "outputs": [
    {
     "name": "stdout",
     "output_type": "stream",
     "text": [
      "what is your age? 30\n",
      "you are allowed normal entry\n"
     ]
    }
   ],
   "source": [
    "age= int(input('what is your age? '))\n",
    "if age:\n",
    "    if age >= 18 and age <= 21:\n",
    "        print('show your wristband')\n",
    "    elif age>= 21:\n",
    "        print('you are allowed normal entry')\n",
    "    else:\n",
    "        print('sorry, you are too young to enter')"
   ]
  },
  {
   "cell_type": "markdown",
   "metadata": {},
   "source": [
    "**Rock Paper Scissor**"
   ]
  },
  {
   "cell_type": "code",
   "execution_count": 37,
   "metadata": {
    "scrolled": true
   },
   "outputs": [
    {
     "name": "stdout",
     "output_type": "stream",
     "text": [
      "enter your choice rock\n",
      "computer's choise is rock\n",
      "this is a tie\n"
     ]
    }
   ],
   "source": [
    "from random import choice\n",
    "\n",
    "options=['rock','paper','scissor']\n",
    "\n",
    "# while 1:\n",
    "#put all the code below indented to make the while loop work.It keeps asking for input\n",
    "\n",
    "player1=input('enter your choice ')\n",
    "computer= choice(options)\n",
    "print(f'computer\\'s choise is {computer}')\n",
    "\n",
    "if player1== computer:\n",
    "    print('this is a tie')\n",
    "elif player1=='rock':\n",
    "    if computer == 'paper':\n",
    "        print('you lose')\n",
    "    elif computer == 'scissor':\n",
    "        print('you win')\n",
    "\n",
    "elif player1=='scissor':\n",
    "    if computer == 'paper':\n",
    "        print('you win')\n",
    "    elif computer == 'rock':\n",
    "        print('you lose')\n",
    "\n",
    "elif player1=='paper':\n",
    "    if computer == 'scissor':\n",
    "        print('you lose')\n",
    "    elif computer == 'rock':\n",
    "        print('you win')\n",
    "\n",
    "else:\n",
    "    print('something went wrong')"
   ]
  },
  {
   "cell_type": "markdown",
   "metadata": {},
   "source": [
    "# Looping"
   ]
  },
  {
   "cell_type": "markdown",
   "metadata": {},
   "source": [
    "**more looping and conditioning examples**"
   ]
  },
  {
   "cell_type": "code",
   "execution_count": 3,
   "metadata": {},
   "outputs": [
    {
     "name": "stdout",
     "output_type": "stream",
     "text": [
      "how many times do i have to tell you 4\n",
      "Clean up your room! \n",
      "Clean up your room! \n",
      "Clean up your room! \n",
      "Clean up your room! \n"
     ]
    }
   ],
   "source": [
    "i= int(input(\"how many times do i have to tell you \"))\n",
    "for _ in range(i):\n",
    "    print(\"Clean up your room! \")"
   ]
  },
  {
   "cell_type": "code",
   "execution_count": 6,
   "metadata": {},
   "outputs": [
    {
     "name": "stdout",
     "output_type": "stream",
     "text": [
      "the number 1 is odd\n",
      "the number 2 is even\n",
      "the number 3 is odd\n",
      "the number 4 is even\n",
      "5 is a lucky numbers \n",
      "the number 6 is even\n",
      "the number 7 is odd\n",
      "the number 8 is even\n",
      "the number 9 is odd\n",
      "the number 10 is even\n",
      "the number 11 is odd\n",
      "the number 12 is even\n",
      "13 is a lucky numbers \n",
      "the number 14 is even\n",
      "the number 15 is odd\n",
      "the number 16 is even\n",
      "the number 17 is odd\n",
      "the number 18 is even\n",
      "the number 19 is odd\n",
      "the number 20 is even\n"
     ]
    }
   ],
   "source": [
    "for i in range(1,21):\n",
    "    if i==5 or i==13:\n",
    "        print(f'{i} is a lucky numbers ')\n",
    "        \n",
    "    elif i%2==0:\n",
    "        print(f'the number {i} is even')\n",
    "    else:\n",
    "        print(f'the number {i} is odd')\n",
    "        "
   ]
  },
  {
   "cell_type": "markdown",
   "metadata": {},
   "source": [
    "**Printing ascii characters:**"
   ]
  },
  {
   "cell_type": "code",
   "execution_count": 3,
   "metadata": {},
   "outputs": [
    {
     "name": "stdout",
     "output_type": "stream",
     "text": [
      "0 \u0000 1 \u0001 2 \u0002 3 \u0003 4 \u0004 5 \u0005 6 \u0006 7 \u0007 8 9 \t 10 \n",
      " 14 \u000e 15 \u000f 16 \u0010 17 \u0011 18 \u0012 19 \u0013 20 \u0014 21 \u0015 22 \u0016 23 \u0017 24 \u0018 25 \u0019 26 \u001a 27 \u001b 28 \u001c",
      " 29 \u001d",
      " 30 \u001e",
      " 31 \u001f 32   33 ! 34 \" 35 # 36 $ 37 % 38 & 39 ' 40 ( 41 ) 42 * 43 + 44 , 45 - 46 . 47 / 48 0 49 1 50 2 51 3 52 4 53 5 54 6 55 7 56 8 57 9 58 : 59 ; 60 < 61 = 62 > 63 ? 64 @ 65 A 66 B 67 C 68 D 69 E 70 F 71 G 72 H 73 I 74 J 75 K 76 L 77 M 78 N 79 O 80 P 81 Q 82 R 83 S 84 T 85 U 86 V 87 W 88 X 89 Y 90 Z 91 [ 92 \\ 93 ] 94 ^ 95 _ 96 ` 97 a 98 b 99 c "
     ]
    }
   ],
   "source": [
    "for i in range(100):\n",
    "    print(i, chr(i),end=' ')"
   ]
  },
  {
   "cell_type": "markdown",
   "metadata": {},
   "source": [
    "**Printing laughing faces:**"
   ]
  },
  {
   "cell_type": "code",
   "execution_count": 5,
   "metadata": {},
   "outputs": [
    {
     "name": "stdin",
     "output_type": "stream",
     "text": [
      "how many rows do you want? 6\n"
     ]
    },
    {
     "name": "stdout",
     "output_type": "stream",
     "text": [
      "\n",
      "😀\n",
      "😀😀\n",
      "😀😀😀\n",
      "😀😀😀😀\n",
      "😀😀😀😀😀\n",
      "😀😀😀😀😀😀\n"
     ]
    }
   ],
   "source": [
    "rows= int(input('how many rows do you want?'))\n",
    "i=0\n",
    "while i <= rows:\n",
    "    print(\"\\U0001f600\"*i)\n",
    "    i+=1\n"
   ]
  },
  {
   "cell_type": "markdown",
   "metadata": {},
   "source": [
    "**Even more stupid looping examples:**"
   ]
  },
  {
   "cell_type": "code",
   "execution_count": 26,
   "metadata": {},
   "outputs": [
    {
     "name": "stdout",
     "output_type": "stream",
     "text": [
      "say something\n",
      "how are you \n",
      "how are you \n",
      "nishant\n",
      "nishant\n",
      "stop copying me\n",
      "fine you win\n"
     ]
    }
   ],
   "source": [
    "statement= input('say something\\n')\n",
    "if statement== 'stop copying me':\n",
    "    print('i am not copying you!')\n",
    "else:\n",
    "    while statement!= 'stop copying me':\n",
    "        print(statement)\n",
    "        statement=input()\n",
    "    print('fine you win')"
   ]
  },
  {
   "cell_type": "markdown",
   "metadata": {},
   "source": [
    "**Guessing game:**"
   ]
  },
  {
   "cell_type": "code",
   "execution_count": 12,
   "metadata": {},
   "outputs": [
    {
     "name": "stdin",
     "output_type": "stream",
     "text": [
      "enter how many matches are to be played:  2\n"
     ]
    },
    {
     "name": "stdout",
     "output_type": "stream",
     "text": [
      "Total matches to be played are 2\n",
      "Player 1 starts the game: \n",
      "\n",
      "Player 1 plays now: \n",
      "\n"
     ]
    },
    {
     "name": "stdin",
     "output_type": "stream",
     "text": [
      "guess a number \n",
      " 10\n"
     ]
    },
    {
     "name": "stdout",
     "output_type": "stream",
     "text": [
      "Too low, try again\n"
     ]
    },
    {
     "name": "stdin",
     "output_type": "stream",
     "text": [
      "guess a number \n",
      " 15\n"
     ]
    },
    {
     "name": "stdout",
     "output_type": "stream",
     "text": [
      "Too high, try again\n"
     ]
    },
    {
     "name": "stdin",
     "output_type": "stream",
     "text": [
      "guess a number \n",
      " 13\n"
     ]
    },
    {
     "name": "stdout",
     "output_type": "stream",
     "text": [
      "Too low, try again\n"
     ]
    },
    {
     "name": "stdin",
     "output_type": "stream",
     "text": [
      "guess a number \n",
      " 14\n"
     ]
    },
    {
     "name": "stdout",
     "output_type": "stream",
     "text": [
      "You guessed it! \n",
      "well, the number was 14 and it took you 4 times to finish\n",
      "Player 2 plays now: \n",
      "\n"
     ]
    },
    {
     "name": "stdin",
     "output_type": "stream",
     "text": [
      "guess a number \n",
      " 10\n"
     ]
    },
    {
     "name": "stdout",
     "output_type": "stream",
     "text": [
      "Too low, try again\n"
     ]
    },
    {
     "name": "stdin",
     "output_type": "stream",
     "text": [
      "guess a number \n",
      " 15\n"
     ]
    },
    {
     "name": "stdout",
     "output_type": "stream",
     "text": [
      "Too low, try again\n"
     ]
    },
    {
     "name": "stdin",
     "output_type": "stream",
     "text": [
      "guess a number \n",
      " 17\n"
     ]
    },
    {
     "name": "stdout",
     "output_type": "stream",
     "text": [
      "Too low, try again\n"
     ]
    },
    {
     "name": "stdin",
     "output_type": "stream",
     "text": [
      "guess a number \n",
      " 19\n"
     ]
    },
    {
     "name": "stdout",
     "output_type": "stream",
     "text": [
      "Too low, try again\n"
     ]
    },
    {
     "name": "stdin",
     "output_type": "stream",
     "text": [
      "guess a number \n",
      " 20\n"
     ]
    },
    {
     "name": "stdout",
     "output_type": "stream",
     "text": [
      "You guessed it! \n",
      "well, the number was 20 and it took you 5 times to finish\n",
      "player1 scores: [4] \n",
      "player2 scores [5]\n",
      "final score is ['player1_won']\n"
     ]
    }
   ],
   "source": [
    "from random import randint\n",
    "NUM= int(input(\"enter how many matches are to be played: \"))          # Play total of 4 times (i.e. best of 4)\n",
    "print(f'Total matches to be played are {NUM}')\n",
    "player1_scores=[]\n",
    "player2_scores=[]\n",
    "game_count=1\n",
    "\n",
    "def game_logic(game_count):\n",
    "\n",
    "    guess = None\n",
    "    number= randint(1,20)    #computer chooses a random number between 1 to 100.\n",
    "    count=0\n",
    "    while guess!= number:\n",
    "        guess = int(input('guess a number \\n'))\n",
    "        count+=1\n",
    "        if guess < number:\n",
    "            print('Too low, try again')\n",
    "        elif guess > number:\n",
    "            print('Too high, try again')\n",
    "        else:\n",
    "            print('You guessed it! ')\n",
    "            break\n",
    "    print(f'well, the number was {number} and it took you {count} times to finish')\n",
    "    \n",
    "    if game_count%2!=0:\n",
    "        player1_scores.append(count)\n",
    "    else:\n",
    "        player2_scores.append(count)\n",
    "\n",
    "print('Player 1 starts the game: \\n')\n",
    "while game_count!= NUM+1:\n",
    "    if game_count%2==0:\n",
    "        print(\"Player 2 plays now: \\n\")\n",
    "    else:\n",
    "        print(\"Player 1 plays now: \\n\")\n",
    "    game_logic(game_count)     #continue plaing the above until game_count!= 4 (here)\n",
    "    game_count+=1\n",
    "\n",
    "print( f'player1 scores: {player1_scores} \\nplayer2 scores {player2_scores}')\n",
    "final_score=[]\n",
    "for i in range(len(player1_scores)):\n",
    "    if player1_scores[i]< player2_scores[i]:\n",
    "        final_score.append('player1_won')\n",
    "    elif player1_scores[i]==player2_scores[i]:\n",
    "        final_score.append('draw')\n",
    "    else:\n",
    "        final_score.append('player2_won')\n",
    "print(f'final score is {final_score}')"
   ]
  },
  {
   "cell_type": "markdown",
   "metadata": {},
   "source": [
    "**Using enumerate**"
   ]
  },
  {
   "cell_type": "code",
   "execution_count": 11,
   "metadata": {},
   "outputs": [
    {
     "name": "stdout",
     "output_type": "stream",
     "text": [
      "add something to the cart: potato\n",
      "type q to quit\n",
      "add something to the cart: banana\n",
      "type q to quit\n",
      "add something to the cart: q\n",
      "\n",
      "your shopping items are\n",
      "\n",
      "1. banana\n",
      "2. potato\n"
     ]
    }
   ],
   "source": [
    "\n",
    "shopping_list=[]\n",
    "char=input('add something to the cart: ')\n",
    "\n",
    "while char!= 'q':\n",
    "    print('type q to quit')\n",
    "    shopping_list.append(char)\n",
    "    char=input('add something to the cart: ')\n",
    "\n",
    "print(f'\\nyour shopping items are\\n')\n",
    "\n",
    "for i,j in enumerate(sorted(shopping_list),1):\n",
    "    \n",
    "    print(f'{i}. {j}')"
   ]
  },
  {
   "cell_type": "markdown",
   "metadata": {},
   "source": [
    "# Lists"
   ]
  },
  {
   "cell_type": "code",
   "execution_count": 17,
   "metadata": {},
   "outputs": [
    {
     "name": "stdout",
     "output_type": "stream",
     "text": [
      "append clear copy count extend index insert pop remove reverse sort \n",
      "\n",
      "capitalize casefold center count encode endswith expandtabs find format format_map index isalnum isalpha isdecimal isdigit isidentifier islower isnumeric isprintable isspace istitle isupper join ljust lower lstrip maketrans partition replace rfind rindex rjust rpartition rsplit rstrip split splitlines startswith strip swapcase title translate upper zfill \n",
      "\n",
      "count index \n",
      "\n",
      "add clear copy difference difference_update discard intersection intersection_update isdisjoint issubset issuperset pop remove symmetric_difference symmetric_difference_update union update \n",
      "\n",
      "clear copy fromkeys get items keys pop popitem setdefault update values \n",
      "\n",
      "copy difference intersection isdisjoint issubset issuperset symmetric_difference union "
     ]
    }
   ],
   "source": [
    "def directory(val):\n",
    "    for i in sorted(dir(val)):\n",
    "        if i[0]!='_':\n",
    "            print(i,end=' ')\n",
    "            \n",
    "# note: as seen later, we can use one line filter for the same above: \n",
    "\n",
    "# list(filter(lambda x: x[0]!= '_', dir(list)))\n",
    "\n",
    "directory(list)\n",
    "print('\\n')\n",
    "directory(str)\n",
    "print('\\n')\n",
    "directory(tuple)\n",
    "print('\\n')\n",
    "directory(set)\n",
    "print('\\n')\n",
    "directory(dict)\n",
    "print('\\n')\n",
    "directory(frozenset)\n",
    "# print(help(range))"
   ]
  },
  {
   "cell_type": "code",
   "execution_count": 29,
   "metadata": {},
   "outputs": [
    {
     "name": "stdout",
     "output_type": "stream",
     "text": [
      "Help on method_descriptor:\n",
      "\n",
      "extend(...)\n",
      "    L.extend(iterable) -> None -- extend list by appending elements from the iterable\n",
      "\n",
      "None\n",
      "[1, 2, 3, [3, 4, 5]]\n"
     ]
    }
   ],
   "source": [
    "print(help(list.extend))\n",
    "l=[1,2,3]\n",
    "l.append([3,4,5])\n",
    "print(l)"
   ]
  },
  {
   "cell_type": "code",
   "execution_count": 7,
   "metadata": {},
   "outputs": [
    {
     "name": "stdout",
     "output_type": "stream",
     "text": [
      "['n', 'a', 's', 'i', 't', 's', 'h']\n",
      "Help on method choices in module random:\n",
      "\n",
      "choices(population, weights=None, *, cum_weights=None, k=1) method of random.Random instance\n",
      "    Return a k sized list of population elements chosen with replacement.\n",
      "    \n",
      "    If the relative weights or cumulative weights are not specified,\n",
      "    the selections are made with equal probability.\n",
      "\n"
     ]
    }
   ],
   "source": [
    "from random import choices\n",
    "string='this is nishant'\n",
    "print(choices(string,k=7))\n",
    "help(choices)"
   ]
  },
  {
   "cell_type": "code",
   "execution_count": 4,
   "metadata": {},
   "outputs": [
    {
     "name": "stdout",
     "output_type": "stream",
     "text": [
      "[1, 2, 3, 'nishant']\n"
     ]
    }
   ],
   "source": [
    "my_list=[1,2,3]\n",
    "my_list.insert(len(my_list),'nishant')\n",
    "print(my_list)"
   ]
  },
  {
   "cell_type": "code",
   "execution_count": 5,
   "metadata": {},
   "outputs": [
    {
     "name": "stdout",
     "output_type": "stream",
     "text": [
      "Help on method_descriptor:\n",
      "\n",
      "index(...)\n",
      "    L.index(value, [start, [stop]]) -> integer -- return first index of value.\n",
      "    Raises ValueError if the value is not present.\n",
      "\n"
     ]
    }
   ],
   "source": [
    "help(list.index)"
   ]
  },
  {
   "cell_type": "code",
   "execution_count": 12,
   "metadata": {},
   "outputs": [
    {
     "data": {
      "text/plain": [
       "[1, 2, 3, 4]"
      ]
     },
     "execution_count": 12,
     "metadata": {},
     "output_type": "execute_result"
    }
   ],
   "source": [
    "new=[3,4,1,2]\n",
    "sorted(new)"
   ]
  },
  {
   "cell_type": "code",
   "execution_count": 18,
   "metadata": {},
   "outputs": [
    {
     "name": "stdout",
     "output_type": "stream",
     "text": [
      "[175, 139, 159, 151, 49, 182, 23, 37, 122, 118, 199, 8, 16, 135, 65, 146, 59, 92, 119, 54] \n",
      "\n",
      "Counter({175: 1, 139: 1, 159: 1, 151: 1, 49: 1, 182: 1, 23: 1, 37: 1, 122: 1, 118: 1, 199: 1, 8: 1, 16: 1, 135: 1, 65: 1, 146: 1, 59: 1, 92: 1, 119: 1, 54: 1}) \n",
      "\n",
      "[(175, 1), (139, 1), (159, 1), (151, 1), (49, 1)]\n"
     ]
    }
   ],
   "source": [
    "from random import choices\n",
    "from collections import Counter\n",
    "x=choices(range(1,200),k=20)\n",
    "print(x,'\\n')\n",
    "print(Counter(x),'\\n')\n",
    "print(Counter(x).most_common(5))"
   ]
  },
  {
   "cell_type": "code",
   "execution_count": 17,
   "metadata": {},
   "outputs": [
    {
     "name": "stdout",
     "output_type": "stream",
     "text": [
      "['pink', 'white']\n",
      "[2, 3, 4, 5, 6]\n",
      "[1]\n",
      "[6, 5, 4, 3, 2, 1]\n",
      "[6, 5, 4]\n",
      "[4, 3, 2, 1]\n",
      "[1, 'a', 'p', 'p', 'l', 'e', 5, 6]\n",
      "[1, 'apple', 5, 6]\n",
      "elppa\n"
     ]
    }
   ],
   "source": [
    "colors=['red', 'green', 'blue','white','pink']\n",
    "print(colors[-1:2:-1])\n",
    "colors2=colors[:] #another copy is created in the memory\n",
    "id(colors2)==id(colors) \n",
    "\n",
    "my_list=[1,2,3,4,5,6]\n",
    "print(my_list[1::])\n",
    "print(my_list[:1:])\n",
    "print(my_list[::-1]) #since we have negative step, the sequence is reversed\n",
    "print(my_list[:2:-1]) #begin at the end of the sequence and end before the second item\n",
    "print(my_list[3::-1]) #begin at 4 and reverse from there till 1\n",
    "\n",
    "#note that just like range() the first value is inclusive and the last value is exclusive.\n",
    "\n",
    "my_list[1:4]= 'apple'\n",
    "print(my_list)\n",
    "my_list= [1,2,3,4,5,6]\n",
    "my_list[1:4]= ['apple']\n",
    "print(my_list)\n",
    "print(my_list[1][::-1])"
   ]
  },
  {
   "cell_type": "code",
   "execution_count": 1,
   "metadata": {},
   "outputs": [
    {
     "name": "stdout",
     "output_type": "stream",
     "text": [
      "[1, 4, 9, 16, 25]\n",
      "['RE', 'GR', 'BL', 'WH', 'PI']\n",
      "['1', '2', '3', '4', '5']\n"
     ]
    }
   ],
   "source": [
    "my_list=[1,2,3,4,5]\n",
    "colors=['red', 'green', 'blue','white','pink']\n",
    "new_list= [x**2 for x in my_list]\n",
    "print(new_list)\n",
    "print(f'{[x.upper()[:2] for x in colors]}')\n",
    "print(f'{[str(num) for num in my_list]}')"
   ]
  },
  {
   "cell_type": "code",
   "execution_count": 10,
   "metadata": {},
   "outputs": [
    {
     "name": "stdout",
     "output_type": "stream",
     "text": [
      "[0.5, 2, 1.5, 4, 2.5]\n",
      "[2, 4]\n"
     ]
    }
   ],
   "source": [
    "number=[1,2,3,4,5]\n",
    "new_list= [num if num%2==0 else num/2 for num in number ]\n",
    "print(new_list)\n",
    "\n",
    "print(f'{[num for num in number if num%2==0 ]}')"
   ]
  },
  {
   "cell_type": "code",
   "execution_count": 31,
   "metadata": {},
   "outputs": [
    {
     "data": {
      "text/plain": [
       "'this!is the new word helter-skelter'"
      ]
     },
     "execution_count": 31,
     "metadata": {},
     "output_type": "execute_result"
    }
   ],
   "source": [
    "my_list=['this', 'is the new word helter-skelter']\n",
    "'!'.join(my_list)"
   ]
  },
  {
   "cell_type": "markdown",
   "metadata": {},
   "source": [
    "Split a string can be quite useful sometimes, especially when you need only certain parts of strings. A simple yet effective example is splitting the First-name and Last-name of a person. Another application is CSV(Comma Separated Files). We use split to get data from CSV and join to write data to CSV.\n",
    "\n",
    "In Python, we can use the function split() to split a string and join() to join a string. For detailed article on split() and join() functions, refer these : split() in Python and join() in Python."
   ]
  },
  {
   "cell_type": "code",
   "execution_count": 126,
   "metadata": {},
   "outputs": [
    {
     "name": "stdout",
     "output_type": "stream",
     "text": [
      "['Alaska', 'Alabama', 'Arkansas', 'American', 'Samoa', 'Arizona', 'California', 'Colorado']\n",
      "Alaska-Alabama-Arkansas-American-Samoa-Arizona-California-Colorado\n"
     ]
    }
   ],
   "source": [
    "states = \"Alaska Alabama Arkansas American Samoa Arizona California Colorado\"\n",
    "state_list=states.split(' ') #convert string to list using the delimiter (here ' ')\n",
    "print(state_list)\n",
    "states_string='-'.join(state_list) #convert list of string to string, using the delimiter (here '-')\n",
    "print(states_string)"
   ]
  },
  {
   "cell_type": "code",
   "execution_count": 38,
   "metadata": {},
   "outputs": [
    {
     "data": {
      "text/plain": [
       "'thisisnishant'"
      ]
     },
     "execution_count": 38,
     "metadata": {},
     "output_type": "execute_result"
    }
   ],
   "source": [
    "# my=[1,2,3,'this',4,5,'is ',7,9,10,'nishant']  --> this will create an error\n",
    "my=['this','is','nishant']\n",
    "''.join(i for i in my ) # note the difference between how ''.join(i for i in str(my)) and this statement works"
   ]
  },
  {
   "cell_type": "code",
   "execution_count": 54,
   "metadata": {},
   "outputs": [
    {
     "data": {
      "text/plain": [
       "'ths s s mch fn'"
      ]
     },
     "execution_count": 54,
     "metadata": {},
     "output_type": "execute_result"
    }
   ],
   "source": [
    "with_vowels='this is so much fun'\n",
    "''.join(char for char in with_vowels if char not in 'aeiou')"
   ]
  },
  {
   "cell_type": "code",
   "execution_count": 4,
   "metadata": {},
   "outputs": [
    {
     "name": "stdout",
     "output_type": "stream",
     "text": [
      "[[1, 2, 3], [1, 2, 3], [1, 2, 3]]\n"
     ]
    }
   ],
   "source": [
    "board= [[num for num in range(1,4)] for i in range(1,4) ]\n",
    "print(board)"
   ]
  },
  {
   "cell_type": "code",
   "execution_count": 4,
   "metadata": {},
   "outputs": [
    {
     "name": "stdout",
     "output_type": "stream",
     "text": [
      "exists\n"
     ]
    },
    {
     "data": {
      "text/plain": [
       "True"
      ]
     },
     "execution_count": 4,
     "metadata": {},
     "output_type": "execute_result"
    }
   ],
   "source": [
    "user_info= {'name': 'nishant',\n",
    "           'age': 26,True:'exists'}\n",
    "print(user_info[True])\n"
   ]
  },
  {
   "cell_type": "code",
   "execution_count": 13,
   "metadata": {},
   "outputs": [
    {
     "name": "stdout",
     "output_type": "stream",
     "text": [
      "('name', 'nishant')\n",
      "('age', 26)\n",
      "('hobby', 'many hobbies')\n",
      "dict_items([('name', 'nishant'), ('age', 26), ('hobby', 'many hobbies')])\n",
      "<class 'dict_items'>\n"
     ]
    }
   ],
   "source": [
    "instructor={\n",
    "    'name':'nishant',\n",
    "    'age':26,\n",
    "    'hobby':'many hobbies'\n",
    "}\n",
    "\n",
    "for j in instructor.items():\n",
    "    print(j)\n",
    "print(instructor.items())\n",
    "print(type(instructor.items()))"
   ]
  },
  {
   "cell_type": "code",
   "execution_count": 28,
   "metadata": {},
   "outputs": [
    {
     "name": "stdout",
     "output_type": "stream",
     "text": [
      "append clear copy count extend index insert pop remove reverse sort \n",
      "\n",
      "clear copy fromkeys get items keys pop popitem setdefault update values [1, 2, 3]\n",
      "{'name': 'nishant', 'age': 26, 'hobby': 'many hobbies'}\n",
      "139992921754864 139992921581824\n"
     ]
    }
   ],
   "source": [
    "def my_dir(val):\n",
    "    for i in dir(val):\n",
    "        if i[0]!='_':\n",
    "            print(i,end=' ')\n",
    "my_dir(list)\n",
    "print('\\n')\n",
    "my_dir(dict)\n",
    "\n",
    "my_list=[1,2,3]\n",
    "new_list= my_list.copy()\n",
    "print(new_list)\n",
    "new_dict=instructor.copy()\n",
    "print(new_dict)\n",
    "\n",
    "print(id(new_dict),id(instructor)) #thus new dictionary is created"
   ]
  },
  {
   "cell_type": "code",
   "execution_count": 49,
   "metadata": {},
   "outputs": [
    {
     "name": "stdout",
     "output_type": "stream",
     "text": [
      "Help on built-in function fromkeys:\n",
      "\n",
      "fromkeys(iterable, value=None, /) method of builtins.type instance\n",
      "    Returns a new dict with keys from iterable and values equal to value.\n",
      "\n",
      "{1: [1, 2], 2: [1, 2], 3: [1, 2], 4: [1, 2]}\n",
      "\n",
      "\n",
      "{1: [1, 2, 3], 2: [1, 2, 3], 3: [1, 2, 3], 4: [1, 2, 3]}\n"
     ]
    }
   ],
   "source": [
    "help(dict.fromkeys)\n",
    "v=[1,2]\n",
    "val={}.fromkeys(range(1,5),v)\n",
    "print(val)\n",
    "print('\\n')\n",
    "v.append(3)\n",
    "print(val)"
   ]
  },
  {
   "cell_type": "code",
   "execution_count": 21,
   "metadata": {},
   "outputs": [
    {
     "name": "stdout",
     "output_type": "stream",
     "text": [
      "{0: None, 1: None, 2: None, 3: None, 4: None, 5: None, 6: None, 7: None, 8: None, 9: None, 10: None, 11: None}\n",
      "there\n",
      "{'u': [1, 2], 'n': [1, 2], 'k': [1, 2], 'o': [1, 2], 'w': [1, 2]}\n"
     ]
    }
   ],
   "source": [
    "val={}.fromkeys(range(12),None)\n",
    "print(val)\n",
    "val[4]='Nishant'\n",
    "val[5]='David'\n",
    "\n",
    "# if val['7']:\n",
    "#     print('hello')  #Throws an error\n",
    "\n",
    "if '7' in val:\n",
    "    print('hello')  #Doesn't throw an error\n",
    "    \n",
    "if 'Nishant' in val.values():\n",
    "    print('there')\n",
    "    \n",
    "#Note:\n",
    "val.fromkeys('letter','a') #this will not add the new dictionary created to the val dictionary\n",
    "new_val= val.fromkeys('unknown',[1,2])\n",
    "print(new_val) #Note, how the two 3 n's are not repeated from the string iterable, because unique key is reqd."
   ]
  },
  {
   "cell_type": "code",
   "execution_count": 13,
   "metadata": {},
   "outputs": [
    {
     "data": {
      "text/plain": [
       "dict_values([None, None, None, None, 'Nishant', 'David', None, None, None, None, None, None])"
      ]
     },
     "execution_count": 13,
     "metadata": {},
     "output_type": "execute_result"
    }
   ],
   "source": [
    "val.values()"
   ]
  },
  {
   "cell_type": "code",
   "execution_count": 18,
   "metadata": {},
   "outputs": [
    {
     "name": "stdout",
     "output_type": "stream",
     "text": [
      "{'a': 1, 'b': 2, 'c': 3}\n",
      "{'a': 1, 'b': 2, 'c': 3} False\n",
      "{}\n"
     ]
    }
   ],
   "source": [
    "d=dict(a=1,b=2,c=3)  #Another way of initializing a dictionary\n",
    "print(d)\n",
    "new_d= d.copy()\n",
    "print(new_d,d is new_d) #Creates another copy of dictionary\n",
    "\n",
    "d.clear()   #Clears the dictionary\n",
    "print(d)"
   ]
  },
  {
   "cell_type": "code",
   "execution_count": 28,
   "metadata": {},
   "outputs": [
    {
     "name": "stdout",
     "output_type": "stream",
     "text": [
      "Help on method_descriptor:\n",
      "\n",
      "get(...)\n",
      "    D.get(k[,d]) -> D[k] if k in D, else d.  d defaults to None.\n",
      "\n",
      "None\n",
      "table of which number? 12\n",
      "12 x  1 = 12\n",
      "12 x  2 = 24\n",
      "12 x  3 = 36\n",
      "12 x  4 = 48\n",
      "12 x  5 = 60\n",
      "12 x  6 = 72\n",
      "12 x  7 = 84\n",
      "12 x  8 = 96\n",
      "12 x  9 = 108\n",
      "12 x 10 = 120\n"
     ]
    }
   ],
   "source": [
    "print(help(dict.get))\n",
    "\n",
    "d={'a':'apple',\n",
    "  'b':'ball',\n",
    "   'c':'cat'\n",
    "  }\n",
    "def new_function():\n",
    "    table_of= int(input('table of which number? '))\n",
    "    for i in range(1,11):\n",
    "        print(f'{table_of} x {i:2} = {table_of*i}')\n",
    "\n",
    "d.get('s','nahi hai')\n",
    "d.get('k',new_function())"
   ]
  },
  {
   "cell_type": "code",
   "execution_count": 45,
   "metadata": {},
   "outputs": [
    {
     "name": "stdout",
     "output_type": "stream",
     "text": [
      "apple {'b': 'banana', 'c': 'cat'}\n",
      "{'b': 'banana'} popped item:  ('c', 'cat')\n"
     ]
    }
   ],
   "source": [
    "new_dict={'a':'apple',\n",
    "         'b':'banana',\n",
    "         'c':'cat'}\n",
    "\n",
    "store=new_dict.pop('a') #Pop Returns the value only\n",
    "\n",
    "print(store,new_dict)\n",
    "# new_dict.pop() # This would not work.If a key other than that presrent in dict is given, it returns error.\n",
    "\n",
    "#To randomly remove an item from the dictionary, use popitem()\n",
    "\n",
    "store2=new_dict.popitem() #popitem takes no argument, and returns a tuple with key value pair\n",
    "print(new_dict,'popped item: ',store2)"
   ]
  },
  {
   "cell_type": "code",
   "execution_count": 46,
   "metadata": {},
   "outputs": [
    {
     "name": "stdout",
     "output_type": "stream",
     "text": [
      "{'b': 'banana'}\n",
      "{'b': 'ball', 'a': 'apple', 'c': 'cat'}\n"
     ]
    }
   ],
   "source": [
    "print(new_dict)\n",
    "new_dict.update(d) #takes all the items from dictionary 'd', and adds to dictionary new_dict\n",
    "print(new_dict) #Value for the key that was already present, got replaced"
   ]
  },
  {
   "cell_type": "code",
   "execution_count": 36,
   "metadata": {},
   "outputs": [
    {
     "name": "stdout",
     "output_type": "stream",
     "text": [
      "15.09\n"
     ]
    }
   ],
   "source": [
    "my_playlist={\n",
    "    'title':'classical music',\n",
    "    'created by':'nishant sinha',\n",
    "    'tracks': [\n",
    "        { 'title':'song1','artist':['blue','nishant'],'duration':2.4 },\n",
    "        { 'title':'song2','artist':['katy','nishant'],'duration':12.69 }\n",
    "    ]\n",
    "}\n",
    "\n",
    "total_duration=0\n",
    "for song in my_playlist['tracks']:\n",
    "    total_duration+= song['duration']\n",
    "print(total_duration)"
   ]
  },
  {
   "cell_type": "markdown",
   "metadata": {},
   "source": [
    "# List Comprehension"
   ]
  },
  {
   "cell_type": "code",
   "execution_count": 23,
   "metadata": {},
   "outputs": [
    {
     "name": "stdout",
     "output_type": "stream",
     "text": [
      "[2, 4, 6, 8, 10, 12, 14, 16, 18, 20, 22, 24, 26, 28, 30, 32, 34, 36, 38, 40, 42, 44, 46, 48, 50, 52, 54, 56, 58, 60, 62, 64, 66, 68, 70, 72, 74, 76, 78, 80, 82, 84, 86, 88, 90, 92, 94, 96, 98] "
     ]
    }
   ],
   "source": [
    "num=100\n",
    "even_numbers = [x for x in range(1,num) if x%2==0]\n",
    "print(even_numbers, end= ' ')"
   ]
  },
  {
   "cell_type": "markdown",
   "metadata": {},
   "source": [
    "# Dictionary Comprehension"
   ]
  },
  {
   "cell_type": "code",
   "execution_count": 2,
   "metadata": {
    "scrolled": true
   },
   "outputs": [
    {
     "name": "stdout",
     "output_type": "stream",
     "text": [
      "{0: 'nk', 1: 'nk', 4: 'nk', 9: 'nk'}\n",
      "{1: 1, 2: 8, 3: 27, 4: 64}\n",
      "{1: -1, 8: 6, 27: 25, 64: 62}\n",
      "{'A': '1', 'B': '2', 'C': '3', 'D': '4', 'E': '5', 'F': '6', 'G': '7'}\n",
      "{'A': 'APPLE', 'B': 'BANANA', 'C': 'CAT'}\n",
      "{'A': 'apple', 'b': 'BANANA', 'c': 'cat'}\n",
      "{1: 'odd', 2: 'even', 3: 'odd', 4: 'even', 5: 'odd', 6: 'even', 7: 'odd', 8: 'even', 9: 'odd', 10: 'even', 11: 'odd'}\n"
     ]
    }
   ],
   "source": [
    "#Dictionary comprehension\n",
    "sample_dict={key**2:value for key,value in {}.fromkeys(range(4),'unknown').items()}\n",
    "\n",
    "another_dict={key:value[1:3] for key,value in sample_dict.items()}\n",
    "print(another_dict)\n",
    "\n",
    "#The changes can be made in both key as well as values as shown above\n",
    "dict3={num:num**3 for num in [1,2,3,4]}\n",
    "print(dict3)\n",
    "dict4={num: num-2 for num in dict3.values()}\n",
    "print(dict4)\n",
    "\n",
    "#Another example\n",
    "str1='ABCDEFG'\n",
    "str2='1234567'\n",
    "dict5={str1[i]:str2[i] for i in range(len(str1))}\n",
    "print(dict5)\n",
    "\n",
    "#Another example\n",
    "new_dict={'a':'apple',\n",
    "         'b':'banana',\n",
    "         'c':'cat'}\n",
    "dict6={key.upper():value.upper() for key, value in new_dict.items()}\n",
    "print(dict6)\n",
    "\n",
    "#example with conditional\n",
    "\n",
    "\n",
    "dict7={(key.upper() if key is 'a' else key): (value.upper() if value== 'banana' else value) for \n",
    "      key,value in new_dict.items()}\n",
    "print(dict7)\n",
    "\n",
    "dict8={num:('even' if num%2==0 else 'odd') for num in range(1,12)}\n",
    "print(dict8)"
   ]
  },
  {
   "cell_type": "code",
   "execution_count": 13,
   "metadata": {},
   "outputs": [
    {
     "name": "stdout",
     "output_type": "stream",
     "text": [
      "(1, 2, 3, 4, 5)\n",
      "{('a', 'b'): 'first two', (1, 2, 3, 4, 5): 'first five'}\n"
     ]
    }
   ],
   "source": [
    "tuple_1=(1,2,3,4,5)\n",
    "print(tuple_1)\n",
    "my_dict= {\n",
    "    ('a','b'):'first two',  #Tuple can be used as key in dictionary\n",
    "    tuple_1: 'first five'\n",
    "}\n",
    "print(my_dict)"
   ]
  },
  {
   "cell_type": "markdown",
   "metadata": {},
   "source": [
    "# Packing and Unpacking"
   ]
  },
  {
   "cell_type": "code",
   "execution_count": 35,
   "metadata": {},
   "outputs": [],
   "source": [
    "#Packing and Unpacking\n",
    "\n",
    "####Simple sequence assignments\n",
    "\n",
    "a, b = 1, 2                          # simple sequence assignment\n",
    "a, b = ['green', 'blue']             # list asqignment\n",
    "a, b = 'XY'                          # string assignment\n",
    "a, b = range(1,5,2)                  # any iterable will do\n",
    "\n",
    "####nested sequence assignments\n",
    "\n",
    "(a,b), c = \"XY\", \"Z\"                 # a = 'X', b = 'Y', c = 'Z' \n",
    "# (a,b), c = \"XYZ\"                     # ERROR -- too many values to unpack\n",
    "# (a,b), c = \"XY\"                      # ERROR -- need more than 1 value to unpack\n",
    "(a,b), c, = [1,2],'this'             # a = '1', b = '2', c = 'this' (Coma is not needed in the last)\n",
    "# (a,b), (c,) = [1,2],'this'           # ERROR -- too many values to unpack (NOTE the comma in the last)\n",
    "\n",
    "### Extended sequence unpacking\n",
    "\n",
    "a, *b = 1,2,3,4,5                    # a = 1, b = [2,3,4,5]\n",
    "*a, b = 1,2,3,4,5                    # a = [1,2,3,4], b = 5\n",
    "a, *b, c = 1,2,3,4,5                 # a = 1, b = [2,3,4], c = 5\n",
    "\n",
    "a, *b = 'X'                          # a = 'X', b = []\n",
    "*a, b = 'X'                          # a = [], b = 'X'\n",
    "a, *b, c = \"XY\"                      # a = 'X', b = [], c = 'Y'\n",
    "a, *b, c = \"X...Y\"                   # a = 'X', b = ['.','.','.'], c = 'Y'\n",
    "a, b, *c = 1,2,3                     # a = 1, b = 2, c = [3]\n",
    "a, b, c, *d = 1,2,3                  # a = 1, b = 2, c = 3, d = []\n",
    "\n",
    "#a, *b, c, *d = 1,2,3,4,5             # ERROR -- two starred expressions in assignment\n",
    "\n",
    "(a,b), c = [1,2],'this'              # a = '1', b = '2', c = 'this'\n",
    "(a,b), *c = [1,2],'this'             # a = '1', b = '2', c = ['this']\n",
    "(a,b), c, *d = [1,2],'this'          # a = '1', b = '2', c = 'this', d = []\n",
    "(a,b), *c, d = [1,2],'this'          # a = '1', b = '2', c = [], d = 'this'\n",
    "\n",
    "(a,b), (c, *d) = [1,2],'this'        # a = '1', b = '2', c = 't', d = ['h', 'i', 's']\n",
    "\n",
    "# *a= 1                                    # ERROR -- starred assignment target must be in a list or tuple\n",
    "\n",
    "# *a = (1,2)                              # ERROR -- starred assignment target must be in a list or tuple\n",
    "\n",
    "*a, = (1,2)                          # a = [1,2]\n",
    "*a, = [1,2]                          # a = [1,2]\n",
    "# *a, = 1                              # ERROR -- 'int' object is not iterable\n",
    "*a, = [1]                            # a = [1]\n",
    "# *a = [1]                             # ERROR -- starred assignment target must be in a list or tuple\n",
    "# *a, = (1)                            # ERROR -- 'int' object is not iterable\n",
    "\n",
    "###Note: (1) is the same as 1 -- you need a comma to distinguish a tuple from an arithmetic statement.\n",
    "\n",
    "*a, b = [1]                          # a = [], b = 1\n",
    "*a, b = (1,)                         # a = [], b = 1\n"
   ]
  },
  {
   "cell_type": "code",
   "execution_count": 45,
   "metadata": {},
   "outputs": [
    {
     "name": "stdout",
     "output_type": "stream",
     "text": [
      "count\n",
      "index\n",
      "3\n",
      "1\n"
     ]
    }
   ],
   "source": [
    "for i in dir(tuple):\n",
    "    if i[0]!='_':\n",
    "        print(i)\n",
    "        \n",
    "z=1,2,3,4,5,2,2\n",
    "print(z.count(2))\n",
    "print(z.index(2)) #returns the index of the first appearance in the tuple\n"
   ]
  },
  {
   "cell_type": "markdown",
   "metadata": {},
   "source": [
    "# Sets"
   ]
  },
  {
   "cell_type": "code",
   "execution_count": 62,
   "metadata": {},
   "outputs": [
    {
     "name": "stdout",
     "output_type": "stream",
     "text": [
      "True\n"
     ]
    }
   ],
   "source": [
    "# Sets begin here\n",
    "my_set= {1,2,3,'nishant'}\n",
    "another_set= set((1,2,3,1,2)) #Repeated values are removed\n",
    "# another_set = set(1,2,3) --> throws an error:  set expected at most 1 arguments, got 3\n",
    "\n",
    "print('nishant'  in my_set)\n",
    "\n"
   ]
  },
  {
   "cell_type": "code",
   "execution_count": 6,
   "metadata": {},
   "outputs": [
    {
     "name": "stdout",
     "output_type": "stream",
     "text": [
      "10\n",
      "[1, 2, 3, 4, 'nishant', 'hello']\n"
     ]
    }
   ],
   "source": [
    "list2=[1,1,2,2,2,3,4,'hello','hello','nishant']\n",
    "\n",
    "#converting list to set to remove all the repeated items and then converting back to set\n",
    "\n",
    "print(list(set(list2)))"
   ]
  },
  {
   "cell_type": "code",
   "execution_count": 25,
   "metadata": {},
   "outputs": [
    {
     "name": "stdout",
     "output_type": "stream",
     "text": [
      "add clear copy difference difference_update discard intersection intersection_update isdisjoint issubset issuperset pop remove symmetric_difference symmetric_difference_update union update \n",
      "\n",
      "{1, 2, 3, 4}\n",
      "{1, 2, 3, 4}\n",
      "False\n",
      "{3, 2, 'nishant'}\n",
      "{'bhanu', 4, 5, 6}\n",
      "{4}\n"
     ]
    }
   ],
   "source": [
    "for i in dir(set):\n",
    "    if i[0]!= '_':\n",
    "        print(i,end=' ')\n",
    "print('\\n')\n",
    "\n",
    "sample_set= {1,2,3}\n",
    "sample_set.add(4)\n",
    "print(sample_set)\n",
    "\n",
    "nis= sample_set.copy()\n",
    "print(nis)\n",
    "print(nis is sample_set)  #Shallow copy\n",
    "\n",
    "\n",
    "set('hello') #convert the string to set with only unique elements\n"
   ]
  },
  {
   "cell_type": "code",
   "execution_count": 26,
   "metadata": {},
   "outputs": [
    {
     "data": {
      "text/plain": [
       "{'e', 'h', 'l', 'o'}"
      ]
     },
     "execution_count": 26,
     "metadata": {},
     "output_type": "execute_result"
    }
   ],
   "source": [
    "A={1,2,3,'nishant'}\n",
    "B={1,4,5,6,'bhanu'}\n",
    "\n",
    "A | B\n",
    "A.union(B)\n",
    "# Returns a set which is the union of sets A and B.\n",
    "\n",
    "A |= B \n",
    "A.update(B)\n",
    "# Adds all elements of array B to the set A.\n",
    "\n",
    "A & B \n",
    "A.intersection(B)\n",
    "# Returns a set which is the intersection of sets A and B.\n",
    "\n",
    "A &= B \n",
    "A.intersection_update(B)\n",
    "# Leaves in the set A only items that belong to the set B.\n",
    "\n",
    "A - B \n",
    "A.difference(B)\n",
    "# Returns the set difference of A and B (the elements included in A, but not included in B).\n",
    "\n",
    "A -= B \n",
    "A.difference_update(B)\n",
    "# Removes all elements of B from the set A.\n",
    "\n",
    "A ^ B \n",
    "A.symmetric_difference(B)\n",
    "# Returns the symmetric difference of sets A and B (the elements belonging to either A or B, but not to both sets simultaneously).\n",
    "\n",
    "A ^= B \n",
    "A.symmetric_difference_update(B)\n",
    "# Writes in A the symmetric difference of sets A and B.\n",
    "\n",
    "A <= B \n",
    "A.issubset(B)\n",
    "# Returns true if A is a subset of B.\n",
    "\n",
    "A >= B \n",
    "A.issuperset(B)\n",
    "# Returns true if B is a subset of A.\n",
    "\n",
    "A < B\n",
    "# Equivalent to A <= B and A != B\n",
    "\n",
    "A > B\n",
    "# Equivalent to A >= B and A != B"
   ]
  },
  {
   "cell_type": "code",
   "execution_count": 27,
   "metadata": {},
   "outputs": [
    {
     "data": {
      "text/plain": [
       "{0, 1, 4, 9, 16, 25, 36, 49, 64, 81, 100, 121}"
      ]
     },
     "execution_count": 27,
     "metadata": {},
     "output_type": "execute_result"
    }
   ],
   "source": [
    "#Set comprehenstion\n",
    "\n",
    "{x**2 for x in range(12)} #similar to dictionary comprehension except that there is no key, value pair"
   ]
  },
  {
   "cell_type": "markdown",
   "metadata": {},
   "source": [
    "# Functions"
   ]
  },
  {
   "cell_type": "code",
   "execution_count": 46,
   "metadata": {},
   "outputs": [
    {
     "data": {
      "image/png": "[encoded data removed]",
      "text/plain": [
       "<Figure size 432x288 with 1 Axes>"
      ]
     },
     "metadata": {},
     "output_type": "display_data"
    }
   ],
   "source": [
    "#Functions\n",
    "\n",
    "#Writing a coin flip using random\n",
    "\n",
    "# from random import random\n",
    "# def flip_coin():\n",
    "#     flag= None\n",
    "#     while flag!= 'q':\n",
    "#         flag= input()\n",
    "#         if flag== 'q':\n",
    "#             break\n",
    "#         elif random() > 0.5:\n",
    "#             print('head')\n",
    "#         else:\n",
    "#             print('tail')\n",
    "# flip_coin()\n",
    "\n",
    "from random import random\n",
    "from matplotlib import pyplot as plt\n",
    "\n",
    "N = 100\n",
    "def flip_coin():\n",
    "    if random() > 0.5:\n",
    "        return 'head'\n",
    "    else: \n",
    "        return 'tail'\n",
    "    \n",
    "count_list=[]\n",
    "for i in range(N):\n",
    "    count_list.append(flip_coin())\n",
    "# heads= count_list.count('head')\n",
    "# tail= N-heads\n",
    "\n",
    "# for i in range(heads):\n",
    "#     print('*', end='')\n",
    "# print('\\n')\n",
    "# for i in range(tail):\n",
    "#     print('*',end='')\n",
    "\n",
    "_=plt.hist(count_list,bins=2,rwidth=0.95)\n",
    "plt.show()\n"
   ]
  },
  {
   "cell_type": "code",
   "execution_count": 2,
   "metadata": {},
   "outputs": [
    {
     "data": {
      "text/plain": [
       "False"
      ]
     },
     "execution_count": 2,
     "metadata": {},
     "output_type": "execute_result"
    }
   ],
   "source": [
    "#Else statement is not needed here.\n",
    "\n",
    "# def is_odd(number):\n",
    "#     if number%2==0:\n",
    "#         return False\n",
    "#     else: \n",
    "#         return True\n",
    "\n",
    "def is_odd(number):\n",
    "    if number%2==0:\n",
    "        return False\n",
    "    return True\n",
    "\n",
    "is_odd(21)\n",
    "is_odd(4)"
   ]
  },
  {
   "cell_type": "code",
   "execution_count": 3,
   "metadata": {},
   "outputs": [
    {
     "data": {
      "text/plain": [
       "9"
      ]
     },
     "execution_count": 3,
     "metadata": {},
     "output_type": "execute_result"
    }
   ],
   "source": [
    "#Setting up defalut paramenters\n",
    "\n",
    "def power_of(num,power=2):  #Here it's called parameters (num, power are paramenters)\n",
    "    return num**power\n",
    "\n",
    "power_of(2,3) #Returns 8   ##Here's what we pass is called argument (2,3 are arguemts)\n",
    "power_of(3) #Returns 9 (since default power is 2 )\n",
    "    "
   ]
  },
  {
   "cell_type": "code",
   "execution_count": 12,
   "metadata": {},
   "outputs": [
    {
     "data": {
      "text/plain": [
       "-3"
      ]
     },
     "execution_count": 12,
     "metadata": {},
     "output_type": "execute_result"
    }
   ],
   "source": [
    "def add(a,b):    \n",
    "    return a+b\n",
    "def math(a,b, fn=add): #Note, here the brackets after 'add' is not to be given\n",
    "    return fn(a,b)\n",
    "def subtract(a,b):\n",
    "    return a-b\n",
    "\n",
    "math(2,5,subtract)\n",
    "\n",
    "#Note, the arguments are systematically assigned to parameters; so changing the positions will not give\n",
    "#expected results. All default parameters are written at the end."
   ]
  },
  {
   "cell_type": "code",
   "execution_count": 14,
   "metadata": {},
   "outputs": [
    {
     "data": {
      "text/plain": [
       "8"
      ]
     },
     "execution_count": 14,
     "metadata": {},
     "output_type": "execute_result"
    }
   ],
   "source": [
    "def power_of(num,power=3):\n",
    "    return num**power\n",
    "\n",
    "power_of(power=3,num=2) #Keyword arguments, i.e. providing exact name of the arguments;\n",
    "#Now the order of arguments doesn't matter anymore. Useful in dictionary passing;\n"
   ]
  },
  {
   "cell_type": "markdown",
   "metadata": {},
   "source": [
    "**Scope of a variable:**"
   ]
  },
  {
   "cell_type": "code",
   "execution_count": 11,
   "metadata": {},
   "outputs": [
    {
     "name": "stdout",
     "output_type": "stream",
     "text": [
      "second\n",
      "first\n"
     ]
    },
    {
     "data": {
      "text/plain": [
       "'rakesh sharma'"
      ]
     },
     "execution_count": 11,
     "metadata": {},
     "output_type": "execute_result"
    }
   ],
   "source": [
    "#Scope of variable in funcion.\n",
    "\n",
    "# var= 'nishant'\n",
    "# def fun1():\n",
    "#     ''' returns an error, because, it looks for the variable 'var' inside the function.\n",
    "# hence changes can't be made to the variable which is defined outside of the function. However, we can access \n",
    "# the variable. '''\n",
    "#     var+= 'sinha '\n",
    "#     return var\n",
    "\n",
    "# fun1()\n",
    "\n",
    "######### To change a variable which is not defined locally, we have to use the follwing:\n",
    "\n",
    "var='nishant'\n",
    "def fun1():\n",
    "    global var\n",
    "    var+=' sinha'\n",
    "    return var\n",
    "\n",
    "fun1()\n",
    "\n",
    "#Similarly for a nested function,to use a variable which is not global, we have to use 'nonlocal':\n",
    "\n",
    "def fun2():\n",
    "    var2= 'rakesh'\n",
    "    def fun3():\n",
    "        nonlocal var2\n",
    "        var2 += ' sharma'\n",
    "        print('first')    #Note,this function is not evaluated first, since the call is made at return of fun2\n",
    "        return var2\n",
    "    print('second')\n",
    "    return fun3()\n",
    "fun2()"
   ]
  },
  {
   "cell_type": "markdown",
   "metadata": {},
   "source": [
    "### Docstring"
   ]
  },
  {
   "cell_type": "code",
   "execution_count": 18,
   "metadata": {},
   "outputs": [
    {
     "name": "stdout",
     "output_type": "stream",
     "text": [
      "hello nishant\n",
      "this function returns just a hello, nothing else\n",
      "Return the number of items in a container.\n",
      "random() -> x in the interval [0, 1).\n"
     ]
    }
   ],
   "source": [
    "#Docstring for function\n",
    "\n",
    "def say_hello():\n",
    "    \"\"\"this function returns just a hello, nothing else\"\"\"\n",
    "    return 'hello nishant'\n",
    "\n",
    "print(say_hello())\n",
    "print(say_hello.__doc__) #this is how we access the docstring for the function.\n",
    "\n",
    "# print(print.__doc__)\n",
    "#print(len.__doc__)\n"
   ]
  },
  {
   "cell_type": "code",
   "execution_count": 26,
   "metadata": {},
   "outputs": [
    {
     "name": "stdout",
     "output_type": "stream",
     "text": [
      "Help on method_descriptor:\n",
      "\n",
      "get(...)\n",
      "    D.get(k[,d]) -> D[k] if k in D, else d.  d defaults to None.\n",
      "\n",
      "?\n",
      "chingar\n",
      "woof\n"
     ]
    }
   ],
   "source": [
    "#one simple problem\n",
    "help(dict.get)\n",
    "def speak(animal='dog'):\n",
    "    noises={'dog':'woof','hathi':'chingar','cat':'meow','kaua':'kaw kaw'}\n",
    "    return noises.get(animal,'?')\n",
    "\n",
    "print(speak('bhalu'))\n",
    "print(speak('hathi'))\n",
    "print(speak('dog'))"
   ]
  },
  {
   "cell_type": "markdown",
   "metadata": {},
   "source": [
    "### *args"
   ]
  },
  {
   "cell_type": "code",
   "execution_count": 2,
   "metadata": {},
   "outputs": [
    {
     "name": "stdout",
     "output_type": "stream",
     "text": [
      "28\n"
     ]
    }
   ],
   "source": [
    "###########  *args\n",
    "\n",
    "# *args is a special operator we can pass to function. It gathers all remaining arguments as tuple. \n",
    "# This is just a parameter. So, we can name it anything we want, but it should start with a *.\n",
    "\n",
    "def sum_all_nums(*args):\n",
    "    total= 0\n",
    "   # print(args)\n",
    "    for num in args:\n",
    "        total += num\n",
    "    return total\n",
    "\n",
    "print(sum_all_nums(1,2,3,4,5,6,7))\n",
    "\n"
   ]
  },
  {
   "cell_type": "markdown",
   "metadata": {},
   "source": [
    "### **kwargs"
   ]
  },
  {
   "cell_type": "code",
   "execution_count": 7,
   "metadata": {},
   "outputs": [
    {
     "name": "stdout",
     "output_type": "stream",
     "text": [
      "nishant's favourite color is saffron\n",
      "rajesh's favourite color is blue\n",
      "ratnesh's favourite color is green\n"
     ]
    }
   ],
   "source": [
    "########### **kwargs\n",
    "\n",
    "# **kwargs is a special operator, we can pass to function. It gathers remaining arguments as dictionary.\n",
    "# This is just a paramenter, which can be called by whatever we want\n",
    "def person_color(**kwargs):\n",
    "    for people, color in kwargs.items():\n",
    "        print(f'{people}\\'s favourite color is {color}') \n",
    "\n",
    "person_color(nishant='saffron',rajesh='blue',ratnesh='green')"
   ]
  },
  {
   "cell_type": "code",
   "execution_count": 130,
   "metadata": {},
   "outputs": [
    {
     "name": "stdout",
     "output_type": "stream",
     "text": [
      "tiny book hi "
     ]
    }
   ],
   "source": [
    "def decode(*l):\n",
    "    for i in l:\n",
    "        for j in i:\n",
    "            print(chr(j+96),end='')\n",
    "        print(end=' ')\n",
    "\n",
    "decode([20,9,14,25],[2,15,15,11],[8,9])"
   ]
  },
  {
   "cell_type": "code",
   "execution_count": 1,
   "metadata": {},
   "outputs": [
    {
     "name": "stdout",
     "output_type": "stream",
     "text": [
      "[8, 5, 12, 12, 15]\n",
      "[14, 9, 19, 8, 1, 14, 20]\n",
      "[20, 8, 9, 19]\n",
      "[9, 19]\n",
      "[18, 1, 10, 25, 1]\n",
      "[19, 1, 2, 8, 1]\n",
      "[20, 22]\n"
     ]
    }
   ],
   "source": [
    "my_list=[]\n",
    "def encode(*l):\n",
    "    global my_list\n",
    "    for i in l:\n",
    "        for j in i:\n",
    "            my_list.append(ord(j)-96)\n",
    "        print(my_list)\n",
    "        my_list=[]\n",
    "\n",
    "encode('hello','nishant','this','is','rajya','sabha','tv')\n"
   ]
  },
  {
   "cell_type": "markdown",
   "metadata": {},
   "source": [
    "### Parameter Ordering"
   ]
  },
  {
   "cell_type": "code",
   "execution_count": 7,
   "metadata": {
    "scrolled": true
   },
   "outputs": [
    {
     "name": "stdout",
     "output_type": "stream",
     "text": [
      "[1, 2, (3,), 'nishant', {'subject': 'network theory', 'exam': 'ese'}]\n"
     ]
    }
   ],
   "source": [
    "#Parameter Ordering\n",
    "\n",
    "#1. parameters, 2. *args, 3. default paramenters, 4. **kwargs\n",
    "\n",
    "def display_info(a,b,*args,name='nishant',**kwargs):\n",
    "    return [a, b, args,name,kwargs ]\n",
    "    \n",
    "print(display_info(1,2,3,subject='network theory',exam='ese'))\n"
   ]
  },
  {
   "cell_type": "code",
   "execution_count": 6,
   "metadata": {},
   "outputs": [
    {
     "name": "stdout",
     "output_type": "stream",
     "text": [
      "<class 'int'>\n",
      "<class 'tuple'>\n"
     ]
    }
   ],
   "source": [
    "print(type((3)))\n",
    "print(type((3,)))\n",
    "#Note: by default, to distinguish between tuple and common paranthesis, one comma is placed at the end \n",
    "# of the tuple. eg: here, (3,) is tuple, but (3) is not tuple"
   ]
  },
  {
   "cell_type": "markdown",
   "metadata": {},
   "source": [
    "### Tuple Unpacking"
   ]
  },
  {
   "cell_type": "code",
   "execution_count": 1,
   "metadata": {},
   "outputs": [
    {
     "name": "stdout",
     "output_type": "stream",
     "text": [
      "1 [2, 3, 4, 5]\n"
     ]
    }
   ],
   "source": [
    "#Tuple Unpacking\n",
    "\n",
    "def sum_all_values(*args):\n",
    "    total=0\n",
    "    for num in args:\n",
    "        total+= num\n",
    "    return total\n",
    "\n",
    "nums=[1,2,3,4,5]\n",
    "# sum_all_values(nums) #this will return an error, because the whole list is received as a tuple in args:\n",
    "# ([1,2,3,4,5],)\n",
    "\n",
    "sum_all_values(*nums) #the tuple/list is unpacked and sent to args; one by one in this case:\n",
    "# (1,2,3,4,5)\n",
    "\n",
    "#Also:\n",
    "val,*my_list= nums\n",
    "print(val,my_list)"
   ]
  },
  {
   "cell_type": "markdown",
   "metadata": {},
   "source": [
    "### Dictinary Unpacking"
   ]
  },
  {
   "cell_type": "code",
   "execution_count": 20,
   "metadata": {},
   "outputs": [
    {
     "name": "stdout",
     "output_type": "stream",
     "text": [
      "{'name': 'nishant', 'age': 26}\n"
     ]
    }
   ],
   "source": [
    "#Dictionary Unpacking\n",
    "\n",
    "def simple_fun(**kwargs):\n",
    "    print(kwargs)\n",
    "    \n",
    "my_dict={'name':'nishant','age':26}\n",
    "simple_fun(**my_dict)\n",
    "\n"
   ]
  },
  {
   "cell_type": "code",
   "execution_count": 22,
   "metadata": {},
   "outputs": [
    {
     "name": "stdout",
     "output_type": "stream",
     "text": [
      "7\n",
      "{'cat': 'subo'}\n",
      "4.04\n",
      "{}\n",
      "{'a': 1, 'b': 2, 'c': 3}\n"
     ]
    }
   ],
   "source": [
    "#Another Example\n",
    "def another_fun(a,b,c,**kwargs):\n",
    "    print(a+b*c)\n",
    "    print(kwargs)\n",
    "\n",
    "my_dict2={'a':1,'b':2,'c':3}     \n",
    "\n",
    "another_fun(**my_dict2,cat='subo')  #Note,these are unpacked into separate kwargs,and hence,they should carry\n",
    "# the names 'a', 'b' and 'c'; this can't be changed. i.e., this is similar to:\n",
    "\n",
    "another_fun(a=1.4,b=2.2,c=1.2) #since nothing is left for kwargs to collect, therefore, it's an empty dict.\n",
    "\n",
    "\n",
    "#Also note: \n",
    "print(dict(a=1,b=2,c=3)) #a,b,c becomes string here; this is why in the above example..."
   ]
  },
  {
   "cell_type": "markdown",
   "metadata": {},
   "source": [
    "### Lambda functions"
   ]
  },
  {
   "cell_type": "code",
   "execution_count": 27,
   "metadata": {},
   "outputs": [
    {
     "name": "stdout",
     "output_type": "stream",
     "text": [
      "16 <class 'function'> square\n",
      "25 <class 'function'> <lambda>\n",
      "3 <class 'function'> <lambda>\n"
     ]
    }
   ],
   "source": [
    "#Lambda functions\n",
    "'''lambda operator can have any number of arguments, but it can have only one expression.\n",
    "It cannot contain any statements and it returns a function object which can be assigned to any variable.\n",
    "\n",
    "'''\n",
    "def square(num): return num*num\n",
    "\n",
    "square2= lambda num: num*num #here the statement after : is returned automatically.\n",
    "add= lambda a,b: a+b \n",
    "\n",
    "print(square(4),type(square),square.__name__)\n",
    "print(square2(5),type(square2),square2.__name__)\n",
    "print(add(1,2),type(add),add.__name__)"
   ]
  },
  {
   "cell_type": "markdown",
   "metadata": {},
   "source": [
    "### Map Function"
   ]
  },
  {
   "cell_type": "code",
   "execution_count": 15,
   "metadata": {},
   "outputs": [
    {
     "name": "stdout",
     "output_type": "stream",
     "text": [
      "<map object at 0x7f0a226a3278>\n",
      "3 5 7 \n",
      "\n",
      "[]\n",
      "<map object at 0x7f0a226a3278>\n",
      "[2.4, 36, 16, 35, 54]\n"
     ]
    }
   ],
   "source": [
    "# map function\n",
    "# A standard function that accepts at least two arguments, a function and an 'iterable'\n",
    "# Iterable: something that can be iterated over (list, string, dictionary,set,tuple)\n",
    "\n",
    "var= map(lambda x,y: x+y, [2,3,4],[1,2,3])\n",
    "print(var)\n",
    "for i in var:\n",
    "    print(i,end=' ')\n",
    "\n",
    "# The below doesn't print anything, because var is empty.\n",
    "for i in var:  \n",
    "    print(i)\n",
    "print('\\n')\n",
    "print(var)\n",
    "#Note: map object can only be iterated once. If we run second time, it vanishes. though map object is present.\n",
    "print(list(var)) \n",
    "# we can convert the map object to list, thus saving the result.\n",
    "\n",
    "var2 = list(map(lambda a,b: a*b, [2,3,4,5,6],[1.2,12,4,7,9]))\n",
    "print(var2)\n"
   ]
  },
  {
   "cell_type": "code",
   "execution_count": 20,
   "metadata": {},
   "outputs": [
    {
     "name": "stdout",
     "output_type": "stream",
     "text": [
      "['NISHANT', 'APPLE', 'TER', 'TWINK ZINC']\n"
     ]
    }
   ],
   "source": [
    "# another example of map funciton.\n",
    "\n",
    "names=['nishant','Apple','Ter','twink zinc']\n",
    "#print([name.upper() for name in names])\n",
    "print(list(map(lambda x: x.upper(), names)))  #note: we can put any name in place of 'x'. Even 'names'.\n"
   ]
  },
  {
   "cell_type": "code",
   "execution_count": 26,
   "metadata": {},
   "outputs": [
    {
     "name": "stdout",
     "output_type": "stream",
     "text": [
      "['nishant', 'aryan']\n",
      "['nishant', 'aryan']\n"
     ]
    }
   ],
   "source": [
    "# anoter example of map function.\n",
    "\n",
    "names=[\n",
    "    {'first':'nishant','last':'sinha'},\n",
    "    {'first':'aryan','last':'kiran'}\n",
    "]\n",
    "first_names= list(map(lambda x: x['first'], names))\n",
    "print(first_names)\n",
    "\n",
    "# Note, in place of lambda function we can also use regular function. (but it's better to use lambda fn.) eg:\n",
    "\n",
    "def name_func(x):\n",
    "    return x['first']\n",
    "first_names2= list(map(name_func,names)) #note, how bracket is not used here, things happen behind the scene.\n",
    "print(first_names2)"
   ]
  },
  {
   "cell_type": "markdown",
   "metadata": {},
   "source": [
    "### Filter Function"
   ]
  },
  {
   "cell_type": "code",
   "execution_count": 31,
   "metadata": {},
   "outputs": [
    {
     "name": "stdout",
     "output_type": "stream",
     "text": [
      "<filter object at 0x7f0a226bc4e0>\n",
      "akshay\n",
      "alok\n",
      "[]\n",
      "['nishant', 'nihar']\n"
     ]
    }
   ],
   "source": [
    "# Filter function\n",
    "'''filter function works similar to the map function. There is a lambda for each value in the iterable.\n",
    "Returns filter object, which can be converted into other iterables. The object contains only the values\n",
    "that returns true to lambda.'''\n",
    "\n",
    "names=['nishant','harita','vakash','akshay','alok','nihar']\n",
    "var1= filter(lambda x: x[0]=='a', names)\n",
    "print(var1) #generates filter object, just like map object.\n",
    "\n",
    "for i in var1:\n",
    "    print(i) \n",
    "print(list(var1)) # the filter object can't be iterated over more than once, just like in map \n",
    "# or better we convert to list as done in case of map\n",
    "\n",
    "var2=list(filter(lambda x: x[0]=='n',names))\n",
    "print(var2)"
   ]
  },
  {
   "cell_type": "code",
   "execution_count": 33,
   "metadata": {},
   "outputs": [
    {
     "name": "stdout",
     "output_type": "stream",
     "text": [
      "even numbers are: [2, 4, 6]\n"
     ]
    }
   ],
   "source": [
    "# Another filter example\n",
    "num=[1,2,3,4,5,6]\n",
    "even_print=list(filter(lambda x: x%2==0, num))\n",
    "print(f'even numbers are: {even_print}')"
   ]
  },
  {
   "cell_type": "code",
   "execution_count": 42,
   "metadata": {},
   "outputs": [
    {
     "name": "stdout",
     "output_type": "stream",
     "text": [
      "[{'username': 'shankar', 'tweets': []}, {'username': 'prakash', 'tweets': []}]\n",
      "[{'username': 'shankar', 'tweets': []}, {'username': 'prakash', 'tweets': []}]\n",
      "[{'username': 'nishant', 'tweets': ['hello world', 'long way to go']}, {'username': 'ramyak', 'tweets': ['start and dont look back']}]\n"
     ]
    }
   ],
   "source": [
    "# Another filter example\n",
    "\n",
    "users= [\n",
    "    {'username':'nishant','tweets':['hello world','long way to go']},\n",
    "    {'username':'shankar','tweets':[]},\n",
    "    {'username':'prakash','tweets':[]},\n",
    "    {'username':'ramyak','tweets':['start and dont look back']},\n",
    "]\n",
    "inactive_users= list(filter( lambda u: len(u['tweets'])==0, users))\n",
    "print(inactive_users)\n",
    "\n",
    "# Note, empty list/string/dictionary etc are by default false. So not need to check the length; \n",
    "#since the filter checks for false or true, we can simply do as:\n",
    "\n",
    "inactive_users= list(filter( lambda u: not u['tweets'], users))\n",
    "print(inactive_users) \n",
    "\n",
    "#for getting active users:\n",
    "active_users= list(filter(lambda u: u['tweets'], users))\n",
    "print(active_users)"
   ]
  },
  {
   "cell_type": "code",
   "execution_count": 50,
   "metadata": {},
   "outputs": [
    {
     "name": "stdout",
     "output_type": "stream",
     "text": [
      "['Hello dear, nishant', 'Hello dear, aradhya']\n",
      "['Hello dear, nishant', 'Hello dear, aradhya']\n"
     ]
    }
   ],
   "source": [
    "# Combining map and filter:\n",
    "\n",
    "names=['nishant','aradhya','shree','pintu']\n",
    "# I want to return names which are greater than 5 in length\n",
    "return_names_len_greater_than_5= list(map(lambda x: f'Hello dear, {x}',\n",
    "                                          filter(lambda y: len(y)>5,names)))\n",
    "\n",
    "# filter runs first and creates a list with characters length greater than 5. then map runs taking this list.\n",
    "print(return_names_len_greater_than_5)\n",
    "\n",
    "#with list comprehension,:\n",
    "\n",
    "return_names_len_greater_than_5_2= [f'Hello dear, {name}' for name in names if len(name)> 5 ]\n",
    "print(return_names_len_greater_than_5_2)\n",
    "\n",
    "# Thus, use list comprehenstion whereever possible."
   ]
  },
  {
   "cell_type": "code",
   "execution_count": 12,
   "metadata": {},
   "outputs": [
    {
     "name": "stdout",
     "output_type": "stream",
     "text": [
      "True\n",
      "False\n",
      "True\n",
      "False\n"
     ]
    },
    {
     "data": {
      "text/plain": [
       "<generator object <genexpr> at 0x7fa8e0280728>"
      ]
     },
     "execution_count": 12,
     "metadata": {},
     "output_type": "execute_result"
    }
   ],
   "source": [
    "# any and all\n",
    "'''all returns True if all the elements of the iterable are truthy (or the iterable is empty)'''\n",
    "\n",
    "names=['nishant','nisha','nikita','namrata','nandan']\n",
    "print(all( [name[0]=='n' for name in names ]))\n",
    "\n",
    "names.append('priya')\n",
    "print(all([name[0]=='n' for name in names])) \n",
    "\n",
    "'''any returns True if any of the elements of the iterable is truthy (empty iterable are false)'''\n",
    "print(any([name[0]=='n' for name in names]))\n",
    "\n",
    "# Note: use a generator expression if all we're doing is iterating once.\n",
    "#If we want to store and use the generated results, then better to use a list comprehension.\n",
    "\n",
    "print(all(names[0]=='n' for name in names))\n",
    "(names[0]=='n' for name in names)  #better to use a generator here,as we don't need to store the result in list\n"
   ]
  },
  {
   "cell_type": "markdown",
   "metadata": {},
   "source": [
    "**Generator vs list comprehension**"
   ]
  },
  {
   "cell_type": "code",
   "execution_count": 18,
   "metadata": {},
   "outputs": [
    {
     "name": "stdout",
     "output_type": "stream",
     "text": [
      "list_comp: 9024 bytes, generator: 88 bytes\n"
     ]
    }
   ],
   "source": [
    "# generator vs list comprehension (memory usage)\n",
    "'''Iterating over the generator expression or the list comprehension will do the same thing.\n",
    "However, the list comprehension will create the entire list in memory first \n",
    "while the generator expression will create the items on the fly, \n",
    "so you are able to use it for very large (and also infinite!) sequences.'''\n",
    "\n",
    "import sys\n",
    "\n",
    "list_comp= sys.getsizeof([num**2 for num in range(1,1000)])\n",
    "generator= sys.getsizeof((num**2 for num in range(1,1000)))\n",
    "print(f'list_comp: {list_comp} bytes, generator: {generator} bytes')"
   ]
  },
  {
   "cell_type": "code",
   "execution_count": 33,
   "metadata": {},
   "outputs": [
    {
     "name": "stdout",
     "output_type": "stream",
     "text": [
      "Help on built-in function sorted in module builtins:\n",
      "\n",
      "sorted(iterable, /, *, key=None, reverse=False)\n",
      "    Return a new list containing all items from the iterable in ascending order.\n",
      "    \n",
      "    A custom key function can be supplied to customize the sort order, and the\n",
      "    reverse flag can be set to request the result in descending order.\n",
      "\n",
      "[1, 2, 6, 8]\n",
      "[6, 1, 8, 2]\n",
      "None\n",
      "[1, 2, 6, 8]\n",
      "[8, 6, 2, 1]\n",
      "[3, 5, 12, 22]\n"
     ]
    }
   ],
   "source": [
    "# sorted (note: this is a built in function. 'sort' was list method)\n",
    "help(sorted)\n",
    "\n",
    "numbers=[6,1,8,2]\n",
    "print(sorted(numbers))  # it returns a copy, DOESN'T change the original in place\n",
    "print(numbers)\n",
    "\n",
    "# however, 'sort' sorts in place, thus changing the list:\n",
    "print(numbers.sort()) #doesn't return anything\n",
    "print(numbers)\n",
    "\n",
    "# we can change the direction of sorting, by passing reverse=True:\n",
    "print(sorted(numbers,reverse=True))  #decending order\n",
    "\n",
    "#sorted also accepts a tuple, but it returns a list.\n",
    "another_number=(5,3,22,12)\n",
    "print(sorted(another_number))"
   ]
  },
  {
   "cell_type": "code",
   "execution_count": 36,
   "metadata": {},
   "outputs": [
    {
     "data": {
      "text/plain": [
       "[{'username': 'nishant', 'tweets': ['hello world', 'long way to go']},\n",
       " {'username': 'ramyak', 'tweets': ['start and dont look back']},\n",
       " {'username': 'shankar', 'tweets': []},\n",
       " {'username': 'prakash', 'tweets': []}]"
      ]
     },
     "execution_count": 36,
     "metadata": {},
     "output_type": "execute_result"
    }
   ],
   "source": [
    "# Another example sorted:\n",
    "\n",
    "users= [\n",
    "    {'username':'nishant','tweets':['hello world','long way to go']},\n",
    "    {'username':'shankar','tweets':[]},\n",
    "    {'username':'prakash','tweets':[]},\n",
    "    {'username':'ramyak','tweets':['start and dont look back']},\n",
    "]\n",
    "\n",
    "sorted(users,key= lambda u: u['username']) #sorted by ascending order of 'username'\n",
    "\n",
    "sorted(users,key= lambda u: len(u['tweets']),reverse=True) #sorted by the length of tweets, in descending order"
   ]
  },
  {
   "cell_type": "code",
   "execution_count": 42,
   "metadata": {},
   "outputs": [
    {
     "name": "stdout",
     "output_type": "stream",
     "text": [
      "3\n",
      "c\n",
      "46 55 3 w\n",
      "1\n",
      "a\n",
      "22 5 1  \n",
      "5\n"
     ]
    }
   ],
   "source": [
    "# max and min functions\n",
    "\n",
    "'''max returns the largest item in the iterable, or the largest of two or more arguments; min is opposite'''\n",
    "print(max(1,2,3))\n",
    "print(max('a','b','c'))\n",
    "print(max([44,22,46,23]),max((12,34,5,55)),max({1:'a',2:'c',3:'b'}),max('hello world'))\n",
    "\n",
    "print(min(1,2,3))\n",
    "print(min('a','b','c'))\n",
    "print(min([44,22,46,23]),min((12,34,5,55)),min({1:'a',2:'c',3:'b'}),min('hello world')) # blank space printed\n",
    "\n"
   ]
  },
  {
   "cell_type": "code",
   "execution_count": 50,
   "metadata": {},
   "outputs": [
    {
     "name": "stdout",
     "output_type": "stream",
     "text": [
      "Help on built-in function max in module builtins:\n",
      "\n",
      "max(...)\n",
      "    max(iterable, *[, default=obj, key=func]) -> value\n",
      "    max(arg1, arg2, *args, *[, key=func]) -> value\n",
      "    \n",
      "    With a single iterable argument, return its biggest item. The\n",
      "    default keyword-only argument specifies an object to return if\n",
      "    the provided iterable is empty.\n",
      "    With two or more arguments, return the largest argument.\n",
      "\n",
      "5\n",
      "nishant\n"
     ]
    }
   ],
   "source": [
    "# Another example, min and max\n",
    "help(max)\n",
    "names=['nishant','nisha','nikita','namrata','nandan']\n",
    "print(min((len(name) for name in names))) #this returns the length of the smallest name\n",
    "\n",
    "print(max(names,key= lambda n: len(n)))  #note; only the first value is returned\n"
   ]
  },
  {
   "cell_type": "code",
   "execution_count": 55,
   "metadata": {},
   "outputs": [
    {
     "name": "stdout",
     "output_type": "stream",
     "text": [
      "{'title': 'yellow', 'playcount': 12}\n",
      "yellow\n"
     ]
    }
   ],
   "source": [
    "# Another example min and max\n",
    "\n",
    "songs= [\n",
    "    {'title':'umbrella','playcount':23},\n",
    "    {'title':'phir se ud chala','playcount':15},\n",
    "    {'title':'if today was your last day','playcount':84},\n",
    "    {'title':'yellow','playcount':12},\n",
    "    {'title':'fireflies','playcount':55}\n",
    "]\n",
    "\n",
    "print(min(songs,key= lambda s: s['playcount']))\n",
    "print(min(songs,key= lambda s: s['playcount'])['title'])"
   ]
  },
  {
   "cell_type": "code",
   "execution_count": 78,
   "metadata": {},
   "outputs": [
    {
     "name": "stdout",
     "output_type": "stream",
     "text": [
      "<list_reverseiterator object at 0x7fa8e0285e80>\n",
      "[4, 3, 2, 1]\n",
      "olleh\n",
      "11 10 9 8 7 6 5 4 3 2 1 0 \n",
      "11 10 9 8 7 6 5 4 3 2 1 0 "
     ]
    }
   ],
   "source": [
    "# Reversed built in function\n",
    "### Returns a reverse iterator; while reverse only works on list, reversed takes an iterable\n",
    "print(reversed([1,2,3,4]))   #iterator is returned\n",
    "print(list(reversed([1,2,3,4])))\n",
    "print(''.join(list(reversed('hello')))) # of here, we can simply do: print('hello'[::-1])\n",
    "\n",
    "for i in reversed(range(0,12)):\n",
    "    print(i,end=' ')\n",
    "# for the above we can also do:\n",
    "print()\n",
    "\n",
    "for i in range(11,-1,-1):\n",
    "    print(i, end=' ')"
   ]
  },
  {
   "cell_type": "code",
   "execution_count": 88,
   "metadata": {},
   "outputs": [
    {
     "name": "stdout",
     "output_type": "stream",
     "text": [
      "5\n",
      "5\n",
      "2\n",
      "3\n"
     ]
    }
   ],
   "source": [
    "# len function\n",
    "\n",
    "print(len('hello'))\n",
    "#behind the scene, len calls the __len__() method:\n",
    "print('hello'.__len__())\n",
    "\n",
    "# to be seen later:\n",
    "\n",
    "class SpecialList:\n",
    "    def __init__(self, data):\n",
    "        self.__data = data\n",
    "    \n",
    "    def __len__(self):\n",
    "        return self.__data.__len__() //2       # will always return half the length of data in the iterable\n",
    "  #__data refers to the data in the iterable (here, 'helloow' and [1,40,20,100])\n",
    "\n",
    "l1= SpecialList([1,40,20,100]) # just like we can create str(), dict() ect...we have created one SpecialList\n",
    "print(len(l1))\n",
    "l2= SpecialList('helloow')\n",
    "print(len(l2))"
   ]
  },
  {
   "cell_type": "code",
   "execution_count": 6,
   "metadata": {},
   "outputs": [
    {
     "name": "stdout",
     "output_type": "stream",
     "text": [
      "4.2\n",
      "18\n",
      "95.2\n"
     ]
    }
   ],
   "source": [
    "# abs, sum and round functions\n",
    "\n",
    "print(abs(-4.2))\n",
    "print(sum([1,2,3],12)) #starts summing from 12 and then add the iterable.\n",
    "#note: print(sum(['hi','there'])) would return an error. we can use join to join string\n",
    "\n",
    "print(round(95.23,1))\n",
    "\n",
    "# Note: there is 'fsum' and 'fabs' in the 'math' funciton as well."
   ]
  },
  {
   "cell_type": "code",
   "execution_count": 22,
   "metadata": {
    "scrolled": false
   },
   "outputs": [
    {
     "name": "stdout",
     "output_type": "stream",
     "text": [
      "<zip object at 0x7f260c6cbd48>\n",
      "[(1, 4), (2, 5), (3, 6)]\n",
      "{}\n",
      "[(4, 1), (5, 2), (6, 3)]\n",
      "[('n', 110), ('i', 105), ('s', 115), ('h', 104), ('a', 97), ('t', 116)]\n",
      "{'n': 110, 'i': 105, 's': 115, 'h': 104, 'a': 97, 't': 116}\n",
      "[('hello', 12, 1), ('nishant', 22, 2), ('!', 3, 3)]\n"
     ]
    }
   ],
   "source": [
    "# zip builtin funciton:\n",
    "# It makes an iterator, that aggreagates elements from each of the iterables.\n",
    "# It returns an iterator of tuples, where the i-th tuple containing the i-th element from each of the \n",
    "# argument sequences or iterable.\n",
    "# The iterator stops when the shortest input iterable is exhausted.\n",
    "\n",
    "first_zip= zip([1,2,3],[4,5,6])\n",
    "print(first_zip) # return zip object\n",
    "print(list(first_zip))\n",
    "print(dict(first_zip)) # just like the map and filter, it vanishes as soon as it is used once.\n",
    "\n",
    "# note, order matters:\n",
    "first_zip= list(zip([4,5,6],[1,2,3]))\n",
    "print(first_zip)\n",
    "\n",
    "\n",
    "second_zip= list(zip(['n','i','s','h','a','t'],[ord('n'),ord('i'),ord('s'),ord('h'),ord('a'),ord('t'),\n",
    "                                                ord('x')]))\n",
    "# note that the same key can't appear in dictionary for more than one element and also, any extra value is not\n",
    "#printed\n",
    "\n",
    "print(second_zip) #returns list of tuple  \n",
    "print(dict(second_zip)) \n",
    "\n",
    "# we can have more than two things to zip together\n",
    "\n",
    "third_zip= list(zip(['hello','nishant','!'],[12,22,3,4],[1,2,3]))\n",
    "print(third_zip)\n",
    "\n"
   ]
  },
  {
   "cell_type": "code",
   "execution_count": 97,
   "metadata": {},
   "outputs": [
    {
     "name": "stdout",
     "output_type": "stream",
     "text": [
      "[(0, 2, 4, 6), (1, 3, 5, 7)]\n"
     ]
    }
   ],
   "source": [
    "# Another example:\n",
    "\n",
    "my_list=[(0,1),(2,3),(4,5),(6,7)]\n",
    "\n",
    "# we can unpack the list as:\n",
    "print(list(zip(*my_list))) #   here, first element of all the tuples is zipped with the second elements.\n",
    "\n",
    "# this is commonly used when working with more complex data structures."
   ]
  },
  {
   "cell_type": "code",
   "execution_count": 77,
   "metadata": {},
   "outputs": [
    {
     "name": "stdout",
     "output_type": "stream",
     "text": [
      "nsiisnhhaa\n",
      "nisha\n",
      "sinha\n"
     ]
    }
   ],
   "source": [
    "str1= 'nishant'\n",
    "str2= 'sinha'\n",
    "\n",
    "x=(''.join(''.join(i) for i in zip(str1,str2))) #the inner join, joins the tuple and the outer join,\n",
    "                                                    #joins the list\n",
    "\n",
    "print(x)\n",
    "# to deinterleave, \n",
    "\n",
    "print(x[::2])\n",
    "print(x[1::2])\n"
   ]
  },
  {
   "cell_type": "code",
   "execution_count": 63,
   "metadata": {},
   "outputs": [
    {
     "data": {
      "text/plain": [
       "'nsiisnhhaan#t#'"
      ]
     },
     "execution_count": 63,
     "metadata": {},
     "output_type": "execute_result"
    }
   ],
   "source": [
    "from itertools import zip_longest\n",
    "\n",
    "str1= 'nishant'\n",
    "str2= 'sinha'\n",
    "\n",
    "''.join(''.join(i) for i in zip_longest(str1,str2,fillvalue='#')) #to use the largest value for zip"
   ]
  },
  {
   "cell_type": "code",
   "execution_count": 95,
   "metadata": {},
   "outputs": [
    {
     "name": "stdout",
     "output_type": "stream",
     "text": [
      "['help', 'hepl', 'hlep', 'hlpe', 'hpel', 'hple', 'ehlp', 'ehpl', 'elhp', 'elph', 'ephl', 'eplh', 'lhep', 'lhpe', 'lehp', 'leph', 'lphe', 'lpeh', 'phel', 'phle', 'pehl', 'pelh', 'plhe', 'pleh']\n"
     ]
    }
   ],
   "source": [
    "# # Program to find permutation of all the letters in string\n",
    "\n",
    "from itertools import permutations\n",
    "perms = [''.join(p) for p in permutations('help')]\n",
    "print(perms)"
   ]
  },
  {
   "cell_type": "markdown",
   "metadata": {},
   "source": [
    "# Debugging"
   ]
  },
  {
   "cell_type": "code",
   "execution_count": 7,
   "metadata": {},
   "outputs": [],
   "source": [
    "# Debugging starts here\n",
    "\n",
    "# SyntaxError: eg: def first:      when python encounters incorrect syntax.\n",
    "# NameError: eg: test      when variable is not defined (not been assigned yet).\n",
    "# TypeError: eg: len(5) or int(['10'])        when there is a mismatch of types\n",
    "# IndexError: eg: l=['h']; l[2]     when we try to access an element in an iterable with an invalid index\n",
    "# ValueError: eg: int('nis')     when a builtin operation or function receives an argument with right type\n",
    "                                # but an inappropriate value\n",
    "# KeyError: eg: d={}; d['nis']    occurs when a dictionary doesn't have a specific key\n",
    "# AttributeError: eg: 'nis'.fun   occurs when a variable doesn't have an attribute.\n",
    "# ZeroDivisionError: eg: 1/0      divide by zero error \n",
    "\n",
    "# https://docs.python.org/3/library/exceptions.html "
   ]
  },
  {
   "cell_type": "code",
   "execution_count": 13,
   "metadata": {},
   "outputs": [
    {
     "ename": "TypeError",
     "evalue": "entered text must be a \"string\"",
     "output_type": "error",
     "traceback": [
      "\u001b[0;31m---------------------------------------------------------------------------\u001b[0m",
      "\u001b[0;31mTypeError\u001b[0m                                 Traceback (most recent call last)",
      "\u001b[0;32m<ipython-input-13-6a9c954d9ab9>\u001b[0m in \u001b[0;36m<module>\u001b[0;34m()\u001b[0m\n\u001b[1;32m     10\u001b[0m     \u001b[0mprint\u001b[0m\u001b[0;34m(\u001b[0m\u001b[0;34mf'{text} in {color}'\u001b[0m\u001b[0;34m)\u001b[0m\u001b[0;34m\u001b[0m\u001b[0m\n\u001b[1;32m     11\u001b[0m \u001b[0;31m#colorize('nis','pink')     #causes value error\u001b[0m\u001b[0;34m\u001b[0m\u001b[0;34m\u001b[0m\u001b[0m\n\u001b[0;32m---> 12\u001b[0;31m \u001b[0mcolorize\u001b[0m\u001b[0;34m(\u001b[0m\u001b[0;36m12\u001b[0m\u001b[0;34m,\u001b[0m\u001b[0;34m'blue'\u001b[0m\u001b[0;34m)\u001b[0m         \u001b[0;31m#causes type error\u001b[0m\u001b[0;34m\u001b[0m\u001b[0m\n\u001b[0m",
      "\u001b[0;32m<ipython-input-13-6a9c954d9ab9>\u001b[0m in \u001b[0;36mcolorize\u001b[0;34m(text, color)\u001b[0m\n\u001b[1;32m      5\u001b[0m     \u001b[0mcolors\u001b[0m\u001b[0;34m=\u001b[0m\u001b[0;34m(\u001b[0m\u001b[0;34m'red'\u001b[0m\u001b[0;34m,\u001b[0m\u001b[0;34m'blue'\u001b[0m\u001b[0;34m,\u001b[0m\u001b[0;34m'green'\u001b[0m\u001b[0;34m,\u001b[0m\u001b[0;34m'cyan'\u001b[0m\u001b[0;34m)\u001b[0m\u001b[0;34m\u001b[0m\u001b[0m\n\u001b[1;32m      6\u001b[0m     \u001b[0;32mif\u001b[0m \u001b[0mtype\u001b[0m\u001b[0;34m(\u001b[0m\u001b[0mtext\u001b[0m\u001b[0;34m)\u001b[0m \u001b[0;32mis\u001b[0m \u001b[0;32mnot\u001b[0m \u001b[0mstr\u001b[0m\u001b[0;34m:\u001b[0m\u001b[0;34m\u001b[0m\u001b[0m\n\u001b[0;32m----> 7\u001b[0;31m         \u001b[0;32mraise\u001b[0m \u001b[0mTypeError\u001b[0m\u001b[0;34m(\u001b[0m\u001b[0;34m'entered text must be a \"string\"'\u001b[0m\u001b[0;34m)\u001b[0m\u001b[0;34m\u001b[0m\u001b[0m\n\u001b[0m\u001b[1;32m      8\u001b[0m     \u001b[0;32mif\u001b[0m \u001b[0mcolor\u001b[0m \u001b[0;32mnot\u001b[0m \u001b[0;32min\u001b[0m \u001b[0mcolors\u001b[0m\u001b[0;34m:\u001b[0m\u001b[0;34m\u001b[0m\u001b[0m\n\u001b[1;32m      9\u001b[0m         \u001b[0;32mraise\u001b[0m \u001b[0mValueError\u001b[0m\u001b[0;34m(\u001b[0m\u001b[0;34mf'{color} is an invalid color'\u001b[0m\u001b[0;34m)\u001b[0m\u001b[0;34m\u001b[0m\u001b[0m\n",
      "\u001b[0;31mTypeError\u001b[0m: entered text must be a \"string\""
     ]
    }
   ],
   "source": [
    "# Raising exception.\n",
    "\n",
    "#raise ValueError('invalid everything')\n",
    "def colorize(text,color):\n",
    "    colors=('red','blue','green','cyan')\n",
    "    if type(text) is not str:\n",
    "        raise TypeError('entered text must be a \"string\"')\n",
    "    if color not in colors:\n",
    "        raise ValueError(f'{color} is an invalid color')\n",
    "    print(f'{text} in {color}')\n",
    "#colorize('nis','pink')     #causes value error\n",
    "#colorize(12,'blue')         #causes type error"
   ]
  },
  {
   "cell_type": "markdown",
   "metadata": {},
   "source": [
    "# Errors in Python"
   ]
  },
  {
   "cell_type": "code",
   "execution_count": 16,
   "metadata": {},
   "outputs": [
    {
     "name": "stdout",
     "output_type": "stream",
     "text": [
      "some problem occured\n",
      "statement after the try\n",
      "the value is never declared before\n",
      "statement post try\n"
     ]
    }
   ],
   "source": [
    "# Handling Error\n",
    "\n",
    "try:\n",
    "    nishant\n",
    "except:\n",
    "    print('some problem occured')\n",
    "print('statement after the try')\n",
    "\n",
    "# the above doesn't say, if there is a name error or something else. it's better to use like:\n",
    "\n",
    "try:\n",
    "    nishant\n",
    "except NameError:\n",
    "    print('the variable is never declared before')\n",
    "print('statement post try')\n"
   ]
  },
  {
   "cell_type": "code",
   "execution_count": 24,
   "metadata": {},
   "outputs": [
    {
     "name": "stdout",
     "output_type": "stream",
     "text": [
      "nishant\n",
      "not there\n"
     ]
    }
   ],
   "source": [
    "# Another example try and except (making own version of 'get' method)\n",
    "\n",
    "# d={'name':'nishant'}\n",
    "# d.get('priya') returns None\n",
    "\n",
    "def my_get(d,key):\n",
    "    try:\n",
    "        return d[key]\n",
    "    except KeyError:\n",
    "        return 'not there'\n",
    "d={'name':'nishant'}\n",
    "\n",
    "print(my_get(d,'name'))\n",
    "print(my_get(d,'title'))"
   ]
  },
  {
   "cell_type": "code",
   "execution_count": 28,
   "metadata": {},
   "outputs": [
    {
     "name": "stdout",
     "output_type": "stream",
     "text": [
      "enter a number a\n",
      "this is not a number!\n",
      "i run, no matter what (even when there is a break statement)\n"
     ]
    }
   ],
   "source": [
    "# try, except, else and finally\n",
    "\n",
    "try:\n",
    "    num= int(input('enter a number '))\n",
    "except ValueError:\n",
    "    print('this is not a number!')\n",
    "else:\n",
    "    print('i run only if except does not')\n",
    "finally:\n",
    "    print('i run, no matter what (even when there is a break statement)')"
   ]
  },
  {
   "cell_type": "code",
   "execution_count": 33,
   "metadata": {},
   "outputs": [
    {
     "name": "stdout",
     "output_type": "stream",
     "text": [
      "0.5\n",
      "None\n",
      "are you trying to divide by zero\n",
      "division by zero\n",
      "None\n",
      "please enter valide value\n",
      "unsupported operand type(s) for /: 'int' and 'str'\n",
      "None\n"
     ]
    }
   ],
   "source": [
    "# another try except\n",
    "\n",
    "def divide(a,b):\n",
    "    try:\n",
    "        result= a/b\n",
    "    except ZeroDivisionError as err:    # as err will print the exact error\n",
    "        print('are you trying to divide by zero')\n",
    "        print(err)\n",
    "    except TypeError as error:\n",
    "        print('please enter valide value')\n",
    "        print(error)\n",
    "    else:\n",
    "        print(result)\n",
    "print(divide(1,2))\n",
    "print(divide(2,0))\n",
    "print(divide(3,'a'))\n",
    "\n"
   ]
  },
  {
   "cell_type": "code",
   "execution_count": 39,
   "metadata": {},
   "outputs": [
    {
     "name": "stdout",
     "output_type": "stream",
     "text": [
      "0.5\n",
      "None\n",
      "something went wrong here\n",
      "division by zero\n",
      "None\n",
      "something went wrong here\n",
      "unsupported operand type(s) for /: 'int' and 'str'\n",
      "None\n"
     ]
    }
   ],
   "source": [
    "# note; we can also catch more than one error in a tuple;\n",
    "\n",
    "def divide(a,b):\n",
    "    try:\n",
    "        result= a/b\n",
    "    except (ZeroDivisionError,TypeError) as err:    # as err will print the exact error\n",
    "        print('something went wrong here')\n",
    "        print(err)\n",
    "    else:\n",
    "        print(result)\n",
    "print(divide(1,2))\n",
    "print(divide(2,0))\n",
    "print(divide(3,'a'))"
   ]
  },
  {
   "cell_type": "code",
   "execution_count": 58,
   "metadata": {},
   "outputs": [
    {
     "name": "stdout",
     "output_type": "stream",
     "text": [
      "--Return--\n",
      "> <ipython-input-58-59fddaed6ac8>(6)<module>()->None\n",
      "-> import pdb; pdb.set_trace()\n",
      "(Pdb) n\n",
      "> /home/nishant/anaconda3/lib/python3.6/site-packages/IPython/core/interactiveshell.py(2966)run_code()\n",
      "-> sys.excepthook = old_excepthook\n",
      "(Pdb) l\n",
      "2961 \t                self.hooks.pre_run_code_hook()\n",
      "2962 \t                #rprint('Running code', repr(code_obj)) # dbg\n",
      "2963 \t                exec(code_obj, self.user_global_ns, self.user_ns)\n",
      "2964 \t            finally:\n",
      "2965 \t                # Reset our crash handler in place\n",
      "2966 ->\t                sys.excepthook = old_excepthook\n",
      "2967 \t        except SystemExit as e:\n",
      "2968 \t            if result is not None:\n",
      "2969 \t                result.error_in_exec = e\n",
      "2970 \t            self.showtraceback(exception_only=True)\n",
      "2971 \t            warn(\"To exit: use 'exit', 'quit', or Ctrl-D.\", stacklevel=1)\n",
      "(Pdb) c\n",
      "FirstSecondThird\n"
     ]
    }
   ],
   "source": [
    "# debugging using pdb\n",
    "# some pdb commands: l: show where we are now, n: next line, c: continue to the end, p: prints the value,? help\n",
    "\n",
    "first='First'\n",
    "second='Second'\n",
    "import pdb; pdb.set_trace()\n",
    "result=first+second\n",
    "third='Third'\n",
    "result+= third\n",
    "print(result)\n",
    "\n",
    "#this works good in terminal, but here, it enters the pdb module "
   ]
  },
  {
   "cell_type": "code",
   "execution_count": 57,
   "metadata": {},
   "outputs": [],
   "source": [
    "# %load first.py\n",
    "### running the above will load the script file here\n",
    "\n",
    "# !ls\n",
    "# !subl subtract.py\n",
    "### runs the shell command here"
   ]
  },
  {
   "cell_type": "code",
   "execution_count": 2,
   "metadata": {},
   "outputs": [
    {
     "name": "stdout",
     "output_type": "stream",
     "text": [
      "3\n",
      "32\n"
     ]
    },
    {
     "data": {
      "text/plain": [
       "'this returns the absolute value of subtraction'"
      ]
     },
     "execution_count": 2,
     "metadata": {},
     "output_type": "execute_result"
    }
   ],
   "source": [
    "from addition import add_2_numbers  # addition.py and subtract.py are files created in the same folder.\n",
    "from subtract import abs_sub\n",
    "\n",
    "print(add_2_numbers(2,1))\n",
    "print(abs_sub(23,55))\n",
    "abs_sub.__doc__"
   ]
  },
  {
   "cell_type": "code",
   "execution_count": 24,
   "metadata": {},
   "outputs": [
    {
     "name": "stdout",
     "output_type": "stream",
     "text": [
      "\u001b[5m\u001b[46m\u001b[31mhello there\u001b[0m\n"
     ]
    }
   ],
   "source": [
    "# To install a package from pypi, use pip\n",
    "#https://pypi.org/\n",
    "\n",
    "# !python -m pip install termcolor\n",
    "\n",
    "from termcolor import colored\n",
    "\n",
    "text= colored('hello there',color='red',on_color='on_cyan',attrs=['blink']) #it should blink\n",
    "print(text)"
   ]
  },
  {
   "cell_type": "code",
   "execution_count": 55,
   "metadata": {},
   "outputs": [
    {
     "name": "stdout",
     "output_type": "stream",
     "text": [
      "what string to print? blue\n",
      "which color to print in? red\n",
      "\u001b[43m\u001b[31m _     _            \n",
      "| |__ | |_   _  ___ \n",
      "| '_ \\| | | | |/ _ \\\n",
      "| |_) | | |_| |  __/\n",
      "|_.__/|_|\\__,_|\\___|\n",
      "                    \n",
      "\u001b[0m\n"
     ]
    }
   ],
   "source": [
    "from pyfiglet import figlet_format\n",
    "from termcolor import colored\n",
    "\n",
    "def text_to_print(string, col):  \n",
    "    \n",
    "    print(colored(figlet_format(string),color=col,on_color='on_yellow'))\n",
    "\n",
    "string= input('what string to print? ')\n",
    "col= input('which color to print in? ')\n",
    "try:\n",
    "    text_to_print(string, col)\n",
    "except:\n",
    "    print('this color is not available; using green instead')\n",
    "    text_to_print(string,col='green')\n",
    "    \n",
    "    \n",
    "### or another easier way:\n",
    "\n",
    "# from pyfiglet import figlet_format\n",
    "# from termcolor import colored\n",
    "\n",
    "# def text_to_print(string, col):  \n",
    "    \n",
    "#     print(colored(figlet_format(string),color=col,on_color='on_yellow'))\n",
    "\n",
    "# string= input('what string to print? ')\n",
    "# col= input('which color to print in? ')\n",
    "# if col not in ('red', 'green', 'yellow', 'blue', 'magenta', 'cyan', 'white'):\n",
    "#     col='green'\n",
    "# text_to_print(string, col)\n",
    "\n"
   ]
  },
  {
   "cell_type": "code",
   "execution_count": 60,
   "metadata": {},
   "outputs": [],
   "source": [
    "# autopep 8 for the entire file (running here would require '!' because it is to be run in terminal)\n",
    "\n",
    "# !autopep8 --in-place python_boot.ipynb\n",
    "# !autopep8 --in-place -a deleteme.py   # this agressively changes the code removing redundant lines:\n",
    "\n",
    "# Note: deleteme.py is the python file that has this code.\n",
    "\n",
    "is_good=True\n",
    "if is_good==True:\n",
    "    print('good boy')\n"
   ]
  },
  {
   "cell_type": "markdown",
   "metadata": {},
   "source": [
    "The above code with just one '-a' option will stay the same. But when we use:\n",
    "\n",
    "#### !autopep8 --in-place -a -a deleteme.py\n",
    "\n",
    "it will change the code to:\n"
   ]
  },
  {
   "cell_type": "code",
   "execution_count": null,
   "metadata": {},
   "outputs": [],
   "source": [
    "is_good = True\n",
    "if is_good:\n",
    "    print('good boy')"
   ]
  },
  {
   "cell_type": "code",
   "execution_count": 93,
   "metadata": {},
   "outputs": [
    {
     "name": "stdout",
     "output_type": "stream",
     "text": [
      "hola! , my name is __main__\n",
      "hello, my name is file1\n"
     ]
    }
   ],
   "source": [
    "# if __name__== '__main__':\n",
    "\n",
    "# by default, when a program is run, it has '__main__' assosiated with the __name__.\n",
    "\n",
    "# if we write an import funciton, that .py file is run automatically thus providing the output.\n",
    "\n",
    "# therefore to avoid this, we write, if __name__== '__main__': in the beginning, to make sure, that \n",
    "# it does not run with the import statement. \n",
    "\n",
    "# example is shown by creating two files: file1.py and file2.py\n",
    "\n",
    "!python file2.py  # as can be seen, that the import statement caused file2 to run in the start\n",
    "\n",
    "# this can be avoided by including the  if __name__== '__main__': (which is commented in the program)"
   ]
  },
  {
   "cell_type": "code",
   "execution_count": 2,
   "metadata": {},
   "outputs": [
    {
     "name": "stdout",
     "output_type": "stream",
     "text": [
      "200\n"
     ]
    }
   ],
   "source": [
    "# Python requests web development\n",
    "\n",
    "import requests\n",
    "res= requests.get('https://news.ycombinator.com')\n",
    "# print(res)\n",
    "# print(res.ok)\n",
    "# print(res.headers)\n",
    "# print(res.text)\n",
    "print(res.status_code)\n"
   ]
  },
  {
   "cell_type": "code",
   "execution_count": 9,
   "metadata": {},
   "outputs": [
    {
     "name": "stdout",
     "output_type": "stream",
     "text": [
      "\"I'll call you later.\" Don't call me later, call me Dad.\n"
     ]
    }
   ],
   "source": [
    "import requests\n",
    "url= 'https://icanhazdadjoke.com/'\n",
    "response= requests.get(url,headers={'Accept':'text/plain'})\n",
    "print(response.text)"
   ]
  },
  {
   "cell_type": "code",
   "execution_count": 17,
   "metadata": {},
   "outputs": [
    {
     "name": "stdout",
     "output_type": "stream",
     "text": [
      "{\n",
      "  \"id\": \"UfqHY8EQClb\", \n",
      "  \"joke\": \"I wear a stethoscope so that in a medical emergency I can teach people a valuable lesson about assumptions.\", \n",
      "  \"status\": 200\n",
      "}\n",
      "\n"
     ]
    },
    {
     "data": {
      "text/plain": [
       "'I wear a stethoscope so that in a medical emergency I can teach people a valuable lesson about assumptions.'"
      ]
     },
     "execution_count": 17,
     "metadata": {},
     "output_type": "execute_result"
    }
   ],
   "source": [
    "import requests\n",
    "url= 'https://icanhazdadjoke.com/'\n",
    "response= requests.get(url,headers={'Accept':'application/json'})\n",
    "print(response.text)  #json (in python, it's string: do type(response.text))\n",
    "resp= response.json() #converted to dictionary\n",
    "resp['joke']\n"
   ]
  },
  {
   "cell_type": "code",
   "execution_count": 5,
   "metadata": {},
   "outputs": [
    {
     "name": "stdout",
     "output_type": "stream",
     "text": [
      "‘Put the cat out’ … ‘I didn’t realize it was on fire\n"
     ]
    }
   ],
   "source": [
    "import requests\n",
    "url= 'https://icanhazdadjoke.com/search'  #note how we have to include the /search here as in url\n",
    "\n",
    "response= requests.get(url,headers={'Accept':'application/json'},params={'term':'cat','limit':1})\n",
    "\n",
    "data=response.json()\n",
    "# print(data)\n",
    "for i in data['results']:\n",
    "    print(i['joke'])\n"
   ]
  },
  {
   "cell_type": "code",
   "execution_count": 5,
   "metadata": {},
   "outputs": [
    {
     "name": "stdout",
     "output_type": "stream",
     "text": [
      "\u001b[34m _               _     _       _               ____   ___  _  ___  \n",
      "| |__   __ _  __| |   (_) ___ | | _____  ___  |___ \\ / _ \\/ |( _ ) \n",
      "| '_ \\ / _` |/ _` |   | |/ _ \\| |/ / _ \\/ __|   __) | | | | |/ _ \\ \n",
      "| |_) | (_| | (_| |   | | (_) |   <  __/\\__ \\  / __/| |_| | | (_) |\n",
      "|_.__/ \\__,_|\\__,_|  _/ |\\___/|_|\\_\\___||___/ |_____|\\___/|_|\\___/ \n",
      "                    |__/                                           \n",
      "\u001b[0m\n",
      "Which topic do you want the joke for? pig\n",
      "how many jokes to show? 2\n",
      "sorry, there is no joke on pig\n"
     ]
    }
   ],
   "source": [
    "# program to tell jokes on topic from website: 'https://icanhazdadjoke.com/search'\n",
    "\n",
    "\n",
    "from pyfiglet import figlet_format\n",
    "from termcolor import colored\n",
    "import requests\n",
    "\n",
    "url = 'https://icanhazdadjoke.com/search'\n",
    "\n",
    "\n",
    "def joke_getter(topic):\n",
    "    data= requests.get(url,headers={'Accept':'application/json'}, params={'term':topic}).json()['results']\n",
    "    \n",
    "    return data\n",
    "\n",
    "\n",
    "def joke_selection(data,limit):\n",
    "    \n",
    "    if len(data) >= limit:\n",
    "        \n",
    "        print(f'i have {len(data)} jokes having {topic}, here\\'s {limit}:\\n ')\n",
    "        count=1\n",
    "        for i in data[:limit]:  #here we didn't use 'choices' from 'random' module because it sometimes\n",
    "                                    #gave repeated results\n",
    "            print(f\"{count}. {i['joke']}\")\n",
    "            count+=1\n",
    "    elif  len(data) < limit:\n",
    "        \n",
    "        print(f'i have only {len(data)} joke having {topic}, here it is:\\n ')\n",
    "        count=1\n",
    "        for i in data:\n",
    "            print(f\"{count}. {i['joke']}\")\n",
    "            count+=1\n",
    "       \n",
    "        \n",
    "print(colored(figlet_format('bad jokes 2018'),color='blue'))\n",
    "topic= input('Which topic do you want the joke for? ')\n",
    "limit= int(input('how many jokes to show? '))\n",
    "\n",
    "data = joke_getter(topic)\n",
    "\n",
    "if len(data):\n",
    "    joke_selection(data,limit)\n",
    "else:\n",
    "     print(f'sorry, there is no joke on {topic}')"
   ]
  },
  {
   "cell_type": "markdown",
   "metadata": {},
   "source": [
    "# Object Oriented Programming"
   ]
  },
  {
   "cell_type": "code",
   "execution_count": 7,
   "metadata": {},
   "outputs": [
    {
     "name": "stdout",
     "output_type": "stream",
     "text": [
      "<__main__.Person object at 0x7f5894189860>\n",
      "nishant sinha\n"
     ]
    }
   ],
   "source": [
    "######### Object Oriented Programming ##########\n",
    "'''oop is a method of programming that attempts to model some process or thing in the world as \n",
    "classes or object'''\n",
    "\n",
    "'''Class: it is a blueprint of objects. Classes can contain methods (functions) and attributes (similar\n",
    "to key in a dictionary)'''\n",
    "\n",
    "'''Instance: objects that are constructed from a class blueprint, that contains their classe's methods\n",
    "and property'''\n",
    "\n",
    "# https://www.programiz.com/python-programming/object-oriented-programming\n",
    "\n",
    "class Person:\n",
    "    def __init__(self,first,last):\n",
    "        self.first=first\n",
    "        self.last=last\n",
    "        \n",
    "    def full_name(self):\n",
    "        print(f'{self.first} {self.last}')\n",
    "\n",
    "person_1= Person('nishant','sinha')\n",
    "print(person_1) #person_1 is an object\n",
    "person_1.full_name()"
   ]
  },
  {
   "cell_type": "code",
   "execution_count": 10,
   "metadata": {},
   "outputs": [
    {
     "name": "stdout",
     "output_type": "stream",
     "text": [
      "Tony\n",
      "hi!\n",
      "['_Person__lol', '_Person__msg', '__class__', '__delattr__', '__dict__', '__dir__', '__doc__', '__eq__', '__format__', '__ge__', '__getattribute__', '__gt__', '__hash__', '__init__', '__init_subclass__', '__le__', '__lt__', '__module__', '__ne__', '__new__', '__reduce__', '__reduce_ex__', '__repr__', '__setattr__', '__sizeof__', '__str__', '__subclasshook__', '__weakref__', '_secret', 'name']\n",
      "I like turtles!\n",
      "HAHAHAHAH\n"
     ]
    }
   ],
   "source": [
    "# _name\n",
    "# __name\n",
    "# __name__\n",
    "\n",
    "\n",
    "class Person:\n",
    "\t# Init is a \"dunder\" method\n",
    "    def __init__(self):\n",
    "        self.name = \"Tony\"\n",
    "    # single underscore means \"private\" (sort of). Which means, the attribute is not meant to be used outside\n",
    "        self._secret = \"hi!\"\n",
    "    # two leading underscores tells Python to \"mangle\" the name\n",
    "        self.__msg = \"I like turtles!\"\n",
    "        self.__lol = \"HAHAHAHAH\"\n",
    "\n",
    "\n",
    "p = Person()\n",
    "\n",
    "print(p.name)\n",
    "print(p._secret) #Anyone can still directly access the attribute (since in python everything is public)\n",
    "\n",
    "print(dir(p)) # Notice what __msg and __lol have been \"mangled\" to\n",
    "\n",
    "print(p._Person__msg)\n",
    "print(p._Person__lol)\n",
    "# thus, directly trying to print __msg will give an error.\n",
    "#print(p.__msg)"
   ]
  },
  {
   "cell_type": "code",
   "execution_count": 32,
   "metadata": {},
   "outputs": [
    {
     "name": "stdout",
     "output_type": "stream",
     "text": [
      "Deck of 52 cards\n",
      "[Hearts of 4, Hearts of 9, Hearts of 6, Clubs of 3, Spades of 9, Diamonds of A, Hearts of 5, Diamonds of 6, Clubs of A, Diamonds of Q, Spades of J, Spades of 8, Diamonds of 5, Spades of K, Clubs of K, Spades of 6, Clubs of 2, Diamonds of 4, Hearts of K, Spades of 4, Spades of A, Hearts of 8, Clubs of 4, Spades of 3, Clubs of Q, Diamonds of 2, Clubs of 10, Hearts of J, Diamonds of 3, Hearts of 10, Clubs of 7, Clubs of 6, Diamonds of J, Spades of Q, Hearts of 7, Diamonds of 8, Clubs of J, Diamonds of 10, Clubs of 5, Hearts of A, Diamonds of 9, Spades of 5, Clubs of 8, Hearts of Q, Spades of 10, Spades of 7, Clubs of 9, Hearts of 3, Diamonds of K, Hearts of 2, Spades of 2, Diamonds of 7]\n",
      "52\n"
     ]
    }
   ],
   "source": [
    "#### Deck of cards\n",
    "\n",
    "from random import shuffle\n",
    "\n",
    "class Card:\n",
    "    def __init__(self,value,suit):\n",
    "        self.suit=suit\n",
    "        self.value=value\n",
    "        \n",
    "    def __repr__(self):\n",
    "        return f'{self.value} of {self.suit}'\n",
    "\n",
    "class Deck:\n",
    "    suits=['Hearts','Diamonds','Clubs','Spades']\n",
    "    vals=['A','2','3','4','5','6','7','8','9','10','J','Q','K']\n",
    "    \n",
    "    def __init__(self):\n",
    "        self.cards=[Card(suit,value) for suit in Deck.suits for value in Deck.vals ]\n",
    "        \n",
    "    def __repr__(self):\n",
    "        return f'Deck of {self.count()} cards'\n",
    "    \n",
    "    def count(self):\n",
    "        return len(self.cards)\n",
    "    \n",
    "    def _deal(self,num):\n",
    "        count= self.count()\n",
    "        if count == 0:\n",
    "            raise ValueError(\"All cards have been dealt\")\n",
    "        else:\n",
    "            actual_to_remove= min(num,count)\n",
    "            cards= self.cards[-actual_to_remove:]\n",
    "            self.cards=self.cards[:-actual_to_remove]\n",
    "            return cards\n",
    "            \n",
    "    def deal_card(self):\n",
    "        return self._deal(1)[0]\n",
    "    def deal_hand(self,hand_size):\n",
    "        return self._deal(hand_size)\n",
    "    \n",
    "    def shuffle(self):\n",
    "        if self.count() < 52:\n",
    "            raise ValueError('only full decks can be shuffled')\n",
    "        shuffle(self.cards)\n",
    "\n",
    "\n",
    "d=Deck()\n",
    "print(d)\n",
    "d.shuffle()\n",
    "print(d.cards)\n",
    "print(d.count())\n",
    "# print(d._deal(52))\n",
    "# print(d._deal(2))\n"
   ]
  },
  {
   "cell_type": "code",
   "execution_count": 8,
   "metadata": {},
   "outputs": [],
   "source": [
    "### To view source code\n",
    "# import inspect\n",
    "# from datetime import date\n",
    "# inspect.getsourcelines(date)\n",
    "\n",
    "########## for ipython, to view the source code, use:\n",
    "# import turtle\n",
    "# turtle??\n",
    " "
   ]
  },
  {
   "cell_type": "code",
   "execution_count": 30,
   "metadata": {},
   "outputs": [],
   "source": [
    "# Rest topics of inheritance like, special methods, multiple inheritance, Method resolution order etc\n",
    "# can be seen from the codes:\n",
    "\n",
    "### User class attributes\n",
    "\n"
   ]
  },
  {
   "cell_type": "code",
   "execution_count": 29,
   "metadata": {},
   "outputs": [
    {
     "data": {
      "text/plain": [
       "'h'"
      ]
     },
     "execution_count": 29,
     "metadata": {},
     "output_type": "execute_result"
    }
   ],
   "source": [
    "### Iterable and Iterable\n",
    "\n",
    "## An iterable is an object that has an __iter__ method which returns an iterator, or which defines\n",
    "## a  __getitem__ method that can take sequential indexes starting from zero (and raises an IndexError\n",
    "## when the indexes are no longer valid). So an iterable is an object that you can get an iterator from.\n",
    "\n",
    "name= 'nishant'\n",
    "x=iter(name)\n",
    "x.__next__()\n"
   ]
  },
  {
   "cell_type": "code",
   "execution_count": 4,
   "metadata": {},
   "outputs": [
    {
     "name": "stdout",
     "output_type": "stream",
     "text": [
      "n\n",
      "i\n",
      "s\n",
      "1\n",
      "2\n",
      "3\n",
      "4\n"
     ]
    }
   ],
   "source": [
    "# Custom for loop\n",
    "\n",
    "def custom_for(iterable):\n",
    "    iterator= iter(iterable)\n",
    "    while True:\n",
    "        try:\n",
    "            print(next(iterator))\n",
    "        except StopIteration:\n",
    "            break\n",
    "\n",
    "custom_for('nis')\n",
    "custom_for([1,2,3,4])"
   ]
  },
  {
   "cell_type": "code",
   "execution_count": 15,
   "metadata": {},
   "outputs": [
    {
     "name": "stdout",
     "output_type": "stream",
     "text": [
      "n\n",
      "i\n",
      "s\n",
      "1 4 9 16 "
     ]
    }
   ],
   "source": [
    "# Another changes:\n",
    "\n",
    "def custom_for(iterable, function):\n",
    "    iterator= iter(iterable)\n",
    "    while True:\n",
    "        try:\n",
    "            x=next(iterator)\n",
    "        except StopIteration:\n",
    "            break\n",
    "        else:\n",
    "            function(x)\n",
    "\n",
    "def square(num):\n",
    "     print(num*num,end=' ')\n",
    "custom_for('nis',print)\n",
    "custom_for([1,2,3,4],square)\n",
    "\n"
   ]
  },
  {
   "cell_type": "code",
   "execution_count": 5,
   "metadata": {},
   "outputs": [
    {
     "name": "stdout",
     "output_type": "stream",
     "text": [
      "1 2 3 4 5 6 7 8 9 10 11 "
     ]
    }
   ],
   "source": [
    "### Own versoin of range function\n",
    "\n",
    "class Counter:\n",
    "    def __init__(self,low,high):\n",
    "        self.low=low\n",
    "        self.high=high\n",
    "        \n",
    "    def __iter__(self):          \n",
    "        return self\n",
    "\n",
    "    def __next__(self):\n",
    "        if self.low < self.high:\n",
    "            num=self.low\n",
    "            self.low+=1\n",
    "            return num\n",
    "        raise StopIteration #if self.low !< self.high, then stop iteration.\n",
    "        \n",
    "for i in Counter(1,12):   #for calls the __iter__. __iter__ returns Counter. But, it's not iterable yet.\n",
    "                          # The __iter__ will try to call the __next__. So, we need a __next__. \n",
    "    print(i,end=' ')\n",
    "\n",
    "\n"
   ]
  },
  {
   "cell_type": "markdown",
   "metadata": {},
   "source": [
    "# Generator"
   ]
  },
  {
   "cell_type": "code",
   "execution_count": 16,
   "metadata": {},
   "outputs": [
    {
     "name": "stdout",
     "output_type": "stream",
     "text": [
      "[0, 1, 2, 3, 4, 5]\n"
     ]
    }
   ],
   "source": [
    "### Generator \n",
    "\n",
    "\"\"\"There is a lot of overhead in building an iterator in Python; we have to implement a class with\n",
    "__iter__() and __next__() method, keep track of internal states, raise StopIteration when there\n",
    "was no values to be returned etc. This is both lengthy and counter intuitive. Generator comes into rescue in\n",
    "such situations.Python generators are a simple way of creating iterators. All the overhead we mentioned above\n",
    "are automatically handled by generators in Python. Simply speaking, a generator is a function that returns an\n",
    "object (iterator) which we can iterate over (one value at a time).\"\"\"\n",
    "\n",
    "def simple_generator(num):\n",
    "    count=0\n",
    "    while count<= num:\n",
    "        yield count\n",
    "        count+=1\n",
    "\n",
    "x=simple_generator(5)\n",
    "print(list(x))         #all the generator objects used up\n",
    "# print(next(x))\n",
    "# print(next(x))\n",
    "# print(next(x))\n",
    "# print(next(x))\n",
    "# print(next(x))\n",
    "# print(next(x))"
   ]
  },
  {
   "cell_type": "code",
   "execution_count": 19,
   "metadata": {},
   "outputs": [
    {
     "name": "stdout",
     "output_type": "stream",
     "text": [
      "time elapsed = 0.00024890899658203125\n"
     ]
    }
   ],
   "source": [
    "from time import time\n",
    "start= time()\n",
    "def fib_upto(num):\n",
    "    a,b=0,1\n",
    "    for i in range(num):\n",
    "        yield b\n",
    "        a,b=b,b+a\n",
    "x=fib_upto(1000000)\n",
    "end=time()\n",
    "print(f'time elapsed = {end-start}')\n",
    "### Generator requires much less memory usage, because unlike list, entire sequence is not gentrated at once.\n",
    "### after the yield statement, the execution pauses, and waits for the next()\n",
    "\n",
    "\n",
    "# from time import time\n",
    "# start= time()\n",
    "# def fib_upto_list(num):\n",
    "#     a,b=0,1\n",
    "#     fib=[]\n",
    "#     for i in range(num):\n",
    "#         fib.append(b)\n",
    "#         a,b=b,b+a\n",
    "#     return fib\n",
    "# x=fib_upto_list(123456)\n",
    "# end=time()\n",
    "# print(f'time elapsed = {end-start}')\n"
   ]
  },
  {
   "cell_type": "code",
   "execution_count": 26,
   "metadata": {},
   "outputs": [
    {
     "name": "stdout",
     "output_type": "stream",
     "text": [
      "1\n",
      "2\n",
      "3\n",
      "4\n",
      "1\n",
      "2\n"
     ]
    }
   ],
   "source": [
    "### infinite generator\n",
    "\n",
    "def seq_repeater():\n",
    "    seq= (1,2,3,4)\n",
    "    i=0\n",
    "    while True:\n",
    "        if i >= len(seq):\n",
    "            i = 0\n",
    "        yield seq[i]\n",
    "        i+=1\n",
    "x=seq_repeater()\n",
    "print(next(x))\n",
    "\n",
    "# seq= (1,2,3,4)\n",
    "# lst= []\n",
    "# count= 0\n",
    "# for i in range(100):\n",
    "#     if count >= max(seq):\n",
    "#         count= 0\n",
    "#     count+=1\n",
    "#     lst.append(count)\n",
    "    \n",
    "# print(lst)"
   ]
  },
  {
   "cell_type": "code",
   "execution_count": 31,
   "metadata": {},
   "outputs": [
    {
     "name": "stdout",
     "output_type": "stream",
     "text": [
      "<generator object nums at 0x7f5b20443570>\n",
      "<generator object <genexpr> at 0x7f5b203bde08>\n"
     ]
    },
    {
     "data": {
      "text/plain": [
       "1"
      ]
     },
     "execution_count": 31,
     "metadata": {},
     "output_type": "execute_result"
    }
   ],
   "source": [
    "####Generator expressions. \n",
    "\n",
    "def nums():\n",
    "    for i in range(1,22):\n",
    "        yield i\n",
    "num= nums()\n",
    "print(num)  # comes from generator function\n",
    "next(num)\n",
    "\n",
    "#instead we can use:\n",
    "\n",
    "num= (i for i in range(1,22))\n",
    "print(num) #comes from generator expression\n",
    "next(num)"
   ]
  },
  {
   "cell_type": "code",
   "execution_count": null,
   "metadata": {},
   "outputs": [],
   "source": [
    "from time import time\n",
    "start=time()\n",
    "print(sum([i for i in range(100000000)]))\n",
    "end= time()\n",
    "print(end-start)\n",
    "\n",
    "### time difference between list comprehension and generator expression.\n",
    "from time import time\n",
    "start=time()\n",
    "print(sum((i for i in range(100000000))))\n",
    "end= time()\n",
    "print(end-start)\n"
   ]
  },
  {
   "cell_type": "markdown",
   "metadata": {},
   "source": [
    "# Decorators"
   ]
  },
  {
   "cell_type": "code",
   "execution_count": 6,
   "metadata": {},
   "outputs": [
    {
     "name": "stdout",
     "output_type": "stream",
     "text": [
      "The function sum_nums_gen execution took 0.028524398803710938\n",
      "44999850000\n",
      "The function sum_nums_list execution took 0.027325153350830078\n",
      "44999850000\n"
     ]
    }
   ],
   "source": [
    "### Decorators ####\n",
    "# writing a speed test\n",
    "\n",
    "from functools import wraps\n",
    "from time import time\n",
    "\n",
    "def speed_test(fn):\n",
    "    @wraps(fn)\n",
    "    def wrapper(*args,**kwargs):\n",
    "        start_time= time()\n",
    "        result= fn(*args,**kwargs)\n",
    "        end_time= time()\n",
    "        print(f'The function {fn.__name__} execution took {end_time-start_time}')\n",
    "        return result\n",
    "    return wrapper\n",
    "\n",
    "@speed_test\n",
    "def sum_nums_gen():\n",
    "    return sum(i for i in range(300000))\n",
    "@speed_test\n",
    "def sum_nums_list():\n",
    "    return sum([i for i in range(300000)])\n",
    "\n",
    "print(sum_nums_gen())\n",
    "print(sum_nums_list())"
   ]
  },
  {
   "cell_type": "code",
   "execution_count": null,
   "metadata": {},
   "outputs": [],
   "source": []
  }
 ],
 "metadata": {
  "kernelspec": {
   "display_name": "Python 3",
   "language": "python",
   "name": "python3"
  },
  "language_info": {
   "codemirror_mode": {
    "name": "ipython",
    "version": 3
   },
   "file_extension": ".py",
   "mimetype": "text/x-python",
   "name": "python",
   "nbconvert_exporter": "python",
   "pygments_lexer": "ipython3",
   "version": "3.7.1"
  }
 },
 "nbformat": 4,
 "nbformat_minor": 2
}
