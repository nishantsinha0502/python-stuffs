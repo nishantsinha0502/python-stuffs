{
 "cells": [
  {
   "cell_type": "markdown",
   "metadata": {},
   "source": [
    "# File Handling"
   ]
  },
  {
   "cell_type": "code",
   "execution_count": 21,
   "metadata": {},
   "outputs": [
    {
     "name": "stdout",
     "output_type": "stream",
     "text": [
      "addition.py\t file2.py\t  python_bootcamp_part_1.ipynb\tsubtract.py\n",
      "corey_oop.ipynb  first.py\t  python_bootcamp_part_2.ipynb\n",
      "deleteme.py\t output_51_0.png  story.txt\n",
      "file1.py\t __pycache__\t  story.txt~\n",
      "<_io.TextIOWrapper name='story.txt' mode='r' encoding='UTF-8'>\n",
      "This short story is really short.\n",
      "Now, it's a bit longer than that.\n",
      "the end.\n",
      "\n",
      "This short s\n",
      "This short story is really short.\n",
      "\n",
      "[\"Now, it's a bit longer than that.\\n\", 'the end.']\n",
      "False\n",
      "True\n"
     ]
    }
   ],
   "source": [
    "## File I/O \n",
    "\"\"\"To read a file’s contents, call f.read(size), which reads some quantity of data and returns it as \n",
    "a string (in text mode) or bytes object (in binary mode). size is an optional numeric argument.When size is\n",
    "omitted or negative, the entire contents of the file will be read and returned;\n",
    "\n",
    "f.readline() reads a single line from the file; a newline character (\\n) is left at the end of the string,\n",
    "and is only omitted on the last line of the file if the file doesn’t end in a newline.\n",
    "\n",
    "If you want to read all the lines of a file in a list you can also use list(f) or f.readlines().\"\"\"\n",
    "\n",
    "\n",
    "!ls\n",
    "f= open('story.txt')\n",
    "print(f)\n",
    "print(f.read())## next time if i try to read this file,it won't show anything, because, the cursor is at the end\n",
    "print(f.read())\n",
    "\n",
    "\n",
    "# to move the cursor, we use seek:\n",
    "f.seek(0)\n",
    "print(f.read(12)) # only 12 characters are read here. (size= 12)\n",
    "## since the file is not closed, whatever changes we make in it, gets updated.\n",
    "# !subl story.txt\n",
    "f.seek(0)\n",
    "print(f.readline())  ## readline reads one line at a time.\n",
    "\n",
    "# to read all the entire file as, use realdlines():\n",
    "print(f.readlines())  ## note, only last 2 lines are read because we have put the cursor at the end of the first line\n",
    "\n",
    "# it's good to always close the file at the end:\n",
    "print(f.closed) # here the file is not closed. So, 'closed' method returns false\n",
    "f.close()\n",
    "print(f.closed) #here the file is closed. So, 'closed' return true"
   ]
  },
  {
   "cell_type": "code",
   "execution_count": 27,
   "metadata": {},
   "outputs": [
    {
     "name": "stdout",
     "output_type": "stream",
     "text": [
      "True\n",
      "This short story is really short.\n",
      "Now, it's a bit longer than that.\n",
      "the end.\n"
     ]
    }
   ],
   "source": [
    "# We use 'with open' mostly which closes file at the end:\n",
    "\n",
    "with open('story.txt') as file:\n",
    "    data = file.read()  # saves the content of the file read, which stays after the file is closed\n",
    "\n",
    "print(file.closed)\n",
    "print(data)\n",
    "\n",
    "# in the background, 'file.__enter__()' is called for opening with 'with'\n",
    "# in the background, 'file.__exit__()' is called no matter what is next while calling with 'with'\n",
    "# thus we can make our own objects that can work with the 'with' statement as long as they have '__enter__' and '__exit__' method on them\n"
   ]
  },
  {
   "cell_type": "code",
   "execution_count": 1,
   "metadata": {},
   "outputs": [],
   "source": [
    "## writing to files\n",
    "# the default mode in which 'open' opens the file is 'r' i.e. read.\n",
    "\n",
    "with open('story_new.txt','w') as file:\n",
    "    file.write('This file was not present initially\\n')\n",
    "    file.write('It is created first and then opened for writing into it.\\n\\n')\n",
    "    file.write('*'* 120)\n",
    "\n",
    "!subl story_new.txt"
   ]
  },
  {
   "cell_type": "code",
   "execution_count": 2,
   "metadata": {},
   "outputs": [],
   "source": [
    "## File Modes\n",
    "\n",
    "# write mode deletes what was existing in the file and writes again. To append we use 'a' mode\n",
    "\n",
    "with open('story_new.txt','a') as file:\n",
    "    file.write(\"\\nthis is going to get appended to the file generated in the previous block\\n\")\n",
    "    file.write('*'*120)\n",
    "    \n",
    "\n",
    "# note that writing is done, but cursor is not seekable. we can't use 'seek'. it's always at the end.\n",
    "## to overcome this limitation, we can use 'r+'\n",
    "\n",
    "with open('story_new.txt','r+') as file:\n",
    "    # unlike 'a' which appends at the end, 'r+' mode appends at the beginning.\n",
    "    \n",
    "    file.write('hello nishant\\n') #comes at the beginning\n",
    "    file.seek(10) #seeks the 10th character\n",
    "    file.write(':) \\n') # writes from the 10th character\n",
    "    \n",
    "# unlike 'a' and 'w' modes, which creates file if they are not present, 'r+' doesn't create new file.\n",
    "!subl story_new.txt"
   ]
  },
  {
   "cell_type": "markdown",
   "metadata": {},
   "source": [
    "* The default encoding is platform dependent. In windows, it is 'cp1252' but 'utf-8' in Linux.\n",
    "\n",
    "So, we must not also rely on the default encoding or else our code will behave differently in different platforms.\n",
    "\n",
    "Hence, when working with files in text mode, it is highly recommended to specify the encoding type.\n",
    "\n",
    "f = open(\"test.txt\",mode = 'r',encoding = 'utf-8')"
   ]
  },
  {
   "cell_type": "code",
   "execution_count": 2,
   "metadata": {},
   "outputs": [],
   "source": [
    "## Binary files reading\n",
    "with open('output_51_0.png','rb') as file:\n",
    "    data= file.read()\n",
    "# print(data)"
   ]
  },
  {
   "cell_type": "code",
   "execution_count": 20,
   "metadata": {},
   "outputs": [
    {
     "name": "stdout",
     "output_type": "stream",
     "text": [
      "['Start Date ', 'Start Time', 'End Date']\n",
      "['9/5/2011', '3:00:00 PM', '9/5/2011']\n",
      "['9/5/2011', '6:00:00 PM', '9/5/2011']\n",
      "<_csv.reader object at 0x7f631c2b0d68>\n"
     ]
    }
   ],
   "source": [
    "from csv import reader\n",
    "with open('C2ImportCalEventSample.csv') as file:\n",
    "    csv_data= reader(file)  # Note: the csv_data is an iterable.\n",
    "    # this data can be converted to list by:\n",
    "    # print(list(csv_data))\n",
    "    for i in csv_data:\n",
    "        # each row is a list.\n",
    "        print(f'{i[0:3]}')\n",
    "\n",
    "print(csv_data)\n"
   ]
  },
  {
   "cell_type": "markdown",
   "metadata": {},
   "source": [
    "#### Note: reader module returns a line of input for each iteration, such as a file object or a list."
   ]
  },
  {
   "cell_type": "code",
   "execution_count": 2,
   "metadata": {},
   "outputs": [
    {
     "name": "stdout",
     "output_type": "stream",
     "text": [
      "9/5/2011\n",
      "9/5/2011\n"
     ]
    }
   ],
   "source": [
    "from csv import DictReader\n",
    "with open('C2ImportCalEventSample.csv') as file:\n",
    "    csv_data= DictReader(file)\n",
    "    for i in csv_data:\n",
    "        # each row is an Ordered dictionary\n",
    "        print(i['Start Date '])\n",
    "        \n"
   ]
  },
  {
   "cell_type": "markdown",
   "metadata": {},
   "source": [
    "---\n",
    "#### If a file is separated by some other delimiter ( say '|'), we can use :\n",
    "> #### **csv_data= DictReader( file, delimiter='|')**\n",
    "---"
   ]
  },
  {
   "cell_type": "code",
   "execution_count": 47,
   "metadata": {},
   "outputs": [],
   "source": [
    "## Writing to csv file from a csv file example:\n",
    "\n",
    "## with nested with statements (say uppercase all the values)\n",
    "\n",
    "\n",
    "# from csv import reader, writer\n",
    "# with open('C2ImportCalEventSample.csv') as file:\n",
    "#     csv_reader= reader(file)\n",
    "#     with open('C2ImportCalEventSample_write.csv','w') as file:\n",
    "#         csv_writer= writer(file)\n",
    "#         for row in csv_reader:\n",
    "#             csv_writer.writerow([i.upper() for i in row ])\n",
    "\n",
    "\n",
    "## with separate read and write statements:\n",
    "\n",
    "from csv import reader, writer\n",
    "with open('C2ImportCalEventSample.csv') as file:\n",
    "    csv_reader= reader(file)\n",
    "    data_to_write= [[i.upper() for i in row] for row in csv_reader]\n",
    "#     data_to_write= [i.upper() for row in csv_reader for i in row] # this will be incorrect approach here\n",
    "\n",
    "with open('C2ImportCalEventSample_write.csv','w') as file:\n",
    "    csv_writer = writer(file)\n",
    "    \n",
    "#     for i in data_to_write:\n",
    "#         csv_writer.writerow(i)\n",
    "\n",
    "    csv_writer.writerows(data_to_write)\n",
    "  \n",
    "    "
   ]
  },
  {
   "cell_type": "markdown",
   "metadata": {},
   "source": [
    "#### jupyter lab as of now don't allow including external images."
   ]
  },
  {
   "cell_type": "code",
   "execution_count": 3,
   "metadata": {},
   "outputs": [],
   "source": [
    "## writing somethig as csv\n",
    "\n",
    "from csv import writer\n",
    "with open('new_csv_file.csv','w') as file:\n",
    "    write_obj= writer(file)\n",
    "    write_obj.writerow(['greet','name'])\n",
    "    write_obj.writerow(['hello','nishant'])\n",
    "    write_obj.writerow(['bye','niki'])"
   ]
  },
  {
   "cell_type": "markdown",
   "metadata": {},
   "source": [
    "### writing using DictWriter\n",
    "\n",
    "* #### Ditwriter creates a writer object for writing using dictionaries\n",
    "* #### *fieldnames* - kwargs for the DictWriter specifying headers\n",
    "* #### *writeheader* - method on writer to write header row\n",
    "* #### *writerow* - method on a writer to write a row based on a dictionary"
   ]
  },
  {
   "cell_type": "code",
   "execution_count": 29,
   "metadata": {},
   "outputs": [],
   "source": [
    "from csv import writer, DictWriter\n",
    "\n",
    "with open ('new_csv_file2.csv','w') as file:\n",
    "    header=['Name','Breed','Age(in year)']\n",
    "    write_obj= DictWriter(file,fieldnames=header)\n",
    "    write_obj.writeheader()\n",
    "    write_obj.writerow({\n",
    "        'Breed':'rodent',\n",
    "        'Name':'musak',\n",
    "        'Age(in year)':3   \n",
    "    })\n",
    "    write_obj.writerow({\n",
    "        'Breed':'rodent',\n",
    "        'Name':'musak',\n",
    "        'Age(in year)':5   \n",
    "    })\n",
    "    write_obj.writerow({\n",
    "        'Breed':'rodent',\n",
    "        'Name':'musak',\n",
    "        'Age(in year)':8   \n",
    "    })"
   ]
  },
  {
   "cell_type": "code",
   "execution_count": 39,
   "metadata": {},
   "outputs": [],
   "source": [
    "## reading as dictionary and writing as dictionary\n",
    "\n",
    "from csv import DictReader, DictWriter\n",
    "\n",
    "def year_to_months(age):\n",
    "    return float(age)*12\n",
    "\n",
    "with open('new_csv_file2.csv') as file:\n",
    "    read_obj= DictReader(file)\n",
    "    file_to_write=list(read_obj)\n",
    "    \n",
    "with open('new_csv_file3.csv','w') as file:\n",
    "    headers=['Name','Breed','Age(in months)']\n",
    "    write_obj= DictWriter(file,fieldnames=headers)\n",
    "    write_obj.writeheader()\n",
    "    for f in file_to_write:\n",
    "        write_obj.writerow({\n",
    "            'Name': f['Name'],\n",
    "            'Breed': f['Breed'],\n",
    "            'Age(in months)': year_to_months(f['Age(in year)'])  # note: since the header is changed\n",
    "                                                                #for 'Age', therefore name should \n",
    "                                                                # be mached; else, we could do f\n",
    "        })\n",
    "        \n",
    "######### Another way of doing the same, if the headers matches ###########\n",
    "        \n",
    "# from csv import DictReader, DictWriter\n",
    "\n",
    "# def year_to_months(age):\n",
    "#     return float(age)*12\n",
    "\n",
    "# with open('new_csv_file2.csv') as file:\n",
    "#     read_obj= DictReader(file)\n",
    "#     file_to_write=list(read_obj)\n",
    "#     for i in file_to_write:\n",
    "#         i['Age(in year)']= year_to_months(i['Age(in year)'])\n",
    "\n",
    "# with open('new_csv_file3.csv','w') as file:\n",
    "#     headers=['Name','Breed','Age(in year)']\n",
    "#     write_obj= DictWriter(file,fieldnames=headers)\n",
    "#     write_obj.writeheader()\n",
    "#     for f in file_to_write:\n",
    "#         write_obj.writerow(f)"
   ]
  },
  {
   "cell_type": "markdown",
   "metadata": {},
   "source": [
    "---\n",
    "## numpy (small intro)\n",
    "---"
   ]
  },
  {
   "cell_type": "code",
   "execution_count": 12,
   "metadata": {},
   "outputs": [
    {
     "name": "stdout",
     "output_type": "stream",
     "text": [
      "1.14.3\n",
      "\n",
      "[21.  +0.j  2.33+0.j  1.  +3.j]\n",
      "\n",
      "['12' '3.33' '(2+3j)' 'a']\n",
      "\n",
      "(21, 2.33, (1+3j), 21, 2.33, (1+3j), 21, 2.33, (1+3j), 21, 2.33, (1+3j), 21, 2.33, (1+3j))\n",
      "[105.   +0.j  11.65 +0.j   5.  +15.j]\n"
     ]
    }
   ],
   "source": [
    "import numpy as np\n",
    "\n",
    "print(np.__version__)\n",
    "my_list=[12,0,-17,1]\n",
    "numpy_array_from_list= np.array(my_list)  # converting python datatype to numpy array\n",
    "print()\n",
    "\n",
    "my_tuple= (21, 2.33, 1+3j) \n",
    "numpy_array_from_my_tuple= np.array(my_tuple) #note: numpy only allows similar data type.\n",
    "print(numpy_array_from_tuple) #thus, it promotes all the tuple content into complex numbers.\n",
    "print()\n",
    "\n",
    "# thus, if there is a string inside, all will be converted into string.\n",
    "my_tuple2= (12, 3.33, 2+3j,'a')\n",
    "numpy_array_from_my_tuple2= np.array(my_tuple2)\n",
    "print(numpy_array_from_my_tuple2)\n",
    "print()\n",
    "\n",
    "print(my_tuple*5)  #replicates the tuple 5 times\n",
    "print(numpy_array_from_my_tuple*5)  #multiplies each element by 5"
   ]
  },
  {
   "cell_type": "markdown",
   "metadata": {},
   "source": [
    "#### **numpy arange**"
   ]
  },
  {
   "cell_type": "code",
   "execution_count": 24,
   "metadata": {},
   "outputs": [
    {
     "name": "stdout",
     "output_type": "stream",
     "text": [
      "[ 0  1  2  3  4  5  6  7  8  9 10 11]\n",
      "17\n",
      "17\n"
     ]
    }
   ],
   "source": [
    "print(np.arange(12)) # almost similar to the range function in python\n",
    "\n",
    "# to know about the size of elements, we use, .size attribute\n",
    "print(np.arange(3.9,12,0.5).size)\n",
    "print(len(np.arange(3.9,12,0.5))) # len gives the same result.\n",
    "\n"
   ]
  },
  {
   "cell_type": "markdown",
   "metadata": {},
   "source": [
    "---\n",
    "#### **linspace(), zeros(), ones(), and NumPy data types**\n",
    "---"
   ]
  },
  {
   "cell_type": "markdown",
   "metadata": {},
   "source": [
    "##### **linspace()**"
   ]
  },
  {
   "cell_type": "code",
   "execution_count": 34,
   "metadata": {},
   "outputs": [
    {
     "data": {
      "text/plain": [
       "(array([1. , 2.5, 4. ]), 1.5)"
      ]
     },
     "execution_count": 34,
     "metadata": {},
     "output_type": "execute_result"
    }
   ],
   "source": [
    "## note that linspace INCLUEDS LAST VALUE\n",
    "\n",
    "np.linspace(1,2) #creates linearly spaced array, starting and ending value is to be provided \n",
    "                 # by default, linspace creates 50 samples. the step size can be returned by 'retstep'\n",
    "    \n",
    "np.linspace(1,2,retstep=True)\n",
    "np.linspace(1,4,3,retstep=True)  # number of samples is provided to be 3"
   ]
  },
  {
   "cell_type": "markdown",
   "metadata": {},
   "source": [
    "##### **zeros()**"
   ]
  },
  {
   "cell_type": "code",
   "execution_count": 45,
   "metadata": {},
   "outputs": [
    {
     "name": "stdout",
     "output_type": "stream",
     "text": [
      "[0. 0. 0. 0.]\n",
      "[[0. 0.]\n",
      " [0. 0.]\n",
      " [0. 0.]]\n"
     ]
    }
   ],
   "source": [
    "print(np.zeros(4))  # note how 'zeros' function return the floating point value, unlike the arange \n",
    "print(np.zeros((3,2))) # 3x2 zero matrix is created"
   ]
  },
  {
   "cell_type": "markdown",
   "metadata": {},
   "source": [
    "##### **ones()**"
   ]
  },
  {
   "cell_type": "code",
   "execution_count": 48,
   "metadata": {},
   "outputs": [
    {
     "name": "stdout",
     "output_type": "stream",
     "text": [
      "[1. 1. 1. 1.]\n",
      "[[1. 1.]\n",
      " [1. 1.]\n",
      " [1. 1.]]\n"
     ]
    }
   ],
   "source": [
    "print(np.ones(4))\n",
    "print(np.ones((3,2)))  # works similar to zeros()"
   ]
  },
  {
   "cell_type": "code",
   "execution_count": 50,
   "metadata": {},
   "outputs": [
    {
     "name": "stdout",
     "output_type": "stream",
     "text": [
      "[[[1. 1. 1. 1. 1.]\n",
      "  [1. 1. 1. 1. 1.]\n",
      "  [1. 1. 1. 1. 1.]\n",
      "  [1. 1. 1. 1. 1.]]\n",
      "\n",
      " [[1. 1. 1. 1. 1.]\n",
      "  [1. 1. 1. 1. 1.]\n",
      "  [1. 1. 1. 1. 1.]\n",
      "  [1. 1. 1. 1. 1.]]\n",
      "\n",
      " [[1. 1. 1. 1. 1.]\n",
      "  [1. 1. 1. 1. 1.]\n",
      "  [1. 1. 1. 1. 1.]\n",
      "  [1. 1. 1. 1. 1.]]]\n"
     ]
    }
   ],
   "source": [
    "## three dimensional array\n",
    "\n",
    "print(np.ones((3,4,5))) #first value says, we have 3 2D arrays, second value says, we have 4 group of \n",
    "                        # matrices and the last parameter tells us, that each one of these arrays \n",
    "                        # contains 5 columns.\n",
    "        \n",
    "#similarly:\n",
    "# print(np.ones((2,3,4,5)))"
   ]
  },
  {
   "cell_type": "markdown",
   "metadata": {},
   "source": [
    "##### **NumPy Datatypes**"
   ]
  },
  {
   "cell_type": "code",
   "execution_count": 54,
   "metadata": {},
   "outputs": [
    {
     "data": {
      "text/plain": [
       "array([0, 0, 0, 0, 0, 0, 0, 0, 0, 0, 0])"
      ]
     },
     "execution_count": 54,
     "metadata": {},
     "output_type": "execute_result"
    }
   ],
   "source": [
    "# 'arange' and 'linspace' returns default 'int' data type.\n",
    "# 'ones' and 'zeros' return default 'float' data type.\n",
    "\n",
    "np.zeros(11,dtype='int64')"
   ]
  },
  {
   "cell_type": "code",
   "execution_count": 58,
   "metadata": {},
   "outputs": [
    {
     "name": "stdout",
     "output_type": "stream",
     "text": [
      "<class 'numpy.ndarray'>\n"
     ]
    }
   ],
   "source": [
    "#the arrays mentioned uptil now are taken from the class ndarray. The attributes such as size are\n",
    "# available in the class ndarray.\n",
    "\n",
    "z=np.array([1,2,3])\n",
    "print(type(z))"
   ]
  },
  {
   "cell_type": "markdown",
   "metadata": {},
   "source": [
    "##### **Slice arrays**"
   ]
  },
  {
   "cell_type": "code",
   "execution_count": 34,
   "metadata": {},
   "outputs": [
    {
     "name": "stdout",
     "output_type": "stream",
     "text": [
      "[ 0  1  2  3  4  5  6  7  8  9 10 11] \n",
      "\n",
      "[[ 0  1  2]\n",
      " [ 3  4  5]\n",
      " [ 6  7  8]\n",
      " [ 9 10 11]] \n",
      "\n",
      "[3 4 5] \n",
      "\n",
      "8 \n",
      "\n",
      "5 \n",
      "\n",
      "[[ 0  1  2]\n",
      " [ 3  4 24]\n",
      " [ 6  7  8]\n",
      " [ 9 10 11]] \n",
      "\n",
      "[[ 6  7  8]\n",
      " [ 9 10 11]] \n",
      "\n",
      "[[ 3  4 24]\n",
      " [ 6  7  8]\n",
      " [ 9 10 11]] \n",
      "\n",
      "[[ 1]\n",
      " [ 4]\n",
      " [ 7]\n",
      " [10]] \n",
      "\n",
      "[[ 4]\n",
      " [ 7]\n",
      " [10]]\n"
     ]
    }
   ],
   "source": [
    "import numpy as np\n",
    "my_array = np.arange(12) # will have 12 values (size=12)\n",
    "print(my_array,'\\n')\n",
    "my_array.shape = (4,3)  # will be 4x3 dimentional\n",
    "print(my_array,'\\n') \n",
    "\n",
    "print(my_array[1],'\\n')      # returns the second row\n",
    "print(my_array[2,2],'\\n')    # returns the third row, third column value\n",
    "print(my_array[1][2],'\\n')   # another way of accessing the value (however, don't use this way)\n",
    "\n",
    "my_array[1][2]= 24.3  # Note: an attempt to include float value converts it to intger before adding\n",
    "\n",
    "print(my_array,'\\n')\n",
    "print(my_array[2:],'\\n')          # gives values third row onwards\n",
    "print(my_array[1:],'\\n')\n",
    "print(my_array[:,1:2],'\\n')\n",
    "print(my_array[1:,1:2])         # first slice takes all rows except 1st. 2nd slice takes second column\n"
   ]
  },
  {
   "cell_type": "markdown",
   "metadata": {},
   "source": [
    "#### **Boolean Mask Array**"
   ]
  },
  {
   "cell_type": "code",
   "execution_count": 53,
   "metadata": {},
   "outputs": [
    {
     "name": "stdout",
     "output_type": "stream",
     "text": [
      "[-17  -4   0   2  21  37 105]\n",
      "[False False  True False  True False  True]\n",
      "[  0  21 105]\n",
      "[ 21 105]\n"
     ]
    }
   ],
   "source": [
    "# Method 1, python way\n",
    "\n",
    "import numpy as np\n",
    "my_vector=np.array([-17,-4,0,2,21,37,105])\n",
    "print(my_vector)\n",
    "\n",
    "mask_divisible_seven= 0 == my_vector%7  # note, first the evaluation happens, then assignment.\n",
    "                                        # my_vector%7 == 0 returns true and false, which is assigned\n",
    "\n",
    "print(mask_divisible_seven)\n",
    "print(my_vector[mask_divisible_seven]) # returns the values that are True\n",
    "\n",
    "sub_array=my_vector[mask_divisible_seven]\n",
    "print(sub_array[sub_array>0])"
   ]
  },
  {
   "cell_type": "code",
   "execution_count": 56,
   "metadata": {},
   "outputs": [
    {
     "name": "stdout",
     "output_type": "stream",
     "text": [
      "[False False False  True  True  True  True]\n",
      "[False False False False  True False  True]\n",
      "[ 21 105]\n"
     ]
    }
   ],
   "source": [
    "# Method 2, numpy way\n",
    "\n",
    "mod_test= 0 == my_vector%7\n",
    "positive_test= my_vector>0\n",
    "print(positive_test)   # note 0 is neither positive nor negative\n",
    "\n",
    "combined_mask= np.logical_and(mod_test,positive_test)\n",
    "print(combined_mask)\n",
    "print(my_vector[combined_mask])\n",
    "\n",
    "#### When dealing with very large arrays, the numpy logical_and module is more efficient"
   ]
  },
  {
   "cell_type": "markdown",
   "metadata": {},
   "source": [
    "### Interruption: Youtube video content\n",
    "[Numpy Broadcasting (loosing your loops)](https://www.youtube.com/watch?v=EEUXKG97YRw)"
   ]
  },
  {
   "cell_type": "markdown",
   "metadata": {},
   "source": [
    "##### Try to use as less loops as possible in python. Python does something called type checking all the time, which makes it slower than languages like fortran and C. This type checking grow up when we use loops for (say) 10000 times. \n",
    "\n",
    "use numpy's:\n",
    "1. **ufuncs**\n",
    "1. **aggregations**\n",
    "1. **broadcasting**\n",
    "1. **slicing masking and fancy indexing**\n",
    "\n"
   ]
  },
  {
   "cell_type": "code",
   "execution_count": 14,
   "metadata": {},
   "outputs": [
    {
     "name": "stdout",
     "output_type": "stream",
     "text": [
      "[6, 7, 9, 10, 96, 4]\n",
      "[ 6  7  9 10 96  4]\n"
     ]
    }
   ],
   "source": [
    "## ufuncs => universal functions\n",
    "# say to add 5 to each element of list in python, \n",
    "\n",
    "my_list= [1,2,4,5,91,-1]\n",
    "new_list=[i+5 for i in my_list] # looping is required because adding 5 directly not possible here\n",
    "print(new_list)\n",
    "### numpy way:\n",
    "\n",
    "import numpy as np\n",
    "my_list= np.array(my_list)\n",
    "new_list= my_list+5           #element wise addition happened here\n",
    "print(new_list)"
   ]
  },
  {
   "cell_type": "code",
   "execution_count": 7,
   "metadata": {},
   "outputs": [
    {
     "name": "stdout",
     "output_type": "stream",
     "text": [
      "975 µs ± 3.7 µs per loop (mean ± std. dev. of 7 runs, 1000 loops each)\n",
      "94.8 µs ± 195 ns per loop (mean ± std. dev. of 7 runs, 10000 loops each)\n"
     ]
    }
   ],
   "source": [
    "#Note: numpy way is faster\n",
    "\n",
    "a= list(range(100000))\n",
    "%timeit sum(a)\n",
    "import numpy as np\n",
    "a= np.array(a)\n",
    "%timeit np.sum(a)"
   ]
  },
  {
   "cell_type": "markdown",
   "metadata": {},
   "source": [
    "#### **Broadcasting**"
   ]
  },
  {
   "cell_type": "markdown",
   "metadata": {},
   "source": [
    "**Note**: A small array is broadcasted to a larger array."
   ]
  },
  {
   "cell_type": "code",
   "execution_count": 9,
   "metadata": {},
   "outputs": [
    {
     "name": "stdout",
     "output_type": "stream",
     "text": [
      "[[[ 0  1  2  3  4]\n",
      "  [ 5  6  7  8  9]\n",
      "  [10 11 12 13 14]\n",
      "  [15 16 17 18 19]\n",
      "  [20 21 22 23 24]\n",
      "  [25 26 27 28 29]\n",
      "  [30 31 32 33 34]]\n",
      "\n",
      " [[35 36 37 38 39]\n",
      "  [40 41 42 43 44]\n",
      "  [45 46 47 48 49]\n",
      "  [50 51 52 53 54]\n",
      "  [55 56 57 58 59]\n",
      "  [60 61 62 63 64]\n",
      "  [65 66 67 68 69]]]\n",
      "(2, 7, 5)\n",
      "3\n",
      "70\n",
      "int64\n"
     ]
    },
    {
     "data": {
      "text/plain": [
       "array([[[ -2,   3,   8,  13,  18],\n",
       "        [ 23,  28,  33,  38,  43],\n",
       "        [ 48,  53,  58,  63,  68],\n",
       "        [ 73,  78,  83,  88,  93],\n",
       "        [ 98, 103, 108, 113, 118],\n",
       "        [123, 128, 133, 138, 143],\n",
       "        [148, 153, 158, 163, 168]],\n",
       "\n",
       "       [[173, 178, 183, 188, 193],\n",
       "        [198, 203, 208, 213, 218],\n",
       "        [223, 228, 233, 238, 243],\n",
       "        [248, 253, 258, 263, 268],\n",
       "        [273, 278, 283, 288, 293],\n",
       "        [298, 303, 308, 313, 318],\n",
       "        [323, 328, 333, 338, 343]]])"
      ]
     },
     "execution_count": 9,
     "metadata": {},
     "output_type": "execute_result"
    }
   ],
   "source": [
    "import numpy as np\n",
    "my_array= np.arange(70)\n",
    "my_array.shape=(2,7,5)\n",
    "print(my_array)\n",
    "\n",
    "print(my_array.shape)   #Shape attribute\n",
    "print(my_array.ndim)    # number of dimensions\n",
    "print(my_array.size)   # number of elements\n",
    "print(my_array.dtype)   # data type attribute\n",
    "\n",
    "my_array*5 -2 "
   ]
  },
  {
   "cell_type": "code",
   "execution_count": 1,
   "metadata": {},
   "outputs": [
    {
     "data": {
      "text/plain": [
       "array([[ 25,  28,  31,  34,  37],\n",
       "       [ 70,  82,  94, 106, 118]])"
      ]
     },
     "execution_count": 1,
     "metadata": {},
     "output_type": "execute_result"
    }
   ],
   "source": [
    "import numpy as np\n",
    "left_mat= np.arange(6).reshape(2,3)\n",
    "right_mat= np.arange(15).reshape(3,5)\n",
    "# trying to find the inner product of the two matrix gives an error\n",
    "# np.inner(left_mat,right_mat)\n",
    "\n",
    "np.dot(left_mat,right_mat)  #check docstring for np.dot (shift+enter)\n"
   ]
  },
  {
   "cell_type": "code",
   "execution_count": 2,
   "metadata": {},
   "outputs": [
    {
     "name": "stdout",
     "output_type": "stream",
     "text": [
      "Help on built-in function inner in module numpy.core.multiarray:\n",
      "\n",
      "inner(...)\n",
      "    inner(a, b)\n",
      "    \n",
      "    Inner product of two arrays.\n",
      "    \n",
      "    Ordinary inner product of vectors for 1-D arrays (without complex\n",
      "    conjugation), in higher dimensions a sum product over the last axes.\n",
      "    \n",
      "    Parameters\n",
      "    ----------\n",
      "    a, b : array_like\n",
      "        If `a` and `b` are nonscalar, their last dimensions must match.\n",
      "    \n",
      "    Returns\n",
      "    -------\n",
      "    out : ndarray\n",
      "        `out.shape = a.shape[:-1] + b.shape[:-1]`\n",
      "    \n",
      "    Raises\n",
      "    ------\n",
      "    ValueError\n",
      "        If the last dimension of `a` and `b` has different size.\n",
      "    \n",
      "    See Also\n",
      "    --------\n",
      "    tensordot : Sum products over arbitrary axes.\n",
      "    dot : Generalised matrix product, using second last dimension of `b`.\n",
      "    einsum : Einstein summation convention.\n",
      "    \n",
      "    Notes\n",
      "    -----\n",
      "    For vectors (1-D arrays) it computes the ordinary inner-product::\n",
      "    \n",
      "        np.inner(a, b) = sum(a[:]*b[:])\n",
      "    \n",
      "    More generally, if `ndim(a) = r > 0` and `ndim(b) = s > 0`::\n",
      "    \n",
      "        np.inner(a, b) = np.tensordot(a, b, axes=(-1,-1))\n",
      "    \n",
      "    or explicitly::\n",
      "    \n",
      "        np.inner(a, b)[i0,...,ir-1,j0,...,js-1]\n",
      "             = sum(a[i0,...,ir-1,:]*b[j0,...,js-1,:])\n",
      "    \n",
      "    In addition `a` or `b` may be scalars, in which case::\n",
      "    \n",
      "       np.inner(a,b) = a*b\n",
      "    \n",
      "    Examples\n",
      "    --------\n",
      "    Ordinary inner product for vectors:\n",
      "    \n",
      "    >>> a = np.array([1,2,3])\n",
      "    >>> b = np.array([0,1,0])\n",
      "    >>> np.inner(a, b)\n",
      "    2\n",
      "    \n",
      "    A multidimensional example:\n",
      "    \n",
      "    >>> a = np.arange(24).reshape((2,3,4))\n",
      "    >>> b = np.arange(4)\n",
      "    >>> np.inner(a, b)\n",
      "    array([[ 14,  38,  62],\n",
      "           [ 86, 110, 134]])\n",
      "    \n",
      "    An example where `b` is a scalar:\n",
      "    \n",
      "    >>> np.inner(np.eye(2), 7)\n",
      "    array([[ 7.,  0.],\n",
      "           [ 0.,  7.]])\n",
      "\n"
     ]
    }
   ],
   "source": [
    "help (np.inner)"
   ]
  },
  {
   "cell_type": "code",
   "execution_count": 4,
   "metadata": {},
   "outputs": [
    {
     "name": "stdout",
     "output_type": "stream",
     "text": [
      "[[[ 0  1  2  3]\n",
      "  [ 4  5  6  7]\n",
      "  [ 8  9 10 11]]\n",
      "\n",
      " [[12 13 14 15]\n",
      "  [16 17 18 19]\n",
      "  [20 21 22 23]]]\n",
      "[0 1 2 3]\n"
     ]
    },
    {
     "data": {
      "text/plain": [
       "array([[ 14,  38,  62],\n",
       "       [ 86, 110, 134]])"
      ]
     },
     "execution_count": 4,
     "metadata": {},
     "output_type": "execute_result"
    }
   ],
   "source": [
    "a= np.arange(24).reshape(2,3,4)\n",
    "print(a)\n",
    "b= np.arange(4)\n",
    "print(b)\n",
    "np.inner(a,b)"
   ]
  },
  {
   "cell_type": "code",
   "execution_count": null,
   "metadata": {},
   "outputs": [],
   "source": []
  }
 ],
 "metadata": {
  "kernelspec": {
   "display_name": "Python 3",
   "language": "python",
   "name": "python3"
  },
  "language_info": {
   "codemirror_mode": {
    "name": "ipython",
    "version": 3
   },
   "file_extension": ".py",
   "mimetype": "text/x-python",
   "name": "python",
   "nbconvert_exporter": "python",
   "pygments_lexer": "ipython3",
   "version": "3.7.1"
  }
 },
 "nbformat": 4,
 "nbformat_minor": 2
}
