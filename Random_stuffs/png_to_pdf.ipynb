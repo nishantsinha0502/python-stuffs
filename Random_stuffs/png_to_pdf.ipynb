{
 "cells": [
  {
   "cell_type": "markdown",
   "metadata": {},
   "source": [
    "# Converting png to pdf (screenshot format, date and time used as name:)"
   ]
  },
  {
   "cell_type": "code",
   "execution_count": 1,
   "metadata": {},
   "outputs": [],
   "source": [
    "import re\n",
    "from PIL import Image\n",
    "import os\n",
    "\n",
    "\n",
    "os.chdir('/home/nishant/pro_nis/python_codes/one_fourth_labs/other_review_materials/slides/')\n",
    "!mv /home/nishant/Pictures/*.png /home/nishant/pro_nis/python_codes/one_fourth_labs/other_review_materials/slides/\n",
    "\n",
    "for i in os.listdir():\n",
    "    x=re.sub('([A-Za-z.-])','',i)\n",
    "    first_part=x.split()[0]\n",
    "    second_part=x.split()[1]\n",
    "    x= (first_part+second_part)\n",
    "    os.rename(i,x)\n",
    "\n",
    "sorted_names=list(map(lambda x: int(x), os.listdir())) #converting to integer to sort\n",
    "sorted_names=sorted(sorted_names)  #sorted\n",
    "sorted_names= list(map(lambda x: str(x),os.listdir())) #converting back to string, as Image.open need string\n",
    "\n",
    "for i in sorted_names:\n",
    "    im= Image.open(i)\n",
    "    if im.mode==\"RGBA\":\n",
    "        im= im.convert('RGB')\n",
    "    new_filename= str(i)+'.pdf'\n",
    "    im.save(new_filename,\"PDF\",resolution=100.0)\n",
    "    os.remove(i)\n",
    "\n",
    "!pdfunite *.pdf /home/nishant/pro_nis/python_codes/one_fourth_labs/other_review_materials/slides_final/50_sigmoid_summary.pdf\n",
    "!rm /home/nishant/pro_nis/python_codes/one_fourth_labs/other_review_materials/slides/*.pdf\n"
   ]
  },
  {
   "cell_type": "markdown",
   "metadata": {},
   "source": [
    "# Convert all png files to pdf and join them (images are numbered as 1,2,3,4, 35 etc...)"
   ]
  },
  {
   "cell_type": "code",
   "execution_count": 239,
   "metadata": {},
   "outputs": [],
   "source": [
    "from PIL import Image\n",
    "import os\n",
    "os.chdir('/home/nishant/pro_nis/python_codes/one_fourth_labs/other_review_materials/slides/')\n",
    "!mv /home/nishant/Pictures/*.png /home/nishant/pro_nis/python_codes/one_fourth_labs/other_review_materials/slides/\n",
    "for i in os.listdir():\n",
    "    im= Image.open(i)\n",
    "    if im.mode==\"RGBA\":\n",
    "        im= im.convert('RGB')\n",
    "    new_filename= str(f\"{int(i.split('.')[0]):03}\")+'.pdf'\n",
    "    im.save(new_filename,\"PDF\",resolution=100.0)\n",
    "    os.remove(i)\n",
    "\n",
    "!pdfunite *.pdf /home/nishant/pro_nis/python_codes/one_fourth_labs/other_review_materials/slides_final/38_sigmoid_intro.pdf\n",
    "!rm /home/nishant/pro_nis/python_codes/one_fourth_labs/other_review_materials/slides/*.pdf"
   ]
  },
  {
   "cell_type": "markdown",
   "metadata": {},
   "source": [
    "# Random exercies from one-fourth-lab session."
   ]
  },
  {
   "cell_type": "markdown",
   "metadata": {},
   "source": [
    "___"
   ]
  },
  {
   "cell_type": "code",
   "execution_count": 85,
   "metadata": {},
   "outputs": [
    {
     "name": "stdout",
     "output_type": "stream",
     "text": [
      "0.04910000000000007\n"
     ]
    }
   ],
   "source": [
    "import numpy as np\n",
    "\n",
    "y= np.array([1,2,2.64,3.16,3.6,4,4.35,4.69,5])\n",
    "f= np.array([1.04,2.04,2.70,3.22,3.67,4.07,4.44,4.77,4.88])\n",
    "\n",
    "print(np.sum(np.square(y-f)))"
   ]
  },
  {
   "cell_type": "code",
   "execution_count": 12,
   "metadata": {},
   "outputs": [
    {
     "data": {
      "text/plain": [
       "3.3166247903554"
      ]
     },
     "execution_count": 12,
     "metadata": {},
     "output_type": "execute_result"
    }
   ],
   "source": [
    "import numpy as np\n",
    "np.linalg.norm([1,-1,3])"
   ]
  },
  {
   "cell_type": "code",
   "execution_count": 23,
   "metadata": {},
   "outputs": [
    {
     "data": {
      "text/plain": [
       "0.9999999999999999"
      ]
     },
     "execution_count": 23,
     "metadata": {},
     "output_type": "execute_result"
    }
   ],
   "source": [
    "a= np.array([1.5, 2.5, 3.5])\n",
    "b= np.array([0.9, 1.5, 2.1])\n",
    "\n",
    "a.dot(b)/(np.linalg.norm(a)*np.linalg.norm(b))"
   ]
  },
  {
   "cell_type": "code",
   "execution_count": 25,
   "metadata": {},
   "outputs": [
    {
     "data": {
      "text/plain": [
       "6.0"
      ]
     },
     "execution_count": 25,
     "metadata": {},
     "output_type": "execute_result"
    }
   ],
   "source": [
    "np.linalg.norm([4,2,4])"
   ]
  },
  {
   "cell_type": "code",
   "execution_count": 33,
   "metadata": {},
   "outputs": [
    {
     "data": {
      "text/plain": [
       "90.0"
      ]
     },
     "execution_count": 33,
     "metadata": {},
     "output_type": "execute_result"
    }
   ],
   "source": [
    "a= np.array([1, 3, 7])\n",
    "b= np.array([-1.7, -5.1, -11.9])\n",
    "\n",
    "np.degrees(np.arccos(a.dot(b)/(np.linalg.norm(a)*np.linalg.norm(b))))"
   ]
  },
  {
   "cell_type": "markdown",
   "metadata": {},
   "source": [
    "___"
   ]
  },
  {
   "cell_type": "markdown",
   "metadata": {},
   "source": [
    "**Q.** [A little tough Q so don't worry if you are not able to answer this] Consider a 3 x 3 matrix A such that *all its columns are unit vectors.* Let A_ij be the element in the i-th row and the j-th column of A. Let B be the transpose of this matrix such that B_ij = A_ji. State whether the following is True of False: if C = BA then C_ij is the cosine of the angle between the i-th column of A and the j-th column of A ?"
   ]
  },
  {
   "cell_type": "markdown",
   "metadata": {},
   "source": [
    "**Ans:**_Create a random matrix_"
   ]
  },
  {
   "cell_type": "code",
   "execution_count": 1,
   "metadata": {},
   "outputs": [
    {
     "data": {
      "text/plain": [
       "array([[6., 5., 1.],\n",
       "       [5., 7., 7.],\n",
       "       [5., 9., 5.]])"
      ]
     },
     "execution_count": 1,
     "metadata": {},
     "output_type": "execute_result"
    }
   ],
   "source": [
    "import numpy as np\n",
    "np.random.seed(22)\n",
    "A= np.random.randint(1,10,(3,3)).astype(np.float)\n",
    "A"
   ]
  },
  {
   "cell_type": "markdown",
   "metadata": {},
   "source": [
    "_Make this matrix a unit length matrix_"
   ]
  },
  {
   "cell_type": "code",
   "execution_count": 2,
   "metadata": {},
   "outputs": [
    {
     "name": "stdout",
     "output_type": "stream",
     "text": [
      "[[0.64699664 0.40160966 0.11547005]\n",
      " [0.53916387 0.56225353 0.80829038]\n",
      " [0.53916387 0.7228974  0.57735027]]\n"
     ]
    }
   ],
   "source": [
    "for i in range(A.shape[1]):\n",
    "    A[:,i]=A[:,i]/np.linalg.norm(A[:,i])\n",
    "print(A)"
   ]
  },
  {
   "cell_type": "markdown",
   "metadata": {},
   "source": [
    "_The C matrix_"
   ]
  },
  {
   "cell_type": "code",
   "execution_count": 3,
   "metadata": {},
   "outputs": [
    {
     "data": {
      "text/plain": [
       "array([[1.        , 0.95274704, 0.8217961 ],\n",
       "       [0.95274704, 1.        , 0.91820301],\n",
       "       [0.8217961 , 0.91820301, 1.        ]])"
      ]
     },
     "execution_count": 3,
     "metadata": {},
     "output_type": "execute_result"
    }
   ],
   "source": [
    "B= A.T\n",
    "C= B@A\n",
    "C"
   ]
  },
  {
   "cell_type": "markdown",
   "metadata": {},
   "source": [
    "_Function to generate cos of angle between each column of the matrix_"
   ]
  },
  {
   "cell_type": "code",
   "execution_count": 6,
   "metadata": {},
   "outputs": [],
   "source": [
    "result_angles= np.eye(3)\n",
    "def cos_angle_between_vectors(mat):\n",
    "    for i in range(mat.shape[0]):\n",
    "        for j in range(mat.shape[1]):\n",
    "            result_angles[i,j]= np.dot(mat[:,i],mat[:,j])/(np.linalg.norm(mat[:,i])*np.linalg.norm(mat[:,j]))\n",
    "    return result_angles"
   ]
  },
  {
   "cell_type": "code",
   "execution_count": 7,
   "metadata": {},
   "outputs": [
    {
     "data": {
      "text/plain": [
       "array([[1.        , 0.95274704, 0.8217961 ],\n",
       "       [0.95274704, 1.        , 0.91820301],\n",
       "       [0.8217961 , 0.91820301, 1.        ]])"
      ]
     },
     "execution_count": 7,
     "metadata": {},
     "output_type": "execute_result"
    }
   ],
   "source": [
    "cos_angle_between_vectors(A)"
   ]
  },
  {
   "cell_type": "markdown",
   "metadata": {},
   "source": [
    "_This matches C matrix_"
   ]
  },
  {
   "cell_type": "markdown",
   "metadata": {},
   "source": [
    "**Consider the logistic function as explained in the lectures f(x) = 1 / (1 + e^-(wx + b)). Compute the value of f(x) when x = 1, w =0.5 and b =1.2**"
   ]
  },
  {
   "cell_type": "markdown",
   "metadata": {},
   "source": [
    "___"
   ]
  },
  {
   "cell_type": "markdown",
   "metadata": {},
   "source": [
    "**Q.** Consider the logistic function as explained in the lectures f(x) = 1 / (1 + e^-(wx + b)). Compute the value of f(x) when x = 1, w =0.5 and b =1.2 "
   ]
  },
  {
   "cell_type": "code",
   "execution_count": 5,
   "metadata": {},
   "outputs": [
    {
     "data": {
      "text/plain": [
       "0.8455347349164652"
      ]
     },
     "execution_count": 5,
     "metadata": {},
     "output_type": "execute_result"
    }
   ],
   "source": [
    "import numpy as np\n",
    "import scipy as sp\n",
    "\n",
    "sp.special.expit((0.5*1+1.2))"
   ]
  },
  {
   "cell_type": "markdown",
   "metadata": {},
   "source": [
    "OR"
   ]
  },
  {
   "cell_type": "code",
   "execution_count": 6,
   "metadata": {},
   "outputs": [
    {
     "name": "stdout",
     "output_type": "stream",
     "text": [
      "0.8455347349164652\n"
     ]
    }
   ],
   "source": [
    "def logestic_function(x,w,b):\n",
    "    return 1/(1+np.e**-(w*x+b))\n",
    "\n",
    "print(logestic_function(1,0.5,1.2))"
   ]
  },
  {
   "cell_type": "markdown",
   "metadata": {},
   "source": [
    "___"
   ]
  },
  {
   "cell_type": "markdown",
   "metadata": {},
   "source": [
    "Q. **Consider the following (x,y) pairs given as training data:**\n",
    "\n",
    "x = 3, y = 0.268\n",
    "\n",
    "x = 4, y = 0.73\n",
    "\n",
    "x = 5, y = 0.952\n",
    "\n",
    "x = 6, y = 0.994\n",
    "\n",
    "x = 8, y = 0.999 \n",
    "\n",
    "You decide to approximate the relation between x and y using the sigmoid function that we discussed in the lectures: f(x) = 1 / (1 + e^-(wx + b)). Compute the average loss made by the model when w = 0, b = 0 "
   ]
  },
  {
   "cell_type": "code",
   "execution_count": 22,
   "metadata": {},
   "outputs": [
    {
     "name": "stdout",
     "output_type": "stream",
     "text": [
      "0.160813\n"
     ]
    }
   ],
   "source": [
    "y_hat= np.full((5),0.5)\n",
    "\n",
    "y= np.array([0.268,0.73,0.952,0.994,0.999])\n",
    "\n",
    "answer= np.sum(np.square(y-y_hat))/np.shape(y)[0]\n",
    "print(answer)"
   ]
  },
  {
   "cell_type": "code",
   "execution_count": 29,
   "metadata": {},
   "outputs": [
    {
     "data": {
      "text/plain": [
       "6.0009999973686945e-06"
      ]
     },
     "execution_count": 29,
     "metadata": {},
     "output_type": "execute_result"
    }
   ],
   "source": [
    " abs((8+12*0.001)- ((2.001)**3))"
   ]
  },
  {
   "cell_type": "markdown",
   "metadata": {},
   "source": [
    "___"
   ]
  },
  {
   "cell_type": "markdown",
   "metadata": {},
   "source": [
    "**Q.** Consider the following (x,y) pairs given as test data:\n",
    "\n",
    "x = 3, y = 0.268\n",
    "\n",
    "x = 4, y = 0.73\n",
    "\n",
    "x = 5, y = 0.952\n",
    "\n",
    "x = 6, y = 0.994\n",
    "\n",
    "x = 8, y = 0.999 \n",
    "\n",
    "You decide to approximate the relation between x and y using the sigmoid function that we discussed in the lectures: f(x) = 1 / (1 + e^-(wx + b)). Suppose the parameters that you learned from the training data were w = 3, b = -2. Find the root mean square error of the model on the above test data (Select the option which is closest to the answer that you get)."
   ]
  },
  {
   "cell_type": "code",
   "execution_count": 24,
   "metadata": {},
   "outputs": [
    {
     "data": {
      "text/plain": [
       "0.34920117982061655"
      ]
     },
     "execution_count": 24,
     "metadata": {},
     "output_type": "execute_result"
    }
   ],
   "source": [
    "import numpy as np\n",
    "\n",
    "def squared_error(x,y,w,b):\n",
    "    y_hat= 1/(1+np.exp(-(w.T*x+b)))\n",
    "    return ( np.square(y-y_hat))\n",
    "\n",
    "def root_mean_square(n):\n",
    "    return (np.sqrt((1/n)*np.sum(squared_error(x,y,w,b))))\n",
    "\n",
    "w= np.full((5,1),3)\n",
    "b= -2\n",
    "x= np.array([3,4,5,6,8])\n",
    "y= np.array([0.268,0.73,0.952,0.994,0.999])\n",
    "\n",
    "root_mean_square(5)"
   ]
  },
  {
   "cell_type": "markdown",
   "metadata": {},
   "source": [
    "___"
   ]
  },
  {
   "cell_type": "code",
   "execution_count": 26,
   "metadata": {},
   "outputs": [],
   "source": [
    "l1= pd.Series([2,2,2,2])"
   ]
  },
  {
   "cell_type": "code",
   "execution_count": 28,
   "metadata": {},
   "outputs": [
    {
     "data": {
      "text/plain": [
       "0   NaN\n",
       "1   NaN\n",
       "2   NaN\n",
       "3   NaN\n",
       "dtype: float64"
      ]
     },
     "execution_count": 28,
     "metadata": {},
     "output_type": "execute_result"
    }
   ],
   "source": [
    "(l1-l1.min())/(l1.max()-l1.min())"
   ]
  },
  {
   "cell_type": "code",
   "execution_count": null,
   "metadata": {},
   "outputs": [],
   "source": []
  },
  {
   "cell_type": "code",
   "execution_count": null,
   "metadata": {},
   "outputs": [],
   "source": []
  }
 ],
 "metadata": {
  "kernelspec": {
   "display_name": "Python 3",
   "language": "python",
   "name": "python3"
  },
  "language_info": {
   "codemirror_mode": {
    "name": "ipython",
    "version": 3
   },
   "file_extension": ".py",
   "mimetype": "text/x-python",
   "name": "python",
   "nbconvert_exporter": "python",
   "pygments_lexer": "ipython3",
   "version": "3.7.1"
  }
 },
 "nbformat": 4,
 "nbformat_minor": 2
}
