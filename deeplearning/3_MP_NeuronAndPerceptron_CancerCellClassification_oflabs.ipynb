{
 "cells": [
  {
   "cell_type": "code",
   "execution_count": null,
   "metadata": {
    "colab": {},
    "colab_type": "code",
    "id": "-ZuaRc32VTGX"
   },
   "outputs": [],
   "source": [
    "import sklearn.datasets\n",
    "import numpy as np\n",
    "import pandas as pd"
   ]
  },
  {
   "cell_type": "markdown",
   "metadata": {
    "colab_type": "text",
    "id": "k-fR4OxYqyUK"
   },
   "source": [
    "# Loading Data"
   ]
  },
  {
   "cell_type": "code",
   "execution_count": null,
   "metadata": {
    "colab": {},
    "colab_type": "code",
    "id": "GU7-T-TZY3pp"
   },
   "outputs": [],
   "source": [
    "breast_cancer= sklearn.datasets.load_breast_cancer()"
   ]
  },
  {
   "cell_type": "code",
   "execution_count": 415,
   "metadata": {
    "colab": {
     "base_uri": "https://localhost:8080/",
     "height": 0
    },
    "colab_type": "code",
    "executionInfo": {
     "elapsed": 2150,
     "status": "ok",
     "timestamp": 1550504055813,
     "user": {
      "displayName": "Nishant Sinha",
      "photoUrl": "https://lh6.googleusercontent.com/-qFX6UkRzXUg/AAAAAAAAAAI/AAAAAAAAADQ/7YyiVqsYLVw/s64/photo.jpg",
      "userId": "14342734449519443347"
     },
     "user_tz": -330
    },
    "id": "apQfTAA4Y-Lw",
    "outputId": "6f6b7128-1cd3-47b9-e010-19946aff41f2"
   },
   "outputs": [
    {
     "name": "stdout",
     "output_type": "stream",
     "text": [
      "(569, 30) (569,)\n"
     ]
    }
   ],
   "source": [
    "X= breast_cancer.data\n",
    "y= breast_cancer.target\n",
    "\n",
    "print(X.shape,y.shape)"
   ]
  },
  {
   "cell_type": "markdown",
   "metadata": {
    "colab_type": "text",
    "id": "bZAnYkUWrHce"
   },
   "source": [
    "**We can go ahead with this, but we can also do the same with pandas, for better clarity: **"
   ]
  },
  {
   "cell_type": "code",
   "execution_count": 416,
   "metadata": {
    "colab": {
     "base_uri": "https://localhost:8080/",
     "height": 0
    },
    "colab_type": "code",
    "executionInfo": {
     "elapsed": 2120,
     "status": "ok",
     "timestamp": 1550504055817,
     "user": {
      "displayName": "Nishant Sinha",
      "photoUrl": "https://lh6.googleusercontent.com/-qFX6UkRzXUg/AAAAAAAAAAI/AAAAAAAAADQ/7YyiVqsYLVw/s64/photo.jpg",
      "userId": "14342734449519443347"
     },
     "user_tz": -330
    },
    "id": "zuWcMIi5ZVPE",
    "outputId": "718b4d0c-db4b-4d8e-b4a5-fab3dede8c22"
   },
   "outputs": [
    {
     "data": {
      "text/html": [
       "<div>\n",
       "<style scoped>\n",
       "    .dataframe tbody tr th:only-of-type {\n",
       "        vertical-align: middle;\n",
       "    }\n",
       "\n",
       "    .dataframe tbody tr th {\n",
       "        vertical-align: top;\n",
       "    }\n",
       "\n",
       "    .dataframe thead th {\n",
       "        text-align: right;\n",
       "    }\n",
       "</style>\n",
       "<table border=\"1\" class=\"dataframe\">\n",
       "  <thead>\n",
       "    <tr style=\"text-align: right;\">\n",
       "      <th></th>\n",
       "      <th>0</th>\n",
       "      <th>1</th>\n",
       "      <th>2</th>\n",
       "      <th>3</th>\n",
       "      <th>4</th>\n",
       "      <th>5</th>\n",
       "      <th>6</th>\n",
       "      <th>7</th>\n",
       "      <th>8</th>\n",
       "      <th>9</th>\n",
       "      <th>...</th>\n",
       "      <th>20</th>\n",
       "      <th>21</th>\n",
       "      <th>22</th>\n",
       "      <th>23</th>\n",
       "      <th>24</th>\n",
       "      <th>25</th>\n",
       "      <th>26</th>\n",
       "      <th>27</th>\n",
       "      <th>28</th>\n",
       "      <th>29</th>\n",
       "    </tr>\n",
       "  </thead>\n",
       "  <tbody>\n",
       "    <tr>\n",
       "      <th>0</th>\n",
       "      <td>17.99</td>\n",
       "      <td>10.38</td>\n",
       "      <td>122.80</td>\n",
       "      <td>1001.0</td>\n",
       "      <td>0.11840</td>\n",
       "      <td>0.27760</td>\n",
       "      <td>0.3001</td>\n",
       "      <td>0.14710</td>\n",
       "      <td>0.2419</td>\n",
       "      <td>0.07871</td>\n",
       "      <td>...</td>\n",
       "      <td>25.38</td>\n",
       "      <td>17.33</td>\n",
       "      <td>184.60</td>\n",
       "      <td>2019.0</td>\n",
       "      <td>0.1622</td>\n",
       "      <td>0.6656</td>\n",
       "      <td>0.7119</td>\n",
       "      <td>0.2654</td>\n",
       "      <td>0.4601</td>\n",
       "      <td>0.11890</td>\n",
       "    </tr>\n",
       "    <tr>\n",
       "      <th>1</th>\n",
       "      <td>20.57</td>\n",
       "      <td>17.77</td>\n",
       "      <td>132.90</td>\n",
       "      <td>1326.0</td>\n",
       "      <td>0.08474</td>\n",
       "      <td>0.07864</td>\n",
       "      <td>0.0869</td>\n",
       "      <td>0.07017</td>\n",
       "      <td>0.1812</td>\n",
       "      <td>0.05667</td>\n",
       "      <td>...</td>\n",
       "      <td>24.99</td>\n",
       "      <td>23.41</td>\n",
       "      <td>158.80</td>\n",
       "      <td>1956.0</td>\n",
       "      <td>0.1238</td>\n",
       "      <td>0.1866</td>\n",
       "      <td>0.2416</td>\n",
       "      <td>0.1860</td>\n",
       "      <td>0.2750</td>\n",
       "      <td>0.08902</td>\n",
       "    </tr>\n",
       "    <tr>\n",
       "      <th>2</th>\n",
       "      <td>19.69</td>\n",
       "      <td>21.25</td>\n",
       "      <td>130.00</td>\n",
       "      <td>1203.0</td>\n",
       "      <td>0.10960</td>\n",
       "      <td>0.15990</td>\n",
       "      <td>0.1974</td>\n",
       "      <td>0.12790</td>\n",
       "      <td>0.2069</td>\n",
       "      <td>0.05999</td>\n",
       "      <td>...</td>\n",
       "      <td>23.57</td>\n",
       "      <td>25.53</td>\n",
       "      <td>152.50</td>\n",
       "      <td>1709.0</td>\n",
       "      <td>0.1444</td>\n",
       "      <td>0.4245</td>\n",
       "      <td>0.4504</td>\n",
       "      <td>0.2430</td>\n",
       "      <td>0.3613</td>\n",
       "      <td>0.08758</td>\n",
       "    </tr>\n",
       "    <tr>\n",
       "      <th>3</th>\n",
       "      <td>11.42</td>\n",
       "      <td>20.38</td>\n",
       "      <td>77.58</td>\n",
       "      <td>386.1</td>\n",
       "      <td>0.14250</td>\n",
       "      <td>0.28390</td>\n",
       "      <td>0.2414</td>\n",
       "      <td>0.10520</td>\n",
       "      <td>0.2597</td>\n",
       "      <td>0.09744</td>\n",
       "      <td>...</td>\n",
       "      <td>14.91</td>\n",
       "      <td>26.50</td>\n",
       "      <td>98.87</td>\n",
       "      <td>567.7</td>\n",
       "      <td>0.2098</td>\n",
       "      <td>0.8663</td>\n",
       "      <td>0.6869</td>\n",
       "      <td>0.2575</td>\n",
       "      <td>0.6638</td>\n",
       "      <td>0.17300</td>\n",
       "    </tr>\n",
       "    <tr>\n",
       "      <th>4</th>\n",
       "      <td>20.29</td>\n",
       "      <td>14.34</td>\n",
       "      <td>135.10</td>\n",
       "      <td>1297.0</td>\n",
       "      <td>0.10030</td>\n",
       "      <td>0.13280</td>\n",
       "      <td>0.1980</td>\n",
       "      <td>0.10430</td>\n",
       "      <td>0.1809</td>\n",
       "      <td>0.05883</td>\n",
       "      <td>...</td>\n",
       "      <td>22.54</td>\n",
       "      <td>16.67</td>\n",
       "      <td>152.20</td>\n",
       "      <td>1575.0</td>\n",
       "      <td>0.1374</td>\n",
       "      <td>0.2050</td>\n",
       "      <td>0.4000</td>\n",
       "      <td>0.1625</td>\n",
       "      <td>0.2364</td>\n",
       "      <td>0.07678</td>\n",
       "    </tr>\n",
       "  </tbody>\n",
       "</table>\n",
       "<p>5 rows × 30 columns</p>\n",
       "</div>"
      ],
      "text/plain": [
       "      0      1       2       3        4        5       6        7       8   \\\n",
       "0  17.99  10.38  122.80  1001.0  0.11840  0.27760  0.3001  0.14710  0.2419   \n",
       "1  20.57  17.77  132.90  1326.0  0.08474  0.07864  0.0869  0.07017  0.1812   \n",
       "2  19.69  21.25  130.00  1203.0  0.10960  0.15990  0.1974  0.12790  0.2069   \n",
       "3  11.42  20.38   77.58   386.1  0.14250  0.28390  0.2414  0.10520  0.2597   \n",
       "4  20.29  14.34  135.10  1297.0  0.10030  0.13280  0.1980  0.10430  0.1809   \n",
       "\n",
       "        9    ...        20     21      22      23      24      25      26  \\\n",
       "0  0.07871   ...     25.38  17.33  184.60  2019.0  0.1622  0.6656  0.7119   \n",
       "1  0.05667   ...     24.99  23.41  158.80  1956.0  0.1238  0.1866  0.2416   \n",
       "2  0.05999   ...     23.57  25.53  152.50  1709.0  0.1444  0.4245  0.4504   \n",
       "3  0.09744   ...     14.91  26.50   98.87   567.7  0.2098  0.8663  0.6869   \n",
       "4  0.05883   ...     22.54  16.67  152.20  1575.0  0.1374  0.2050  0.4000   \n",
       "\n",
       "       27      28       29  \n",
       "0  0.2654  0.4601  0.11890  \n",
       "1  0.1860  0.2750  0.08902  \n",
       "2  0.2430  0.3613  0.08758  \n",
       "3  0.2575  0.6638  0.17300  \n",
       "4  0.1625  0.2364  0.07678  \n",
       "\n",
       "[5 rows x 30 columns]"
      ]
     },
     "execution_count": 416,
     "metadata": {
      "tags": []
     },
     "output_type": "execute_result"
    }
   ],
   "source": [
    "data = pd.DataFrame(breast_cancer.data)\n",
    "data.head()"
   ]
  },
  {
   "cell_type": "markdown",
   "metadata": {
    "colab_type": "text",
    "id": "Uteqy_5CmPZc"
   },
   "source": [
    "**Since by default, we don't have the columns, we will have to use the column argument:**"
   ]
  },
  {
   "cell_type": "code",
   "execution_count": 417,
   "metadata": {
    "colab": {
     "base_uri": "https://localhost:8080/",
     "height": 0
    },
    "colab_type": "code",
    "executionInfo": {
     "elapsed": 2103,
     "status": "ok",
     "timestamp": 1550504055820,
     "user": {
      "displayName": "Nishant Sinha",
      "photoUrl": "https://lh6.googleusercontent.com/-qFX6UkRzXUg/AAAAAAAAAAI/AAAAAAAAADQ/7YyiVqsYLVw/s64/photo.jpg",
      "userId": "14342734449519443347"
     },
     "user_tz": -330
    },
    "id": "g9yEQIC8l4nM",
    "outputId": "74cb11dd-ba27-4e13-b956-4e11c799fdea"
   },
   "outputs": [
    {
     "data": {
      "text/html": [
       "<div>\n",
       "<style scoped>\n",
       "    .dataframe tbody tr th:only-of-type {\n",
       "        vertical-align: middle;\n",
       "    }\n",
       "\n",
       "    .dataframe tbody tr th {\n",
       "        vertical-align: top;\n",
       "    }\n",
       "\n",
       "    .dataframe thead th {\n",
       "        text-align: right;\n",
       "    }\n",
       "</style>\n",
       "<table border=\"1\" class=\"dataframe\">\n",
       "  <thead>\n",
       "    <tr style=\"text-align: right;\">\n",
       "      <th></th>\n",
       "      <th>mean radius</th>\n",
       "      <th>mean texture</th>\n",
       "      <th>mean perimeter</th>\n",
       "      <th>mean area</th>\n",
       "      <th>mean smoothness</th>\n",
       "      <th>mean compactness</th>\n",
       "      <th>mean concavity</th>\n",
       "      <th>mean concave points</th>\n",
       "      <th>mean symmetry</th>\n",
       "      <th>mean fractal dimension</th>\n",
       "      <th>...</th>\n",
       "      <th>worst radius</th>\n",
       "      <th>worst texture</th>\n",
       "      <th>worst perimeter</th>\n",
       "      <th>worst area</th>\n",
       "      <th>worst smoothness</th>\n",
       "      <th>worst compactness</th>\n",
       "      <th>worst concavity</th>\n",
       "      <th>worst concave points</th>\n",
       "      <th>worst symmetry</th>\n",
       "      <th>worst fractal dimension</th>\n",
       "    </tr>\n",
       "  </thead>\n",
       "  <tbody>\n",
       "    <tr>\n",
       "      <th>0</th>\n",
       "      <td>17.99</td>\n",
       "      <td>10.38</td>\n",
       "      <td>122.80</td>\n",
       "      <td>1001.0</td>\n",
       "      <td>0.11840</td>\n",
       "      <td>0.27760</td>\n",
       "      <td>0.3001</td>\n",
       "      <td>0.14710</td>\n",
       "      <td>0.2419</td>\n",
       "      <td>0.07871</td>\n",
       "      <td>...</td>\n",
       "      <td>25.38</td>\n",
       "      <td>17.33</td>\n",
       "      <td>184.60</td>\n",
       "      <td>2019.0</td>\n",
       "      <td>0.1622</td>\n",
       "      <td>0.6656</td>\n",
       "      <td>0.7119</td>\n",
       "      <td>0.2654</td>\n",
       "      <td>0.4601</td>\n",
       "      <td>0.11890</td>\n",
       "    </tr>\n",
       "    <tr>\n",
       "      <th>1</th>\n",
       "      <td>20.57</td>\n",
       "      <td>17.77</td>\n",
       "      <td>132.90</td>\n",
       "      <td>1326.0</td>\n",
       "      <td>0.08474</td>\n",
       "      <td>0.07864</td>\n",
       "      <td>0.0869</td>\n",
       "      <td>0.07017</td>\n",
       "      <td>0.1812</td>\n",
       "      <td>0.05667</td>\n",
       "      <td>...</td>\n",
       "      <td>24.99</td>\n",
       "      <td>23.41</td>\n",
       "      <td>158.80</td>\n",
       "      <td>1956.0</td>\n",
       "      <td>0.1238</td>\n",
       "      <td>0.1866</td>\n",
       "      <td>0.2416</td>\n",
       "      <td>0.1860</td>\n",
       "      <td>0.2750</td>\n",
       "      <td>0.08902</td>\n",
       "    </tr>\n",
       "    <tr>\n",
       "      <th>2</th>\n",
       "      <td>19.69</td>\n",
       "      <td>21.25</td>\n",
       "      <td>130.00</td>\n",
       "      <td>1203.0</td>\n",
       "      <td>0.10960</td>\n",
       "      <td>0.15990</td>\n",
       "      <td>0.1974</td>\n",
       "      <td>0.12790</td>\n",
       "      <td>0.2069</td>\n",
       "      <td>0.05999</td>\n",
       "      <td>...</td>\n",
       "      <td>23.57</td>\n",
       "      <td>25.53</td>\n",
       "      <td>152.50</td>\n",
       "      <td>1709.0</td>\n",
       "      <td>0.1444</td>\n",
       "      <td>0.4245</td>\n",
       "      <td>0.4504</td>\n",
       "      <td>0.2430</td>\n",
       "      <td>0.3613</td>\n",
       "      <td>0.08758</td>\n",
       "    </tr>\n",
       "    <tr>\n",
       "      <th>3</th>\n",
       "      <td>11.42</td>\n",
       "      <td>20.38</td>\n",
       "      <td>77.58</td>\n",
       "      <td>386.1</td>\n",
       "      <td>0.14250</td>\n",
       "      <td>0.28390</td>\n",
       "      <td>0.2414</td>\n",
       "      <td>0.10520</td>\n",
       "      <td>0.2597</td>\n",
       "      <td>0.09744</td>\n",
       "      <td>...</td>\n",
       "      <td>14.91</td>\n",
       "      <td>26.50</td>\n",
       "      <td>98.87</td>\n",
       "      <td>567.7</td>\n",
       "      <td>0.2098</td>\n",
       "      <td>0.8663</td>\n",
       "      <td>0.6869</td>\n",
       "      <td>0.2575</td>\n",
       "      <td>0.6638</td>\n",
       "      <td>0.17300</td>\n",
       "    </tr>\n",
       "    <tr>\n",
       "      <th>4</th>\n",
       "      <td>20.29</td>\n",
       "      <td>14.34</td>\n",
       "      <td>135.10</td>\n",
       "      <td>1297.0</td>\n",
       "      <td>0.10030</td>\n",
       "      <td>0.13280</td>\n",
       "      <td>0.1980</td>\n",
       "      <td>0.10430</td>\n",
       "      <td>0.1809</td>\n",
       "      <td>0.05883</td>\n",
       "      <td>...</td>\n",
       "      <td>22.54</td>\n",
       "      <td>16.67</td>\n",
       "      <td>152.20</td>\n",
       "      <td>1575.0</td>\n",
       "      <td>0.1374</td>\n",
       "      <td>0.2050</td>\n",
       "      <td>0.4000</td>\n",
       "      <td>0.1625</td>\n",
       "      <td>0.2364</td>\n",
       "      <td>0.07678</td>\n",
       "    </tr>\n",
       "  </tbody>\n",
       "</table>\n",
       "<p>5 rows × 30 columns</p>\n",
       "</div>"
      ],
      "text/plain": [
       "   mean radius  mean texture  mean perimeter  mean area  mean smoothness  \\\n",
       "0        17.99         10.38          122.80     1001.0          0.11840   \n",
       "1        20.57         17.77          132.90     1326.0          0.08474   \n",
       "2        19.69         21.25          130.00     1203.0          0.10960   \n",
       "3        11.42         20.38           77.58      386.1          0.14250   \n",
       "4        20.29         14.34          135.10     1297.0          0.10030   \n",
       "\n",
       "   mean compactness  mean concavity  mean concave points  mean symmetry  \\\n",
       "0           0.27760          0.3001              0.14710         0.2419   \n",
       "1           0.07864          0.0869              0.07017         0.1812   \n",
       "2           0.15990          0.1974              0.12790         0.2069   \n",
       "3           0.28390          0.2414              0.10520         0.2597   \n",
       "4           0.13280          0.1980              0.10430         0.1809   \n",
       "\n",
       "   mean fractal dimension           ...             worst radius  \\\n",
       "0                 0.07871           ...                    25.38   \n",
       "1                 0.05667           ...                    24.99   \n",
       "2                 0.05999           ...                    23.57   \n",
       "3                 0.09744           ...                    14.91   \n",
       "4                 0.05883           ...                    22.54   \n",
       "\n",
       "   worst texture  worst perimeter  worst area  worst smoothness  \\\n",
       "0          17.33           184.60      2019.0            0.1622   \n",
       "1          23.41           158.80      1956.0            0.1238   \n",
       "2          25.53           152.50      1709.0            0.1444   \n",
       "3          26.50            98.87       567.7            0.2098   \n",
       "4          16.67           152.20      1575.0            0.1374   \n",
       "\n",
       "   worst compactness  worst concavity  worst concave points  worst symmetry  \\\n",
       "0             0.6656           0.7119                0.2654          0.4601   \n",
       "1             0.1866           0.2416                0.1860          0.2750   \n",
       "2             0.4245           0.4504                0.2430          0.3613   \n",
       "3             0.8663           0.6869                0.2575          0.6638   \n",
       "4             0.2050           0.4000                0.1625          0.2364   \n",
       "\n",
       "   worst fractal dimension  \n",
       "0                  0.11890  \n",
       "1                  0.08902  \n",
       "2                  0.08758  \n",
       "3                  0.17300  \n",
       "4                  0.07678  \n",
       "\n",
       "[5 rows x 30 columns]"
      ]
     },
     "execution_count": 417,
     "metadata": {
      "tags": []
     },
     "output_type": "execute_result"
    }
   ],
   "source": [
    "data = pd.DataFrame(breast_cancer.data,columns=breast_cancer.feature_names)\n",
    "data.head()"
   ]
  },
  {
   "cell_type": "markdown",
   "metadata": {
    "colab_type": "text",
    "id": "kBmAsgHsmsPJ"
   },
   "source": [
    "**We can now add the target as a column in the data as: **"
   ]
  },
  {
   "cell_type": "code",
   "execution_count": null,
   "metadata": {
    "colab": {},
    "colab_type": "code",
    "id": "J0FIUyNrmLZW"
   },
   "outputs": [],
   "source": [
    "data['target_class'] = breast_cancer.target"
   ]
  },
  {
   "cell_type": "code",
   "execution_count": 419,
   "metadata": {
    "colab": {
     "base_uri": "https://localhost:8080/",
     "height": 0
    },
    "colab_type": "code",
    "executionInfo": {
     "elapsed": 2661,
     "status": "ok",
     "timestamp": 1550504056425,
     "user": {
      "displayName": "Nishant Sinha",
      "photoUrl": "https://lh6.googleusercontent.com/-qFX6UkRzXUg/AAAAAAAAAAI/AAAAAAAAADQ/7YyiVqsYLVw/s64/photo.jpg",
      "userId": "14342734449519443347"
     },
     "user_tz": -330
    },
    "id": "q2dnzKUum_qZ",
    "outputId": "1a0ad712-0e97-4934-986a-7541961b3ca6"
   },
   "outputs": [
    {
     "data": {
      "text/plain": [
       "Index(['mean radius', 'mean texture', 'mean perimeter', 'mean area',\n",
       "       'mean smoothness', 'mean compactness', 'mean concavity',\n",
       "       'mean concave points', 'mean symmetry', 'mean fractal dimension',\n",
       "       'radius error', 'texture error', 'perimeter error', 'area error',\n",
       "       'smoothness error', 'compactness error', 'concavity error',\n",
       "       'concave points error', 'symmetry error', 'fractal dimension error',\n",
       "       'worst radius', 'worst texture', 'worst perimeter', 'worst area',\n",
       "       'worst smoothness', 'worst compactness', 'worst concavity',\n",
       "       'worst concave points', 'worst symmetry', 'worst fractal dimension',\n",
       "       'target_class'],\n",
       "      dtype='object')"
      ]
     },
     "execution_count": 419,
     "metadata": {
      "tags": []
     },
     "output_type": "execute_result"
    }
   ],
   "source": [
    "data.columns"
   ]
  },
  {
   "cell_type": "code",
   "execution_count": 420,
   "metadata": {
    "colab": {
     "base_uri": "https://localhost:8080/",
     "height": 0
    },
    "colab_type": "code",
    "executionInfo": {
     "elapsed": 2642,
     "status": "ok",
     "timestamp": 1550504056436,
     "user": {
      "displayName": "Nishant Sinha",
      "photoUrl": "https://lh6.googleusercontent.com/-qFX6UkRzXUg/AAAAAAAAAAI/AAAAAAAAADQ/7YyiVqsYLVw/s64/photo.jpg",
      "userId": "14342734449519443347"
     },
     "user_tz": -330
    },
    "id": "DSjmLi0qnB-G",
    "outputId": "78c2ec94-cb9c-4e92-cfc3-df148bf269a7"
   },
   "outputs": [
    {
     "data": {
      "text/html": [
       "<div>\n",
       "<style scoped>\n",
       "    .dataframe tbody tr th:only-of-type {\n",
       "        vertical-align: middle;\n",
       "    }\n",
       "\n",
       "    .dataframe tbody tr th {\n",
       "        vertical-align: top;\n",
       "    }\n",
       "\n",
       "    .dataframe thead th {\n",
       "        text-align: right;\n",
       "    }\n",
       "</style>\n",
       "<table border=\"1\" class=\"dataframe\">\n",
       "  <thead>\n",
       "    <tr style=\"text-align: right;\">\n",
       "      <th></th>\n",
       "      <th>mean radius</th>\n",
       "      <th>mean texture</th>\n",
       "      <th>mean perimeter</th>\n",
       "      <th>mean area</th>\n",
       "      <th>mean smoothness</th>\n",
       "      <th>mean compactness</th>\n",
       "      <th>mean concavity</th>\n",
       "      <th>mean concave points</th>\n",
       "      <th>mean symmetry</th>\n",
       "      <th>mean fractal dimension</th>\n",
       "      <th>...</th>\n",
       "      <th>worst texture</th>\n",
       "      <th>worst perimeter</th>\n",
       "      <th>worst area</th>\n",
       "      <th>worst smoothness</th>\n",
       "      <th>worst compactness</th>\n",
       "      <th>worst concavity</th>\n",
       "      <th>worst concave points</th>\n",
       "      <th>worst symmetry</th>\n",
       "      <th>worst fractal dimension</th>\n",
       "      <th>target_class</th>\n",
       "    </tr>\n",
       "  </thead>\n",
       "  <tbody>\n",
       "    <tr>\n",
       "      <th>0</th>\n",
       "      <td>17.99</td>\n",
       "      <td>10.38</td>\n",
       "      <td>122.80</td>\n",
       "      <td>1001.0</td>\n",
       "      <td>0.11840</td>\n",
       "      <td>0.27760</td>\n",
       "      <td>0.3001</td>\n",
       "      <td>0.14710</td>\n",
       "      <td>0.2419</td>\n",
       "      <td>0.07871</td>\n",
       "      <td>...</td>\n",
       "      <td>17.33</td>\n",
       "      <td>184.60</td>\n",
       "      <td>2019.0</td>\n",
       "      <td>0.1622</td>\n",
       "      <td>0.6656</td>\n",
       "      <td>0.7119</td>\n",
       "      <td>0.2654</td>\n",
       "      <td>0.4601</td>\n",
       "      <td>0.11890</td>\n",
       "      <td>0</td>\n",
       "    </tr>\n",
       "    <tr>\n",
       "      <th>1</th>\n",
       "      <td>20.57</td>\n",
       "      <td>17.77</td>\n",
       "      <td>132.90</td>\n",
       "      <td>1326.0</td>\n",
       "      <td>0.08474</td>\n",
       "      <td>0.07864</td>\n",
       "      <td>0.0869</td>\n",
       "      <td>0.07017</td>\n",
       "      <td>0.1812</td>\n",
       "      <td>0.05667</td>\n",
       "      <td>...</td>\n",
       "      <td>23.41</td>\n",
       "      <td>158.80</td>\n",
       "      <td>1956.0</td>\n",
       "      <td>0.1238</td>\n",
       "      <td>0.1866</td>\n",
       "      <td>0.2416</td>\n",
       "      <td>0.1860</td>\n",
       "      <td>0.2750</td>\n",
       "      <td>0.08902</td>\n",
       "      <td>0</td>\n",
       "    </tr>\n",
       "    <tr>\n",
       "      <th>2</th>\n",
       "      <td>19.69</td>\n",
       "      <td>21.25</td>\n",
       "      <td>130.00</td>\n",
       "      <td>1203.0</td>\n",
       "      <td>0.10960</td>\n",
       "      <td>0.15990</td>\n",
       "      <td>0.1974</td>\n",
       "      <td>0.12790</td>\n",
       "      <td>0.2069</td>\n",
       "      <td>0.05999</td>\n",
       "      <td>...</td>\n",
       "      <td>25.53</td>\n",
       "      <td>152.50</td>\n",
       "      <td>1709.0</td>\n",
       "      <td>0.1444</td>\n",
       "      <td>0.4245</td>\n",
       "      <td>0.4504</td>\n",
       "      <td>0.2430</td>\n",
       "      <td>0.3613</td>\n",
       "      <td>0.08758</td>\n",
       "      <td>0</td>\n",
       "    </tr>\n",
       "    <tr>\n",
       "      <th>3</th>\n",
       "      <td>11.42</td>\n",
       "      <td>20.38</td>\n",
       "      <td>77.58</td>\n",
       "      <td>386.1</td>\n",
       "      <td>0.14250</td>\n",
       "      <td>0.28390</td>\n",
       "      <td>0.2414</td>\n",
       "      <td>0.10520</td>\n",
       "      <td>0.2597</td>\n",
       "      <td>0.09744</td>\n",
       "      <td>...</td>\n",
       "      <td>26.50</td>\n",
       "      <td>98.87</td>\n",
       "      <td>567.7</td>\n",
       "      <td>0.2098</td>\n",
       "      <td>0.8663</td>\n",
       "      <td>0.6869</td>\n",
       "      <td>0.2575</td>\n",
       "      <td>0.6638</td>\n",
       "      <td>0.17300</td>\n",
       "      <td>0</td>\n",
       "    </tr>\n",
       "    <tr>\n",
       "      <th>4</th>\n",
       "      <td>20.29</td>\n",
       "      <td>14.34</td>\n",
       "      <td>135.10</td>\n",
       "      <td>1297.0</td>\n",
       "      <td>0.10030</td>\n",
       "      <td>0.13280</td>\n",
       "      <td>0.1980</td>\n",
       "      <td>0.10430</td>\n",
       "      <td>0.1809</td>\n",
       "      <td>0.05883</td>\n",
       "      <td>...</td>\n",
       "      <td>16.67</td>\n",
       "      <td>152.20</td>\n",
       "      <td>1575.0</td>\n",
       "      <td>0.1374</td>\n",
       "      <td>0.2050</td>\n",
       "      <td>0.4000</td>\n",
       "      <td>0.1625</td>\n",
       "      <td>0.2364</td>\n",
       "      <td>0.07678</td>\n",
       "      <td>0</td>\n",
       "    </tr>\n",
       "  </tbody>\n",
       "</table>\n",
       "<p>5 rows × 31 columns</p>\n",
       "</div>"
      ],
      "text/plain": [
       "   mean radius  mean texture  mean perimeter  mean area  mean smoothness  \\\n",
       "0        17.99         10.38          122.80     1001.0          0.11840   \n",
       "1        20.57         17.77          132.90     1326.0          0.08474   \n",
       "2        19.69         21.25          130.00     1203.0          0.10960   \n",
       "3        11.42         20.38           77.58      386.1          0.14250   \n",
       "4        20.29         14.34          135.10     1297.0          0.10030   \n",
       "\n",
       "   mean compactness  mean concavity  mean concave points  mean symmetry  \\\n",
       "0           0.27760          0.3001              0.14710         0.2419   \n",
       "1           0.07864          0.0869              0.07017         0.1812   \n",
       "2           0.15990          0.1974              0.12790         0.2069   \n",
       "3           0.28390          0.2414              0.10520         0.2597   \n",
       "4           0.13280          0.1980              0.10430         0.1809   \n",
       "\n",
       "   mean fractal dimension      ...       worst texture  worst perimeter  \\\n",
       "0                 0.07871      ...               17.33           184.60   \n",
       "1                 0.05667      ...               23.41           158.80   \n",
       "2                 0.05999      ...               25.53           152.50   \n",
       "3                 0.09744      ...               26.50            98.87   \n",
       "4                 0.05883      ...               16.67           152.20   \n",
       "\n",
       "   worst area  worst smoothness  worst compactness  worst concavity  \\\n",
       "0      2019.0            0.1622             0.6656           0.7119   \n",
       "1      1956.0            0.1238             0.1866           0.2416   \n",
       "2      1709.0            0.1444             0.4245           0.4504   \n",
       "3       567.7            0.2098             0.8663           0.6869   \n",
       "4      1575.0            0.1374             0.2050           0.4000   \n",
       "\n",
       "   worst concave points  worst symmetry  worst fractal dimension  target_class  \n",
       "0                0.2654          0.4601                  0.11890             0  \n",
       "1                0.1860          0.2750                  0.08902             0  \n",
       "2                0.2430          0.3613                  0.08758             0  \n",
       "3                0.2575          0.6638                  0.17300             0  \n",
       "4                0.1625          0.2364                  0.07678             0  \n",
       "\n",
       "[5 rows x 31 columns]"
      ]
     },
     "execution_count": 420,
     "metadata": {
      "tags": []
     },
     "output_type": "execute_result"
    }
   ],
   "source": [
    "data.head()"
   ]
  },
  {
   "cell_type": "code",
   "execution_count": 421,
   "metadata": {
    "colab": {
     "base_uri": "https://localhost:8080/",
     "height": 0
    },
    "colab_type": "code",
    "executionInfo": {
     "elapsed": 2614,
     "status": "ok",
     "timestamp": 1550504056440,
     "user": {
      "displayName": "Nishant Sinha",
      "photoUrl": "https://lh6.googleusercontent.com/-qFX6UkRzXUg/AAAAAAAAAAI/AAAAAAAAADQ/7YyiVqsYLVw/s64/photo.jpg",
      "userId": "14342734449519443347"
     },
     "user_tz": -330
    },
    "id": "gShO0rV7nN6e",
    "outputId": "fcfd9a3e-1464-46cc-b536-b4e401ec1fa7"
   },
   "outputs": [
    {
     "data": {
      "text/html": [
       "<div>\n",
       "<style scoped>\n",
       "    .dataframe tbody tr th:only-of-type {\n",
       "        vertical-align: middle;\n",
       "    }\n",
       "\n",
       "    .dataframe tbody tr th {\n",
       "        vertical-align: top;\n",
       "    }\n",
       "\n",
       "    .dataframe thead th {\n",
       "        text-align: right;\n",
       "    }\n",
       "</style>\n",
       "<table border=\"1\" class=\"dataframe\">\n",
       "  <thead>\n",
       "    <tr style=\"text-align: right;\">\n",
       "      <th></th>\n",
       "      <th>mean radius</th>\n",
       "      <th>mean texture</th>\n",
       "      <th>mean perimeter</th>\n",
       "      <th>mean area</th>\n",
       "      <th>mean smoothness</th>\n",
       "      <th>mean compactness</th>\n",
       "      <th>mean concavity</th>\n",
       "      <th>mean concave points</th>\n",
       "      <th>mean symmetry</th>\n",
       "      <th>mean fractal dimension</th>\n",
       "      <th>...</th>\n",
       "      <th>worst texture</th>\n",
       "      <th>worst perimeter</th>\n",
       "      <th>worst area</th>\n",
       "      <th>worst smoothness</th>\n",
       "      <th>worst compactness</th>\n",
       "      <th>worst concavity</th>\n",
       "      <th>worst concave points</th>\n",
       "      <th>worst symmetry</th>\n",
       "      <th>worst fractal dimension</th>\n",
       "      <th>target_class</th>\n",
       "    </tr>\n",
       "  </thead>\n",
       "  <tbody>\n",
       "    <tr>\n",
       "      <th>count</th>\n",
       "      <td>569.000000</td>\n",
       "      <td>569.000000</td>\n",
       "      <td>569.000000</td>\n",
       "      <td>569.000000</td>\n",
       "      <td>569.000000</td>\n",
       "      <td>569.000000</td>\n",
       "      <td>569.000000</td>\n",
       "      <td>569.000000</td>\n",
       "      <td>569.000000</td>\n",
       "      <td>569.000000</td>\n",
       "      <td>...</td>\n",
       "      <td>569.000000</td>\n",
       "      <td>569.000000</td>\n",
       "      <td>569.000000</td>\n",
       "      <td>569.000000</td>\n",
       "      <td>569.000000</td>\n",
       "      <td>569.000000</td>\n",
       "      <td>569.000000</td>\n",
       "      <td>569.000000</td>\n",
       "      <td>569.000000</td>\n",
       "      <td>569.000000</td>\n",
       "    </tr>\n",
       "    <tr>\n",
       "      <th>mean</th>\n",
       "      <td>14.127292</td>\n",
       "      <td>19.289649</td>\n",
       "      <td>91.969033</td>\n",
       "      <td>654.889104</td>\n",
       "      <td>0.096360</td>\n",
       "      <td>0.104341</td>\n",
       "      <td>0.088799</td>\n",
       "      <td>0.048919</td>\n",
       "      <td>0.181162</td>\n",
       "      <td>0.062798</td>\n",
       "      <td>...</td>\n",
       "      <td>25.677223</td>\n",
       "      <td>107.261213</td>\n",
       "      <td>880.583128</td>\n",
       "      <td>0.132369</td>\n",
       "      <td>0.254265</td>\n",
       "      <td>0.272188</td>\n",
       "      <td>0.114606</td>\n",
       "      <td>0.290076</td>\n",
       "      <td>0.083946</td>\n",
       "      <td>0.627417</td>\n",
       "    </tr>\n",
       "    <tr>\n",
       "      <th>std</th>\n",
       "      <td>3.524049</td>\n",
       "      <td>4.301036</td>\n",
       "      <td>24.298981</td>\n",
       "      <td>351.914129</td>\n",
       "      <td>0.014064</td>\n",
       "      <td>0.052813</td>\n",
       "      <td>0.079720</td>\n",
       "      <td>0.038803</td>\n",
       "      <td>0.027414</td>\n",
       "      <td>0.007060</td>\n",
       "      <td>...</td>\n",
       "      <td>6.146258</td>\n",
       "      <td>33.602542</td>\n",
       "      <td>569.356993</td>\n",
       "      <td>0.022832</td>\n",
       "      <td>0.157336</td>\n",
       "      <td>0.208624</td>\n",
       "      <td>0.065732</td>\n",
       "      <td>0.061867</td>\n",
       "      <td>0.018061</td>\n",
       "      <td>0.483918</td>\n",
       "    </tr>\n",
       "    <tr>\n",
       "      <th>min</th>\n",
       "      <td>6.981000</td>\n",
       "      <td>9.710000</td>\n",
       "      <td>43.790000</td>\n",
       "      <td>143.500000</td>\n",
       "      <td>0.052630</td>\n",
       "      <td>0.019380</td>\n",
       "      <td>0.000000</td>\n",
       "      <td>0.000000</td>\n",
       "      <td>0.106000</td>\n",
       "      <td>0.049960</td>\n",
       "      <td>...</td>\n",
       "      <td>12.020000</td>\n",
       "      <td>50.410000</td>\n",
       "      <td>185.200000</td>\n",
       "      <td>0.071170</td>\n",
       "      <td>0.027290</td>\n",
       "      <td>0.000000</td>\n",
       "      <td>0.000000</td>\n",
       "      <td>0.156500</td>\n",
       "      <td>0.055040</td>\n",
       "      <td>0.000000</td>\n",
       "    </tr>\n",
       "    <tr>\n",
       "      <th>25%</th>\n",
       "      <td>11.700000</td>\n",
       "      <td>16.170000</td>\n",
       "      <td>75.170000</td>\n",
       "      <td>420.300000</td>\n",
       "      <td>0.086370</td>\n",
       "      <td>0.064920</td>\n",
       "      <td>0.029560</td>\n",
       "      <td>0.020310</td>\n",
       "      <td>0.161900</td>\n",
       "      <td>0.057700</td>\n",
       "      <td>...</td>\n",
       "      <td>21.080000</td>\n",
       "      <td>84.110000</td>\n",
       "      <td>515.300000</td>\n",
       "      <td>0.116600</td>\n",
       "      <td>0.147200</td>\n",
       "      <td>0.114500</td>\n",
       "      <td>0.064930</td>\n",
       "      <td>0.250400</td>\n",
       "      <td>0.071460</td>\n",
       "      <td>0.000000</td>\n",
       "    </tr>\n",
       "    <tr>\n",
       "      <th>50%</th>\n",
       "      <td>13.370000</td>\n",
       "      <td>18.840000</td>\n",
       "      <td>86.240000</td>\n",
       "      <td>551.100000</td>\n",
       "      <td>0.095870</td>\n",
       "      <td>0.092630</td>\n",
       "      <td>0.061540</td>\n",
       "      <td>0.033500</td>\n",
       "      <td>0.179200</td>\n",
       "      <td>0.061540</td>\n",
       "      <td>...</td>\n",
       "      <td>25.410000</td>\n",
       "      <td>97.660000</td>\n",
       "      <td>686.500000</td>\n",
       "      <td>0.131300</td>\n",
       "      <td>0.211900</td>\n",
       "      <td>0.226700</td>\n",
       "      <td>0.099930</td>\n",
       "      <td>0.282200</td>\n",
       "      <td>0.080040</td>\n",
       "      <td>1.000000</td>\n",
       "    </tr>\n",
       "    <tr>\n",
       "      <th>75%</th>\n",
       "      <td>15.780000</td>\n",
       "      <td>21.800000</td>\n",
       "      <td>104.100000</td>\n",
       "      <td>782.700000</td>\n",
       "      <td>0.105300</td>\n",
       "      <td>0.130400</td>\n",
       "      <td>0.130700</td>\n",
       "      <td>0.074000</td>\n",
       "      <td>0.195700</td>\n",
       "      <td>0.066120</td>\n",
       "      <td>...</td>\n",
       "      <td>29.720000</td>\n",
       "      <td>125.400000</td>\n",
       "      <td>1084.000000</td>\n",
       "      <td>0.146000</td>\n",
       "      <td>0.339100</td>\n",
       "      <td>0.382900</td>\n",
       "      <td>0.161400</td>\n",
       "      <td>0.317900</td>\n",
       "      <td>0.092080</td>\n",
       "      <td>1.000000</td>\n",
       "    </tr>\n",
       "    <tr>\n",
       "      <th>max</th>\n",
       "      <td>28.110000</td>\n",
       "      <td>39.280000</td>\n",
       "      <td>188.500000</td>\n",
       "      <td>2501.000000</td>\n",
       "      <td>0.163400</td>\n",
       "      <td>0.345400</td>\n",
       "      <td>0.426800</td>\n",
       "      <td>0.201200</td>\n",
       "      <td>0.304000</td>\n",
       "      <td>0.097440</td>\n",
       "      <td>...</td>\n",
       "      <td>49.540000</td>\n",
       "      <td>251.200000</td>\n",
       "      <td>4254.000000</td>\n",
       "      <td>0.222600</td>\n",
       "      <td>1.058000</td>\n",
       "      <td>1.252000</td>\n",
       "      <td>0.291000</td>\n",
       "      <td>0.663800</td>\n",
       "      <td>0.207500</td>\n",
       "      <td>1.000000</td>\n",
       "    </tr>\n",
       "  </tbody>\n",
       "</table>\n",
       "<p>8 rows × 31 columns</p>\n",
       "</div>"
      ],
      "text/plain": [
       "       mean radius  mean texture  mean perimeter    mean area  \\\n",
       "count   569.000000    569.000000      569.000000   569.000000   \n",
       "mean     14.127292     19.289649       91.969033   654.889104   \n",
       "std       3.524049      4.301036       24.298981   351.914129   \n",
       "min       6.981000      9.710000       43.790000   143.500000   \n",
       "25%      11.700000     16.170000       75.170000   420.300000   \n",
       "50%      13.370000     18.840000       86.240000   551.100000   \n",
       "75%      15.780000     21.800000      104.100000   782.700000   \n",
       "max      28.110000     39.280000      188.500000  2501.000000   \n",
       "\n",
       "       mean smoothness  mean compactness  mean concavity  mean concave points  \\\n",
       "count       569.000000        569.000000      569.000000           569.000000   \n",
       "mean          0.096360          0.104341        0.088799             0.048919   \n",
       "std           0.014064          0.052813        0.079720             0.038803   \n",
       "min           0.052630          0.019380        0.000000             0.000000   \n",
       "25%           0.086370          0.064920        0.029560             0.020310   \n",
       "50%           0.095870          0.092630        0.061540             0.033500   \n",
       "75%           0.105300          0.130400        0.130700             0.074000   \n",
       "max           0.163400          0.345400        0.426800             0.201200   \n",
       "\n",
       "       mean symmetry  mean fractal dimension      ...       worst texture  \\\n",
       "count     569.000000              569.000000      ...          569.000000   \n",
       "mean        0.181162                0.062798      ...           25.677223   \n",
       "std         0.027414                0.007060      ...            6.146258   \n",
       "min         0.106000                0.049960      ...           12.020000   \n",
       "25%         0.161900                0.057700      ...           21.080000   \n",
       "50%         0.179200                0.061540      ...           25.410000   \n",
       "75%         0.195700                0.066120      ...           29.720000   \n",
       "max         0.304000                0.097440      ...           49.540000   \n",
       "\n",
       "       worst perimeter   worst area  worst smoothness  worst compactness  \\\n",
       "count       569.000000   569.000000        569.000000         569.000000   \n",
       "mean        107.261213   880.583128          0.132369           0.254265   \n",
       "std          33.602542   569.356993          0.022832           0.157336   \n",
       "min          50.410000   185.200000          0.071170           0.027290   \n",
       "25%          84.110000   515.300000          0.116600           0.147200   \n",
       "50%          97.660000   686.500000          0.131300           0.211900   \n",
       "75%         125.400000  1084.000000          0.146000           0.339100   \n",
       "max         251.200000  4254.000000          0.222600           1.058000   \n",
       "\n",
       "       worst concavity  worst concave points  worst symmetry  \\\n",
       "count       569.000000            569.000000      569.000000   \n",
       "mean          0.272188              0.114606        0.290076   \n",
       "std           0.208624              0.065732        0.061867   \n",
       "min           0.000000              0.000000        0.156500   \n",
       "25%           0.114500              0.064930        0.250400   \n",
       "50%           0.226700              0.099930        0.282200   \n",
       "75%           0.382900              0.161400        0.317900   \n",
       "max           1.252000              0.291000        0.663800   \n",
       "\n",
       "       worst fractal dimension  target_class  \n",
       "count               569.000000    569.000000  \n",
       "mean                  0.083946      0.627417  \n",
       "std                   0.018061      0.483918  \n",
       "min                   0.055040      0.000000  \n",
       "25%                   0.071460      0.000000  \n",
       "50%                   0.080040      1.000000  \n",
       "75%                   0.092080      1.000000  \n",
       "max                   0.207500      1.000000  \n",
       "\n",
       "[8 rows x 31 columns]"
      ]
     },
     "execution_count": 421,
     "metadata": {
      "tags": []
     },
     "output_type": "execute_result"
    }
   ],
   "source": [
    "data.describe()"
   ]
  },
  {
   "cell_type": "markdown",
   "metadata": {
    "colab_type": "text",
    "id": "ghpZYFHQnfaz"
   },
   "source": [
    "*We can see that the number of 1 in the \"target_class\" is more than the number of 0\n",
    "(evident from the mean)*\n"
   ]
  },
  {
   "cell_type": "code",
   "execution_count": 422,
   "metadata": {
    "colab": {
     "base_uri": "https://localhost:8080/",
     "height": 0
    },
    "colab_type": "code",
    "executionInfo": {
     "elapsed": 2599,
     "status": "ok",
     "timestamp": 1550504056443,
     "user": {
      "displayName": "Nishant Sinha",
      "photoUrl": "https://lh6.googleusercontent.com/-qFX6UkRzXUg/AAAAAAAAAAI/AAAAAAAAADQ/7YyiVqsYLVw/s64/photo.jpg",
      "userId": "14342734449519443347"
     },
     "user_tz": -330
    },
    "id": "jwETDZxznc-3",
    "outputId": "2857850b-3b13-4fef-a27e-40bf840f57f0"
   },
   "outputs": [
    {
     "data": {
      "text/plain": [
       "1    357\n",
       "0    212\n",
       "Name: target_class, dtype: int64"
      ]
     },
     "execution_count": 422,
     "metadata": {
      "tags": []
     },
     "output_type": "execute_result"
    }
   ],
   "source": [
    "data['target_class'].value_counts()"
   ]
  },
  {
   "cell_type": "code",
   "execution_count": null,
   "metadata": {
    "colab": {},
    "colab_type": "code",
    "id": "e_nfP4S0ouMP"
   },
   "outputs": [],
   "source": []
  },
  {
   "cell_type": "code",
   "execution_count": 423,
   "metadata": {
    "colab": {
     "base_uri": "https://localhost:8080/",
     "height": 0
    },
    "colab_type": "code",
    "executionInfo": {
     "elapsed": 2537,
     "status": "ok",
     "timestamp": 1550504056453,
     "user": {
      "displayName": "Nishant Sinha",
      "photoUrl": "https://lh6.googleusercontent.com/-qFX6UkRzXUg/AAAAAAAAAAI/AAAAAAAAADQ/7YyiVqsYLVw/s64/photo.jpg",
      "userId": "14342734449519443347"
     },
     "user_tz": -330
    },
    "id": "1dlZ-wZ_oxnX",
    "outputId": "4cb1e0d0-b2f6-4d59-deb4-97d2baa636d5"
   },
   "outputs": [
    {
     "data": {
      "text/plain": [
       "array(['malignant', 'benign'], dtype='<U9')"
      ]
     },
     "execution_count": 423,
     "metadata": {
      "tags": []
     },
     "output_type": "execute_result"
    }
   ],
   "source": [
    "breast_cancer.target_names  # these are the lebels for 1 and 0 in the target"
   ]
  },
  {
   "cell_type": "code",
   "execution_count": 424,
   "metadata": {
    "colab": {
     "base_uri": "https://localhost:8080/",
     "height": 0
    },
    "colab_type": "code",
    "executionInfo": {
     "elapsed": 2520,
     "status": "ok",
     "timestamp": 1550504056454,
     "user": {
      "displayName": "Nishant Sinha",
      "photoUrl": "https://lh6.googleusercontent.com/-qFX6UkRzXUg/AAAAAAAAAAI/AAAAAAAAADQ/7YyiVqsYLVw/s64/photo.jpg",
      "userId": "14342734449519443347"
     },
     "user_tz": -330
    },
    "id": "MCTtJMxupG1p",
    "outputId": "083b204f-46f3-48e8-c941-28e99e56628a"
   },
   "outputs": [
    {
     "data": {
      "text/html": [
       "<div>\n",
       "<style scoped>\n",
       "    .dataframe tbody tr th:only-of-type {\n",
       "        vertical-align: middle;\n",
       "    }\n",
       "\n",
       "    .dataframe tbody tr th {\n",
       "        vertical-align: top;\n",
       "    }\n",
       "\n",
       "    .dataframe thead th {\n",
       "        text-align: right;\n",
       "    }\n",
       "</style>\n",
       "<table border=\"1\" class=\"dataframe\">\n",
       "  <thead>\n",
       "    <tr style=\"text-align: right;\">\n",
       "      <th></th>\n",
       "      <th>mean radius</th>\n",
       "      <th>mean texture</th>\n",
       "      <th>mean perimeter</th>\n",
       "      <th>mean area</th>\n",
       "      <th>mean smoothness</th>\n",
       "      <th>mean compactness</th>\n",
       "      <th>mean concavity</th>\n",
       "      <th>mean concave points</th>\n",
       "      <th>mean symmetry</th>\n",
       "      <th>mean fractal dimension</th>\n",
       "      <th>...</th>\n",
       "      <th>worst radius</th>\n",
       "      <th>worst texture</th>\n",
       "      <th>worst perimeter</th>\n",
       "      <th>worst area</th>\n",
       "      <th>worst smoothness</th>\n",
       "      <th>worst compactness</th>\n",
       "      <th>worst concavity</th>\n",
       "      <th>worst concave points</th>\n",
       "      <th>worst symmetry</th>\n",
       "      <th>worst fractal dimension</th>\n",
       "    </tr>\n",
       "    <tr>\n",
       "      <th>target_class</th>\n",
       "      <th></th>\n",
       "      <th></th>\n",
       "      <th></th>\n",
       "      <th></th>\n",
       "      <th></th>\n",
       "      <th></th>\n",
       "      <th></th>\n",
       "      <th></th>\n",
       "      <th></th>\n",
       "      <th></th>\n",
       "      <th></th>\n",
       "      <th></th>\n",
       "      <th></th>\n",
       "      <th></th>\n",
       "      <th></th>\n",
       "      <th></th>\n",
       "      <th></th>\n",
       "      <th></th>\n",
       "      <th></th>\n",
       "      <th></th>\n",
       "      <th></th>\n",
       "    </tr>\n",
       "  </thead>\n",
       "  <tbody>\n",
       "    <tr>\n",
       "      <th>0</th>\n",
       "      <td>17.462830</td>\n",
       "      <td>21.604906</td>\n",
       "      <td>115.365377</td>\n",
       "      <td>978.376415</td>\n",
       "      <td>0.102898</td>\n",
       "      <td>0.145188</td>\n",
       "      <td>0.160775</td>\n",
       "      <td>0.087990</td>\n",
       "      <td>0.192909</td>\n",
       "      <td>0.062680</td>\n",
       "      <td>...</td>\n",
       "      <td>21.134811</td>\n",
       "      <td>29.318208</td>\n",
       "      <td>141.370330</td>\n",
       "      <td>1422.286321</td>\n",
       "      <td>0.144845</td>\n",
       "      <td>0.374824</td>\n",
       "      <td>0.450606</td>\n",
       "      <td>0.182237</td>\n",
       "      <td>0.323468</td>\n",
       "      <td>0.091530</td>\n",
       "    </tr>\n",
       "    <tr>\n",
       "      <th>1</th>\n",
       "      <td>12.146524</td>\n",
       "      <td>17.914762</td>\n",
       "      <td>78.075406</td>\n",
       "      <td>462.790196</td>\n",
       "      <td>0.092478</td>\n",
       "      <td>0.080085</td>\n",
       "      <td>0.046058</td>\n",
       "      <td>0.025717</td>\n",
       "      <td>0.174186</td>\n",
       "      <td>0.062867</td>\n",
       "      <td>...</td>\n",
       "      <td>13.379801</td>\n",
       "      <td>23.515070</td>\n",
       "      <td>87.005938</td>\n",
       "      <td>558.899440</td>\n",
       "      <td>0.124959</td>\n",
       "      <td>0.182673</td>\n",
       "      <td>0.166238</td>\n",
       "      <td>0.074444</td>\n",
       "      <td>0.270246</td>\n",
       "      <td>0.079442</td>\n",
       "    </tr>\n",
       "  </tbody>\n",
       "</table>\n",
       "<p>2 rows × 30 columns</p>\n",
       "</div>"
      ],
      "text/plain": [
       "              mean radius  mean texture  mean perimeter   mean area  \\\n",
       "target_class                                                          \n",
       "0               17.462830     21.604906      115.365377  978.376415   \n",
       "1               12.146524     17.914762       78.075406  462.790196   \n",
       "\n",
       "              mean smoothness  mean compactness  mean concavity  \\\n",
       "target_class                                                      \n",
       "0                    0.102898          0.145188        0.160775   \n",
       "1                    0.092478          0.080085        0.046058   \n",
       "\n",
       "              mean concave points  mean symmetry  mean fractal dimension  \\\n",
       "target_class                                                               \n",
       "0                        0.087990       0.192909                0.062680   \n",
       "1                        0.025717       0.174186                0.062867   \n",
       "\n",
       "                       ...             worst radius  worst texture  \\\n",
       "target_class           ...                                           \n",
       "0                      ...                21.134811      29.318208   \n",
       "1                      ...                13.379801      23.515070   \n",
       "\n",
       "              worst perimeter   worst area  worst smoothness  \\\n",
       "target_class                                                   \n",
       "0                  141.370330  1422.286321          0.144845   \n",
       "1                   87.005938   558.899440          0.124959   \n",
       "\n",
       "              worst compactness  worst concavity  worst concave points  \\\n",
       "target_class                                                             \n",
       "0                      0.374824         0.450606              0.182237   \n",
       "1                      0.182673         0.166238              0.074444   \n",
       "\n",
       "              worst symmetry  worst fractal dimension  \n",
       "target_class                                           \n",
       "0                   0.323468                 0.091530  \n",
       "1                   0.270246                 0.079442  \n",
       "\n",
       "[2 rows x 30 columns]"
      ]
     },
     "execution_count": 424,
     "metadata": {
      "tags": []
     },
     "output_type": "execute_result"
    }
   ],
   "source": [
    "data.groupby('target_class').mean()"
   ]
  },
  {
   "cell_type": "markdown",
   "metadata": {
    "colab_type": "text",
    "id": "DNysijJCq8bs"
   },
   "source": [
    "# Train Test Split"
   ]
  },
  {
   "cell_type": "code",
   "execution_count": null,
   "metadata": {
    "colab": {},
    "colab_type": "code",
    "id": "PndF_l5ep35M"
   },
   "outputs": [],
   "source": [
    "from sklearn.model_selection import train_test_split"
   ]
  },
  {
   "cell_type": "code",
   "execution_count": 426,
   "metadata": {
    "colab": {
     "base_uri": "https://localhost:8080/",
     "height": 290
    },
    "colab_type": "code",
    "executionInfo": {
     "elapsed": 2443,
     "status": "ok",
     "timestamp": 1550504056460,
     "user": {
      "displayName": "Nishant Sinha",
      "photoUrl": "https://lh6.googleusercontent.com/-qFX6UkRzXUg/AAAAAAAAAAI/AAAAAAAAADQ/7YyiVqsYLVw/s64/photo.jpg",
      "userId": "14342734449519443347"
     },
     "user_tz": -330
    },
    "id": "UUiWNNp3-wgw",
    "outputId": "d6e554e1-2c76-4543-e59b-187172027d26"
   },
   "outputs": [
    {
     "data": {
      "text/html": [
       "<div>\n",
       "<style scoped>\n",
       "    .dataframe tbody tr th:only-of-type {\n",
       "        vertical-align: middle;\n",
       "    }\n",
       "\n",
       "    .dataframe tbody tr th {\n",
       "        vertical-align: top;\n",
       "    }\n",
       "\n",
       "    .dataframe thead th {\n",
       "        text-align: right;\n",
       "    }\n",
       "</style>\n",
       "<table border=\"1\" class=\"dataframe\">\n",
       "  <thead>\n",
       "    <tr style=\"text-align: right;\">\n",
       "      <th></th>\n",
       "      <th>mean radius</th>\n",
       "      <th>mean texture</th>\n",
       "      <th>mean perimeter</th>\n",
       "      <th>mean area</th>\n",
       "      <th>mean smoothness</th>\n",
       "      <th>mean compactness</th>\n",
       "      <th>mean concavity</th>\n",
       "      <th>mean concave points</th>\n",
       "      <th>mean symmetry</th>\n",
       "      <th>mean fractal dimension</th>\n",
       "      <th>...</th>\n",
       "      <th>worst texture</th>\n",
       "      <th>worst perimeter</th>\n",
       "      <th>worst area</th>\n",
       "      <th>worst smoothness</th>\n",
       "      <th>worst compactness</th>\n",
       "      <th>worst concavity</th>\n",
       "      <th>worst concave points</th>\n",
       "      <th>worst symmetry</th>\n",
       "      <th>worst fractal dimension</th>\n",
       "      <th>target_class</th>\n",
       "    </tr>\n",
       "  </thead>\n",
       "  <tbody>\n",
       "    <tr>\n",
       "      <th>0</th>\n",
       "      <td>17.99</td>\n",
       "      <td>10.38</td>\n",
       "      <td>122.80</td>\n",
       "      <td>1001.0</td>\n",
       "      <td>0.11840</td>\n",
       "      <td>0.27760</td>\n",
       "      <td>0.3001</td>\n",
       "      <td>0.14710</td>\n",
       "      <td>0.2419</td>\n",
       "      <td>0.07871</td>\n",
       "      <td>...</td>\n",
       "      <td>17.33</td>\n",
       "      <td>184.60</td>\n",
       "      <td>2019.0</td>\n",
       "      <td>0.1622</td>\n",
       "      <td>0.6656</td>\n",
       "      <td>0.7119</td>\n",
       "      <td>0.2654</td>\n",
       "      <td>0.4601</td>\n",
       "      <td>0.11890</td>\n",
       "      <td>0</td>\n",
       "    </tr>\n",
       "    <tr>\n",
       "      <th>1</th>\n",
       "      <td>20.57</td>\n",
       "      <td>17.77</td>\n",
       "      <td>132.90</td>\n",
       "      <td>1326.0</td>\n",
       "      <td>0.08474</td>\n",
       "      <td>0.07864</td>\n",
       "      <td>0.0869</td>\n",
       "      <td>0.07017</td>\n",
       "      <td>0.1812</td>\n",
       "      <td>0.05667</td>\n",
       "      <td>...</td>\n",
       "      <td>23.41</td>\n",
       "      <td>158.80</td>\n",
       "      <td>1956.0</td>\n",
       "      <td>0.1238</td>\n",
       "      <td>0.1866</td>\n",
       "      <td>0.2416</td>\n",
       "      <td>0.1860</td>\n",
       "      <td>0.2750</td>\n",
       "      <td>0.08902</td>\n",
       "      <td>0</td>\n",
       "    </tr>\n",
       "    <tr>\n",
       "      <th>2</th>\n",
       "      <td>19.69</td>\n",
       "      <td>21.25</td>\n",
       "      <td>130.00</td>\n",
       "      <td>1203.0</td>\n",
       "      <td>0.10960</td>\n",
       "      <td>0.15990</td>\n",
       "      <td>0.1974</td>\n",
       "      <td>0.12790</td>\n",
       "      <td>0.2069</td>\n",
       "      <td>0.05999</td>\n",
       "      <td>...</td>\n",
       "      <td>25.53</td>\n",
       "      <td>152.50</td>\n",
       "      <td>1709.0</td>\n",
       "      <td>0.1444</td>\n",
       "      <td>0.4245</td>\n",
       "      <td>0.4504</td>\n",
       "      <td>0.2430</td>\n",
       "      <td>0.3613</td>\n",
       "      <td>0.08758</td>\n",
       "      <td>0</td>\n",
       "    </tr>\n",
       "    <tr>\n",
       "      <th>3</th>\n",
       "      <td>11.42</td>\n",
       "      <td>20.38</td>\n",
       "      <td>77.58</td>\n",
       "      <td>386.1</td>\n",
       "      <td>0.14250</td>\n",
       "      <td>0.28390</td>\n",
       "      <td>0.2414</td>\n",
       "      <td>0.10520</td>\n",
       "      <td>0.2597</td>\n",
       "      <td>0.09744</td>\n",
       "      <td>...</td>\n",
       "      <td>26.50</td>\n",
       "      <td>98.87</td>\n",
       "      <td>567.7</td>\n",
       "      <td>0.2098</td>\n",
       "      <td>0.8663</td>\n",
       "      <td>0.6869</td>\n",
       "      <td>0.2575</td>\n",
       "      <td>0.6638</td>\n",
       "      <td>0.17300</td>\n",
       "      <td>0</td>\n",
       "    </tr>\n",
       "    <tr>\n",
       "      <th>4</th>\n",
       "      <td>20.29</td>\n",
       "      <td>14.34</td>\n",
       "      <td>135.10</td>\n",
       "      <td>1297.0</td>\n",
       "      <td>0.10030</td>\n",
       "      <td>0.13280</td>\n",
       "      <td>0.1980</td>\n",
       "      <td>0.10430</td>\n",
       "      <td>0.1809</td>\n",
       "      <td>0.05883</td>\n",
       "      <td>...</td>\n",
       "      <td>16.67</td>\n",
       "      <td>152.20</td>\n",
       "      <td>1575.0</td>\n",
       "      <td>0.1374</td>\n",
       "      <td>0.2050</td>\n",
       "      <td>0.4000</td>\n",
       "      <td>0.1625</td>\n",
       "      <td>0.2364</td>\n",
       "      <td>0.07678</td>\n",
       "      <td>0</td>\n",
       "    </tr>\n",
       "  </tbody>\n",
       "</table>\n",
       "<p>5 rows × 31 columns</p>\n",
       "</div>"
      ],
      "text/plain": [
       "   mean radius  mean texture  mean perimeter  mean area  mean smoothness  \\\n",
       "0        17.99         10.38          122.80     1001.0          0.11840   \n",
       "1        20.57         17.77          132.90     1326.0          0.08474   \n",
       "2        19.69         21.25          130.00     1203.0          0.10960   \n",
       "3        11.42         20.38           77.58      386.1          0.14250   \n",
       "4        20.29         14.34          135.10     1297.0          0.10030   \n",
       "\n",
       "   mean compactness  mean concavity  mean concave points  mean symmetry  \\\n",
       "0           0.27760          0.3001              0.14710         0.2419   \n",
       "1           0.07864          0.0869              0.07017         0.1812   \n",
       "2           0.15990          0.1974              0.12790         0.2069   \n",
       "3           0.28390          0.2414              0.10520         0.2597   \n",
       "4           0.13280          0.1980              0.10430         0.1809   \n",
       "\n",
       "   mean fractal dimension      ...       worst texture  worst perimeter  \\\n",
       "0                 0.07871      ...               17.33           184.60   \n",
       "1                 0.05667      ...               23.41           158.80   \n",
       "2                 0.05999      ...               25.53           152.50   \n",
       "3                 0.09744      ...               26.50            98.87   \n",
       "4                 0.05883      ...               16.67           152.20   \n",
       "\n",
       "   worst area  worst smoothness  worst compactness  worst concavity  \\\n",
       "0      2019.0            0.1622             0.6656           0.7119   \n",
       "1      1956.0            0.1238             0.1866           0.2416   \n",
       "2      1709.0            0.1444             0.4245           0.4504   \n",
       "3       567.7            0.2098             0.8663           0.6869   \n",
       "4      1575.0            0.1374             0.2050           0.4000   \n",
       "\n",
       "   worst concave points  worst symmetry  worst fractal dimension  target_class  \n",
       "0                0.2654          0.4601                  0.11890             0  \n",
       "1                0.1860          0.2750                  0.08902             0  \n",
       "2                0.2430          0.3613                  0.08758             0  \n",
       "3                0.2575          0.6638                  0.17300             0  \n",
       "4                0.1625          0.2364                  0.07678             0  \n",
       "\n",
       "[5 rows x 31 columns]"
      ]
     },
     "execution_count": 426,
     "metadata": {
      "tags": []
     },
     "output_type": "execute_result"
    }
   ],
   "source": [
    "data.head()"
   ]
  },
  {
   "cell_type": "code",
   "execution_count": 427,
   "metadata": {
    "colab": {
     "base_uri": "https://localhost:8080/",
     "height": 34
    },
    "colab_type": "code",
    "executionInfo": {
     "elapsed": 2406,
     "status": "ok",
     "timestamp": 1550504056463,
     "user": {
      "displayName": "Nishant Sinha",
      "photoUrl": "https://lh6.googleusercontent.com/-qFX6UkRzXUg/AAAAAAAAAAI/AAAAAAAAADQ/7YyiVqsYLVw/s64/photo.jpg",
      "userId": "14342734449519443347"
     },
     "user_tz": -330
    },
    "id": "oeXONDa8CaP1",
    "outputId": "7bd3588d-3495-4ee6-b65e-3870aac21ecb"
   },
   "outputs": [
    {
     "name": "stdout",
     "output_type": "stream",
     "text": [
      "(569, 30) (569,)\n"
     ]
    }
   ],
   "source": [
    "X= data.drop(labels='target_class',axis=1)\n",
    "y= data.target_class\n",
    "print(X.shape,y.shape)"
   ]
  },
  {
   "cell_type": "markdown",
   "metadata": {
    "colab_type": "text",
    "id": "mAJfbUS1fAuy"
   },
   "source": [
    "Since we don't have a large dataset, it's good if we try to split the test and train data into some other ratio. If it was a large dataset, even 5% of test data would suffice.."
   ]
  },
  {
   "cell_type": "code",
   "execution_count": 428,
   "metadata": {
    "colab": {
     "base_uri": "https://localhost:8080/",
     "height": 52
    },
    "colab_type": "code",
    "executionInfo": {
     "elapsed": 2372,
     "status": "ok",
     "timestamp": 1550504056466,
     "user": {
      "displayName": "Nishant Sinha",
      "photoUrl": "https://lh6.googleusercontent.com/-qFX6UkRzXUg/AAAAAAAAAAI/AAAAAAAAADQ/7YyiVqsYLVw/s64/photo.jpg",
      "userId": "14342734449519443347"
     },
     "user_tz": -330
    },
    "id": "z0_vQ5cHCrXu",
    "outputId": "47858bfb-9811-422c-bfc6-43425ac5b25a"
   },
   "outputs": [
    {
     "name": "stdout",
     "output_type": "stream",
     "text": [
      "(569, 30) (512, 30) (57, 30)\n",
      "(569,) (512,) (57,)\n"
     ]
    }
   ],
   "source": [
    "X_train, X_test, y_train,y_test = train_test_split(X,y,test_size=0.1)   #we can also mention test_size and random_state.\n",
    "print(X.shape,X_train.shape,X_test.shape)\n",
    "print(y.shape,y_train.shape,y_test.shape)"
   ]
  },
  {
   "cell_type": "markdown",
   "metadata": {
    "colab_type": "text",
    "id": "egyF06U_gAki"
   },
   "source": [
    "**If we check the test and train data in Y,  we expect them to be split in a similar fashion. **"
   ]
  },
  {
   "cell_type": "code",
   "execution_count": 429,
   "metadata": {
    "colab": {
     "base_uri": "https://localhost:8080/",
     "height": 34
    },
    "colab_type": "code",
    "executionInfo": {
     "elapsed": 2346,
     "status": "ok",
     "timestamp": 1550504056472,
     "user": {
      "displayName": "Nishant Sinha",
      "photoUrl": "https://lh6.googleusercontent.com/-qFX6UkRzXUg/AAAAAAAAAAI/AAAAAAAAADQ/7YyiVqsYLVw/s64/photo.jpg",
      "userId": "14342734449519443347"
     },
     "user_tz": -330
    },
    "id": "78vRqCA8GQRg",
    "outputId": "7091f09b-f6f1-415f-9fb7-e959a99efc02"
   },
   "outputs": [
    {
     "name": "stdout",
     "output_type": "stream",
     "text": [
      "0.6274165202108963 0.7192982456140351 0.6171875\n"
     ]
    }
   ],
   "source": [
    "print(y.mean(),y_test.mean(),y_train.mean())"
   ]
  },
  {
   "cell_type": "markdown",
   "metadata": {
    "colab_type": "text",
    "id": "IofV0lJMgYP-"
   },
   "source": [
    "Above, we can see that test data are not in the same proportion; we want this to change; We can do that by using **stratify**:"
   ]
  },
  {
   "cell_type": "markdown",
   "metadata": {
    "colab_type": "text",
    "id": "um22fCE5YhKq"
   },
   "source": [
    "For example, if variable y is a binary categorical variable with values 0 and 1 and there are 25% of zeros and 75% of ones, stratify=y will make sure that your random split has 25% of 0's and 75% of 1's."
   ]
  },
  {
   "cell_type": "code",
   "execution_count": null,
   "metadata": {
    "colab": {},
    "colab_type": "code",
    "id": "-bM8QYb4gQSf"
   },
   "outputs": [],
   "source": [
    "X_train,X_test,y_train,y_test= train_test_split(X,y,test_size=0.1,stratify=y)"
   ]
  },
  {
   "cell_type": "code",
   "execution_count": 431,
   "metadata": {
    "colab": {
     "base_uri": "https://localhost:8080/",
     "height": 34
    },
    "colab_type": "code",
    "executionInfo": {
     "elapsed": 2314,
     "status": "ok",
     "timestamp": 1550504056487,
     "user": {
      "displayName": "Nishant Sinha",
      "photoUrl": "https://lh6.googleusercontent.com/-qFX6UkRzXUg/AAAAAAAAAAI/AAAAAAAAADQ/7YyiVqsYLVw/s64/photo.jpg",
      "userId": "14342734449519443347"
     },
     "user_tz": -330
    },
    "id": "yN2gwS6QgymS",
    "outputId": "7f6ac440-16c7-437a-eae0-47a48be2b175"
   },
   "outputs": [
    {
     "name": "stdout",
     "output_type": "stream",
     "text": [
      "0.6274165202108963 0.631578947368421 0.626953125\n"
     ]
    }
   ],
   "source": [
    "print(y.mean(),y_test.mean(),y_train.mean())"
   ]
  },
  {
   "cell_type": "markdown",
   "metadata": {
    "colab_type": "text",
    "id": "OzpfMWKTiUDe"
   },
   "source": [
    "Now, the ratios are all similar, and the **ratio of malignent and benign are maintained**"
   ]
  },
  {
   "cell_type": "markdown",
   "metadata": {
    "colab_type": "text",
    "id": "aCCsF99Om4NO"
   },
   "source": [
    "Now, the values would be different everytime we run the code; We always want our code to be reproducable. So, we would use the **random_state**:"
   ]
  },
  {
   "cell_type": "code",
   "execution_count": null,
   "metadata": {
    "colab": {},
    "colab_type": "code",
    "id": "aLU2g_uSiRqT"
   },
   "outputs": [],
   "source": [
    "X_train,X_test,y_train,y_test= train_test_split(X,y,test_size=0.1,stratify=y,random_state=1)   #exercise 1 (change the test_size other than 0.1)"
   ]
  },
  {
   "cell_type": "code",
   "execution_count": 433,
   "metadata": {
    "colab": {
     "base_uri": "https://localhost:8080/",
     "height": 1597
    },
    "colab_type": "code",
    "executionInfo": {
     "elapsed": 2276,
     "status": "ok",
     "timestamp": 1550504056493,
     "user": {
      "displayName": "Nishant Sinha",
      "photoUrl": "https://lh6.googleusercontent.com/-qFX6UkRzXUg/AAAAAAAAAAI/AAAAAAAAADQ/7YyiVqsYLVw/s64/photo.jpg",
      "userId": "14342734449519443347"
     },
     "user_tz": -330
    },
    "id": "BCcVZDSxnYLm",
    "outputId": "c0b106c2-f29e-4230-aae6-664c4cfe02b7"
   },
   "outputs": [
    {
     "name": "stdout",
     "output_type": "stream",
     "text": [
      "mean radius                 14.058656\n",
      "mean texture                19.309668\n",
      "mean perimeter              91.530488\n",
      "mean area                  648.097266\n",
      "mean smoothness              0.096568\n",
      "mean compactness             0.105144\n",
      "mean concavity               0.089342\n",
      "mean concave points          0.048892\n",
      "mean symmetry                0.181961\n",
      "mean fractal dimension       0.062979\n",
      "radius error                 0.403659\n",
      "texture error                1.206856\n",
      "perimeter error              2.861173\n",
      "area error                  39.935506\n",
      "smoothness error             0.007067\n",
      "compactness error            0.025681\n",
      "concavity error              0.032328\n",
      "concave points error         0.011963\n",
      "symmetry error               0.020584\n",
      "fractal dimension error      0.003815\n",
      "worst radius                16.194275\n",
      "worst texture               25.644902\n",
      "worst perimeter            106.757715\n",
      "worst area                 871.647852\n",
      "worst smoothness             0.132592\n",
      "worst compactness            0.257415\n",
      "worst concavity              0.275623\n",
      "worst concave points         0.115454\n",
      "worst symmetry               0.291562\n",
      "worst fractal dimension      0.084402\n",
      "dtype: float64 mean radius                 14.743807\n",
      "mean texture                19.109825\n",
      "mean perimeter              95.908246\n",
      "mean area                  715.896491\n",
      "mean smoothness              0.094496\n",
      "mean compactness             0.097130\n",
      "mean concavity               0.083923\n",
      "mean concave points          0.049159\n",
      "mean symmetry                0.173981\n",
      "mean fractal dimension       0.061169\n",
      "radius error                 0.418767\n",
      "texture error                1.306656\n",
      "perimeter error              2.909946\n",
      "area error                  43.944193\n",
      "smoothness error             0.006809\n",
      "compactness error            0.023659\n",
      "concavity error              0.027989\n",
      "concave points error         0.010293\n",
      "symmetry error               0.020169\n",
      "fractal dimension error      0.003618\n",
      "worst radius                16.942105\n",
      "worst texture               25.967544\n",
      "worst perimeter            111.783860\n",
      "worst area                 960.843860\n",
      "worst smoothness             0.130357\n",
      "worst compactness            0.225973\n",
      "worst concavity              0.241340\n",
      "worst concave points         0.106994\n",
      "worst symmetry               0.276719\n",
      "worst fractal dimension      0.079852\n",
      "dtype: float64 mean radius                 14.127292\n",
      "mean texture                19.289649\n",
      "mean perimeter              91.969033\n",
      "mean area                  654.889104\n",
      "mean smoothness              0.096360\n",
      "mean compactness             0.104341\n",
      "mean concavity               0.088799\n",
      "mean concave points          0.048919\n",
      "mean symmetry                0.181162\n",
      "mean fractal dimension       0.062798\n",
      "radius error                 0.405172\n",
      "texture error                1.216853\n",
      "perimeter error              2.866059\n",
      "area error                  40.337079\n",
      "smoothness error             0.007041\n",
      "compactness error            0.025478\n",
      "concavity error              0.031894\n",
      "concave points error         0.011796\n",
      "symmetry error               0.020542\n",
      "fractal dimension error      0.003795\n",
      "worst radius                16.269190\n",
      "worst texture               25.677223\n",
      "worst perimeter            107.261213\n",
      "worst area                 880.583128\n",
      "worst smoothness             0.132369\n",
      "worst compactness            0.254265\n",
      "worst concavity              0.272188\n",
      "worst concave points         0.114606\n",
      "worst symmetry               0.290076\n",
      "worst fractal dimension      0.083946\n",
      "dtype: float64\n"
     ]
    }
   ],
   "source": [
    "print(X_train.mean(),X_test.mean(),X.mean())  #these values won't change now."
   ]
  },
  {
   "cell_type": "markdown",
   "metadata": {
    "colab_type": "text",
    "id": "yHs8Yu1ayplq"
   },
   "source": []
  },
  {
   "cell_type": "markdown",
   "metadata": {
    "colab_type": "text",
    "id": "mdDg5vXcnpxY"
   },
   "source": [
    "# Binirisation of Input:"
   ]
  },
  {
   "cell_type": "markdown",
   "metadata": {
    "colab_type": "text",
    "id": "lfM4wdZ4n1Gl"
   },
   "source": [
    "**Since MP Neuron uses binary data as input, but our data has real values, we want to convert this to binary format.**"
   ]
  },
  {
   "cell_type": "code",
   "execution_count": 434,
   "metadata": {
    "colab": {
     "base_uri": "https://localhost:8080/",
     "height": 0
    },
    "colab_type": "code",
    "executionInfo": {
     "elapsed": 3060,
     "status": "ok",
     "timestamp": 1550504057298,
     "user": {
      "displayName": "Nishant Sinha",
      "photoUrl": "https://lh6.googleusercontent.com/-qFX6UkRzXUg/AAAAAAAAAAI/AAAAAAAAADQ/7YyiVqsYLVw/s64/photo.jpg",
      "userId": "14342734449519443347"
     },
     "user_tz": -330
    },
    "id": "pX_8yEw6nf4d",
    "outputId": "95f5967e-e7ec-4c2c-aefe-d857218b380b"
   },
   "outputs": [
    {
     "data": {
      "image/png": "[encoded data removed]",
      "text/plain": [
       "<Figure size 432x288 with 1 Axes>"
      ]
     },
     "metadata": {
      "tags": []
     },
     "output_type": "display_data"
    }
   ],
   "source": [
    "import matplotlib.pyplot as plt\n",
    "plt.plot(X_train,'*')          #which is not easy to visualise here\n",
    "plt.show()"
   ]
  },
  {
   "cell_type": "markdown",
   "metadata": {
    "colab_type": "text",
    "id": "WOQCX8qGOeFU"
   },
   "source": [
    "**If we take the transpose, we would be able to visualise properly: **"
   ]
  },
  {
   "cell_type": "code",
   "execution_count": 435,
   "metadata": {
    "colab": {
     "base_uri": "https://localhost:8080/",
     "height": 0
    },
    "colab_type": "code",
    "executionInfo": {
     "elapsed": 3033,
     "status": "ok",
     "timestamp": 1550504057302,
     "user": {
      "displayName": "Nishant Sinha",
      "photoUrl": "https://lh6.googleusercontent.com/-qFX6UkRzXUg/AAAAAAAAAAI/AAAAAAAAADQ/7YyiVqsYLVw/s64/photo.jpg",
      "userId": "14342734449519443347"
     },
     "user_tz": -330
    },
    "id": "Rf_FdylVOWxr",
    "outputId": "5a2518fa-160f-4856-c674-fdf0cb84ddfa"
   },
   "outputs": [
    {
     "data": {
      "text/html": [
       "<div>\n",
       "<style scoped>\n",
       "    .dataframe tbody tr th:only-of-type {\n",
       "        vertical-align: middle;\n",
       "    }\n",
       "\n",
       "    .dataframe tbody tr th {\n",
       "        vertical-align: top;\n",
       "    }\n",
       "\n",
       "    .dataframe thead th {\n",
       "        text-align: right;\n",
       "    }\n",
       "</style>\n",
       "<table border=\"1\" class=\"dataframe\">\n",
       "  <thead>\n",
       "    <tr style=\"text-align: right;\">\n",
       "      <th></th>\n",
       "      <th>430</th>\n",
       "      <th>48</th>\n",
       "      <th>105</th>\n",
       "      <th>467</th>\n",
       "      <th>547</th>\n",
       "      <th>365</th>\n",
       "      <th>295</th>\n",
       "      <th>567</th>\n",
       "      <th>297</th>\n",
       "      <th>172</th>\n",
       "      <th>...</th>\n",
       "      <th>33</th>\n",
       "      <th>65</th>\n",
       "      <th>188</th>\n",
       "      <th>479</th>\n",
       "      <th>509</th>\n",
       "      <th>201</th>\n",
       "      <th>183</th>\n",
       "      <th>285</th>\n",
       "      <th>49</th>\n",
       "      <th>161</th>\n",
       "    </tr>\n",
       "  </thead>\n",
       "  <tbody>\n",
       "    <tr>\n",
       "      <th>mean radius</th>\n",
       "      <td>14.90000</td>\n",
       "      <td>12.0500</td>\n",
       "      <td>13.1100</td>\n",
       "      <td>9.66800</td>\n",
       "      <td>10.26000</td>\n",
       "      <td>20.4400</td>\n",
       "      <td>13.77000</td>\n",
       "      <td>20.6000</td>\n",
       "      <td>11.76000</td>\n",
       "      <td>15.4600</td>\n",
       "      <td>...</td>\n",
       "      <td>19.27000</td>\n",
       "      <td>14.7800</td>\n",
       "      <td>11.8100</td>\n",
       "      <td>16.2500</td>\n",
       "      <td>15.4600</td>\n",
       "      <td>17.54000</td>\n",
       "      <td>11.41000</td>\n",
       "      <td>12.58000</td>\n",
       "      <td>13.49000</td>\n",
       "      <td>19.19000</td>\n",
       "    </tr>\n",
       "    <tr>\n",
       "      <th>mean texture</th>\n",
       "      <td>22.53000</td>\n",
       "      <td>14.6300</td>\n",
       "      <td>15.5600</td>\n",
       "      <td>18.10000</td>\n",
       "      <td>16.58000</td>\n",
       "      <td>21.7800</td>\n",
       "      <td>13.27000</td>\n",
       "      <td>29.3300</td>\n",
       "      <td>18.14000</td>\n",
       "      <td>11.8900</td>\n",
       "      <td>...</td>\n",
       "      <td>26.47000</td>\n",
       "      <td>23.9400</td>\n",
       "      <td>17.3900</td>\n",
       "      <td>19.5100</td>\n",
       "      <td>23.9500</td>\n",
       "      <td>19.32000</td>\n",
       "      <td>14.92000</td>\n",
       "      <td>18.40000</td>\n",
       "      <td>22.30000</td>\n",
       "      <td>15.94000</td>\n",
       "    </tr>\n",
       "    <tr>\n",
       "      <th>mean perimeter</th>\n",
       "      <td>102.10000</td>\n",
       "      <td>78.0400</td>\n",
       "      <td>87.2100</td>\n",
       "      <td>61.06000</td>\n",
       "      <td>65.85000</td>\n",
       "      <td>133.8000</td>\n",
       "      <td>88.06000</td>\n",
       "      <td>140.1000</td>\n",
       "      <td>75.00000</td>\n",
       "      <td>102.5000</td>\n",
       "      <td>...</td>\n",
       "      <td>127.90000</td>\n",
       "      <td>97.4000</td>\n",
       "      <td>75.2700</td>\n",
       "      <td>109.8000</td>\n",
       "      <td>103.8000</td>\n",
       "      <td>115.10000</td>\n",
       "      <td>73.53000</td>\n",
       "      <td>79.83000</td>\n",
       "      <td>86.91000</td>\n",
       "      <td>126.30000</td>\n",
       "    </tr>\n",
       "    <tr>\n",
       "      <th>mean area</th>\n",
       "      <td>685.00000</td>\n",
       "      <td>449.3000</td>\n",
       "      <td>530.2000</td>\n",
       "      <td>286.30000</td>\n",
       "      <td>320.80000</td>\n",
       "      <td>1293.0000</td>\n",
       "      <td>582.70000</td>\n",
       "      <td>1265.0000</td>\n",
       "      <td>431.10000</td>\n",
       "      <td>736.9000</td>\n",
       "      <td>...</td>\n",
       "      <td>1162.00000</td>\n",
       "      <td>668.3000</td>\n",
       "      <td>428.9000</td>\n",
       "      <td>815.8000</td>\n",
       "      <td>731.3000</td>\n",
       "      <td>951.60000</td>\n",
       "      <td>402.00000</td>\n",
       "      <td>489.00000</td>\n",
       "      <td>561.00000</td>\n",
       "      <td>1157.00000</td>\n",
       "    </tr>\n",
       "    <tr>\n",
       "      <th>mean smoothness</th>\n",
       "      <td>0.09947</td>\n",
       "      <td>0.1031</td>\n",
       "      <td>0.1398</td>\n",
       "      <td>0.08311</td>\n",
       "      <td>0.08877</td>\n",
       "      <td>0.0915</td>\n",
       "      <td>0.09198</td>\n",
       "      <td>0.1178</td>\n",
       "      <td>0.09968</td>\n",
       "      <td>0.1257</td>\n",
       "      <td>...</td>\n",
       "      <td>0.09401</td>\n",
       "      <td>0.1172</td>\n",
       "      <td>0.1007</td>\n",
       "      <td>0.1026</td>\n",
       "      <td>0.1183</td>\n",
       "      <td>0.08968</td>\n",
       "      <td>0.09059</td>\n",
       "      <td>0.08393</td>\n",
       "      <td>0.08752</td>\n",
       "      <td>0.08694</td>\n",
       "    </tr>\n",
       "  </tbody>\n",
       "</table>\n",
       "<p>5 rows × 512 columns</p>\n",
       "</div>"
      ],
      "text/plain": [
       "                       430       48        105        467        547  \\\n",
       "mean radius       14.90000   12.0500   13.1100    9.66800   10.26000   \n",
       "mean texture      22.53000   14.6300   15.5600   18.10000   16.58000   \n",
       "mean perimeter   102.10000   78.0400   87.2100   61.06000   65.85000   \n",
       "mean area        685.00000  449.3000  530.2000  286.30000  320.80000   \n",
       "mean smoothness    0.09947    0.1031    0.1398    0.08311    0.08877   \n",
       "\n",
       "                       365        295        567        297       172  \\\n",
       "mean radius        20.4400   13.77000    20.6000   11.76000   15.4600   \n",
       "mean texture       21.7800   13.27000    29.3300   18.14000   11.8900   \n",
       "mean perimeter    133.8000   88.06000   140.1000   75.00000  102.5000   \n",
       "mean area        1293.0000  582.70000  1265.0000  431.10000  736.9000   \n",
       "mean smoothness     0.0915    0.09198     0.1178    0.09968    0.1257   \n",
       "\n",
       "                    ...             33        65        188       479  \\\n",
       "mean radius         ...        19.27000   14.7800   11.8100   16.2500   \n",
       "mean texture        ...        26.47000   23.9400   17.3900   19.5100   \n",
       "mean perimeter      ...       127.90000   97.4000   75.2700  109.8000   \n",
       "mean area           ...      1162.00000  668.3000  428.9000  815.8000   \n",
       "mean smoothness     ...         0.09401    0.1172    0.1007    0.1026   \n",
       "\n",
       "                      509        201        183        285        49   \\\n",
       "mean radius       15.4600   17.54000   11.41000   12.58000   13.49000   \n",
       "mean texture      23.9500   19.32000   14.92000   18.40000   22.30000   \n",
       "mean perimeter   103.8000  115.10000   73.53000   79.83000   86.91000   \n",
       "mean area        731.3000  951.60000  402.00000  489.00000  561.00000   \n",
       "mean smoothness    0.1183    0.08968    0.09059    0.08393    0.08752   \n",
       "\n",
       "                        161  \n",
       "mean radius        19.19000  \n",
       "mean texture       15.94000  \n",
       "mean perimeter    126.30000  \n",
       "mean area        1157.00000  \n",
       "mean smoothness     0.08694  \n",
       "\n",
       "[5 rows x 512 columns]"
      ]
     },
     "execution_count": 435,
     "metadata": {
      "tags": []
     },
     "output_type": "execute_result"
    }
   ],
   "source": [
    "X_train.T.head()"
   ]
  },
  {
   "cell_type": "code",
   "execution_count": 436,
   "metadata": {
    "colab": {
     "base_uri": "https://localhost:8080/",
     "height": 0
    },
    "colab_type": "code",
    "executionInfo": {
     "elapsed": 3776,
     "status": "ok",
     "timestamp": 1550504058063,
     "user": {
      "displayName": "Nishant Sinha",
      "photoUrl": "https://lh6.googleusercontent.com/-qFX6UkRzXUg/AAAAAAAAAAI/AAAAAAAAADQ/7YyiVqsYLVw/s64/photo.jpg",
      "userId": "14342734449519443347"
     },
     "user_tz": -330
    },
    "id": "E4u1PTTuLmi-",
    "outputId": "27a65d4b-e86d-4fac-9b0e-a70013b5fab6"
   },
   "outputs": [
    {
     "data": {
      "image/png": "[encoded data removed]",
      "text/plain": [
       "<Figure size 432x288 with 1 Axes>"
      ]
     },
     "metadata": {
      "tags": []
     },
     "output_type": "display_data"
    }
   ],
   "source": [
    "plt.plot(X_train.T,'*')\n",
    "plt.xticks(rotation=90) #or rotation = 'vertical'\n",
    "plt.show()"
   ]
  },
  {
   "cell_type": "code",
   "execution_count": null,
   "metadata": {
    "colab": {},
    "colab_type": "code",
    "id": "gurTBCccM0pq"
   },
   "outputs": [],
   "source": []
  },
  {
   "cell_type": "code",
   "execution_count": null,
   "metadata": {
    "colab": {},
    "colab_type": "code",
    "id": "prPyvPwqsSn9"
   },
   "outputs": [],
   "source": [
    "X_train_binarised_3rd_col= X_train['mean area'].map(lambda x: 1 if x>1000 else 0) #say i want to take all the values greater than 1000 as 1 and less that 1000 as 0."
   ]
  },
  {
   "cell_type": "code",
   "execution_count": 438,
   "metadata": {
    "colab": {
     "base_uri": "https://localhost:8080/",
     "height": 0
    },
    "colab_type": "code",
    "executionInfo": {
     "elapsed": 4288,
     "status": "ok",
     "timestamp": 1550504058654,
     "user": {
      "displayName": "Nishant Sinha",
      "photoUrl": "https://lh6.googleusercontent.com/-qFX6UkRzXUg/AAAAAAAAAAI/AAAAAAAAADQ/7YyiVqsYLVw/s64/photo.jpg",
      "userId": "14342734449519443347"
     },
     "user_tz": -330
    },
    "id": "9f-rs3Pls-sA",
    "outputId": "787c0e9f-3c29-40b2-a1fd-48439860bc35"
   },
   "outputs": [
    {
     "data": {
      "image/png": "[encoded data removed]",
      "text/plain": [
       "<Figure size 432x288 with 1 Axes>"
      ]
     },
     "metadata": {
      "tags": []
     },
     "output_type": "display_data"
    }
   ],
   "source": [
    "X_train_binarised_3rd_col.unique() #or visually,\n",
    "\n",
    "plt.plot(X_train_binarised_3rd_col,'*')\n",
    "plt.show()"
   ]
  },
  {
   "cell_type": "markdown",
   "metadata": {
    "colab_type": "text",
    "id": "jdPr66oKu_f2"
   },
   "source": [
    "**But, X_test also have similar pattern, instead of doing this manually for every columns, we can do:**"
   ]
  },
  {
   "cell_type": "code",
   "execution_count": null,
   "metadata": {
    "colab": {},
    "colab_type": "code",
    "id": "1bA_L5y2uFxX"
   },
   "outputs": [],
   "source": [
    "X_binarised_train= X_train.apply(pd.cut,bins=2,labels=[0,1])"
   ]
  },
  {
   "cell_type": "markdown",
   "metadata": {
    "colab_type": "text",
    "id": "8JpZdR2nUJNk"
   },
   "source": [
    "[Video link for pandas cut](https://www.youtube.com/watch?v=4ozGrEAH8QI)"
   ]
  },
  {
   "cell_type": "code",
   "execution_count": 440,
   "metadata": {
    "colab": {
     "base_uri": "https://localhost:8080/",
     "height": 0
    },
    "colab_type": "code",
    "executionInfo": {
     "elapsed": 4731,
     "status": "ok",
     "timestamp": 1550504059136,
     "user": {
      "displayName": "Nishant Sinha",
      "photoUrl": "https://lh6.googleusercontent.com/-qFX6UkRzXUg/AAAAAAAAAAI/AAAAAAAAADQ/7YyiVqsYLVw/s64/photo.jpg",
      "userId": "14342734449519443347"
     },
     "user_tz": -330
    },
    "id": "gIQYugHnL9mL",
    "outputId": "e7d03142-8d36-45e8-ff21-ec8253c73d68"
   },
   "outputs": [
    {
     "data": {
      "image/png": "[encoded data removed]",
      "text/plain": [
       "<Figure size 432x288 with 1 Axes>"
      ]
     },
     "metadata": {
      "tags": []
     },
     "output_type": "display_data"
    }
   ],
   "source": [
    "plt.plot(X_binarised_train.T,'*')\n",
    "plt.xticks(rotation= 'vertical')\n",
    "plt.show()"
   ]
  },
  {
   "cell_type": "markdown",
   "metadata": {
    "colab_type": "text",
    "id": "1dO2-njWNRf_"
   },
   "source": [
    "_Thus, the values are now binarised_. We do the same thing for **X_test**"
   ]
  },
  {
   "cell_type": "code",
   "execution_count": null,
   "metadata": {
    "colab": {},
    "colab_type": "code",
    "id": "6s8c2Mc3NMSU"
   },
   "outputs": [],
   "source": [
    "X_binarised_test = X_test.apply(pd.cut,bins=2, labels=[0,1])"
   ]
  },
  {
   "cell_type": "code",
   "execution_count": 442,
   "metadata": {
    "colab": {
     "base_uri": "https://localhost:8080/",
     "height": 0
    },
    "colab_type": "code",
    "executionInfo": {
     "elapsed": 5820,
     "status": "ok",
     "timestamp": 1550504060274,
     "user": {
      "displayName": "Nishant Sinha",
      "photoUrl": "https://lh6.googleusercontent.com/-qFX6UkRzXUg/AAAAAAAAAAI/AAAAAAAAADQ/7YyiVqsYLVw/s64/photo.jpg",
      "userId": "14342734449519443347"
     },
     "user_tz": -330
    },
    "id": "2fVKbOgRN0sD",
    "outputId": "6ba0d2f0-1638-460a-f833-2e7758435353"
   },
   "outputs": [
    {
     "data": {
      "image/png": "[encoded data removed]",
      "text/plain": [
       "<Figure size 432x288 with 1 Axes>"
      ]
     },
     "metadata": {
      "tags": []
     },
     "output_type": "display_data"
    }
   ],
   "source": [
    "plt.plot(X_binarised_test.T,'*')\n",
    "plt.xticks(rotation=90)\n",
    "plt.show()"
   ]
  },
  {
   "cell_type": "markdown",
   "metadata": {
    "colab_type": "text",
    "id": "Q0--gV0BcOwQ"
   },
   "source": [
    "**Q: What does cut do? It is dividing the pandas Series into equal bins. in the below, bin=3, therefore, it divides the data into 3 equal intervals. **\n",
    "\n",
    "**(bins can be provided explicitly using a 1D array as , bins=[0,4,12,44])**"
   ]
  },
  {
   "cell_type": "code",
   "execution_count": 443,
   "metadata": {
    "colab": {
     "base_uri": "https://localhost:8080/",
     "height": 0
    },
    "colab_type": "code",
    "executionInfo": {
     "elapsed": 5802,
     "status": "ok",
     "timestamp": 1550504060281,
     "user": {
      "displayName": "Nishant Sinha",
      "photoUrl": "https://lh6.googleusercontent.com/-qFX6UkRzXUg/AAAAAAAAAAI/AAAAAAAAADQ/7YyiVqsYLVw/s64/photo.jpg",
      "userId": "14342734449519443347"
     },
     "user_tz": -330
    },
    "id": "-FTPmmTrWO_y",
    "outputId": "0984114b-8e40-474c-be3b-d10c68710312"
   },
   "outputs": [
    {
     "data": {
      "text/plain": [
       "[(0.994, 3.0], (5.0, 7.0], (3.0, 5.0], (3.0, 5.0], (5.0, 7.0], (0.994, 3.0]]\n",
       "Categories (3, interval[float64]): [(0.994, 3.0] < (3.0, 5.0] < (5.0, 7.0]]"
      ]
     },
     "execution_count": 443,
     "metadata": {
      "tags": []
     },
     "output_type": "execute_result"
    }
   ],
   "source": [
    "pd.cut(np.array([1, 7, 5, 4, 6, 3]), 3)"
   ]
  },
  {
   "cell_type": "code",
   "execution_count": 444,
   "metadata": {
    "colab": {
     "base_uri": "https://localhost:8080/",
     "height": 0
    },
    "colab_type": "code",
    "executionInfo": {
     "elapsed": 5787,
     "status": "ok",
     "timestamp": 1550504060293,
     "user": {
      "displayName": "Nishant Sinha",
      "photoUrl": "https://lh6.googleusercontent.com/-qFX6UkRzXUg/AAAAAAAAAAI/AAAAAAAAADQ/7YyiVqsYLVw/s64/photo.jpg",
      "userId": "14342734449519443347"
     },
     "user_tz": -330
    },
    "id": "mQ-G_n_wbG1Y",
    "outputId": "d821923f-91d0-4a87-b920-14af05899b3c"
   },
   "outputs": [
    {
     "data": {
      "text/plain": [
       "430    (10.351, 24.83]\n",
       "48     (10.351, 24.83]\n",
       "105    (10.351, 24.83]\n",
       "467    (10.351, 24.83]\n",
       "547    (10.351, 24.83]\n",
       "365    (10.351, 24.83]\n",
       "295    (10.351, 24.83]\n",
       "567     (24.83, 39.28]\n",
       "297    (10.351, 24.83]\n",
       "172    (10.351, 24.83]\n",
       "506    (10.351, 24.83]\n",
       "488    (10.351, 24.83]\n",
       "115    (10.351, 24.83]\n",
       "466    (10.351, 24.83]\n",
       "218    (10.351, 24.83]\n",
       "74     (10.351, 24.83]\n",
       "461     (24.83, 39.28]\n",
       "484    (10.351, 24.83]\n",
       "79     (10.351, 24.83]\n",
       "226    (10.351, 24.83]\n",
       "37     (10.351, 24.83]\n",
       "44     (10.351, 24.83]\n",
       "324    (10.351, 24.83]\n",
       "13     (10.351, 24.83]\n",
       "277    (10.351, 24.83]\n",
       "134    (10.351, 24.83]\n",
       "83      (24.83, 39.28]\n",
       "153    (10.351, 24.83]\n",
       "327    (10.351, 24.83]\n",
       "68     (10.351, 24.83]\n",
       "            ...       \n",
       "486    (10.351, 24.83]\n",
       "207    (10.351, 24.83]\n",
       "357    (10.351, 24.83]\n",
       "409    (10.351, 24.83]\n",
       "211    (10.351, 24.83]\n",
       "289    (10.351, 24.83]\n",
       "11     (10.351, 24.83]\n",
       "53     (10.351, 24.83]\n",
       "86     (10.351, 24.83]\n",
       "266    (10.351, 24.83]\n",
       "398    (10.351, 24.83]\n",
       "77     (10.351, 24.83]\n",
       "125    (10.351, 24.83]\n",
       "537    (10.351, 24.83]\n",
       "532    (10.351, 24.83]\n",
       "472    (10.351, 24.83]\n",
       "259     (24.83, 39.28]\n",
       "227    (10.351, 24.83]\n",
       "476    (10.351, 24.83]\n",
       "453    (10.351, 24.83]\n",
       "33      (24.83, 39.28]\n",
       "65     (10.351, 24.83]\n",
       "188    (10.351, 24.83]\n",
       "479    (10.351, 24.83]\n",
       "509    (10.351, 24.83]\n",
       "201    (10.351, 24.83]\n",
       "183    (10.351, 24.83]\n",
       "285    (10.351, 24.83]\n",
       "49     (10.351, 24.83]\n",
       "161    (10.351, 24.83]\n",
       "Name: mean texture, Length: 512, dtype: category\n",
       "Categories (2, interval[float64]): [(10.351, 24.83] < (24.83, 39.28]]"
      ]
     },
     "execution_count": 444,
     "metadata": {
      "tags": []
     },
     "output_type": "execute_result"
    }
   ],
   "source": [
    "pd.cut(X_train.iloc[:,1],2)"
   ]
  },
  {
   "cell_type": "markdown",
   "metadata": {
    "colab_type": "text",
    "id": "MzsR7fkZcHcn"
   },
   "source": [
    "**Now, that we have cleaned the data, we will now convert it to numpy array for applying the algorithms:**"
   ]
  },
  {
   "cell_type": "code",
   "execution_count": null,
   "metadata": {
    "colab": {},
    "colab_type": "code",
    "id": "zDbnncAQVFgg"
   },
   "outputs": [],
   "source": [
    "X_binarised_test= X_binarised_test.values\n",
    "X_binarised_train= X_binarised_train.values"
   ]
  },
  {
   "cell_type": "code",
   "execution_count": 446,
   "metadata": {
    "colab": {
     "base_uri": "https://localhost:8080/",
     "height": 0
    },
    "colab_type": "code",
    "executionInfo": {
     "elapsed": 5767,
     "status": "ok",
     "timestamp": 1550504060311,
     "user": {
      "displayName": "Nishant Sinha",
      "photoUrl": "https://lh6.googleusercontent.com/-qFX6UkRzXUg/AAAAAAAAAAI/AAAAAAAAADQ/7YyiVqsYLVw/s64/photo.jpg",
      "userId": "14342734449519443347"
     },
     "user_tz": -330
    },
    "id": "hMj83N3acCAi",
    "outputId": "76762719-3f65-4fe2-bd28-ad8dc167b4f9"
   },
   "outputs": [
    {
     "data": {
      "text/plain": [
       "numpy.ndarray"
      ]
     },
     "execution_count": 446,
     "metadata": {
      "tags": []
     },
     "output_type": "execute_result"
    }
   ],
   "source": [
    "type(X_binarised_test)"
   ]
  },
  {
   "cell_type": "code",
   "execution_count": null,
   "metadata": {
    "colab": {},
    "colab_type": "code",
    "id": "sDN1BTbZx-dL"
   },
   "outputs": [],
   "source": []
  },
  {
   "cell_type": "markdown",
   "metadata": {
    "colab_type": "text",
    "id": "KOLkbZ-z9CyS"
   },
   "source": [
    "# Inference and search"
   ]
  },
  {
   "cell_type": "markdown",
   "metadata": {
    "colab_type": "text",
    "id": "RKtO6_OM9J9i"
   },
   "source": [
    "Now, we have **X_binarised_test, X_binarised_train (as numpy ndarrays), y_test,y_train**"
   ]
  },
  {
   "cell_type": "markdown",
   "metadata": {
    "colab_type": "text",
    "id": "73T-9ywJ9csP"
   },
   "source": [
    "Let us take any value of b to start with. If the sum of columns value > b, we say it's 1(Malignant), else we say, it's 0(benign)"
   ]
  },
  {
   "cell_type": "code",
   "execution_count": 447,
   "metadata": {
    "colab": {
     "base_uri": "https://localhost:8080/",
     "height": 0
    },
    "colab_type": "code",
    "executionInfo": {
     "elapsed": 5735,
     "status": "ok",
     "timestamp": 1550504060326,
     "user": {
      "displayName": "Nishant Sinha",
      "photoUrl": "https://lh6.googleusercontent.com/-qFX6UkRzXUg/AAAAAAAAAAI/AAAAAAAAADQ/7YyiVqsYLVw/s64/photo.jpg",
      "userId": "14342734449519443347"
     },
     "user_tz": -330
    },
    "id": "Dzjc1dJ19Ffu",
    "outputId": "f89993d4-4679-4b4c-e108-5b1f1d5a83f5"
   },
   "outputs": [
    {
     "name": "stdout",
     "output_type": "stream",
     "text": [
      "for row number 122\n",
      "machine classifiend this as malignant\n",
      "actually it is benign\n"
     ]
    }
   ],
   "source": [
    "b=3\n",
    "# let us take a column of b for which we will check if it classifiend correctly for this b\n",
    "\n",
    "val= np.random.randint(0,X_binarised_train.shape[0])\n",
    "print(f'for row number {val}')\n",
    "\n",
    "if np.sum(X_binarised_train[val,:])>=b:\n",
    "  print('machine classifiend this as malignant')\n",
    "  \n",
    "elif np.sum(X_binarised_train[val,:])<b:\n",
    "  print('machine classifiend this as benign')\n",
    "  \n",
    "if y_train[100]==1:\n",
    "  print('acutally it is malignant')\n",
    "elif y_train[100]==0:\n",
    "  print('actually it is benign')"
   ]
  },
  {
   "cell_type": "code",
   "execution_count": 448,
   "metadata": {
    "colab": {
     "base_uri": "https://localhost:8080/",
     "height": 0
    },
    "colab_type": "code",
    "executionInfo": {
     "elapsed": 5722,
     "status": "ok",
     "timestamp": 1550504060337,
     "user": {
      "displayName": "Nishant Sinha",
      "photoUrl": "https://lh6.googleusercontent.com/-qFX6UkRzXUg/AAAAAAAAAAI/AAAAAAAAADQ/7YyiVqsYLVw/s64/photo.jpg",
      "userId": "14342734449519443347"
     },
     "user_tz": -330
    },
    "id": "zU5lTsqItnj0",
    "outputId": "0c9ddb00-621c-4341-ba08-c27b82f0f360"
   },
   "outputs": [
    {
     "name": "stdout",
     "output_type": "stream",
     "text": [
      "77 0.150390625\n"
     ]
    }
   ],
   "source": [
    "b=3\n",
    "accurate_prediction=0\n",
    "\n",
    "for x,z in zip(X_binarised_train,y_train):\n",
    "  y_predicted=(np.sum(x)>=b)             #returns true(1) for >=b false(0) for <b\n",
    "  accurate_prediction += (y_predicted==z) #take sum of all the y_predictions that matches corresponding y_train values.\n",
    "  \n",
    "print(accurate_prediction, accurate_prediction/X_binarised_train.shape[0])\n",
    "\n",
    "  "
   ]
  },
  {
   "cell_type": "code",
   "execution_count": null,
   "metadata": {
    "colab": {},
    "colab_type": "code",
    "id": "cBLG1kLyBK4d"
   },
   "outputs": [],
   "source": []
  },
  {
   "cell_type": "markdown",
   "metadata": {
    "colab_type": "text",
    "id": "mm-G7dpDDW8V"
   },
   "source": [
    "only 15% prediction, which is not very good. Let us do this for all possible values of b:"
   ]
  },
  {
   "cell_type": "code",
   "execution_count": 449,
   "metadata": {
    "colab": {
     "base_uri": "https://localhost:8080/",
     "height": 0
    },
    "colab_type": "code",
    "executionInfo": {
     "elapsed": 5677,
     "status": "ok",
     "timestamp": 1550504060349,
     "user": {
      "displayName": "Nishant Sinha",
      "photoUrl": "https://lh6.googleusercontent.com/-qFX6UkRzXUg/AAAAAAAAAAI/AAAAAAAAADQ/7YyiVqsYLVw/s64/photo.jpg",
      "userId": "14342734449519443347"
     },
     "user_tz": -330
    },
    "id": "sEmcg8c5BPS3",
    "outputId": "2f09c81f-aee5-4b96-ad47-67b752a95dc5"
   },
   "outputs": [
    {
     "name": "stdout",
     "output_type": "stream",
     "text": [
      "0 0.626953125\n",
      "1 0.240234375\n",
      "2 0.185546875\n",
      "3 0.150390625\n",
      "4 0.154296875\n",
      "5 0.181640625\n",
      "6 0.21484375\n",
      "7 0.244140625\n",
      "8 0.275390625\n",
      "9 0.298828125\n",
      "10 0.3125\n",
      "11 0.328125\n",
      "12 0.3359375\n",
      "13 0.34375\n",
      "14 0.3515625\n",
      "15 0.357421875\n",
      "16 0.3671875\n",
      "17 0.369140625\n",
      "18 0.373046875\n",
      "19 0.373046875\n",
      "20 0.373046875\n",
      "21 0.373046875\n",
      "22 0.373046875\n",
      "23 0.373046875\n",
      "24 0.373046875\n",
      "25 0.373046875\n",
      "26 0.373046875\n",
      "27 0.373046875\n",
      "28 0.373046875\n",
      "29 0.373046875\n",
      "30 0.373046875\n"
     ]
    }
   ],
   "source": [
    "for b in range(X_binarised_train.shape[1]+1):\n",
    "  accurate_prediction=0\n",
    "  \n",
    "  for x,z in zip(X_binarised_train,y_train):\n",
    "    y_predicted= (np.sum(x)>=b)\n",
    "    accurate_prediction+=(y_predicted==z)\n",
    "  print(b, accurate_prediction/X_binarised_train.shape[0])\n",
    "    "
   ]
  },
  {
   "cell_type": "markdown",
   "metadata": {
    "colab_type": "text",
    "id": "WsfFpAfJGN0_"
   },
   "source": [
    "**Above, we can see that the prediction is not what we expected. For b=0, it gives the highest prediction of 62%, which classify all as malignent**\n",
    "\n",
    "To know why this is happening, we look at the data:"
   ]
  },
  {
   "cell_type": "code",
   "execution_count": 450,
   "metadata": {
    "colab": {
     "base_uri": "https://localhost:8080/",
     "height": 0
    },
    "colab_type": "code",
    "executionInfo": {
     "elapsed": 5662,
     "status": "ok",
     "timestamp": 1550504060354,
     "user": {
      "displayName": "Nishant Sinha",
      "photoUrl": "https://lh6.googleusercontent.com/-qFX6UkRzXUg/AAAAAAAAAAI/AAAAAAAAADQ/7YyiVqsYLVw/s64/photo.jpg",
      "userId": "14342734449519443347"
     },
     "user_tz": -330
    },
    "id": "an7ov3hYEh59",
    "outputId": "fa1d480a-0718-4f00-e47a-96051471b915"
   },
   "outputs": [
    {
     "data": {
      "text/html": [
       "<div>\n",
       "<style scoped>\n",
       "    .dataframe tbody tr th:only-of-type {\n",
       "        vertical-align: middle;\n",
       "    }\n",
       "\n",
       "    .dataframe tbody tr th {\n",
       "        vertical-align: top;\n",
       "    }\n",
       "\n",
       "    .dataframe thead th {\n",
       "        text-align: right;\n",
       "    }\n",
       "</style>\n",
       "<table border=\"1\" class=\"dataframe\">\n",
       "  <thead>\n",
       "    <tr style=\"text-align: right;\">\n",
       "      <th></th>\n",
       "      <th>mean radius</th>\n",
       "      <th>mean texture</th>\n",
       "      <th>mean perimeter</th>\n",
       "      <th>mean area</th>\n",
       "      <th>mean smoothness</th>\n",
       "      <th>mean compactness</th>\n",
       "      <th>mean concavity</th>\n",
       "      <th>mean concave points</th>\n",
       "      <th>mean symmetry</th>\n",
       "      <th>mean fractal dimension</th>\n",
       "      <th>...</th>\n",
       "      <th>worst radius</th>\n",
       "      <th>worst texture</th>\n",
       "      <th>worst perimeter</th>\n",
       "      <th>worst area</th>\n",
       "      <th>worst smoothness</th>\n",
       "      <th>worst compactness</th>\n",
       "      <th>worst concavity</th>\n",
       "      <th>worst concave points</th>\n",
       "      <th>worst symmetry</th>\n",
       "      <th>worst fractal dimension</th>\n",
       "    </tr>\n",
       "    <tr>\n",
       "      <th>target_class</th>\n",
       "      <th></th>\n",
       "      <th></th>\n",
       "      <th></th>\n",
       "      <th></th>\n",
       "      <th></th>\n",
       "      <th></th>\n",
       "      <th></th>\n",
       "      <th></th>\n",
       "      <th></th>\n",
       "      <th></th>\n",
       "      <th></th>\n",
       "      <th></th>\n",
       "      <th></th>\n",
       "      <th></th>\n",
       "      <th></th>\n",
       "      <th></th>\n",
       "      <th></th>\n",
       "      <th></th>\n",
       "      <th></th>\n",
       "      <th></th>\n",
       "      <th></th>\n",
       "    </tr>\n",
       "  </thead>\n",
       "  <tbody>\n",
       "    <tr>\n",
       "      <th>0</th>\n",
       "      <td>17.462830</td>\n",
       "      <td>21.604906</td>\n",
       "      <td>115.365377</td>\n",
       "      <td>978.376415</td>\n",
       "      <td>0.102898</td>\n",
       "      <td>0.145188</td>\n",
       "      <td>0.160775</td>\n",
       "      <td>0.087990</td>\n",
       "      <td>0.192909</td>\n",
       "      <td>0.062680</td>\n",
       "      <td>...</td>\n",
       "      <td>21.134811</td>\n",
       "      <td>29.318208</td>\n",
       "      <td>141.370330</td>\n",
       "      <td>1422.286321</td>\n",
       "      <td>0.144845</td>\n",
       "      <td>0.374824</td>\n",
       "      <td>0.450606</td>\n",
       "      <td>0.182237</td>\n",
       "      <td>0.323468</td>\n",
       "      <td>0.091530</td>\n",
       "    </tr>\n",
       "    <tr>\n",
       "      <th>1</th>\n",
       "      <td>12.146524</td>\n",
       "      <td>17.914762</td>\n",
       "      <td>78.075406</td>\n",
       "      <td>462.790196</td>\n",
       "      <td>0.092478</td>\n",
       "      <td>0.080085</td>\n",
       "      <td>0.046058</td>\n",
       "      <td>0.025717</td>\n",
       "      <td>0.174186</td>\n",
       "      <td>0.062867</td>\n",
       "      <td>...</td>\n",
       "      <td>13.379801</td>\n",
       "      <td>23.515070</td>\n",
       "      <td>87.005938</td>\n",
       "      <td>558.899440</td>\n",
       "      <td>0.124959</td>\n",
       "      <td>0.182673</td>\n",
       "      <td>0.166238</td>\n",
       "      <td>0.074444</td>\n",
       "      <td>0.270246</td>\n",
       "      <td>0.079442</td>\n",
       "    </tr>\n",
       "  </tbody>\n",
       "</table>\n",
       "<p>2 rows × 30 columns</p>\n",
       "</div>"
      ],
      "text/plain": [
       "              mean radius  mean texture  mean perimeter   mean area  \\\n",
       "target_class                                                          \n",
       "0               17.462830     21.604906      115.365377  978.376415   \n",
       "1               12.146524     17.914762       78.075406  462.790196   \n",
       "\n",
       "              mean smoothness  mean compactness  mean concavity  \\\n",
       "target_class                                                      \n",
       "0                    0.102898          0.145188        0.160775   \n",
       "1                    0.092478          0.080085        0.046058   \n",
       "\n",
       "              mean concave points  mean symmetry  mean fractal dimension  \\\n",
       "target_class                                                               \n",
       "0                        0.087990       0.192909                0.062680   \n",
       "1                        0.025717       0.174186                0.062867   \n",
       "\n",
       "                       ...             worst radius  worst texture  \\\n",
       "target_class           ...                                           \n",
       "0                      ...                21.134811      29.318208   \n",
       "1                      ...                13.379801      23.515070   \n",
       "\n",
       "              worst perimeter   worst area  worst smoothness  \\\n",
       "target_class                                                   \n",
       "0                  141.370330  1422.286321          0.144845   \n",
       "1                   87.005938   558.899440          0.124959   \n",
       "\n",
       "              worst compactness  worst concavity  worst concave points  \\\n",
       "target_class                                                             \n",
       "0                      0.374824         0.450606              0.182237   \n",
       "1                      0.182673         0.166238              0.074444   \n",
       "\n",
       "              worst symmetry  worst fractal dimension  \n",
       "target_class                                           \n",
       "0                   0.323468                 0.091530  \n",
       "1                   0.270246                 0.079442  \n",
       "\n",
       "[2 rows x 30 columns]"
      ]
     },
     "execution_count": 450,
     "metadata": {
      "tags": []
     },
     "output_type": "execute_result"
    }
   ],
   "source": [
    "data.groupby('target_class').mean()"
   ]
  },
  {
   "cell_type": "markdown",
   "metadata": {
    "colab_type": "text",
    "id": "NHn39rV4HUYc"
   },
   "source": [
    "In the above, we can see a clear trend, that all the values for benign is greater than the malignent. On the other hand, in binarisation, we did the opposite, that is all the values that were above some value(using pd.cut) were made 1, and all those which were below it, were made as 0.\n",
    "\n",
    "Thus, we need to reverse the order of 0 and 1 in binarisation."
   ]
  },
  {
   "cell_type": "markdown",
   "metadata": {
    "colab_type": "text",
    "id": "mPC4O2HhJPKo"
   },
   "source": [
    "**Making the changes: **"
   ]
  },
  {
   "cell_type": "code",
   "execution_count": null,
   "metadata": {
    "colab": {},
    "colab_type": "code",
    "id": "NYuLo9zTHMeT"
   },
   "outputs": [],
   "source": [
    "X_binarised_train= X_train.apply(pd.cut,bins=2,labels=[1,0])\n",
    "X_binarised_test= X_test.apply(pd.cut,bins=2,labels=[1,0])\n",
    "\n",
    "X_binarised_train= X_binarised_train.values\n",
    "X_binarised_test= X_binarised_test.values"
   ]
  },
  {
   "cell_type": "markdown",
   "metadata": {
    "colab_type": "text",
    "id": "F0ZTVahCJd9g"
   },
   "source": [
    "_Now running the same with changed labels:_"
   ]
  },
  {
   "cell_type": "code",
   "execution_count": 452,
   "metadata": {
    "colab": {
     "base_uri": "https://localhost:8080/",
     "height": 0
    },
    "colab_type": "code",
    "executionInfo": {
     "elapsed": 5610,
     "status": "ok",
     "timestamp": 1550504060363,
     "user": {
      "displayName": "Nishant Sinha",
      "photoUrl": "https://lh6.googleusercontent.com/-qFX6UkRzXUg/AAAAAAAAAAI/AAAAAAAAADQ/7YyiVqsYLVw/s64/photo.jpg",
      "userId": "14342734449519443347"
     },
     "user_tz": -330
    },
    "id": "3izH7JS0JTaq",
    "outputId": "9183681f-e66d-4c5b-e187-d87087994725"
   },
   "outputs": [
    {
     "name": "stdout",
     "output_type": "stream",
     "text": [
      "0 0.626953125\n",
      "1 0.626953125\n",
      "2 0.626953125\n",
      "3 0.626953125\n",
      "4 0.626953125\n",
      "5 0.626953125\n",
      "6 0.626953125\n",
      "7 0.626953125\n",
      "8 0.626953125\n",
      "9 0.626953125\n",
      "10 0.626953125\n",
      "11 0.626953125\n",
      "12 0.626953125\n",
      "13 0.626953125\n",
      "14 0.630859375\n",
      "15 0.6328125\n",
      "16 0.642578125\n",
      "17 0.6484375\n",
      "18 0.65625\n",
      "19 0.6640625\n",
      "20 0.671875\n",
      "21 0.6875\n",
      "22 0.701171875\n",
      "23 0.724609375\n",
      "24 0.755859375\n",
      "25 0.78515625\n",
      "26 0.818359375\n",
      "27 0.845703125\n",
      "28 0.849609375\n",
      "29 0.814453125\n",
      "30 0.759765625\n"
     ]
    }
   ],
   "source": [
    "for b in range(X_binarised_train.shape[1]+1):\n",
    "  accurate_prediction=0\n",
    "  \n",
    "  for x,z in zip(X_binarised_train,y_train):\n",
    "    y_predicted= (np.sum(x)>=b)\n",
    "    accurate_prediction+=(y_predicted==z)\n",
    "  print(b, accurate_prediction/X_binarised_train.shape[0])\n",
    "    "
   ]
  },
  {
   "cell_type": "markdown",
   "metadata": {
    "colab_type": "text",
    "id": "NWLUgGLOJqxX"
   },
   "source": [
    "**We can see that the highest is for b=28**"
   ]
  },
  {
   "cell_type": "markdown",
   "metadata": {
    "colab_type": "text",
    "id": "K1hJtygYLDUG"
   },
   "source": [
    "*Now we would do the same for all the test values, taking **b=28**. We will use the sklearn metrics.accuracy_score to find the accuracy*"
   ]
  },
  {
   "cell_type": "code",
   "execution_count": 453,
   "metadata": {
    "colab": {
     "base_uri": "https://localhost:8080/",
     "height": 0
    },
    "colab_type": "code",
    "executionInfo": {
     "elapsed": 5589,
     "status": "ok",
     "timestamp": 1550504060367,
     "user": {
      "displayName": "Nishant Sinha",
      "photoUrl": "https://lh6.googleusercontent.com/-qFX6UkRzXUg/AAAAAAAAAAI/AAAAAAAAADQ/7YyiVqsYLVw/s64/photo.jpg",
      "userId": "14342734449519443347"
     },
     "user_tz": -330
    },
    "id": "49KcE8F9Jpeg",
    "outputId": "046ae4a3-3db4-4148-db85-e3a3103e0f71"
   },
   "outputs": [
    {
     "name": "stdout",
     "output_type": "stream",
     "text": [
      "28 0.7894736842105263\n"
     ]
    }
   ],
   "source": [
    "from sklearn.metrics import accuracy_score\n",
    "b=28\n",
    "\n",
    "y_pred_test= []\n",
    "\n",
    "for x in X_binarised_test:\n",
    "  y_predicted= (np.sum(x)>=b)\n",
    "  y_pred_test.append(y_predicted)\n",
    "accuracy= accuracy_score(y_pred_test,y_test)\n",
    "print(b,accuracy)\n",
    "    "
   ]
  },
  {
   "cell_type": "markdown",
   "metadata": {
    "colab_type": "text",
    "id": "JgsD1y4GN5nN"
   },
   "source": [
    "**Henceforth, we would use the metrics in training data as well**\n",
    "We can see that the accuracy is about 79% on the test data, which is less than what we expected with b=28. Though some other value of b may give better result, we would go with this value of b only; because we are working with the optimized value for b."
   ]
  },
  {
   "cell_type": "code",
   "execution_count": null,
   "metadata": {
    "colab": {},
    "colab_type": "code",
    "id": "6S6f594SNPcN"
   },
   "outputs": [],
   "source": []
  },
  {
   "cell_type": "markdown",
   "metadata": {
    "colab_type": "text",
    "id": "0BxVsq6TOsHF"
   },
   "source": [
    "# MP neuron class"
   ]
  },
  {
   "cell_type": "code",
   "execution_count": null,
   "metadata": {
    "colab": {},
    "colab_type": "code",
    "id": "8HzXQQsnOxCP"
   },
   "outputs": [],
   "source": [
    "class MPneuron:\n",
    "  def __init__(self):\n",
    "    \"\"\"only one parameter 'b' in case of MPneuron.\"\"\"\n",
    "    self.b= None  #we make it None initially\n",
    "    \n",
    "  def model(self,x):\n",
    "    \"\"\"returns True for sum >= b, False for sum < b\"\"\"\n",
    "    return (np.sum(x)>=self.b)\n",
    "  \n",
    "  def predict(self, X):\n",
    "    \"\"\"takes in the entire matrix as an input, and runs the 'model' module on it\"\"\"\n",
    "    Y= []\n",
    "    for x in X:\n",
    "      result = self.model(x)\n",
    "      Y.append(result)\n",
    "    return np.array(Y)\n",
    "  \n",
    "  def fit(self, X, Y):\n",
    "    \"\"\"Finding the  best fitting parameters\"\"\"\n",
    "    \n",
    "    accuracy= {}\n",
    "    for b in range(X.shape[1]+1):\n",
    "      self.b = b\n",
    "      Y_pred= self.predict(X)\n",
    "      accuracy[b]= accuracy_score(Y_pred,Y)  #Y is the corresponding test/train value that we have\n",
    "    \n",
    "    best_b= max(accuracy, key=accuracy.get)   #The key parameter takes a function, and for each entry in the iterable, it'll find the one for which the key function returns the highest value.\n",
    "    self.b= best_b\n",
    "    print(f'optimal value for b is {best_b}')\n",
    "    print(f'maximum accuracy is {accuracy[best_b]}')\n",
    "            \n",
    "    plt.plot(accuracy.values())\n",
    "    plt.show()"
   ]
  },
  {
   "cell_type": "code",
   "execution_count": 460,
   "metadata": {
    "colab": {
     "base_uri": "https://localhost:8080/",
     "height": 300
    },
    "colab_type": "code",
    "executionInfo": {
     "elapsed": 927,
     "status": "ok",
     "timestamp": 1550504379543,
     "user": {
      "displayName": "Nishant Sinha",
      "photoUrl": "https://lh6.googleusercontent.com/-qFX6UkRzXUg/AAAAAAAAAAI/AAAAAAAAADQ/7YyiVqsYLVw/s64/photo.jpg",
      "userId": "14342734449519443347"
     },
     "user_tz": -330
    },
    "id": "Ow1fXjz8bi6f",
    "outputId": "a3632923-2ea4-4bfd-8a00-96eca0995ee5"
   },
   "outputs": [
    {
     "name": "stdout",
     "output_type": "stream",
     "text": [
      "optimal value for b is 28\n",
      "maximum accuracy is 0.849609375\n"
     ]
    },
    {
     "data": {
      "image/png": "[encoded data removed]",
      "text/plain": [
       "<Figure size 432x288 with 1 Axes>"
      ]
     },
     "metadata": {
      "tags": []
     },
     "output_type": "display_data"
    }
   ],
   "source": [
    "mp_neuron = MPneuron()\n",
    "mp_neuron.fit(X_binarised_train,y_train)"
   ]
  },
  {
   "cell_type": "code",
   "execution_count": 381,
   "metadata": {
    "colab": {
     "base_uri": "https://localhost:8080/",
     "height": 34
    },
    "colab_type": "code",
    "executionInfo": {
     "elapsed": 8193,
     "status": "ok",
     "timestamp": 1550503341784,
     "user": {
      "displayName": "Nishant Sinha",
      "photoUrl": "https://lh6.googleusercontent.com/-qFX6UkRzXUg/AAAAAAAAAAI/AAAAAAAAADQ/7YyiVqsYLVw/s64/photo.jpg",
      "userId": "14342734449519443347"
     },
     "user_tz": -330
    },
    "id": "WMudDkSnbwof",
    "outputId": "c9aaa572-e9d5-4560-ce87-da600751f82d"
   },
   "outputs": [
    {
     "name": "stdout",
     "output_type": "stream",
     "text": [
      "0.7894736842105263\n"
     ]
    }
   ],
   "source": [
    "y_test_pred= mp_neuron.predict(X_binarised_test)\n",
    "accuracy_test= accuracy_score(y_test_pred,y_test)\n",
    "print(accuracy_test)"
   ]
  },
  {
   "cell_type": "code",
   "execution_count": null,
   "metadata": {
    "colab": {},
    "colab_type": "code",
    "id": "REl3bOYHeGrM"
   },
   "outputs": [],
   "source": []
  },
  {
   "cell_type": "markdown",
   "metadata": {
    "colab_type": "text",
    "id": "LCx6UiWdjNGo"
   },
   "source": [
    "# Perceptron Class"
   ]
  },
  {
   "cell_type": "code",
   "execution_count": null,
   "metadata": {
    "colab": {},
    "colab_type": "code",
    "id": "ZLl0FAHXLcId"
   },
   "outputs": [],
   "source": [
    "# we would need the original data, not the binarised data; converting to numpy arrays:\n",
    "\n",
    "X_train = X_train.values\n",
    "X_test = X_test.values"
   ]
  },
  {
   "cell_type": "code",
   "execution_count": null,
   "metadata": {
    "colab": {},
    "colab_type": "code",
    "id": "QXc9JXIJjQpz"
   },
   "outputs": [],
   "source": [
    "class Perceptron:\n",
    "  def __init__(self):\n",
    "    self.b= None\n",
    "    self.w= None\n",
    "  \n",
    "  def model(self,x):\n",
    "    return 1 if np.dot(x,self.w)>=self.b else 0\n",
    "  \n",
    "  def predict(self,X):\n",
    "    Y= []\n",
    "    for x in X:\n",
    "      result= self.model(x)\n",
    "      Y.append(result)\n",
    "    return np.array(Y)\n",
    "  \n",
    "  def fit(self, X,Y):\n",
    "    self.w= np.ones(X.shape[1])\n",
    "    self.b= 0\n",
    "    for x,y in zip(X,Y):\n",
    "      y_pred = self.model(x)\n",
    "      if y==1 and y_pred==0:\n",
    "        self.w += x\n",
    "        self.b -= 1\n",
    "      elif y==0 and y_pred==1:\n",
    "        self.w -= x\n",
    "        self.b += 1"
   ]
  },
  {
   "cell_type": "code",
   "execution_count": null,
   "metadata": {
    "colab": {},
    "colab_type": "code",
    "id": "vjyujIWRAPbB"
   },
   "outputs": [],
   "source": [
    "perceptron= Perceptron()\n",
    "perceptron.fit(X_train,y_train)"
   ]
  },
  {
   "cell_type": "code",
   "execution_count": 385,
   "metadata": {
    "colab": {
     "base_uri": "https://localhost:8080/",
     "height": 268
    },
    "colab_type": "code",
    "executionInfo": {
     "elapsed": 8132,
     "status": "ok",
     "timestamp": 1550503341815,
     "user": {
      "displayName": "Nishant Sinha",
      "photoUrl": "https://lh6.googleusercontent.com/-qFX6UkRzXUg/AAAAAAAAAAI/AAAAAAAAADQ/7YyiVqsYLVw/s64/photo.jpg",
      "userId": "14342734449519443347"
     },
     "user_tz": -330
    },
    "id": "piteGLp5r9tx",
    "outputId": "5304c6bc-c7b0-47cb-8d1f-ed818b04da78"
   },
   "outputs": [
    {
     "data": {
      "image/png": "[encoded data removed]",
      "text/plain": [
       "<Figure size 432x288 with 1 Axes>"
      ]
     },
     "metadata": {
      "tags": []
     },
     "output_type": "display_data"
    }
   ],
   "source": [
    "plt.plot(perceptron.w); #weights have changed for all the features"
   ]
  },
  {
   "cell_type": "code",
   "execution_count": 386,
   "metadata": {
    "colab": {
     "base_uri": "https://localhost:8080/",
     "height": 34
    },
    "colab_type": "code",
    "executionInfo": {
     "elapsed": 8104,
     "status": "ok",
     "timestamp": 1550503341819,
     "user": {
      "displayName": "Nishant Sinha",
      "photoUrl": "https://lh6.googleusercontent.com/-qFX6UkRzXUg/AAAAAAAAAAI/AAAAAAAAADQ/7YyiVqsYLVw/s64/photo.jpg",
      "userId": "14342734449519443347"
     },
     "user_tz": -330
    },
    "id": "hY7a2m8ZMpxs",
    "outputId": "1fb03803-c9cc-471e-e31d-76bac0ffd49a"
   },
   "outputs": [
    {
     "name": "stdout",
     "output_type": "stream",
     "text": [
      "0.373046875\n"
     ]
    }
   ],
   "source": [
    "#but what accuracy will it give? We would check the accuracy on train data:\n",
    "\n",
    "y_pred_train= perceptron.predict(X_train)\n",
    "print(accuracy_score(y_train,y_pred_train))"
   ]
  },
  {
   "cell_type": "markdown",
   "metadata": {
    "colab_type": "text",
    "id": "Xd_T_L8vNkk0"
   },
   "source": [
    "Though the algorithm has gone through the updating, we have got very low accuracy."
   ]
  },
  {
   "cell_type": "code",
   "execution_count": 387,
   "metadata": {
    "colab": {
     "base_uri": "https://localhost:8080/",
     "height": 34
    },
    "colab_type": "code",
    "executionInfo": {
     "elapsed": 8079,
     "status": "ok",
     "timestamp": 1550503341821,
     "user": {
      "displayName": "Nishant Sinha",
      "photoUrl": "https://lh6.googleusercontent.com/-qFX6UkRzXUg/AAAAAAAAAAI/AAAAAAAAADQ/7YyiVqsYLVw/s64/photo.jpg",
      "userId": "14342734449519443347"
     },
     "user_tz": -330
    },
    "id": "64rbrlJONh6H",
    "outputId": "2f32ef20-6519-4dd7-bf1f-e0d094ebe875"
   },
   "outputs": [
    {
     "name": "stdout",
     "output_type": "stream",
     "text": [
      "0.3684210526315789\n"
     ]
    }
   ],
   "source": [
    "# low accuracy also for the test data.\n",
    "\n",
    "\n",
    "y_pred_test= perceptron.predict(X_test)\n",
    "print(accuracy_score(y_test,y_pred_test))"
   ]
  },
  {
   "cell_type": "markdown",
   "metadata": {
    "colab_type": "text",
    "id": "6CIAetc-QFa-"
   },
   "source": [
    "# Epochs "
   ]
  },
  {
   "cell_type": "markdown",
   "metadata": {
    "colab_type": "text",
    "id": "kTtI8nQ6Ob4R"
   },
   "source": [
    "**Epochs**: Our algorithm is going through all the points in the in X and Y and changing weights when needed (for loop in the **fit**). But doing this once would not be enough. This is because, as we go through the points in X and Y, the weights keeps changing. Thus, it's necessary to come back to the first point again with changed weights. This should be repeated over and over until some **convergence** is reached. This is known as **epoch**. Above, our perceptron class supports only 1 epoch."
   ]
  },
  {
   "cell_type": "code",
   "execution_count": null,
   "metadata": {
    "colab": {},
    "colab_type": "code",
    "id": "JDSyGvHnOGyf"
   },
   "outputs": [],
   "source": [
    "class Perceptron:\n",
    "  def __init__(self):\n",
    "    self.w = None\n",
    "    self.b = None\n",
    "    \n",
    "  def model(self, x):\n",
    "    return 1 if np.dot(self.w, x)>=0 else 0\n",
    "  \n",
    "  def predict(self,X):\n",
    "    Y= []\n",
    "    for x in X:\n",
    "      y_pred = self.model(x)\n",
    "      Y.append(y_pred)\n",
    "    return np.array(Y)\n",
    "  \n",
    "  def fit(self, X,Y,epoch=1):\n",
    "    self.w= np.ones(X.shape[1])\n",
    "    self.b= 0\n",
    "    \n",
    "    for i in range(epoch):\n",
    "      for x,y in zip(X,Y):\n",
    "        y_pred = self.model(x)\n",
    "        if y==1 and y_pred==0:\n",
    "          self.w += x\n",
    "          self.b -= 1\n",
    "        elif y==0 and y_pred==1:\n",
    "          self.w -= x\n",
    "          self.b += 1\n",
    "          "
   ]
  },
  {
   "cell_type": "code",
   "execution_count": null,
   "metadata": {
    "colab": {},
    "colab_type": "code",
    "id": "7Ea2kaugSLkx"
   },
   "outputs": [],
   "source": [
    "perceptron = Perceptron()\n",
    "perceptron.fit(X_train,y_train,2)"
   ]
  },
  {
   "cell_type": "code",
   "execution_count": 390,
   "metadata": {
    "colab": {
     "base_uri": "https://localhost:8080/",
     "height": 34
    },
    "colab_type": "code",
    "executionInfo": {
     "elapsed": 8029,
     "status": "ok",
     "timestamp": 1550503341832,
     "user": {
      "displayName": "Nishant Sinha",
      "photoUrl": "https://lh6.googleusercontent.com/-qFX6UkRzXUg/AAAAAAAAAAI/AAAAAAAAADQ/7YyiVqsYLVw/s64/photo.jpg",
      "userId": "14342734449519443347"
     },
     "user_tz": -330
    },
    "id": "qj7VWZWTSXZA",
    "outputId": "6f54243e-c098-4143-9ad7-a9cff30ad347"
   },
   "outputs": [
    {
     "name": "stdout",
     "output_type": "stream",
     "text": [
      "0.91015625\n"
     ]
    }
   ],
   "source": [
    "y_pred_train= perceptron.predict(X_train)\n",
    "print(accuracy_score(y_train,y_pred_train))"
   ]
  },
  {
   "cell_type": "markdown",
   "metadata": {
    "colab_type": "text",
    "id": "_C46IRYES3SZ"
   },
   "source": [
    "_We have already got a much higher accuracy on the training data now, aftere including 2 epochs_"
   ]
  },
  {
   "cell_type": "code",
   "execution_count": 391,
   "metadata": {
    "colab": {
     "base_uri": "https://localhost:8080/",
     "height": 34
    },
    "colab_type": "code",
    "executionInfo": {
     "elapsed": 8006,
     "status": "ok",
     "timestamp": 1550503341834,
     "user": {
      "displayName": "Nishant Sinha",
      "photoUrl": "https://lh6.googleusercontent.com/-qFX6UkRzXUg/AAAAAAAAAAI/AAAAAAAAADQ/7YyiVqsYLVw/s64/photo.jpg",
      "userId": "14342734449519443347"
     },
     "user_tz": -330
    },
    "id": "108LW2suSzpb",
    "outputId": "3a15cebd-436e-43cc-f6e8-c18c4a651273"
   },
   "outputs": [
    {
     "name": "stdout",
     "output_type": "stream",
     "text": [
      "0.9473684210526315\n"
     ]
    }
   ],
   "source": [
    "# and for test data:\n",
    "y_pred_test = perceptron.predict(X_test)\n",
    "print(accuracy_score(y_test, y_pred_test))"
   ]
  },
  {
   "cell_type": "markdown",
   "metadata": {
    "colab_type": "text",
    "id": "Q8fUmAWXUIu6"
   },
   "source": [
    "**But accuracy will keep flactuating, with number of epochs:**\n",
    "\n",
    "For 3 epochs:  (we will check only train accuracy now on.)"
   ]
  },
  {
   "cell_type": "code",
   "execution_count": 392,
   "metadata": {
    "colab": {
     "base_uri": "https://localhost:8080/",
     "height": 34
    },
    "colab_type": "code",
    "executionInfo": {
     "elapsed": 7982,
     "status": "ok",
     "timestamp": 1550503341837,
     "user": {
      "displayName": "Nishant Sinha",
      "photoUrl": "https://lh6.googleusercontent.com/-qFX6UkRzXUg/AAAAAAAAAAI/AAAAAAAAADQ/7YyiVqsYLVw/s64/photo.jpg",
      "userId": "14342734449519443347"
     },
     "user_tz": -330
    },
    "id": "IuW9FG99Tv9b",
    "outputId": "603d7f51-4133-4aec-f4e8-a61f224619dd"
   },
   "outputs": [
    {
     "name": "stdout",
     "output_type": "stream",
     "text": [
      "0.373046875\n"
     ]
    }
   ],
   "source": [
    "perceptron = Perceptron()\n",
    "perceptron.fit(X_train,y_train,3)\n",
    "\n",
    "y_pred_train= perceptron.predict(X_train)\n",
    "print(accuracy_score(y_train,y_pred_train))"
   ]
  },
  {
   "cell_type": "markdown",
   "metadata": {
    "colab_type": "text",
    "id": "JM-68de4UtdM"
   },
   "source": [
    "Accuracy has again come down, similarly for 4,5... epochs, accuracy will be varying. Let us plot the same."
   ]
  },
  {
   "cell_type": "code",
   "execution_count": null,
   "metadata": {
    "colab": {},
    "colab_type": "code",
    "id": "jKP4Q1YAUmHz"
   },
   "outputs": [],
   "source": [
    "class Perceptron:\n",
    "  def __init__(self):\n",
    "    self.w = None\n",
    "    self.b = None\n",
    "    \n",
    "  def model(self, x):\n",
    "    return 1 if np.dot(self.w, x)>=0 else 0\n",
    "  \n",
    "  def predict(self,X):\n",
    "    Y= []\n",
    "    for x in X:\n",
    "      y_pred = self.model(x)\n",
    "      Y.append(y_pred)\n",
    "    return np.array(Y)\n",
    "  \n",
    "  def fit(self, X,Y,epoch=1):\n",
    "    self.w= np.ones(X.shape[1])\n",
    "    self.b= 0\n",
    "    \n",
    "    accuracy= {}            # to store the dictionary of accuracies\n",
    "    max_accuracy = 0\n",
    "    \n",
    "    for i in range(epoch):\n",
    "      for x,y in zip(X,Y):\n",
    "        y_pred = self.model(x)\n",
    "        if y==1 and y_pred==0:\n",
    "          self.w += x\n",
    "          self.b -= 1\n",
    "        elif y==0 and y_pred==1:\n",
    "          self.w -= x\n",
    "          self.b += 1\n",
    "      accuracy[i] = accuracy_score(Y,self.predict(X))\n",
    "      if accuracy[i]> max_accuracy:\n",
    "        max_accuracy= accuracy[i]\n",
    "    print(f'maximum accuracy obtained is {max_accuracy}')\n",
    "    plt.plot(accuracy.values())\n",
    "    plt.show()"
   ]
  },
  {
   "cell_type": "code",
   "execution_count": 394,
   "metadata": {
    "colab": {
     "base_uri": "https://localhost:8080/",
     "height": 282
    },
    "colab_type": "code",
    "executionInfo": {
     "elapsed": 9248,
     "status": "ok",
     "timestamp": 1550503343151,
     "user": {
      "displayName": "Nishant Sinha",
      "photoUrl": "https://lh6.googleusercontent.com/-qFX6UkRzXUg/AAAAAAAAAAI/AAAAAAAAADQ/7YyiVqsYLVw/s64/photo.jpg",
      "userId": "14342734449519443347"
     },
     "user_tz": -330
    },
    "id": "ADkgulALY30h",
    "outputId": "934c74c5-8688-4f9f-c6cd-8671b06035ad"
   },
   "outputs": [
    {
     "name": "stdout",
     "output_type": "stream",
     "text": [
      "maximum accuracy obtained is 0.927734375\n"
     ]
    },
    {
     "data": {
      "image/png": "[encoded data removed]",
      "text/plain": [
       "<Figure size 432x288 with 1 Axes>"
      ]
     },
     "metadata": {
      "tags": []
     },
     "output_type": "display_data"
    }
   ],
   "source": [
    "perceptron= Perceptron()\n",
    "perceptron.fit(X_train,y_train,200)"
   ]
  },
  {
   "cell_type": "markdown",
   "metadata": {
    "colab_type": "text",
    "id": "WS9duVbtbQqx"
   },
   "source": [
    "The result seems to be oscillating, and stablizing at a later point. **Epoch** is one **hyperparameter**. It also affects the accuracy  but, it is not directly included in he model module.  Much of the deep learning is about finding the right value for differnet hyperparameters."
   ]
  },
  {
   "cell_type": "markdown",
   "metadata": {
    "colab_type": "text",
    "id": "qghPOh_-drCq"
   },
   "source": [
    "# Checkpointing"
   ]
  },
  {
   "cell_type": "markdown",
   "metadata": {
    "colab_type": "text",
    "id": "jP6Qs2kodt2P"
   },
   "source": [
    "We could get higher accuracy by including the epochs, but we still have the jumps, which we want to reduce. We will use **checkpointing** for the same (and later include **learning rate**). Checkpointing will help us find the values of weights and b which helps in maximux accuracy. (since we are maximising the training accuracy not test accuracy, and we would want those w and b, which maximises the accuracy.)"
   ]
  },
  {
   "cell_type": "code",
   "execution_count": null,
   "metadata": {
    "colab": {},
    "colab_type": "code",
    "id": "A4U9L2AGau29"
   },
   "outputs": [],
   "source": [
    "class Perceptron:\n",
    "  def __init__(self):\n",
    "    self.w = None\n",
    "    self.b = None\n",
    "    \n",
    "  def model(self, x):\n",
    "    return 1 if np.dot(self.w, x)>=0 else 0\n",
    "  \n",
    "  def predict(self,X):\n",
    "    Y= []\n",
    "    for x in X:\n",
    "      y_pred = self.model(x)\n",
    "      Y.append(y_pred)\n",
    "    return np.array(Y)\n",
    "  \n",
    "  def fit(self, X,Y,epoch=1):\n",
    "    self.w= np.ones(X.shape[1])\n",
    "    self.b= 0\n",
    "    \n",
    "    accuracy= {}            # to store the dictionary of accuracies\n",
    "    max_accuracy = 0\n",
    "    \n",
    "    for i in range(epoch):\n",
    "      for x,y in zip(X,Y):\n",
    "        y_pred = self.model(x)\n",
    "        if y==1 and y_pred==0:\n",
    "          self.w += x\n",
    "          self.b -= 1\n",
    "        elif y==0 and y_pred==1:\n",
    "          self.w -= x\n",
    "          self.b += 1\n",
    "      accuracy[i] = accuracy_score(Y,self.predict(X))\n",
    "      if accuracy[i]> max_accuracy:\n",
    "        max_accuracy= accuracy[i]\n",
    "        chkptw= self.w    #whenever accuracy is higher, we will store this w and b values\n",
    "        chkptb= self.b\n",
    "    \n",
    "    self.w = chkptw\n",
    "    self.b = chkptb   #asuring that we will use these values of w and b now \n",
    "    print(f'maximum accuracy obtained is {max_accuracy}')\n",
    "    plt.plot(accuracy.values())\n",
    "    plt.show()"
   ]
  },
  {
   "cell_type": "code",
   "execution_count": 396,
   "metadata": {
    "colab": {
     "base_uri": "https://localhost:8080/",
     "height": 282
    },
    "colab_type": "code",
    "executionInfo": {
     "elapsed": 9187,
     "status": "ok",
     "timestamp": 1550503343160,
     "user": {
      "displayName": "Nishant Sinha",
      "photoUrl": "https://lh6.googleusercontent.com/-qFX6UkRzXUg/AAAAAAAAAAI/AAAAAAAAADQ/7YyiVqsYLVw/s64/photo.jpg",
      "userId": "14342734449519443347"
     },
     "user_tz": -330
    },
    "id": "lwgKTa7hyj7g",
    "outputId": "196ea6f9-2eac-4fce-cdd3-9483602cb8a8"
   },
   "outputs": [
    {
     "name": "stdout",
     "output_type": "stream",
     "text": [
      "maximum accuracy obtained is 0.91015625\n"
     ]
    },
    {
     "data": {
      "image/png": "[encoded data removed]",
      "text/plain": [
       "<Figure size 432x288 with 1 Axes>"
      ]
     },
     "metadata": {
      "tags": []
     },
     "output_type": "display_data"
    }
   ],
   "source": [
    "perceptron = Perceptron()\n",
    "perceptron.fit(X_train, y_train,5)"
   ]
  },
  {
   "cell_type": "markdown",
   "metadata": {
    "colab_type": "text",
    "id": "_gnsa3aGy4KU"
   },
   "source": [
    "Now, when we run the testing,  it will run with the values of w and b which gave maximum accuracy:"
   ]
  },
  {
   "cell_type": "code",
   "execution_count": 397,
   "metadata": {
    "colab": {
     "base_uri": "https://localhost:8080/",
     "height": 34
    },
    "colab_type": "code",
    "executionInfo": {
     "elapsed": 9150,
     "status": "ok",
     "timestamp": 1550503343166,
     "user": {
      "displayName": "Nishant Sinha",
      "photoUrl": "https://lh6.googleusercontent.com/-qFX6UkRzXUg/AAAAAAAAAAI/AAAAAAAAADQ/7YyiVqsYLVw/s64/photo.jpg",
      "userId": "14342734449519443347"
     },
     "user_tz": -330
    },
    "id": "UrazEkbYyvvc",
    "outputId": "f10c3b13-b0a6-48e2-d5c4-2ddfe1f19392"
   },
   "outputs": [
    {
     "name": "stdout",
     "output_type": "stream",
     "text": [
      "0.8947368421052632\n"
     ]
    }
   ],
   "source": [
    "y_pred_test = perceptron.predict(X_test)\n",
    "print(accuracy_score(y_pred_test,y_test))"
   ]
  },
  {
   "cell_type": "markdown",
   "metadata": {
    "colab_type": "text",
    "id": "qNsIWTAm00yE"
   },
   "source": [
    "Here we have only 2 parameters, w and b. Checkpointing is used for other models with many parameters as well. We will then store these values (i.e. do checkpointing ) physically by storing them in files, which we will later recover."
   ]
  },
  {
   "cell_type": "code",
   "execution_count": null,
   "metadata": {
    "colab": {},
    "colab_type": "code",
    "id": "_perfEDZzxXg"
   },
   "outputs": [],
   "source": []
  },
  {
   "cell_type": "markdown",
   "metadata": {
    "colab_type": "text",
    "id": "pd4uf7gt1WKB"
   },
   "source": [
    "# Learning Rate"
   ]
  },
  {
   "cell_type": "markdown",
   "metadata": {
    "colab_type": "text",
    "id": "wSscD22g4NbN"
   },
   "source": [
    "We want our model to learn slow, so we introduce another **hyperparameter: Learning Rate** "
   ]
  },
  {
   "cell_type": "code",
   "execution_count": null,
   "metadata": {
    "colab": {},
    "colab_type": "code",
    "id": "E1oMnUcJ1YdG"
   },
   "outputs": [],
   "source": [
    "class Perceptron:\n",
    "  def __init__(self):\n",
    "    self.w = None\n",
    "    self.b = None\n",
    "    \n",
    "  def model(self, x):\n",
    "    return 1 if np.dot(self.w, x)>=0 else 0\n",
    "  \n",
    "  def predict(self,X):\n",
    "    Y= []\n",
    "    for x in X:\n",
    "      y_pred = self.model(x)\n",
    "      Y.append(y_pred)\n",
    "    return np.array(Y)\n",
    "  \n",
    "  def fit(self, X,Y,epoch=1, lr=1):\n",
    "    self.w= np.ones(X.shape[1])\n",
    "    self.b= 0\n",
    "    \n",
    "    accuracy= {}            # to store the dictionary of accuracies\n",
    "    max_accuracy = 0\n",
    "    \n",
    "    for i in range(epoch):\n",
    "      for x,y in zip(X,Y):\n",
    "        y_pred = self.model(x)\n",
    "        if y==1 and y_pred==0:\n",
    "          self.w = self.w + lr*x\n",
    "          self.b = self.b - lr*1\n",
    "        elif y==0 and y_pred==1:\n",
    "          self.w = self.w - lr*x\n",
    "          self.b = self.b + lr*1\n",
    "      accuracy[i] = accuracy_score(Y,self.predict(X))\n",
    "      if accuracy[i]> max_accuracy:\n",
    "        max_accuracy= accuracy[i]\n",
    "        chkptw= self.w    #whenever accuracy is higher, we will store this w and b values\n",
    "        chkptb= self.b\n",
    "    \n",
    "    self.w = chkptw\n",
    "    self.b = chkptb   #asuring that we will use these values of w and b now \n",
    "    print(f'maximum accuracy obtained is {max_accuracy}')\n",
    "    plt.plot(accuracy.values())\n",
    "    plt.ylim([0,1])\n",
    "    plt.show()"
   ]
  },
  {
   "cell_type": "code",
   "execution_count": 399,
   "metadata": {
    "colab": {
     "base_uri": "https://localhost:8080/",
     "height": 286
    },
    "colab_type": "code",
    "executionInfo": {
     "elapsed": 9818,
     "status": "ok",
     "timestamp": 1550503343906,
     "user": {
      "displayName": "Nishant Sinha",
      "photoUrl": "https://lh6.googleusercontent.com/-qFX6UkRzXUg/AAAAAAAAAAI/AAAAAAAAADQ/7YyiVqsYLVw/s64/photo.jpg",
      "userId": "14342734449519443347"
     },
     "user_tz": -330
    },
    "id": "KaG96h5_46NL",
    "outputId": "3290a8ce-f147-49f7-ebe8-e7860b08fcec"
   },
   "outputs": [
    {
     "name": "stdout",
     "output_type": "stream",
     "text": [
      "maximum accuracy obtained is 0.927734375\n"
     ]
    },
    {
     "data": {
      "image/png": "[encoded data removed]",
      "text/plain": [
       "<Figure size 432x288 with 1 Axes>"
      ]
     },
     "metadata": {
      "tags": []
     },
     "output_type": "display_data"
    }
   ],
   "source": [
    "perceptron = Perceptron()\n",
    "perceptron.fit(X_train, y_train, 200, 0.0001)"
   ]
  },
  {
   "cell_type": "markdown",
   "metadata": {
    "colab_type": "text",
    "id": "RM0NCv_a5O7K"
   },
   "source": [
    "_As we can see that we are no more getting the abrupt jumps._ We can **tune** the hyperparameters to get higher accuracy:"
   ]
  },
  {
   "cell_type": "code",
   "execution_count": 400,
   "metadata": {
    "colab": {
     "base_uri": "https://localhost:8080/",
     "height": 286
    },
    "colab_type": "code",
    "executionInfo": {
     "elapsed": 47665,
     "status": "ok",
     "timestamp": 1550503381801,
     "user": {
      "displayName": "Nishant Sinha",
      "photoUrl": "https://lh6.googleusercontent.com/-qFX6UkRzXUg/AAAAAAAAAAI/AAAAAAAAADQ/7YyiVqsYLVw/s64/photo.jpg",
      "userId": "14342734449519443347"
     },
     "user_tz": -330
    },
    "id": "jlgkOOTq5EnG",
    "outputId": "a50ddfb8-f7fd-4035-814d-f5df7220cc4c"
   },
   "outputs": [
    {
     "name": "stdout",
     "output_type": "stream",
     "text": [
      "maximum accuracy obtained is 0.951171875\n"
     ]
    },
    {
     "data": {
      "image/png": "[encoded data removed]",
      "text/plain": [
       "<Figure size 432x288 with 1 Axes>"
      ]
     },
     "metadata": {
      "tags": []
     },
     "output_type": "display_data"
    }
   ],
   "source": [
    "perceptron = Perceptron()\n",
    "perceptron.fit(X_train, y_train, 20000, 0.0001)"
   ]
  },
  {
   "cell_type": "markdown",
   "metadata": {
    "colab_type": "text",
    "id": "gwNftAI06SYx"
   },
   "source": [
    "Testing gives a fairly good result as well:"
   ]
  },
  {
   "cell_type": "code",
   "execution_count": 401,
   "metadata": {
    "colab": {
     "base_uri": "https://localhost:8080/",
     "height": 34
    },
    "colab_type": "code",
    "executionInfo": {
     "elapsed": 47641,
     "status": "ok",
     "timestamp": 1550503381809,
     "user": {
      "displayName": "Nishant Sinha",
      "photoUrl": "https://lh6.googleusercontent.com/-qFX6UkRzXUg/AAAAAAAAAAI/AAAAAAAAADQ/7YyiVqsYLVw/s64/photo.jpg",
      "userId": "14342734449519443347"
     },
     "user_tz": -330
    },
    "id": "7CULYBzm55rI",
    "outputId": "e93cdbdb-4ec5-41ea-fb27-1b82c21f8fef"
   },
   "outputs": [
    {
     "name": "stdout",
     "output_type": "stream",
     "text": [
      "0.9473684210526315\n"
     ]
    }
   ],
   "source": [
    "y_pred_test= perceptron.predict(X_test)\n",
    "print(accuracy_score(y_test,y_pred_test))  "
   ]
  },
  {
   "cell_type": "markdown",
   "metadata": {
    "colab_type": "text",
    "id": "1oG3Yyaw8LLn"
   },
   "source": [
    "Note: The test and train accuracy are similar, which means that we have _NOT_ **overfit**"
   ]
  },
  {
   "cell_type": "markdown",
   "metadata": {
    "colab_type": "text",
    "id": "2_asYV4d6-xL"
   },
   "source": [
    "Later on in the course, we will use a **grid search**, for each value of Learning rate, we will see the corresponding value of epoch number, and find out which pair is giving best results."
   ]
  },
  {
   "cell_type": "markdown",
   "metadata": {
    "colab_type": "text",
    "id": "DfzIeG7m7XHj"
   },
   "source": [
    "Comparing the result with MP Neurons, we get a significant improvement. Also, we can use the real world data, instead of binary data, which also leads to improved accuracy."
   ]
  },
  {
   "cell_type": "markdown",
   "metadata": {
    "colab_type": "text",
    "id": "o2bRhK5j8us-"
   },
   "source": [
    "# Weight Animation"
   ]
  },
  {
   "cell_type": "code",
   "execution_count": 402,
   "metadata": {
    "colab": {
     "base_uri": "https://localhost:8080/",
     "height": 265
    },
    "colab_type": "code",
    "executionInfo": {
     "elapsed": 47621,
     "status": "ok",
     "timestamp": 1550503381816,
     "user": {
      "displayName": "Nishant Sinha",
      "photoUrl": "https://lh6.googleusercontent.com/-qFX6UkRzXUg/AAAAAAAAAAI/AAAAAAAAADQ/7YyiVqsYLVw/s64/photo.jpg",
      "userId": "14342734449519443347"
     },
     "user_tz": -330
    },
    "id": "dzLGMAcf6MFd",
    "outputId": "e7785ac8-3aea-4ade-efe6-009c763300e8"
   },
   "outputs": [
    {
     "data": {
      "image/png": "[encoded data removed]",
      "text/plain": [
       "<Figure size 432x288 with 1 Axes>"
      ]
     },
     "metadata": {
      "tags": []
     },
     "output_type": "display_data"
    }
   ],
   "source": [
    "plt.plot(perceptron.w)\n",
    "plt.show()"
   ]
  },
  {
   "cell_type": "markdown",
   "metadata": {
    "colab_type": "text",
    "id": "QPmQSN7f8zlk"
   },
   "source": [
    "The above plot shows how different features are weighted. Those that are close to zero, are not playinga  significant role, because we are taking the sum of product of weights. We will create an animation as the weight changes. For this we would want to store the weights in a matrix, ( *say wt_matrix* ), and later animate it."
   ]
  },
  {
   "cell_type": "code",
   "execution_count": null,
   "metadata": {
    "colab": {},
    "colab_type": "code",
    "id": "O4UAstyG717V"
   },
   "outputs": [],
   "source": [
    "class Perceptron:\n",
    "  def __init__(self):\n",
    "    self.w = None\n",
    "    self.b = None\n",
    "    \n",
    "  def model(self, x):\n",
    "    return 1 if np.dot(self.w, x)>=0 else 0\n",
    "  \n",
    "  def predict(self,X):\n",
    "    Y= []\n",
    "    for x in X:\n",
    "      y_pred = self.model(x)\n",
    "      Y.append(y_pred)\n",
    "    return np.array(Y)\n",
    "  \n",
    "  def fit(self, X,Y,epoch=1, lr=1):\n",
    "    self.w= np.ones(X.shape[1])\n",
    "    self.b= 0\n",
    "    \n",
    "    accuracy= {}            # to store the dictionary of accuracies\n",
    "    wt_matrix = []\n",
    "    max_accuracy = 0\n",
    "    \n",
    "    for i in range(epoch):\n",
    "      for x,y in zip(X,Y):\n",
    "        y_pred = self.model(x)\n",
    "        if y==1 and y_pred==0:\n",
    "          self.w = self.w + lr*x\n",
    "          self.b = self.b - lr*1\n",
    "        elif y==0 and y_pred==1:\n",
    "          self.w = self.w - lr*x\n",
    "          self.b = self.b + lr*1\n",
    "      accuracy[i] = accuracy_score(Y,self.predict(X))\n",
    "      wt_matrix.append(self.w)                         #Weight matrix is created, with each row as the weight in each epoch\n",
    "      \n",
    "      if accuracy[i]> max_accuracy:\n",
    "        max_accuracy= accuracy[i]\n",
    "        chkptw= self.w    #whenever accuracy is higher, we will store this w and b values\n",
    "        chkptb= self.b\n",
    "    \n",
    "    self.w = chkptw\n",
    "    self.b = chkptb   #asuring that we will use these values of w and b now \n",
    "    print(f'maximum accuracy obtained is {max_accuracy}')\n",
    "    plt.plot(accuracy.values())\n",
    "    plt.ylim([0,1])\n",
    "    plt.show()\n",
    "    \n",
    "    return np.array(wt_matrix)"
   ]
  },
  {
   "cell_type": "code",
   "execution_count": 404,
   "metadata": {
    "colab": {
     "base_uri": "https://localhost:8080/",
     "height": 286
    },
    "colab_type": "code",
    "executionInfo": {
     "elapsed": 48047,
     "status": "ok",
     "timestamp": 1550503382289,
     "user": {
      "displayName": "Nishant Sinha",
      "photoUrl": "https://lh6.googleusercontent.com/-qFX6UkRzXUg/AAAAAAAAAAI/AAAAAAAAADQ/7YyiVqsYLVw/s64/photo.jpg",
      "userId": "14342734449519443347"
     },
     "user_tz": -330
    },
    "id": "S2gUd_iP_48D",
    "outputId": "54473f34-3396-48f5-a37a-078883005793"
   },
   "outputs": [
    {
     "name": "stdout",
     "output_type": "stream",
     "text": [
      "maximum accuracy obtained is 0.927734375\n"
     ]
    },
    {
     "data": {
      "image/png": "[encoded data removed]",
      "text/plain": [
       "<Figure size 432x288 with 1 Axes>"
      ]
     },
     "metadata": {
      "tags": []
     },
     "output_type": "display_data"
    }
   ],
   "source": [
    "perceptron = Perceptron()\n",
    "wt_matrix = perceptron.fit(X_train, y_train, 200, 0.1)   # for lower values"
   ]
  },
  {
   "cell_type": "markdown",
   "metadata": {
    "colab_type": "text",
    "id": "zMnn8FovCz3u"
   },
   "source": [
    "Let us now plot the last value of weight:"
   ]
  },
  {
   "cell_type": "code",
   "execution_count": 405,
   "metadata": {
    "colab": {
     "base_uri": "https://localhost:8080/",
     "height": 265
    },
    "colab_type": "code",
    "executionInfo": {
     "elapsed": 48546,
     "status": "ok",
     "timestamp": 1550503382822,
     "user": {
      "displayName": "Nishant Sinha",
      "photoUrl": "https://lh6.googleusercontent.com/-qFX6UkRzXUg/AAAAAAAAAAI/AAAAAAAAADQ/7YyiVqsYLVw/s64/photo.jpg",
      "userId": "14342734449519443347"
     },
     "user_tz": -330
    },
    "id": "X6msbLNrCyrd",
    "outputId": "84378b63-3594-4060-e0c6-002df5929b0e"
   },
   "outputs": [
    {
     "data": {
      "image/png": "[encoded data removed]",
      "text/plain": [
       "<Figure size 432x288 with 1 Axes>"
      ]
     },
     "metadata": {
      "tags": []
     },
     "output_type": "display_data"
    }
   ],
   "source": [
    "plt.plot(wt_matrix[-1,:])\n",
    "plt.show()"
   ]
  },
  {
   "cell_type": "markdown",
   "metadata": {
    "colab_type": "text",
    "id": "pyeNBRsIDCOR"
   },
   "source": [
    "Thus our y limit is around (-2000, 3500). Let us animate this now:"
   ]
  },
  {
   "cell_type": "markdown",
   "metadata": {
    "colab_type": "text",
    "id": "fF_mtS3PAaDg"
   },
   "source": [
    "**below code has been copied from: **\n",
    "\n",
    "[this link](http://louistiao.me/posts/notebooks/embedding-matplotlib-animations-in-jupyter-notebooks/)"
   ]
  },
  {
   "cell_type": "code",
   "execution_count": null,
   "metadata": {
    "colab": {},
    "colab_type": "code",
    "id": "3_tpt14uANJt"
   },
   "outputs": [],
   "source": [
    "%matplotlib inline\n",
    "\n",
    "from matplotlib import animation, rc\n",
    "from IPython.display import HTML"
   ]
  },
  {
   "cell_type": "code",
   "execution_count": 407,
   "metadata": {
    "colab": {
     "base_uri": "https://localhost:8080/",
     "height": 265
    },
    "colab_type": "code",
    "executionInfo": {
     "elapsed": 48477,
     "status": "ok",
     "timestamp": 1550503382831,
     "user": {
      "displayName": "Nishant Sinha",
      "photoUrl": "https://lh6.googleusercontent.com/-qFX6UkRzXUg/AAAAAAAAAAI/AAAAAAAAADQ/7YyiVqsYLVw/s64/photo.jpg",
      "userId": "14342734449519443347"
     },
     "user_tz": -330
    },
    "id": "-Wdm5KfdA3sv",
    "outputId": "cd4cb714-5194-4bcb-c817-8c90656c6400"
   },
   "outputs": [
    {
     "data": {
      "image/png": "[encoded data removed]",
      "text/plain": [
       "<Figure size 432x288 with 1 Axes>"
      ]
     },
     "metadata": {
      "tags": []
     },
     "output_type": "display_data"
    }
   ],
   "source": [
    "\n",
    "\n",
    "# First set up the figure, the axis, and the plot element we want to animate\n",
    "fig, ax = plt.subplots()\n",
    "\n",
    "ax.set_xlim(( 0, wt_matrix.shape[1]))\n",
    "ax.set_ylim((-2000, 3500))     # y axis will be set depending on the values\n",
    "\n",
    "line, = ax.plot([], [], lw=2)\n",
    "\n"
   ]
  },
  {
   "cell_type": "code",
   "execution_count": null,
   "metadata": {
    "colab": {},
    "colab_type": "code",
    "id": "FUOZnE44BHIh"
   },
   "outputs": [],
   "source": [
    "# animation function. This is called sequentially\n",
    "def animate(i):\n",
    "    x = list(range(wt_matrix.shape[1]))   # x limits will change accordingly\n",
    "    y = wt_matrix[i,:]                    # y limits will change accordingly\n",
    "    line.set_data(x, y)\n",
    "    return (line,)\n"
   ]
  },
  {
   "cell_type": "code",
   "execution_count": null,
   "metadata": {
    "colab": {},
    "colab_type": "code",
    "id": "pQxl01p2BJDG"
   },
   "outputs": [],
   "source": [
    "# call the animator. blit=True means only re-draw the parts that have changed.\n",
    "anim = animation.FuncAnimation(fig, animate,\n",
    "                               frames=100, interval=50, blit=True)\n",
    "\n"
   ]
  },
  {
   "cell_type": "code",
   "execution_count": 410,
   "metadata": {
    "colab": {
     "base_uri": "https://localhost:8080/",
     "height": 309
    },
    "colab_type": "code",
    "executionInfo": {
     "elapsed": 54411,
     "status": "ok",
     "timestamp": 1550503388823,
     "user": {
      "displayName": "Nishant Sinha",
      "photoUrl": "https://lh6.googleusercontent.com/-qFX6UkRzXUg/AAAAAAAAAAI/AAAAAAAAADQ/7YyiVqsYLVw/s64/photo.jpg",
      "userId": "14342734449519443347"
     },
     "user_tz": -330
    },
    "id": "MHzBv2INBUr7",
    "outputId": "9ca561a0-4f21-4a0c-bae3-51093e96231d"
   },
   "outputs": [
    {
     "data": {
      "text/html": [
       "<video width=\"432\" height=\"288\" controls autoplay loop>\n",
       "  <source type=\"video/mp4\" src=\"data:video/mp4;base64,AAAAHGZ0eXBNNFYgAAACAGlzb21pc28yYXZjMQAAAAhmcmVlAABMTG1kYXQAAAKuBgX//6rcRem9\n",
       "5tlIt5Ys2CDZI+7veDI2NCAtIGNvcmUgMTUyIHIyODU0IGU5YTU5MDMgLSBILjI2NC9NUEVHLTQg\n",
       "QVZDIGNvZGVjIC0gQ29weWxlZnQgMjAwMy0yMDE3IC0gaHR0cDovL3d3dy52aWRlb2xhbi5vcmcv\n",
       "eDI2NC5odG1sIC0gb3B0aW9uczogY2FiYWM9MSByZWY9MyBkZWJsb2NrPTE6MDowIGFuYWx5c2U9\n",
       "MHgzOjB4MTEzIG1lPWhleCBzdWJtZT03IHBzeT0xIHBzeV9yZD0xLjAwOjAuMDAgbWl4ZWRfcmVm\n",
       "PTEgbWVfcmFuZ2U9MTYgY2hyb21hX21lPTEgdHJlbGxpcz0xIDh4OGRjdD0xIGNxbT0wIGRlYWR6\n",
       "b25lPTIxLDExIGZhc3RfcHNraXA9MSBjaHJvbWFfcXBfb2Zmc2V0PS0yIHRocmVhZHM9MyBsb29r\n",
       "YWhlYWRfdGhyZWFkcz0xIHNsaWNlZF90aHJlYWRzPTAgbnI9MCBkZWNpbWF0ZT0xIGludGVybGFj\n",
       "ZWQ9MCBibHVyYXlfY29tcGF0PTAgY29uc3RyYWluZWRfaW50cmE9MCBiZnJhbWVzPTMgYl9weXJh\n",
       "bWlkPTIgYl9hZGFwdD0xIGJfYmlhcz0wIGRpcmVjdD0xIHdlaWdodGI9MSBvcGVuX2dvcD0wIHdl\n",
       "aWdodHA9MiBrZXlpbnQ9MjUwIGtleWludF9taW49MjAgc2NlbmVjdXQ9NDAgaW50cmFfcmVmcmVz\n",
       "aD0wIHJjX2xvb2thaGVhZD00MCByYz1jcmYgbWJ0cmVlPTEgY3JmPTIzLjAgcWNvbXA9MC42MCBx\n",
       "cG1pbj0wIHFwbWF4PTY5IHFwc3RlcD00IGlwX3JhdGlvPTEuNDAgYXE9MToxLjAwAIAAAAvsZYiE\n",
       "ADf//vbw/gU2O5jQlxHN6J0zH78VuLo0N73OAAADAAA33OZE/sqTBubAAALo7zlZh65SIuzAcZ8D\n",
       "VXVyQQxxkTKns4g7lDA7Akjj0MR8cI/HXzmbXXefhkY2W7C9bbPvsvEJlZLPc09wBe//kv4SL5ce\n",
       "eOUfVxMxhxuzhvjB2JXLtMsgxwxGVQaA+7ge7kMhSBkuRxma5BgNfB/q/tp0pQr/uXiz/JRG3nuE\n",
       "qj/FTqB0Z6abstk7WXglC6ugwuV29290ekjUK8fUzhpZ2qmuiCSX61iEbCWhOAkkpA2Gd978enZH\n",
       "74GjP3KVZuH73eLukxeNNnm3s4WAm/g9lOz4lywqIWbW7Bfqnzdb3zD/+3Dayz4Aqm+/KqijuU9Q\n",
       "vEUOPDlPXg+X6Oav8WcCcamRI24Ax91SOG087SfRVukmLZpQkSKF8QssyOGs5RJPZUPeSae3bv0K\n",
       "lqLhpEi/E1MwzJ0MjcqaUVthisLecpD0yN8xXkfqWubeVd5ATTEDlFMIFQX3JL9ACHJLDrdd/VCI\n",
       "19Qt8TAOJ415Bg2BBA87a+h31cGXxbaLBXp9BnMNnuVU0pJpI7TW1pWtER2jmtfnxyOEyXJtgHoA\n",
       "BWDy/4U5cHbt9lGXt73JOCbuPZmx/72745zNwBdXODOdW+frjZKLuULpz59sCRytissegF6Joi76\n",
       "AXiydapcpbypr99bPcq54IQyk+AIh/9FuO+d37iuIYBF+Prcth0wkN/0SsNbFCtG2PEmDrAUOPDl\n",
       "2SPcv0c1f5v8opdmXBBp6LdLQJZZiUBddISbCcUAb5ev6FpT6ahhmAsDelEpGS6qqjDkP6G8TG+b\n",
       "bWUWPRcFw8/T5QuD1BGuatt1YQdCtAWABcq7xRKcbzHZsL7isLw/OjHuj2LPaQnGliMRXzj6MVM8\n",
       "gxpk8dtq+vHdGLMqQ75cb69xo7numjHrGsqwbRWyY9uzvgM6obgXvGceGEXhj3kYXs1Lp0r1wIKH\n",
       "pcQNwCzvSo1g5AXaUMAwOj/cLmb7hMyy13oCTV8ij9FXdCj1XGREBvI/SOU8v5JYckB7aon6CBCN\n",
       "GEu/zuqw0iUdJZnvXpwQNQLzAAWq9OMzwXxzB/IugyY5MMMequfQn4HOdI9eNKcuE71TdGXk5p3m\n",
       "FZ69TZKVMv8/9qQTXCMFTCFKb5NuiK3vFlNYIDI3o8yEaP12cHTOKow2YWtfawwCNvI8GVGwx5zt\n",
       "mfL+vvBekPsABnBgZtgNpVqA8QovGdkm/eu6mKu232w2QuZBFDZyd2kIfn+gzBVbf7lsFC4ujLXa\n",
       "r/1fTDRYgHWcHA9C6LZHZ0JHTFhb/jW3bcXPxZ6d+JDyzAHPoVMx8tcrqR0vlZ/R+q7QuyHhJwi2\n",
       "FKRuai0zTfQI5VQQvIA4cJIuIHqBS2Ta0t5d6ju3I7De6PV1l8Nf1oO+QojPSYuIe7xEk9jqmrFP\n",
       "8JsHC7LXUX9YXgDt1WTzKv/fHn4oABewOHUaQreiFv6FxR/lxEmF/E65VoFnXZPtDcWH1w3VxdXb\n",
       "FYkC2P7fBMnG5fsmU9wfKRpKGnNbAb+sRgYBquWJDy1e74OLw5Lu8EMWl98NN1lGUmx8QJrrT/PE\n",
       "5Ghi2xsj6qugj3JBPRn/EKTqPRWnqkIRVFT1BC7QcC2n4cg/Glh7p2KxPnb+v9IXRrjmScmZNUOR\n",
       "RTXSLHUM2KKSGFckm3/Kh15Pv9lGf/6fbuVOpxkJ9hvj0WLuwelF9uls1N3X3SZz4//oEqc9MyRY\n",
       "6p2ZmiXerRSPWGcci5cM1MDl5nMGLJZgk3fCl//NvZtd1TRbz19vx88JPnoMCOgc3I/rCUIQzfIU\n",
       "4t2Oft7KQ9I72UZvf9hmhkmSfB6ntb/Kt073ywwwf6Lgwm4d+PaiEah89VvEsQ78Y7UlseeX2Tns\n",
       "zEsBCF/jlaDjqofuzvfe2NxJj3BtRoDjYK9J0lp/8T0UWD2TkN3Bh6orhNCn+Tm+qdvAsDc1qeUu\n",
       "5smmaXrAzwaJe7ST9SAJ893sTKXyhnDLblqkZqeuBHEiRCL/+0O8dvXLOQH+RJWWYCLHrNH2OXtU\n",
       "ze1zaPIOzBiv0vO/48lfKAv1HOMEPA3a+iG+X5gSjTHiOOVbsRH/Wb9yBev7t1zvixCfawCqcdk4\n",
       "YK1bFA6al7fup+bgQvcWM0lgA+xpmcgEfk/sSJbYqKqL4C21LnUO8OEr8EmM7OKsET3ofGBrJBd/\n",
       "WCjf3qFZyCUuXW6SZyYWjRc7L1a7PtdV0ZP2+uJPphqdC+VTBmNbTwBvGWQq7iDvA6dL8LND4A4X\n",
       "BhqNHyzxjy8yQGsbcaO0klXk0ajmS7p5OcJHGwCqt1x3J5eipbpnGDvIpaaxgUH3uudIwQd5IQV+\n",
       "p/LkearlrowN09Qd2m6KQfJB0dmJ2WAqYyg+7jYicZc5SY9sv/02LTP8S3ov6VE0UXN1kUx5dDIz\n",
       "HVhBJYENuyTR3YT3Empp5vRqexj2PTUMnW6Sslvcyoe6H8734ddiKCzh/ayhFgMW2SNGdDK67eB4\n",
       "Ho3DW2n/rLumEU/9GBuVZbo1rDRHTSiqX01dTTZr4+ycKDU6Vpwf49s/q3kmH94lV7Oa5vqXcRB2\n",
       "qu9+ZvcDlm0IAXDl5DpAI6EFBXglJgaH1/3yZsjGa0jngTrlQN/aoiPQ8qt6ezwn/vyefAQgkKg6\n",
       "yTuOOiUsLbbTJqf9Poknf5boGq1jBxW4f2BCZQAAnAjtBczIMAcHccVb74u0vUUfWXogrYSuI7PP\n",
       "eMjfG/I781KikrZyPXBR85xAhRiZGvtphCguvkBXNuWXV48XTb07nwh23nVIU1hdvRiZsK2pzn6B\n",
       "eZk2ZNBDr3xD8tHXNKZ8HL6+nPx6pLmtRTdiwtOsEvUQIxOzPlyUxIFzrOMPZWUYbQUHVDkbBXYD\n",
       "K2F7HGhFq0FjoLzNL+4U9tJqp8Vi4zzdg7MhYN4zfwwfygWRsIuuiyH2Hq3uZMEXdkT+LXf03ucQ\n",
       "z6SgS5l8bKllvfVNtSzkLR4Bt4ScvEsHD5nkQUqogBgPNkAABa2s+6qe6lEw+r6dYV5qb0HqiTi6\n",
       "PlEsh1LgQYtz0q+30QmzTYGarZ0rLl0LtEUo+mWM6sWKnobNJIm6qOEd8+s2bNR0bZemsldx6ACr\n",
       "Bnt7s+IuHkmx2ZFIPbKpbgc8HbLab7k9bDIIF5qpkstQ90TyGo0cAh61vmBteUl7q3xAUUTqjfAJ\n",
       "l2XhV1q/smx61T2yxwL7duaG6GVTBl/7u1f7bgoaVxa5tY9OmTpfWBfh9Yl+cDUliEli0W3kT0Sh\n",
       "meyOFWvf5/iFWyKyHyFxMCDGZna+TnBIXW2foDA0aG8NFdv1gHHK029i4kOxTVrd/KUGtmurBUJ3\n",
       "+R4Jb3CujzVAIsnOwXCg4ui660KK9T0acUSLStHYiPRQuGli7eRpc8Tk5yYOxfYvGrRsBkcJ9nvt\n",
       "LVrCTtHfHYbepQgdLYJS/Cg8JR3V3LLCHJTm57ihNJw5nChwg23x//SlTZ1ltNPybnVl4RUAl8Ri\n",
       "jZfHOdRR1lMJqkDGEN/SDXUFtd4y12BsiXEHINDsAcTXprzpBXuJfnpT37vP0CKH0ESxEZN3+AlD\n",
       "Ehf6QmeeipeO3kAsRC1BwM3nmpoaA8WbUowVN5oVdOaaHFzYGYrbGgVoX8bjEm+hLSd7N5117xSQ\n",
       "KB+R+selXWtyFRGsqZcvNb8kyRluaZm+zqfkvQ7m5apoaGhC6vmhGDzTyTstLSMhkqtuXMTzQG0e\n",
       "YJ8tzhpJoDfrAJ9rS3+Y1y0sfaRWpZIXvSMhFclUwYovprfDN3dZ1HxrUJaW1XGYRyZyTlwM2k0F\n",
       "TZIoI7U9pHfaQGnRqb0/FPWS+yp3nragqp20TyX8c4hroiKxJKDkf0fD5tTAQUtcZEDDkIu2B8Pk\n",
       "sxFXdgxxHOQLTeXBpdg4OyBfWdOb/uevw3MxTi6EeiA57/BX9CpcNJ9EmN1YKUXmljVyzkvTNBlg\n",
       "ibylMnBUjG6akssKKXrz4DYEX4QulG+AxzYrdJstAuS6jqR8eL5dwOuSbh35iciEoJaGl1dljGF+\n",
       "0aJbI4OMtBD6uaR70RTE05ZWaYbCGHyyAACzFQAAAl5BmiFsQ7/+qZYBF/I7LldXSpl+/aC8tAq8\n",
       "OpwZGX2J1yOypxCbvIHmugF0hokxV/O+OrzXpDS4gybbf0b2W03weGP+AFWfw0dbTkuGK4DuhhVV\n",
       "ptvKUthYf/w8OXPctoI0T+WG5tSTqr/5Osn9mxayIrQ09HJl0biV6JehMOjTXSIKgOTg7H6GijdI\n",
       "5nZxkWq+Z0T/6OtF//+nGbSCVcY4yv8uSJRP8RVI88UKSQ80D334Lf7i9lj4nDSSaLiakQkkDf6M\n",
       "MBN+CwbPoyk2yczW1twwcGGOPtM8EDdeKrjeNNm3BKSZEBgblbXGT4t7984hAGY99Bx5qVVwoiTC\n",
       "X5zxL5jHZdd/Rjx8kb0jika70lUb6sf0qxHyfNAaW3sCBo6ZMlJ9YNsmboaNu6TGeEVMjbIC4Rqt\n",
       "1109LIO3A5fNfHFKBm0RjfuUeN6segcsCMYKigjA/aUQ4SfHbHbJRI3bXnQ//wjXUaCl4jzRrHJF\n",
       "d6zvgUDaSf8WITRp5Pqm50KTXO4HA1cbtU364RFyxI7pA0sf5+xzL8V2yKF+rJBWhIVplGg+kq3v\n",
       "CyP1vcaiRDtNisNd6GifiBOUKaiuuTBndAkxse87pGzHDR4z5tQDLx7xSr1lYFOzvPspiY2NXH6y\n",
       "rI+cXkDlGqjGM1Bq1MKuESNYOyJApnf1jMPr7h4i8Lit4b5UYILlNxDm55JZkJ/C2yUQuWN2cyEt\n",
       "xWteQ9Q0KjKSwTCGhlmgOJMgVVcuRAOMMUfWLEJoVfy2T/eh8qf6h7F0pb8wpvpJlswhCPrzyMG/\n",
       "cmDQ/0yQatQJA8YAAAKkQZpDPCGTKYQ3//6nhAAGn1t/wXlE4GKsfUgjgJqqvK8MpB8seq9CMdwG\n",
       "JEXa/GxWlywvTGZadyPWzu5RvwRkG0p8AhJeYOjqrT3HI7I6K+DGF7Vn67e3+CT9HMWgJj8GOgYx\n",
       "XbkwmMH1dU7BQP9nJl6mN/SJyJBOYZdbfuSbB19CjJqZdibErMyuGjAH7VELKUC/xa+vFiQli+H+\n",
       "BTD4YJYy9Ro+wbnm99kbt3dVeNgQjO2vX1IQq4iSqCca4om2x4zz6ZeNzk4byQTpaHI0X6ZGUmrF\n",
       "81sHSqy7fpNAaXqBC3iFlpNds26S6hi8PGPan2o1VBF0muQn2rnnacOrncuh3O1E9++H3t4ikbvl\n",
       "dc5TH2pTvnAo4x8gYfMBzMfSSxr6ao0P88auiFazbnbhke0+e5G6k+CGYibVMybEIvZ7nkyCYuBA\n",
       "1HFkuqNn4OPteKL83a2CpNgDkSaa4ic2e+HwqYifINYOFtRKxOT3wrouGtEdjPcnWlkuAS4HhGg2\n",
       "cGNduAOocfgMUukyigAlnDLR4/Ps8oUDZID7rQcmJjYAszakFMw5yUzjclaQLCRwEeG2pQRBr9p8\n",
       "d2WehXLu3nDrPnTeEffjUl7Ry6ACBFQR3OdS3OzeYmBsd9JoI8G4XE/3dnva8rAMuOnMUZoZX9xr\n",
       "mzELc/RHRMwYRzxq5Dk573u4+JPHMUxBmbpBVo0Bpipyzmc9MB/gpotLCgR3zV+F7vBSKQrTbIT1\n",
       "yadLNrmDmhiTG57Q2g4zxZI1gQiMZcNYAExo/BgyW/59IXdxqBFI6dDkB0ri0d6Kt4D1s10kUApT\n",
       "UXHpTL79r7OaXwZTgZSI+nRvHqadLtnADBHUukmnSFOLWy7MWB5X/GTHWspA2FGUYwgqzQTY/r96\n",
       "Z/JxgviuYQAAAHIBnmJqQr8ABWWoZjymq70iatUAG9JFOFUGBTYETGmmFjscj3l5jnsfwCGgFYB+\n",
       "Jw5hi5wLXT5KupFNAIP69lM3gANxt/hINt4bJ8ICcrSfNCfdgSmMxKYOtUTIQJJ86f7fQA158zxj\n",
       "wQRFhIVfMQLq5KUAAAIVQZpkSeEPJlMCHf/+qZYAA2myL+EQCdAfyESuQGx9tINgGELW1x6J+nVW\n",
       "u7iWMzW4yGBrC8zO0pXZySx2zueP+YOEE1kWNCdmHgxJDHu+5A7tKUpUco+E/Sq1AbwZM4Gz/ZX1\n",
       "NG2DXkFAyHuoMryVnCz3MD/9zX11nXCLtTuoSUSVj7HDWw5algCldWZ4A5bYsESt8BWE0llXLDSI\n",
       "oTyIJ6DrSLGUPBhBGa74M9b64m348wOkVJJ1xvx2HhwsLcaKlkzQ2n1GpZ76EejyAgxzHeQjVpTG\n",
       "OcnlyAIPPMbW+eaw4v+my+Nr7meclYG9CF+qXWqpTh5HQvlVCe4zKFdtBuj+3srnYxWqfLnpEI6/\n",
       "kl0T9x4nzgT+86KABJsoBk7ICzcuCmdREG9Dmi7H7jhvHKxCBI9q+6ripbnW6YtCMweIUOdEbw1y\n",
       "LoM9t0I4RIJDftzzo8kduhSAOdIZ45/8tQLmCJv2NJH8wFQDuzl4i4yLjux5qvIfHgmVvc1p39eV\n",
       "iVYZJd9lTvVBCAO4/ZtW3qEYC69+UsxAWKn5urNwk1RFzuZHQB7DVLUQiRUBna4PNIY267q3NdSi\n",
       "NyGkQmTrx5MeSdZNS0qTQQ3vYp96APLaEyPCOX/AGXsiCQV7aX7tb1w9MWLsROxyQPyfuLGNXre/\n",
       "u2iprQTVkmt6xro+w5ey2x4YT8JWaqLbaAEbV1LSsilhBx0AAAHjQZqGSeEPJlMFETw7//6plgAD\n",
       "aDpBl6gCYXcZL8Gqeao7nIsp1+t/cmzg1XpHfIbYzM0eokZnsAOQ8uegLaiBKP6cqiJiWKYLGJH2\n",
       "nIaqQQQW6NhvEbbTLnZ6q0QIfOcfVRc7ouDuaFkhvwfnMlCXLK1U0FaJPJauxGrfZ7ejO7sEjCjV\n",
       "bX8wB98XSaV5a0/hGm5kG+QHGjG/hBv6ja4xGlVnq9us24y9Bl9RNjVi4xqbqxrewIUdFNc/BAWQ\n",
       "NAPK5fbdymEfk//usiqHLZL6/Kf/ufkKdN4sDE3q3B0pPc33XD9n80JZpXVCab8g/6LUBe5NKvJj\n",
       "OTxz0cBzhGbxFClW1vld9Hydb9gYOadlcbmS0N/oyvI//Pxg5TK9xFF4p5GFiYmxNwVEmHDPRkmy\n",
       "jIfdNrcbQWxPR/gkFnwCx3qHFfcPPxqTuzCVgP/O9Hdnr1mJZ09HcUitwhIGcrlv0dmY1/YpQZwl\n",
       "KMEgtKLvfdGi0pUawCKro1iF67N0JvSVn8Xi1gfCZRUDd6fPo5JgbKLe7fTyUCV9luh4GzJWOQKe\n",
       "JkYEB9+/3Bz+CXE3Ki17Y60pXEXfeGbJEzvnPAvn4nqOlWF2bZRi2yt/Ae/Dy1V9U4tKopQwRmw2\n",
       "LSh1pN2EA1hRAAAAQgGepWpCvwAFiCqyh95gyLwVyawFQQbZ+ZVIs/oPW3pBOUtNcEP/kYbHUiVr\n",
       "IuS7DqqTi9Q5+L9Hi2lf3JeBlvTZ/QAAAflBmqhJ4Q8mUwU8O//+qZYAA2ZQ0cZgBtu09DiOCzEw\n",
       "X69Enj5OBS2UYFqJxA0Ou+yjWirR1nfxMyA7DFfjApgk4QPL+peXg5oOOwzzO0gA8FeGVU3xrYlC\n",
       "79J6ntWmk+oRSV5D8OM2caZxco7QbKB/o3smrCHHBmRlqzUspY2FyQF1r3QQpB2WR8/dXgV+Qinw\n",
       "sxFDqiQVW7M7LZwsF8c6uEwRznE0zFAh65//fEG/nlfCpAiB7N6cHhJyIydiHKl44PBg9F7o9MMz\n",
       "CDDtlen4pfWRP85W6q2jLxLIsxTxBfFscFYmwrJqNnwx+ULuP/KxQRNBObQ8q/ByVg+lKtwvcmQn\n",
       "F5lV6Lyky8q0+lRdpkF/dl5M1jPs900kjxCH4piEUS0udSCvKgdv/tamQHvXAwg8xOYeiSg3dKq2\n",
       "pzmPq8Sm+bIczTY+jTBB7g6yP0AiNDZLQDsZ85wZ7N75tz9M0g5R0sFn3mTJIweRCGi69+vvZP5G\n",
       "tD7Dn1xZ+gX2cxRZXhdyd+vBa18gatcAj1N4NfWQ7bbITq36bXmNAWOOoPapqHhk7T9FgzrZ5S/a\n",
       "I3eaWvMpqpQ9gz8SFZw7jzTTg+5mG3r8SXDezxKLOtz5Qn8EkyQJRxXVXBoEM9rXPABKMXIThe25\n",
       "22aoavxlJEe00VzAVH0LE9Y/AAAAUgGex2pCvwAFijss8QA2/ZGRD2PHnVCy0k6Dct4UIeNy1vOG\n",
       "AU2pUmhKxTDrIeVj1CPpR496KttYWFVJnzrMHf1ols4bW5nRqCzxRDvDyefvZYAAAAEIQZrJSeEP\n",
       "JlMCH//+qZYAA2SzYrA5psAKiQxlWRNC+aYVKoYsN/4as8pWvtSnwGAJsWhfqf8BDKvjfZeZalM6\n",
       "J966Wu2N4ObwOoj/x2Rxy4++VxgcjEQJwcmz0wUrpdZJd0jEMkTLqg8MQKefw+lFsVXG9C1t+/DZ\n",
       "SNPwM9mUOfunl8Phxd5qj9QfHcpg44t93UUHv6cfOgEGgBXNqvoggfDAQlbxO6WRARi3/9vHDCa6\n",
       "HtPgJz0B0W7olrVSgdm/HRBKjADF8x3V6XaLWv8KEqQ65d3IiFJISoimyEFBxQKczNGEzrd5gQjy\n",
       "X04Z8AjADbSa4+aAELcgxOnrRNNTRMl+tff/v1rGAAACCEGa7UnhDyZTAh3//qmWAAbMoe2s0Co1\n",
       "VDs3FdVf8Zmtjh34KtcOIK0fPV+97HPAe6S4htTemwvwgvofFyx4TR6LRzfmrmO08v1VAgomKZTj\n",
       "wIeoviGb/bppzNCF9upxe09OSjYH5OKd9rFo07SC1Mhqx0sCsej4nhiWUskcSEe/w5IUcCTthVS0\n",
       "S9sGu4DGBnLqT5AYvY5ywcf6mPATDFr7UW980nQ5F+31JOIHzl1XGca4LQR2avwEtceQw8ggcD0z\n",
       "fWzS03GhzXHvEm3lbvg9J9/3pcocUq5znMAfziLhw3GMjlgw19QsbzA2q8L+pMuxXpbApCW6O9YO\n",
       "whlXZFU0ORWkd7R4OdIQOWmZMCUg0yIMnS3BjwnwaUfx9n6+nxaVmMFWhuVyN5sv2wvO5qfyrWb/\n",
       "+6sxt1vvrmjoQSOWylPkWPGxU5UALn6LYs37v2mpvMgN59nAcyS0Ikx766REJxBShhIAdQfmS1OX\n",
       "3JXKcotoLU20W+2+pRtDydWLJUtyY6zF5hr2xWmC8Px61aUmQwmDuGDhMwBkPJH2lW5giNNRnUOr\n",
       "mOYw0X4l+x615Z70nRaz7G07PfyZqxPaqpahDu7sxFj+NanQW4F9Nn836yKFNekBSDvDqN/QbLu1\n",
       "Y7z1UaT7CKSeigiS+e/+D123WLrRGh/S3oM4jzWoJLrBYf7g1tSNOLkAAABRQZ8LRRE8M/8ABfmG\n",
       "0Z+0iR9N9wiSOVDjBFuefUlznXKgqPk7oXwoDdSienXSBlkPih9+raMfeQl5QbR3GtDCKLzQgwBS\n",
       "d91pE2VI1pImRJpeAAAAMgGfKnRCvwALEmDMlcFTKjr7pHYsZRA0cDnv9jbmGyMFp2+4U+hFvJvQ\n",
       "ArmLBJKPgN7AAAAALQGfLGpCvwALFhHq2FOpbgDXn9YWt9dyMuI88XSCtqsMa3jYSLbdS2IyBRVZ\n",
       "HQAAAYpBmy9JqEFomUwU8P/+qZYABsyhQuvALUBUv0Igb0v0bQStFC/nFiVmFzav6GOXvb0LGI9A\n",
       "FfmvouMupoA5qN2XDp9kniHusSNcL3Uz+WkZDF6Ar2ZtJZIGXQcg7xkUpAjFZgJHxvE6hxpyns7R\n",
       "9QkMUq+E0aTnlosxNzdRgAJxx800EfMhXYI22V+Xsm47CYBls5PQ0IGrS0a4xqAi7DXkIZxB/hB4\n",
       "R+/wLEbQFi/3+g6Ov3UapO0+n54JSGqTb6HPbqJcmGmtQXsu/v/4XGTpEq/12IBW3vYWvjwpZivz\n",
       "B0m33J3w/2ojDWjFDCMvrk5w45n9CNuaB2SGLrvKRhxNoc+XBscxJP32L7g9pHntqELgZe69fj6G\n",
       "hsG3wu+L2mUElYTUWnOuXX/2tKPJOfwpfHeGdtZLE6NGABRoEv9eZ+mv+QYOGr4Kn1u2ozQfkND9\n",
       "F0656IGSJlhhaqH4B0xQuSqbtBIEXF+kuwUtYDEi5F9pV3jLWJU0paL+Kcg6EF77OsoZuR0XDxJx\n",
       "AAAAKQGfTmpCvwALFHxoMKaDAeK2QjI2Ev9Rwjau4R1vUGJ7V/N3ioBItRL1AAACJUGbU0nhClJl\n",
       "MCH//qmWAA2UubDIQkQNwx0HDyPUH0ezIJJZbHtsUPaIlvHF0Od8TuBMs6cUWQ7Cq2GG/bgFXnjb\n",
       "a/IQukvKt3KAaYz9uMca9txIIzKxTTWkdbvqpFJ2zKoInQhXVA2Jkn2OSRbGFLQhMvH9m1UA/wCr\n",
       "H4f0B2vU3q0INsksG8MtAT10UaXrHLX+c/5IpnqkrJrA+FZZKO6hcXG/iokO/8mj1qSEL/axPstv\n",
       "RLPYfHqLPWSjvYFIrLTNxxvpQdiLZI/VCUEe+sWBcmllj8b2i3z7T1wv3GxvoSigZjKcm+yu3MdK\n",
       "KAo2Lod8oNzzd25/ufGJnvM1KsD+xWn613LRoFddArAvvZJzMW8I29Gx9kNKsKddRMwavUUPMhw9\n",
       "+9CcdZvc6PbQf1rU1qG9x9UOX7cqS9r1b8Z9pJvT2obx4LlEclb4Oj9OOxZsUhe2Tf9BB5GI34z6\n",
       "mUXCVynO1tX29qPysKLa3VaWAubvrLNaVN4vFEH7TX6wg8Wlu1w+TxY7/odOzupbl+0tY8leJFUK\n",
       "i02xbPdqrt+oLuTdcP9c8n09/Wk8WUJDm7UfHFO8XhX75F1Z90aSu0lQcRPkxdsynf+WtoBQxzCi\n",
       "4VkyFl8sX+w6FQuNGfjAKyAwhFIoOfD9u44eCAJARXrE4TGTE5ht6fT4d7ivsYXzDNPRCN9/UCo6\n",
       "js2BiasmGLe3XEZdEdVQzA41pIgsIWNrecPQMAAAAFRBn3FFNEwz/wAF9u5XbWV25BomDBPOYkHA\n",
       "x9vshCToytvUpHuf5bEEpSGtM8KrvoGAfWWUiYYeW5D7o6/ksLWCeR6aTZI/xR/JA+uqA37XLwI9\n",
       "8YAAAAAlAZ+QdEK/AAsTE9mqqTK2JBkCf4H60Phnj9vGChtzoRD1jiIPSQAAACYBn5JqQr8ACxYV\n",
       "HjCmaLqM3ftoO6zmBISTOqgFNMljNYFVZERPQAAAActBm5dJqEFomUwIf//+qZYABslmvwSzVi4A\n",
       "5RoO1mi4fq8u23jwDXEwnYqZAOaki1pd6nDBt2ddtc91p+Ym5r32d3X42e2MePir2WCtugflhelG\n",
       "nM9NLIpbuXoy+yNcAdRTL6ZH/z8FtHPY3wEc3akYZLQIZbbhtd0wSXsG+fkl8un8+eiPkIB4S3TG\n",
       "QqPIQISLqp5lkqKu2Z9Z4LZ/wzrj9FYksUHvGeStcaAiUg0FB4cC3J4d2LNjV/mQ1AIossEzg/3y\n",
       "wfz4zb1Dz+HTAt4ekULaEEV0DLOgh2pmWTqa81T0o8/+PgN3TommONB8FGJT79HgoRQ9gQMDzqc4\n",
       "5kxqErFd2ffQqeJ8eXxjYHdmP7RmOzuFYDibXhrPregAdMdhFBYqVser9rlsDdZ1Abgta0a6tQ6u\n",
       "4+tBs732ElH+XRd11N1JiFbZKYbkEJUweUPThnAqTDoyaooNgsxsWrHaaKrX25y1D2snvbeU8cV4\n",
       "3CcoRkEvbPg3dke1V+8xtBXqpFeII13KJnNu5UG6Ti0GjpmZxY/tUCA0mJsUiPSYlEKuI4RMchHc\n",
       "yrXUVej4tqEg5wlkc8cmfSc3FByGhvJ85mL3SEUsO2vDHBAAAABJQZ+1RREsM/8ABfhmEX0XdgtH\n",
       "uH2OxpFnKXkALeB+tp3dKpiTVGhcq/QnCeWYOY127gf0eEAnGdsp/hpVTZ8mkhrKSaRdBPP7SQAA\n",
       "AC4Bn9R0Qr8ACxdGbYMfsyYlRZkAtkt7j4Ndqbui5Do6Whs/YCnzmBwvsSHKpkWYAAAAJwGf1mpC\n",
       "vwALFHxfrIbgaPYoUFoQwdW+bmR73211syvliqxId6sWBQAAAbZBm9tJqEFsmUwIf//+qZYADZlD\n",
       "italJXKqdi+0FFDoIudRUtEHxs4LTzMKDEy2oAUSx5C/qp/nFBHP5rrfoU58dmDpteP4T8icVYuT\n",
       "EjZxQNlj1WhaiR+IaqQDN/KN9BulDr0zqDiNB3vcYM5m5wAQz0xbSJviSDLolbFxvSLVoyQ91TKs\n",
       "rQHe6lXmjNP2cBvZXtfcYuvgibvz3SvLMs2b0Px3yIaJBx42/YJvgSZNuxKiMAMw7QrfJwcEh7gl\n",
       "BT5tLF0vPX8BeK80fOb0LpSwn3XWj8vezarV8lXpxNxAeoN0vyzJv/6CUoGh4+LNJi17lqBeK54l\n",
       "BrbQckm29VrGePi5kfx1Aqg77WDdTIfP5VtwrB7kqB8mNRqIhiZwzGcBWXqOCpLBnZn2oCTe9iLg\n",
       "KrrsF/kDSvMZxWEWwy5YciDgC5ka39TqP6Dv+8FRYERITQzq77lUJ+S7chq3hV+qw/wJ1TdsoJPr\n",
       "8A7o5VW5/Cwe0ZipB1v/eXk9VTqtpKXoW4r9JRv1Hpw403p/S+DI+iVSUfS8k4dUwCv7mkXTntmE\n",
       "tstfq6RCC9j8Dzk81GYuyst2LDEAAAA2QZ/5RRUsM/8AC/Gv+e90xNqPM+MVDLOIyhnjVT2YYL9s\n",
       "Z63s5WKdAze7BoEnoOmE5QZ8/8WYAAAAJAGeGHRCvwALEw+TUufKMO2kNMGkgzwZnH96Km/9pltL\n",
       "CwNhwQAAAB8BnhpqQr8AFisDPv6wz9avVejhS0z7Ipos4FJKuU4gAAACFkGaH0moQWyZTAh///6p\n",
       "lgANmUOsNSAZZrEErOtHlJyWyAkEc05Gdcz9tiMOdyuzdK7kdxiqhTxSL3Otizv1vrtQ2LfF+H3Y\n",
       "DCUlGmgm3wwFDRx7wMHQXbIK0prVqfuETu9lP77VjFzKdhgUpzvw9RjF5sj05rHdIpH9a+TNpsSe\n",
       "8yvtbZmtALmEl+KJqDrvlz3ggPIkRIlAmeT374yiMa7rrRjkkcMa41zq5temCmPd1i3eLUYoGNd1\n",
       "4lMqtWBYgdbFDysGaQitpbKNuCnH6LfyeMwEw3U2+Y7+4hU1dBcbJMrj95cNMZXN2zset8+aVwX9\n",
       "HsjVJ1yqllEq1P/NK1mmuDnKvvqJvlx6ZfgQb750EN4qRUNd8lgE6rgpExlc80NhUPFHgQ/9R9Wa\n",
       "/cV0LMqSmogoNRK6UmzuN/SFsuC4kr3d1epwZf4W6b+zeitelpwEADOr9V/pyqB00hRq7z8w3PEo\n",
       "Ai3SF9dXgkDvuu6VEaXU6NIbUtCrdcWkwR+TDpdaSeBCGi9YskM8kydm7E1kEqpPvfZ+i5gay80A\n",
       "hNjb59xL+SWhXsl/iNJbi0BSEkaVHI3y4/XkryrJVV8+RCxVZ9VkNfdxalNpUxaXiYjZhbLy2A4h\n",
       "Jh+WQWWrVV1Kurko7Hg2qEMzLQ3ZSOAD5ro4TPlYGieR0rdS0ykwuBanfcvkRGX7OCga/ZCicbTX\n",
       "jgtdGwwIkwAAAEVBnj1FFSwz/wAL8jG/7SGfAxroIB66oiPz3ZL3sd7ylhQYoZ1TaxL+8h54oPJL\n",
       "CD1wCEV8OrzglQaIFc2n4dLIuDEtwj0AAAAqAZ5cdEK/ABYukeQIFwbaj0CBHQKRyh404PVwlreT\n",
       "oezDxJCe2edXtGBAAAAAIgGeXmpCvwAWKPjHr1dPA8Z4tOwCyhqFdrxV5AYF9kU6gXsAAAGVQZpD\n",
       "SahBbJlMCH///qmWAA2g6jKBBU83AOJFK+mshIDwXFu9OK3vevF1gAIyG/RwdScS2QSW7z3Faj3S\n",
       "/Uykv65GANvvhTkwiZ8SXNO1I3+QWGyVvUp0vEIuXypFTe3FdKJ41Y8Cn4J+wC41LcssGhNI7QDb\n",
       "aIyxNPYxZXWkgU9cCg0PN7gNtcj0mWlnspY9c8elsufdtZk5IYBr//6hjYmo0ZdJtn8JaLQSkq6H\n",
       "Wy9DzcvZ78JFDFzyFr3CKtZeTitRkDxpfj6rMNZeTSs17NwwiPFPSc7RpWiC7xdNktNixfw93VnB\n",
       "/+uH1Je5u5BHH/mApSx2xknO5lEaQrBhxT9boRjqFlXGpXER7Lx1YZXRpu9x6fAP2LQYp0meewhS\n",
       "ueEoRTl+ceuRYC9jAn57iI4SWXktDmw+m2pBFCq4np/xlAQSYihwKsyziQ0tZEQ5h1zdTtGmqfSR\n",
       "4XuZeOpV+wuZTPteGhEd2A00eHgNiikmF+XVi8CI8KkcSYM40LyMXgjM5HbGfipolLKojeQuZwQv\n",
       "pF3BAAAASkGeYUUVLDP/AAvpN9biOGj6xG42nOI8rlb7APxRJQRnqyALTq0aFOx0sTGgb+cxVG5k\n",
       "ZRbymomMQTj3iz9BsyfTtWz3WWasKqPSAAAAKAGegHRCvwAWLetwBLewrFTUqExPYiQ75Bw305su\n",
       "TFiQtghVGfaN9okAAAAzAZ6CakK/ABWbAFcv3E9TTIRe+VWAIgXWBFh6l2JNn+NyIrA0fdXy8dNF\n",
       "m3no/cZhxf1OAAAB8EGah0moQWyZTAh///6plgANos0+eGgB0X3z7GlFoJCmYsa8XFL+gmP4yh7x\n",
       "2RR8KCq4hQuZW8oI3tCbC82PMKYZK38Tsx0SfFKqHkaTU3pXwH9WiaJqbNkiiKM7pfJ5o31UfhBn\n",
       "FURBzfvDHi10xKSlvsYpUJahuiMONCIDBPYUccy8ywD3wlSg/S89xt6nxlx5zN/iGVXcrurvsLl8\n",
       "hP9fgvkrmAZgTNPTLim9JpYX/n7ePVKlopUvIX3F+1VDkvnybJ23DjmsTSCO32CnGjBK4t9t/6cv\n",
       "5xduwDQVzpyYYMuG+q4cy1ilXzlFl8/WeYPH8do7ZxE0Dpr/K6dmjihPyrn6r6I0/YWr+6eeygHN\n",
       "sbSN09lgzKKPLFzLa7UjlW3Y5u5w0eNaorFjBGcT31yeUcGhTJaWUsUFFsTzz/4LrB/Z/nyp4CNW\n",
       "zEUQncrpC94iR1DiSaDR/s5CG4pk5Ec4io32zkCJbnoBGQL1Qnunq7RAa4lsrAvs3uusxaRAlTdq\n",
       "lXnrCbaf2ptQ+OvyEXd5tlUC4kP6GaifxG63TqGsrc+1sBbU6m+0n4t9rS9vVzJkPqCjLcl12y9+\n",
       "YJZ9rJ+fRn5uVxv1E9lyRqIYxbN5O/PKXqQQgcAucOrrDkpSOsDBTA7ApnoL/hwksqkZA6EAAABA\n",
       "QZ6lRRUsM/8AC/M6NgsIZ5CvrAQVhBZfFLWVZX22AtzE11Mihqx1I5pS70/A+Ah+bloioxAEX7bs\n",
       "QQcOhMB6QQAAACQBnsR0Qr8AFi6lxkOxvFfnyMi1FE/UX4hbmANqZQ3v0x8APCEAAAAhAZ7GakK/\n",
       "AAdtlQ1+bU/QavuMMHOsGOsv3cC5i8C8bAR9AAACFUGay0moQWyZTAh///6plgANlUg61gC/GL2P\n",
       "NCBijy6OZZCBnks6kS81xqs4QOAycuIwoJwqpSVQ6xK/9LPNzJ6L8kBMXffaH3QmWo9tenSlRMap\n",
       "inEq7jmFXZdApN7UzsWKvgiV88FuLGinNKGKklo5CsEnyekGRDKBEbquFNGfz04+FaVMTneKKSU1\n",
       "JMG3UYriTAsIFnkkINm/ccQbrU48AUz1rxJZfYaMlY9hwGWufWZlseaKcFGyXukluVbL3soDAxhk\n",
       "Zn8+7S2OzCdlRn/v8F6vnUll9SjZYdnQsA4WiQYMPraRNHHtohNuitLJlvL+RPEaej6u4nxva5Jw\n",
       "RGKKw+s6M5FWwrKMAUfN1uUV/vjNcTG4YXqlJLz9j5sFIg6gEOD8rn+bmIOdbbmHKPb50OmbshZI\n",
       "FwsE88n1eTNe+2SftfqzwgeRn9MQI0+/vMnBm+HcW6ucSiAnkpWDT/TD/HC8LpH5+cqcIqxld/vn\n",
       "OrPYkkn70N3gHbj5+DFA27n5t91OFzNjvYM12nnAuzkLjaoYI6OZiohA+neWgechSSyutOuwjkxW\n",
       "WPQnxxjI61+qeC73xdY0EUF5Fc6U1HSkd2AQh9G1MN+rvfLEvEAItKSSXMzx0gIcGrq5A7mSY+UT\n",
       "zgVNFQz+yKreo+CkE+xA8bv4ajBzrAlXEwe/lh/Cle/BTp5XX300lyWk9n2i9kzMN/TAAAAAOUGe\n",
       "6UUVLDP/AAvq0i7JEGdPVMpsa5WJhJ+CkJBbMQI4VVQeScZHDBKRjSW0oZOrsG383f4av7FskAAA\n",
       "ACABnwh0Qr8AFi6XzAcZSXPzh5AQFV9d2afL160g2CMhmwAAADEBnwpqQr8AFij4+fYYuN5/tCq7\n",
       "rrW6RzTqUp2NJ48iw39XyZE9xwzyF6hYOjqHUEBAAAABeUGbD0moQWyZTAh///6plgANmUKJvaAN\n",
       "UDNZT5/saPBLna+MWDQ7wlj31QBe81TWsUPMiD/8gsCHKjFaEINc9xPwKYmKcbFSl2iN3/MgH1/4\n",
       "pRfk9VljbZHVi4B6lQ+YxPA9WgkwONbArp4bNJXqMsEycihzlps1FwV8Rz9EpVm6VrrUHvwAAUV9\n",
       "B8XcjlWQEEn5vTqae/Z61ueH3oUhOJZEZmV7KY+l2nnGo5DJL/ygQpc/Wa0EVX7YA+5AnwRr/NLl\n",
       "GeZYWq923TSauzRkq0k8aKTWFm6Xln9BbrArBjYs3aYYfSkf5xmwU/hn+T6g69JkAiyJnzmBy7iS\n",
       "oeVXqcbOyrun0TweIGlmmuWeXB1Okezbx36pEfZ8rXjCM4Jhi7xFhJ1QjeIDecw/wp/pGDZgppe4\n",
       "ebtD4auiskxVf/QexPM2uD7iawp6lGBJOlsGDu9mh0PXR/rGEJ6yj2C5cLUD2nH3GJHyrRnmbTtU\n",
       "rDzOLwEpCMNVJAQ8AAAANEGfLUUVLDP/AAvrqtooj0V0F2aImltkBlz3L1pCCOQRElo90vQDuajS\n",
       "pfiMll+f1BKQdkEAAAA1AZ9MdEK/ABYhtt4Z3wAOE7+Ko6ohhWGmwS8uZObPWKQnKADawG3OQuWI\n",
       "0i24rzMcJQUsbsEAAAApAZ9OakK/ABYpBrP6+ogDZPsZgyMjcj65Bk0wN3v+DnROxetQOgV0P6EA\n",
       "AAHXQZtTSahBbJlMCH///qmWABtNn/+htwQVsbtMHE6g8sw6xLqyWsVWQFNQO62hRDNndcuVqL5c\n",
       "jkqAcWL/Q5ii911CTQrsaDJwVLhEKepyViLgIeLhkIU1v3FLO9WBHmh957GVidP56slnWefacKz0\n",
       "Gj1LYcYCi3Q7iEtY89NR+6sNaSkdFKyTR/XZ07w+qrN1fxoyvROhAMgxQaM4L0LWB9mPA2HVNP9t\n",
       "jN1d+lJgobOGrfvSTaiF/3u0e6J1bKdl4BDpThUFQrrPjDY+/cHvkDP6szf1OyV/+TBkP6GroUjo\n",
       "ZheZm4LAsm+bkvpd7eZgedF6Bw2hDrRoWlhp7N33I/0vxZP/1miphp4p25aHimbKL8dVhulGAk2s\n",
       "Xq5qnq/M5jgy9Cx9Y3QTb8tYk9EEyrXWn3qSwq04d+S9x98JXBlMvg0HxgIGbH6/j6maQKsBPa6R\n",
       "NwqDJ2M2DKJVaixi+0dLGX2EGDqq7pwXwoUjNfcWravNfj28SNuEOp52p6cXE66Q7Cu+WF7LaaRr\n",
       "gLUSnk/6DC8UVjv9UPS0OappyGhBLxmK033XUjxXxf9XRN1Ei7vRo7llSilGD7BTIC5LgBF/QSOl\n",
       "653dhkrT4slu3k2Xqw13P7AQAAAAOUGfcUUVLDP/ABfjXeQP66M/XdYEVC690Xbjmf91CYdAvCDa\n",
       "ixcVs1MKN7+O7mCXQoJoSneyp2HcogAAACgBn5B0Qr8AFiG7pYH7N78vVwU9AIKHw2NqfiLyBDCW\n",
       "O3ESL6AcKEL3AAAAHgGfkmpCvwAHbZUOZvHolM7nzAV5pKD4ql5cGtetgAAAAY1Bm5dJqEFsmUwI\n",
       "f//+qZYAGzKKbzQBs5+zIs8zX2CZzeZi3b/57BmXkrxHBWzdJAkNOcPqjiEmSoC60rOefV4kn847\n",
       "h1WAwaLL28z2VzwfEYrPdQQmcBxFfSjzRbEu5E4TOzADgehSmmcsqUKUtQtb/tf50UObQwoxRCbf\n",
       "E21F2C1t3jLquv93aNMRste1h1KXtQMVwJWOQ9i67tyruGXXlDJjM/hKSY2lI09vnFOmhtMnq4ow\n",
       "Zpp3V5aTjA7F480Gs3sAim/E41pFDjkQz8jLi3ohLhO+79lXBfOQOiq57XUyLeSs/lsOVnYRlO4f\n",
       "0EDO7soFM6wRY03NNdkZeeuzGdEN3XWtj96T50eSo+yoOxlGBMk16ey/99Ki0Ud+JGeuDLv+Hu4I\n",
       "5rHg8MvN23XIKXZQLaz+6iTuU3BNG46Gy+/i/vaZwnVT5Xp8iwbD3SoK3IYxWVZAGubn/UaFI3CW\n",
       "GhIH8TxS8gblXrtPi9TuWpFz8l8pbHW4hE0Mh1fB+RGsIihilFJfxequkYeAAAAATUGftUUVLDP/\n",
       "ABfC+Fn14ATzJVMOccVClyyjEylGe49kO+pEY2X8o9YC1u0WoaDx7vjhn2NJ7/vMBlU6KQxFqsXK\n",
       "QwVvj+1dJ9juVQG9AAAALQGf1HRCvwAO3D6BfssXRI6Q5BS1PPvEIUVAh/xiTxWEhgN111ALSNet\n",
       "+jDqQAAAACABn9ZqQr8ADtgaol4Qix2byWDA5imYxEnUforA4AZl2QAAAbdBm9tJqEFsmUwIf//+\n",
       "qZYAGzKKbzQBPgyozy2kHZ7+6XOU3OxEyocjflscFUqH/zbgZWZX1ytxVR74P4I29GiavX11WExR\n",
       "3e/nx1+qtVtdQ2YJ9BvAOdqrd8mVFTM2Xidmbsw3HY/6G5gZmbkpWitvdWvxqlwBwpgycdkzn7z3\n",
       "eirRI9uTZERDeF6/b3pw2uMOtzGdDBzz365bnCxNllhpTY1FFG2SRmITIsyO9jSKP+BO0yMIeav4\n",
       "2d3bMVFORNpwrCKTLwvH9wRMSJwqHv2e4HtyYiuTrOwCNgujgTrs9K5PQ6WHx/Zkqy+EiyVs+ciC\n",
       "h4A+i7OZC7c1YjpUg9hFmN9GzStLVqikSBrFQJgCCp/BT3NQogcJIZrNuoDvDEfAbFX8n63eybCN\n",
       "LPywJIavLWB5DU7046Ks8nRIqUE5pYR7ruMNKc51+k/yBFUlKImZnqiwj021IpaFXdTwKnsf/6X1\n",
       "s9OFrAoYfRQOhM+lbobj44ByH6+3ruHLHA2UxpHZFOtwtNMiUhY0FphQOAESKmJkoBr/KIE1FqNM\n",
       "T1qQCOPBg7WiRr+sV+yc8h83FoOMVy5glPyLAAAALEGf+UUVLDP/ABePiytQt/vFr7f1WLeec0I3\n",
       "hi7jLzp3CiwmwBiWiuRPOnmTAAAAHwGeGHRCvwAVlMQW18xrwx8VUhqQjJxyITr2F5QywkcAAAAa\n",
       "AZ4aakK/AAdtlQ6HySRm0mUPlOP6VW0zCIAAAAFdQZofSahBbJlMCH///qmWABsyhQuvAF8DJ5Rv\n",
       "wpwvephjBBH2yXyii/Dn8XIZD9w96yofTxlRYNMgTLdBnJqVVqm+M3yui56Xkkw0CbBz1/ysAcXj\n",
       "JoQWx8chJJhqP88rc8T54kjYY88EW65tdumKqcndfXQDRBkebO7uXPUqC3AMEUIRen/XDvoXJDUs\n",
       "HVQ5+PCgQZ8PW0vwcPA4LlEHvAqJQ2XfJJSWgvQYYSIP2yN3VVXeycq5Vh0cXcZh4nlfKNiZgy+Y\n",
       "1967UpL3WW0/c7dbo7o2krFBBUZoCqABki5SK2NQU65rck4J/zj/o+gcfr9b5T55A+GYsJxLiqjU\n",
       "acBjKpDXJtJIWA7t1npRBd6Sb5VY86rWmpXXcqFgLfdK2jJ8pfIgK2GKaI+AplfKUB/F1UyMyH8D\n",
       "oeKNECQarOrNhjChh9jX+IKqP4z8uqnq0tD1PctAoll9yro44QAAADFBnj1FFSwz/wAX2WIyygAi\n",
       "Enb/MY98tLfouxtBdcxAN8ari/bUtmLJTjftHSIaAEvBAAAAJwGeXHRCvwAsW96U84xPZ0/i4+55\n",
       "VpPZYyno5BRGfL7LQu4nQvX5gAAAAEcBnl5qQr8ALD5174n8iWQROYFpTF6ie56Rfq6MBarRP4tr\n",
       "+nPMF6ITviI29ODBH+IOC4SPUoj8Lz6sAb+58fHa4aquWsq3gAAAAXpBmkJJqEFsmUwIf//+qZYA\n",
       "GzKMG5gANjSz9LSowAAv96HoEnNxWBX+34n1rVq+8jlfyRxErtZ3iG5eWujvJI+bi8hg5xjeV1IV\n",
       "MifTxdbWhRFXxzwYiU/e6kI6vA7N0LM2JvVSCf5DW6lqoR64wQS76kXws3QzVTJhCcnI9BW8X4wp\n",
       "2hOQ63qAyNuqjwGoIMTw1FaGi0ts7bRrVAH8agCy/G1m+hBZqhckVIJgiNT2qdd3JnNrYpGmWUG+\n",
       "CGFAfBK4BYcyrEA65VfqlpfNd4jqXxskzMbClqSF2mQ6J05K2YFPYLGtCs7lVuvbJ6NTFl4HLIa8\n",
       "h798SWxZKloSVBjfWsOaNNTGpMzrNWSp6h77mGiV3k/gkxTBc0Cyc6Ev7gJ+R+f8gjrmp/2B2xsj\n",
       "MNBS39U8xuuFyzJ2nRxqIfcmwOSPfWLWGSNxvKbopiEEnUTR7gLwLxtpNpjV5Km3gvTQS84uUFuQ\n",
       "La/hQonp57EQ4fgCRtyhUxCtdf0AAAAtQZ5gRRUsL/8AB8SX9NYsJSXhGSy0G+D6IrBYj518agu1\n",
       "qUmjX9jmyEhguwJWAAAAHwGegWpCvwAVmwBXMCya5bBd4gNBGRmTg2NZpEckFbEAAAGJQZqGSahB\n",
       "bJlMCH///qmWABsyiogsAX6HhdpGAQXEbCdBvI14ZSpmDh5HErQTYX+72SSCzQjNg3Mk88Ij/OCv\n",
       "IYd2H+Ygbs792ruzse4K/uqCJyLX4KkmIr2Q7atW8NVc4u0ok/WW/X/aIGiwM7t5sg+0JTYlzuXq\n",
       "QWlxzFf5TCrSECLF47C4HN9RuhW3e4ShMlRDXsBfsx0R3q5scjqvKJGKMzCmd8NcdtA4kNA+oVk3\n",
       "VytN3C+aiQ8RmtvcjHUi+5fQjXsY4ZjYev2HE8DpWGMEo1S7odN5qWnwovZM6F7PXf10mNZOe9jA\n",
       "wQ7oxCxu+O+ahc7Q/ra1/gbRFVnOKWPCNrdbFKS5QtO2lQmGPcCaFoIgv3eO/U55DABzHmQISNlM\n",
       "71AlG8SIsLeoXv7Z68q4gL1DqSxvd0idb1q1EV1o3/Hp63qltsv7QlpTH4/gnVNH2TI+sjB/1e1D\n",
       "G7GU2oMtKcpMSmmgzWKiVU5YO0+1cQLV/UTzvjtwC0h7U/lK2+q/PqWKAFBAAAAAMkGepEUVLDP/\n",
       "ABfXVpm6nPWrI6T0ls7gulUyQtDLsDqA77hpUCzz8R/TH+pYe7E/UHjBAAAAMQGew3RCvwAHa4EO\n",
       "e86sNX/On/WVlb+Pbq+/1eoh0/RDKpJcM/VL4oALyydUgJdbDF0AAAA/AZ7FakK/AA8zK9wPBM3g\n",
       "O05G281sqc4qTPsstNHjcK5hhAY7WaFCbSGQ/Y4Gh31B3hBM+7v/2EAK9F6SIxJxAAABYkGaykmo\n",
       "QWyZTAh///6plgAbMoULrwBHVTn5wW5Q2AbxD5YnQQNbz7tuR3ATDgKM+DO7jvDtEDTvG80sYfmd\n",
       "7zHOcZtE7STWLuRcOxiazFN7l4xvMZ7yGk+o+gAAPYoFA8dO6+9gUeiDF88K9PXzs8MBqEcA2WF9\n",
       "NCJHQnjZxFUTJsSo/MTECtgtb+XJpRgPpkc2+7Ut4gASr/5ZcpVGE6SCZ5qSEZssjflKZD/ZIt+q\n",
       "6o3Sq4SvKy0jQTK2uYBHtE+u6T5hrYMjn+EH4a1IkH6NND9eIQCqtHExnKZIk78q1DPP8aiA7mdL\n",
       "vnZbDbwNaAT9G4Yxf8iGJNS23TMkawpz4DRvQbidLSrW0yHnyr5nT5CM1AR6vYK+3pe9bMWBlP2o\n",
       "1FcijB525gIibBd6msusSaH0Cpw7dUl7WzvcQJuTSsIxUACJg/9V9n2zGjJLTl78ReD2eLaHogVt\n",
       "LNvFQfSDtwAAADZBnuhFFSwz/wAXlF68NF6XV2HCfscId0Mx5GFZ2yK2csW09EtLXXPxwLcoFr/9\n",
       "hACMLoDRvMAAAAA4AZ8HdEK/ABWcmHxJOB0hK3/LNYcYBz8rw5MPeEwjOdAbj0fSETSHHUg94lsz\n",
       "G//yAAViL0kRmrAAAAAfAZ8JakK/ACxRAXwyNpDl8KtPrQ+RsZBz5tWKMDaj/QAAAW5Bmw5JqEFs\n",
       "mUwIf//+qZYAGzKKbzQAi8I+J2uay78fuCQbI4MSoEuv4uCOW8n/rbrko3re+3M4i8eS9cm5K+aj\n",
       "61tgjeN+7Yl5R4K2gPkzy1qgDqGOPSg6b1Yi6lfJl5RwA5dmla6vcHBiHzI2Al0pWjw4kT8V/39U\n",
       "KkxaQnpWlu8t48HPD+fBmgRuzpBrkp7tsXyWOCKLeXXRtAffaFhfEkfut8mYwWwRXGdadOe/cjG8\n",
       "d2Q5cLp7oQBAPvcImzEttuQ43nOEm/hYL03ezn1h5Mlmfv9pbfXqDHX8hZjKC/RFD8jF7Rq7L2Ih\n",
       "QfKI2EtdcNXkvKfjLSXmvmC/xjjeGaX+Z3rkLvr1mZ/0XauaIznS+tnHzsqkbYQgIc67Qc4+XWi3\n",
       "KzqOs127JG5RtJfQxnBGpt1pAb52AGV787U+Mvp3CmfpsVrYyWOHqsLCSWfwXakTOnUMz8xjWUho\n",
       "XM0GOx6m36rtrD/5CJgJLHwAAABOQZ8sRRUsM/8AF9p93AwK9lgctQGxkEsMSjyuhLmHll42gggA\n",
       "eN6zE57RQG6cFH4rC3pmKQCaTcp2RKcrlrm9T95u///CAA4cNpacnbaAAAAAIwGfS3RCvwAO1wEh\n",
       "/mCriWUWUs3o8IrNlfvL2brqK55LrbK3AAAAHwGfTWpCvwAO2ywNiZpPSLEteatFb3z/wyCVmpXM\n",
       "5IEAAAEVQZtSSahBbJlMCH///qmWABs0ZhWbwA4t9YUr0oG0gGE/FzB0/ph0ADZpNlks02onL9u5\n",
       "chNMwE9+M2ovqY+md7tTSzj/A1KvyHUwzrr/fC2olqOz54tJMDDzmbtrXk/eIQK+hddv0OLEtwaj\n",
       "JrSyjc67dNweF9OQe4uaErqFtDgXMl2VzpfPwoBrbx5ETqyKUv2BT31YjvOAJBJ5CeKUO78ubT68\n",
       "d7e8t4f3BLF8A1MTRLdOu2izD4OqW49o/v5y2OLZbisZQ3whOudf2k0l5l2iLHKoNFRDjl9XJg89\n",
       "EulyW20/1eK4EgwQ38sBbp4Pew3ik90nYOMoOHJSECBMEIZCfUDKjiXc0f7WehVIaC5EtClHwQAA\n",
       "ACtBn3BFFSwz/wAQW4ta8Y08iTwKKzyOzgFu9d7h/9+cPvP3wezcrV0llZECAAAAFgGfj3RCvwAO\n",
       "1wEiF2xvV8AlG3vqA/wAAAATAZ+RakK/AAdtlNbjBWMuw3HKDQAAATdBm5ZJqEFsmUwId//+qZYA\n",
       "NlVx8YYlcTflG09HqI7QXgU1AA4FkKrW+1HHmomfc2AHanvSXtDYB1JFgqj8O/yCwYT52TMU7aK4\n",
       "MhAPWTfdvQEeJnUsAeu9VONgbdOd3rj/aYc3dcDmZaOTAl+0CK4gGINTYTG/GYOqakjAtVcR13Lp\n",
       "sHbyUZczAfryaB1ksk5n4fq/P93fYA/i7WBuqHfOV4GTTpfqR/VXtvZpgTaF+vSLWsEx4M8QV8or\n",
       "b3QviWyuckC3szaWAmA/TCXzcxzKYkzQQuhv9im564VbCq0FIfMOHe6nVlYdthkltGYVaXT6o0iU\n",
       "o8u2qEfYnZ73b3plA7LMiXoUCKESXzXnmtldTAny2JiToyGMmOz7ki8HaEMAPojqwgssi0x7gCfT\n",
       "zzRZ45OTx82HzAAAACJBn7RFFSwz/wAvxrxzTxcBy9rhGkzIWfyWiQCZdgMBp9EXAAAAIAGf03RC\n",
       "vwAsP/0wHZ2hVvJtBOxHrhW0sD9Hf2CB95YtAAAAIwGf1WpCvwBYrAFcv0zlVXxb1sbXTDW62vn8\n",
       "mIqDLbCEkDG4AAAA50Gb2kmoQWyZTAh3//6plgA2VTPEbuTe6JrZ/AEyR3tr71IfrW1AwU8aAHNO\n",
       "2Kbe8uSXYbSd54Jam4FZsdwfh1LGN+hW7pRUNDiPA7oDTUr0GPZgMCSgyLBkjRpKMf/8HXIb941M\n",
       "rITp3t/2PLaA8lcXwY6wOEEFyyYqab12pUfbJSg+dmcas1Ixt7opktQOrC+iCvUiA0oVT7BQSS0t\n",
       "cDQOuatLaiQts6q1uXN9HUcNec1gfIdXJJTvyGUuCXAG1ZEtDvn4nJSZiiompf/vkez+VtaG7kXT\n",
       "oTMWd5gO3hGErKIDs0DegQAAAC5Bn/hFFSwz/wAvyOjBADkDtuwNcsurwGALO/8M5yOjDmsO6e7d\n",
       "ObCISztO6YJnAAAAKwGeF3RCvwAHa4D8+kXGOrm4SFDaSMeKhy1pdwj8pS4AbfTfsHUmN5fvgsoA\n",
       "AAAgAZ4ZakK/AFi60d1izszordqcgpyorfR8taXXXiacm/EAAADYQZoeSahBbJlMCHf//qmWADZV\n",
       "LfNZfHrRWrVUAK7uvmmSu8PhyhsWq93dIZoshdChMf2VtVKfT3cZWELPuGImOuJX7P0Zw5MUOI+T\n",
       "BdDdV0Crx5cKXMsnhdfR4L5uYARZrQdqzB0EwjmXErTxBAZiNCOTNJKwET/xHsPEPXCXy6XT6HVM\n",
       "1S/SsNt190g45QUgnekfF/wV/ctEDlG4NoIoB7iAjGtdXdCZ3zXYecro3yQMd+S8k8qQefBu/hG1\n",
       "D5Cv7Kvguvnm+njA6OoWEowhoDfkhMhkV6FgAAAAQUGePEUVLDP/AC/KJ8GtwhHGmqN+DOmvR+zE\n",
       "x1MM80iEodNZIHb1M/vcmv5ugOCWvASD14A9OcFo/6CFHUc8Ka3dAAAAHQGeW3RCvwAO1wRCU+rD\n",
       "CxDzdLX84Y2FkBOC46vhAAAAKwGeXWpCvwBYryC44yPpXo/CoK2/PcPy5kYdhzIRE2dpkdfSU5wY\n",
       "MXiZw2YAAABlQZpCSahBbJlMCGf//p4QAaWwHUXFn+awvARsQLgaBSRn3gMdPApx25E/aAAuo2jS\n",
       "/G9tdAtJ/RNzUF3xiH9n6eHEig0wxqbNPHa7WlJWPgj+nIA4PvFrvpRH4r300Iv0o0cuEP8AAAAr\n",
       "QZ5gRRUsM/8AB++SgVttREyKBIgGxDn3tO40f3uWYBTH//N+Ab0ttj6HLQAAAC0Bnp90Qr8AWKSU\n",
       "bEVH57F+ly80hq4O866NSl17MsRjqZObOY8IACwvyo8EJZIAAAAtAZ6BakK/ACxNTPLZjRkW/UgC\n",
       "r+wpk1tVu6qvchAeRWEWZCANMnFUb0W/+3zBAAAAK0Gag0moQWyZTAhX//44QAZuH5CxFIGz140S\n",
       "1rd9FV7/IJddtqcNEtX82XAAAAfObW9vdgAAAGxtdmhkAAAAAAAAAAAAAAAAAAAD6AAAE4gAAQAA\n",
       "AQAAAAAAAAAAAAAAAAEAAAAAAAAAAAAAAAAAAAABAAAAAAAAAAAAAAAAAABAAAAAAAAAAAAAAAAA\n",
       "AAAAAAAAAAAAAAAAAAAAAAAAAgAABvh0cmFrAAAAXHRraGQAAAADAAAAAAAAAAAAAAABAAAAAAAA\n",
       "E4gAAAAAAAAAAAAAAAAAAAAAAAEAAAAAAAAAAAAAAAAAAAABAAAAAAAAAAAAAAAAAABAAAAAAbAA\n",
       "AAEgAAAAAAAkZWR0cwAAABxlbHN0AAAAAAAAAAEAABOIAAAEAAABAAAAAAZwbWRpYQAAACBtZGhk\n",
       "AAAAAAAAAAAAAAAAAAAoAAAAyABVxAAAAAAALWhkbHIAAAAAAAAAAHZpZGUAAAAAAAAAAAAAAABW\n",
       "aWRlb0hhbmRsZXIAAAAGG21pbmYAAAAUdm1oZAAAAAEAAAAAAAAAAAAAACRkaW5mAAAAHGRyZWYA\n",
       "AAAAAAAAAQAAAAx1cmwgAAAAAQAABdtzdGJsAAAAs3N0c2QAAAAAAAAAAQAAAKNhdmMxAAAAAAAA\n",
       "AAEAAAAAAAAAAAAAAAAAAAAAAbABIABIAAAASAAAAAAAAAABAAAAAAAAAAAAAAAAAAAAAAAAAAAA\n",
       "AAAAAAAAAAAAAAAAGP//AAAAMWF2Y0MBZAAV/+EAGGdkABWs2UGwloQAAAMABAAAAwCgPFi2WAEA\n",
       "Bmjr48siwAAAABx1dWlka2hA8l8kT8W6OaUbzwMj8wAAAAAAAAAYc3R0cwAAAAAAAAABAAAAZAAA\n",
       "AgAAAAAUc3RzcwAAAAAAAAABAAAAAQAAAyBjdHRzAAAAAAAAAGIAAAACAAAEAAAAAAEAAAYAAAAA\n",
       "AQAAAgAAAAABAAAEAAAAAAEAAAYAAAAAAQAAAgAAAAABAAAGAAAAAAEAAAIAAAAAAQAABAAAAAAB\n",
       "AAAKAAAAAAEAAAQAAAAAAQAAAAAAAAABAAACAAAAAAEAAAYAAAAAAQAAAgAAAAABAAAKAAAAAAEA\n",
       "AAQAAAAAAQAAAAAAAAABAAACAAAAAAEAAAoAAAAAAQAABAAAAAABAAAAAAAAAAEAAAIAAAAAAQAA\n",
       "CgAAAAABAAAEAAAAAAEAAAAAAAAAAQAAAgAAAAABAAAKAAAAAAEAAAQAAAAAAQAAAAAAAAABAAAC\n",
       "AAAAAAEAAAoAAAAAAQAABAAAAAABAAAAAAAAAAEAAAIAAAAAAQAACgAAAAABAAAEAAAAAAEAAAAA\n",
       "AAAAAQAAAgAAAAABAAAKAAAAAAEAAAQAAAAAAQAAAAAAAAABAAACAAAAAAEAAAoAAAAAAQAABAAA\n",
       "AAABAAAAAAAAAAEAAAIAAAAAAQAACgAAAAABAAAEAAAAAAEAAAAAAAAAAQAAAgAAAAABAAAKAAAA\n",
       "AAEAAAQAAAAAAQAAAAAAAAABAAACAAAAAAEAAAoAAAAAAQAABAAAAAABAAAAAAAAAAEAAAIAAAAA\n",
       "AQAACgAAAAABAAAEAAAAAAEAAAAAAAAAAQAAAgAAAAABAAAIAAAAAAIAAAIAAAAAAQAACgAAAAAB\n",
       "AAAEAAAAAAEAAAAAAAAAAQAAAgAAAAABAAAKAAAAAAEAAAQAAAAAAQAAAAAAAAABAAACAAAAAAEA\n",
       "AAoAAAAAAQAABAAAAAABAAAAAAAAAAEAAAIAAAAAAQAACgAAAAABAAAEAAAAAAEAAAAAAAAAAQAA\n",
       "AgAAAAABAAAKAAAAAAEAAAQAAAAAAQAAAAAAAAABAAACAAAAAAEAAAoAAAAAAQAABAAAAAABAAAA\n",
       "AAAAAAEAAAIAAAAAAQAACgAAAAABAAAEAAAAAAEAAAAAAAAAAQAAAgAAAAABAAAKAAAAAAEAAAQA\n",
       "AAAAAQAAAAAAAAABAAACAAAAAAEAAAQAAAAAHHN0c2MAAAAAAAAAAQAAAAEAAABkAAAAAQAAAaRz\n",
       "dHN6AAAAAAAAAAAAAABkAAAOogAAAmIAAAKoAAAAdgAAAhkAAAHnAAAARgAAAf0AAABWAAABDAAA\n",
       "AgwAAABVAAAANgAAADEAAAGOAAAALQAAAikAAABYAAAAKQAAACoAAAHPAAAATQAAADIAAAArAAAB\n",
       "ugAAADoAAAAoAAAAIwAAAhoAAABJAAAALgAAACYAAAGZAAAATgAAACwAAAA3AAAB9AAAAEQAAAAo\n",
       "AAAAJQAAAhkAAAA9AAAAJAAAADUAAAF9AAAAOAAAADkAAAAtAAAB2wAAAD0AAAAsAAAAIgAAAZEA\n",
       "AABRAAAAMQAAACQAAAG7AAAAMAAAACMAAAAeAAABYQAAADUAAAArAAAASwAAAX4AAAAxAAAAIwAA\n",
       "AY0AAAA2AAAANQAAAEMAAAFmAAAAOgAAADwAAAAjAAABcgAAAFIAAAAnAAAAIwAAARkAAAAvAAAA\n",
       "GgAAABcAAAE7AAAAJgAAACQAAAAnAAAA6wAAADIAAAAvAAAAJAAAANwAAABFAAAAIQAAAC8AAABp\n",
       "AAAALwAAADEAAAAxAAAALwAAABRzdGNvAAAAAAAAAAEAAAAsAAAAYnVkdGEAAABabWV0YQAAAAAA\n",
       "AAAhaGRscgAAAAAAAAAAbWRpcmFwcGwAAAAAAAAAAAAAAAAtaWxzdAAAACWpdG9vAAAAHWRhdGEA\n",
       "AAABAAAAAExhdmY1Ny44My4xMDA=\n",
       "\">\n",
       "  Your browser does not support the video tag.\n",
       "</video>"
      ],
      "text/plain": [
       "<IPython.core.display.HTML object>"
      ]
     },
     "execution_count": 410,
     "metadata": {
      "tags": []
     },
     "output_type": "execute_result"
    }
   ],
   "source": [
    "HTML(anim.to_html5_video())"
   ]
  },
  {
   "cell_type": "markdown",
   "metadata": {
    "colab_type": "text",
    "id": "GAyLvmiFKnza"
   },
   "source": [
    "We can see that as the number of epochs increases, some of the weights becomes either very large or very small, which leads to **overfitting**. We will try to overcome this (later)."
   ]
  },
  {
   "cell_type": "code",
   "execution_count": null,
   "metadata": {
    "colab": {},
    "colab_type": "code",
    "id": "KRNI51dhEPak"
   },
   "outputs": [],
   "source": []
  },
  {
   "cell_type": "markdown",
   "metadata": {
    "colab_type": "text",
    "id": "m3qBnUjUOB9m"
   },
   "source": [
    "# Exercises"
   ]
  },
  {
   "cell_type": "markdown",
   "metadata": {
    "colab_type": "text",
    "id": "txWxOlnpOHUv"
   },
   "source": [
    "1. In the train_test_split, change the value of test size\n",
    "2. In binarisation, use another kind of binarisation altogether\n",
    "3. Visualise 'b' vs accuracy in the MP Neuron model.\n",
    "4. Change the initial values of 'b' and 'w' to use a random value and use a seed (using the initial weights also plays a significant role.)\n",
    "5. Animate and visualise different values at different places throughout the note."
   ]
  },
  {
   "cell_type": "code",
   "execution_count": null,
   "metadata": {
    "colab": {},
    "colab_type": "code",
    "id": "fWsFm2PUOAdO"
   },
   "outputs": [],
   "source": []
  }
 ],
 "metadata": {
  "colab": {
   "collapsed_sections": [
    "k-fR4OxYqyUK",
    "DNysijJCq8bs",
    "mdDg5vXcnpxY",
    "KOLkbZ-z9CyS",
    "0BxVsq6TOsHF",
    "LCx6UiWdjNGo",
    "6CIAetc-QFa-",
    "qghPOh_-drCq",
    "pd4uf7gt1WKB",
    "o2bRhK5j8us-",
    "m3qBnUjUOB9m"
   ],
   "name": "0214_MP_NeuronAndPerceptron.ipynb",
   "provenance": [],
   "version": "0.3.2"
  },
  "kernelspec": {
   "display_name": "Python 3",
   "language": "python",
   "name": "python3"
  },
  "language_info": {
   "codemirror_mode": {
    "name": "ipython",
    "version": 3
   },
   "file_extension": ".py",
   "mimetype": "text/x-python",
   "name": "python",
   "nbconvert_exporter": "python",
   "pygments_lexer": "ipython3",
   "version": "3.7.1"
  }
 },
 "nbformat": 4,
 "nbformat_minor": 2
}
